{
  "cells": [
    {
      "cell_type": "code",
      "execution_count": 1,
      "metadata": {
        "colab": {
          "base_uri": "https://localhost:8080/"
        },
        "id": "m4Ce9tnfb2hl",
        "outputId": "368c5a8a-1961-4174-ebf2-7ec5ad3ad427"
      },
      "outputs": [
        {
          "name": "stdout",
          "output_type": "stream",
          "text": [
            "Collecting wikipedia\n",
            "  Downloading wikipedia-1.4.0.tar.gz (27 kB)\n",
            "Requirement already satisfied: beautifulsoup4 in /usr/local/lib/python3.7/dist-packages (from wikipedia) (4.6.3)\n",
            "Requirement already satisfied: requests<3.0.0,>=2.0.0 in /usr/local/lib/python3.7/dist-packages (from wikipedia) (2.23.0)\n",
            "Requirement already satisfied: idna<3,>=2.5 in /usr/local/lib/python3.7/dist-packages (from requests<3.0.0,>=2.0.0->wikipedia) (2.10)\n",
            "Requirement already satisfied: chardet<4,>=3.0.2 in /usr/local/lib/python3.7/dist-packages (from requests<3.0.0,>=2.0.0->wikipedia) (3.0.4)\n",
            "Requirement already satisfied: urllib3!=1.25.0,!=1.25.1,<1.26,>=1.21.1 in /usr/local/lib/python3.7/dist-packages (from requests<3.0.0,>=2.0.0->wikipedia) (1.24.3)\n",
            "Requirement already satisfied: certifi>=2017.4.17 in /usr/local/lib/python3.7/dist-packages (from requests<3.0.0,>=2.0.0->wikipedia) (2021.10.8)\n",
            "Building wheels for collected packages: wikipedia\n",
            "  Building wheel for wikipedia (setup.py) ... \u001b[?25l\u001b[?25hdone\n",
            "  Created wheel for wikipedia: filename=wikipedia-1.4.0-py3-none-any.whl size=11695 sha256=7c038b4387766e2e1869b0e21fb4f89d7ea80d876d5ba827b838c9c0de9b0606\n",
            "  Stored in directory: /root/.cache/pip/wheels/15/93/6d/5b2c68b8a64c7a7a04947b4ed6d89fb557dcc6bc27d1d7f3ba\n",
            "Successfully built wikipedia\n",
            "Installing collected packages: wikipedia\n",
            "Successfully installed wikipedia-1.4.0\n"
          ]
        }
      ],
      "source": [
        "! pip install wikipedia"
      ]
    },
    {
      "cell_type": "code",
      "execution_count": 2,
      "metadata": {
        "colab": {
          "base_uri": "https://localhost:8080/"
        },
        "id": "asZABkIeb4BG",
        "outputId": "85848d66-df18-4c71-cb13-c8f3014d2110"
      },
      "outputs": [
        {
          "name": "stdout",
          "output_type": "stream",
          "text": [
            "Jazz is a music genre that originated in the African-American communities of New Orleans, Louisiana, United States, in the late 19th and early 20th centuries, with its roots in blues and ragtime. Sinc\n"
          ]
        }
      ],
      "source": [
        "import wikipedia\n",
        "page_title = \"Jazz\"\n",
        "wikipedia.set_lang(\"en\")  # vrem articole in Engleza\n",
        "page = wikipedia.page(page_title, auto_suggest=False)\n",
        "\n",
        "print(page.content[:200])"
      ]
    },
    {
      "cell_type": "code",
      "execution_count": 3,
      "metadata": {
        "colab": {
          "base_uri": "https://localhost:8080/"
        },
        "id": "HsFjLvvxcOoH",
        "outputId": "2d15051e-23ad-4696-b467-20dce3b798cd"
      },
      "outputs": [
        {
          "name": "stdout",
          "output_type": "stream",
          "text": [
            "[==================================================] 100.0% 1662.8/1662.8MB downloaded\n"
          ]
        }
      ],
      "source": [
        "import gensim.downloader as api\n",
        "google_model = api.load(\"word2vec-google-news-300\")"
      ]
    },
    {
      "cell_type": "code",
      "execution_count": 40,
      "metadata": {
        "colab": {
          "base_uri": "https://localhost:8080/"
        },
        "id": "zirrTncydiPw",
        "outputId": "3d908669-5bef-44a3-c88d-d0094c7ae351"
      },
      "outputs": [
        {
          "name": "stdout",
          "output_type": "stream",
          "text": [
            "[nltk_data] Downloading package punkt to /root/nltk_data...\n",
            "[nltk_data]   Package punkt is already up-to-date!\n",
            "[nltk_data] Downloading package stopwords to /root/nltk_data...\n",
            "[nltk_data]   Unzipping corpora/stopwords.zip.\n"
          ]
        },
        {
          "data": {
            "text/plain": [
              "True"
            ]
          },
          "execution_count": 40,
          "metadata": {},
          "output_type": "execute_result"
        }
      ],
      "source": [
        "import pandas as pd\n",
        "import nltk\n",
        "import string\n",
        "import matplotlib.pyplot as plt\n",
        "\n",
        "import nltk\n",
        "from nltk.corpus import stopwords\n",
        "from nltk import word_tokenize\n",
        "from gensim.models import Word2Vec as w2v\n",
        "from sklearn.decomposition import PCA\n",
        "\n",
        "nltk.download('punkt')\n",
        "nltk.download('stopwords')"
      ]
    },
    {
      "cell_type": "code",
      "execution_count": 55,
      "metadata": {
        "id": "5dLqgzlHkwMZ"
      },
      "outputs": [],
      "source": [
        "data = word_tokenize(page.content)\n",
        "data = [word for word in data if word not in string.punctuation]\n",
        "sw = stopwords.words('english')\n",
        "data = [word for word in data if word not in sw]\n",
        "data = [word for word in data if word.isnumeric() == False]\n",
        "data = list(set(data))"
      ]
    },
    {
      "cell_type": "code",
      "execution_count": 56,
      "metadata": {
        "colab": {
          "base_uri": "https://localhost:8080/"
        },
        "id": "rLgvM_MqnlWJ",
        "outputId": "d81477ec-d8a1-407b-e0d0-ea5e22cc1029"
      },
      "outputs": [
        {
          "name": "stdout",
          "output_type": "stream",
          "text": [
            "3336 words exist in Google word2vec vocab and 311 don't\n"
          ]
        }
      ],
      "source": [
        "ct_exist, ct_not_exist = 0, 0\n",
        "for word in data:\n",
        "    if word in google_model.vocab:\n",
        "        ct_exist += 1\n",
        "    else:\n",
        "        ct_not_exist += 1\n",
        "print(str(ct_exist) + \" words exist in Google word2vec vocab and \" + str(ct_not_exist) + \" don't\")"
      ]
    },
    {
      "cell_type": "code",
      "execution_count": 59,
      "metadata": {
        "colab": {
          "base_uri": "https://localhost:8080/"
        },
        "id": "Yjm5C77hpGIt",
        "outputId": "4e88da87-eb38-4e88-8342-fb34cbd721b9"
      },
      "outputs": [
        {
          "name": "stdout",
          "output_type": "stream",
          "text": [
            "(-0.23158434, 'Mr.', 'Wheeler')\n"
          ]
        }
      ],
      "source": [
        "similarities = []\n",
        "for i in range(len(data)):\n",
        "    if data[i] in google_model.vocab:\n",
        "        for j in range(i+1, len(data)):\n",
        "            if data[j] in google_model.vocab:\n",
        "                similarities.append((google_model.similarity(data[i], data[j]), data[i], data[j]))"
      ]
    },
    {
      "cell_type": "code",
      "execution_count": 60,
      "metadata": {
        "colab": {
          "base_uri": "https://localhost:8080/"
        },
        "id": "YFevpsTRqyks",
        "outputId": "d47ad825-bc02-4611-dfa0-c441c839de08"
      },
      "outputs": [
        {
          "name": "stdout",
          "output_type": "stream",
          "text": [
            "(-0.23158434, 'Mr.', 'Wheeler') (-0.22243124, 'Thing', 'However') (-0.22220989, 'Furthermore', 'Thing')\n",
            "(0.9703434, 'four', 'three') (0.96359354, 'October', 'February') (0.95794386, 'October', 'August')\n"
          ]
        }
      ],
      "source": [
        "similarities = sorted(similarities)\n",
        "print(similarities[0], similarities[1], similarities[2])\n",
        "print(similarities[-1], similarities[-2], similarities[-3])"
      ]
    },
    {
      "cell_type": "code",
      "execution_count": 5,
      "metadata": {
        "colab": {
          "base_uri": "https://localhost:8080/"
        },
        "id": "SXi6h8i_dWcc",
        "outputId": "8e390323-55f3-4c99-b328-64c8f2b75c35"
      },
      "outputs": [
        {
          "name": "stdout",
          "output_type": "stream",
          "text": [
            "[==================================================] 100.0% 31.6/31.6MB downloaded\n"
          ]
        }
      ],
      "source": [
        "text8 = api.load(\"text8\")  # descarcam corpusul\n",
        "text8_model = w2v(text8).wv"
      ]
    },
    {
      "cell_type": "code",
      "execution_count": 6,
      "metadata": {
        "colab": {
          "base_uri": "https://localhost:8080/"
        },
        "id": "rJeR6TfYeUYF",
        "outputId": "314d4d9b-6648-43a5-a7dd-2f2c41b5b2d3"
      },
      "outputs": [
        {
          "name": "stdout",
          "output_type": "stream",
          "text": [
            "Smart\n",
            "[('intelligent', 0.6495277881622314), ('dumb', 0.5792694687843323), ('smartest', 0.5717369318008423), ('savvy', 0.5674132108688354), ('clever', 0.5656732320785522), ('smarter', 0.5632593631744385), ('shrewd', 0.5591170191764832), ('IPICO_produces', 0.5158056020736694), ('economic_certainty_Kracmer', 0.5094711184501648), ('Smart', 0.4991162121295929)]\n",
            "[('toy', 0.6894603967666626), ('pda', 0.6512291431427002), ('swapping', 0.6478596925735474), ('lazy', 0.638542652130127), ('pet', 0.6379531025886536), ('printer', 0.6256910562515259), ('cracker', 0.62309330701828), ('dolls', 0.6218711137771606), ('clever', 0.6186498403549194), ('kit', 0.6176069378852844)]\n",
            "King\n",
            "[('kings', 0.7138046026229858), ('queen', 0.6510956883430481), ('monarch', 0.6413194537162781), ('crown_prince', 0.6204220056533813), ('prince', 0.6159993410110474), ('sultan', 0.5864822864532471), ('ruler', 0.5797567367553711), ('princes', 0.5646552443504333), ('Prince_Paras', 0.543294370174408), ('throne', 0.5422104597091675)]\n",
            "[('emperor', 0.7226948142051697), ('queen', 0.7204772233963013), ('prince', 0.7192798852920532), ('throne', 0.7104816436767578), ('kings', 0.7009380459785461), ('regent', 0.687321126461029), ('constantine', 0.6664663553237915), ('aragon', 0.6625493764877319), ('elector', 0.6533861756324768), ('vii', 0.6512594223022461)]\n",
            "Big\n",
            "[('huge', 0.7809855937957764), ('bigger', 0.6842385530471802), ('biggest', 0.6336528658866882), ('major', 0.6057686805725098), ('gigantic', 0.5822017192840576), ('HUGE', 0.5604170560836792), ('large', 0.5561479330062866), ('humongous', 0.5558628439903259), ('Huge', 0.5524426102638245), ('great', 0.5486619472503662)]\n",
            "[('bang', 0.5484285354614258), ('rainbow', 0.5016791820526123), ('slim', 0.499068945646286), ('cowboy', 0.4955371618270874), ('tonight', 0.4952423572540283), ('beatles', 0.4900195300579071), ('kid', 0.4885331392288208), ('bud', 0.4864139258861542), ('monkey', 0.48309725522994995), ('bad', 0.4786521792411804)]\n"
          ]
        }
      ],
      "source": [
        "print(\"Smart\")\n",
        "print(google_model.most_similar(\"smart\"))\n",
        "print(text8_model.most_similar('smart'))\n",
        "\n",
        "print(\"King\")\n",
        "print(google_model.most_similar(\"king\"))\n",
        "print(text8_model.most_similar('king'))\n",
        "\n",
        "print(\"Big\")\n",
        "print(google_model.most_similar(\"big\"))\n",
        "print(text8_model.most_similar('big'))"
      ]
    },
    {
      "cell_type": "markdown",
      "metadata": {
        "id": "aKiXcOWIjuca"
      },
      "source": [
        "Se poate observa pentru cuvantul king cum atat modelul de la Google cat si cel text8 au prezis cuvinte foarte apropiate semnatic de cuvantul de baza, in timp ce pentru celelalte 2 cuvinte date (smart si big), doar modelul Google a reusit sa prezica cuvinte apropiate semantic.\n",
        "\n",
        "Aceasta diferenta de performanta poate vine si din cauza complexitatii fiecarui corpus, fapt pe care l-am observat din dimensiunile de download al api-urilor (31MB vs 1.6GB)"
      ]
    },
    {
      "cell_type": "code",
      "execution_count": 21,
      "metadata": {
        "id": "5-kPsvGOgFNK"
      },
      "outputs": [],
      "source": [
        "# vom plota embedding-urile pentru urmatoarele cuvinte\n",
        "words = [\"car\", \"motorcycle\", \"bike\", \"man\", \"person\", \"woman\", \"child\", \"king\", \"queen\", \"prince\", \"plant\", \"tree\", \"flower\"]\n",
        "\n",
        "# acestia sunt vectorii lor\n",
        "vectors_google = [google_model[word] for word in words]\n",
        "vectors_text8 = [text8_model[word] for word in words]"
      ]
    },
    {
      "cell_type": "code",
      "execution_count": 24,
      "metadata": {
        "id": "eC0IxdoYf_Av"
      },
      "outputs": [],
      "source": [
        "# folosim PCA pentru a reduce vectorii la 2D\n",
        "pca = PCA(n_components=2)\n",
        "pca.fit(vectors_google)\n",
        "vectors_2d_google = pca.transform(vectors_google)\n",
        "pca.fit(vectors_text8)\n",
        "vectors_2d_text8 = pca.transform(vectors_text8)"
      ]
    },
    {
      "cell_type": "code",
      "execution_count": 25,
      "metadata": {
        "colab": {
          "base_uri": "https://localhost:8080/",
          "height": 552
        },
        "id": "UheOzmmyg4ow",
        "outputId": "da18a550-1571-4bf7-faeb-992623c6a6f7"
      },
      "outputs": [
        {
          "name": "stdout",
          "output_type": "stream",
          "text": [
            "Google\n"
          ]
        },
        {
          "data": {
            "image/png": "[encoded data removed]",
            "text/plain": [
              "<Figure size 432x288 with 1 Axes>"
            ]
          },
          "metadata": {
            "needs_background": "light"
          },
          "output_type": "display_data"
        },
        {
          "name": "stdout",
          "output_type": "stream",
          "text": [
            "text8\n"
          ]
        },
        {
          "data": {
            "image/png": "[encoded data removed]",
            "text/plain": [
              "<Figure size 432x288 with 1 Axes>"
            ]
          },
          "metadata": {
            "needs_background": "light"
          },
          "output_type": "display_data"
        }
      ],
      "source": [
        "print(\"Google\")\n",
        "x = [v[0] for v in vectors_2d_google]\n",
        "y = [v[1] for v in vectors_2d_google]\n",
        "fig, ax = plt.subplots()\n",
        "ax.scatter(x, y)\n",
        "for i, txt in enumerate(words):\n",
        "    ax.annotate(txt, (x[i], y[i]))\n",
        "plt.show()\n",
        "\n",
        "print(\"text8\")\n",
        "x = [v[0] for v in vectors_2d_text8]\n",
        "y = [v[1] for v in vectors_2d_text8]\n",
        "fig, ax = plt.subplots()\n",
        "ax.scatter(x, y)\n",
        "for i, txt in enumerate(words):\n",
        "    ax.annotate(txt, (x[i], y[i]))\n",
        "plt.show()"
      ]
    },
    {
      "cell_type": "markdown",
      "metadata": {
        "id": "9D0EjBSqkFgT"
      },
      "source": [
        "Modelul de la Google indica o acuratete mai mare, dat fiind ca a reusit sa separe mai bine in clustere semantic cuvintele date: cele legate de persoana in mijloc, iar functii in dreapta jos, biciclete/motociclete in stanga jos, iar masina, care e legat de transport, e apropiate de acelea 2. Asemenea si pentru tree si flower.\n",
        "\n",
        "Modelul antrenat cu text8 a reusit sa separe si el aproape bine in clustere, doar ca a pus foarte apropiat cuvintele din campul semantic al transportului cu cele legate de tree, flower, plant"
      ]
    }
  ],
  "metadata": {
    "colab": {
      "name": "task6.ipynb",
      "provenance": []
    },
    "kernelspec": {
      "display_name": "Python 3",
      "name": "python3"
    },
    "language_info": {
      "name": "python"
    }
  },
  "nbformat": 4,
  "nbformat_minor": 0
}
