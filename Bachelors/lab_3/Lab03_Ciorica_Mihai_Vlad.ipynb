{
  "nbformat": 4,
  "nbformat_minor": 0,
  "metadata": {
    "colab": {
      "name": "Lab03_Ciorica_Mihai-Vlad.ipynb",
      "provenance": [],
      "collapsed_sections": [],
      "toc_visible": true
    },
    "kernelspec": {
      "name": "python3",
      "display_name": "Python 3"
    },
    "accelerator": "GPU",
    "widgets": {
      "application/vnd.jupyter.widget-state+json": {
        "af9be5c276a54e479a51350820e849f6": {
          "model_module": "@jupyter-widgets/controls",
          "model_name": "HBoxModel",
          "model_module_version": "1.5.0",
          "state": {
            "_view_name": "HBoxView",
            "_dom_classes": [],
            "_model_name": "HBoxModel",
            "_view_module": "@jupyter-widgets/controls",
            "_model_module_version": "1.5.0",
            "_view_count": null,
            "_view_module_version": "1.5.0",
            "box_style": "",
            "layout": "IPY_MODEL_58fcd94eb4ac4e698e5c61c450773100",
            "_model_module": "@jupyter-widgets/controls",
            "children": [
              "IPY_MODEL_6b57ad8f93f04803bc5f792f00cb5d28",
              "IPY_MODEL_61083617a8204995ab66c36c4def2007",
              "IPY_MODEL_2b9e8225bdb14631acfec8f13799e848"
            ]
          }
        },
        "58fcd94eb4ac4e698e5c61c450773100": {
          "model_module": "@jupyter-widgets/base",
          "model_name": "LayoutModel",
          "model_module_version": "1.2.0",
          "state": {
            "_view_name": "LayoutView",
            "grid_template_rows": null,
            "right": null,
            "justify_content": null,
            "_view_module": "@jupyter-widgets/base",
            "overflow": null,
            "_model_module_version": "1.2.0",
            "_view_count": null,
            "flex_flow": null,
            "width": null,
            "min_width": null,
            "border": null,
            "align_items": null,
            "bottom": null,
            "_model_module": "@jupyter-widgets/base",
            "top": null,
            "grid_column": null,
            "overflow_y": null,
            "overflow_x": null,
            "grid_auto_flow": null,
            "grid_area": null,
            "grid_template_columns": null,
            "flex": null,
            "_model_name": "LayoutModel",
            "justify_items": null,
            "grid_row": null,
            "max_height": null,
            "align_content": null,
            "visibility": null,
            "align_self": null,
            "height": null,
            "min_height": null,
            "padding": null,
            "grid_auto_rows": null,
            "grid_gap": null,
            "max_width": null,
            "order": null,
            "_view_module_version": "1.2.0",
            "grid_template_areas": null,
            "object_position": null,
            "object_fit": null,
            "grid_auto_columns": null,
            "margin": null,
            "display": null,
            "left": null
          }
        },
        "6b57ad8f93f04803bc5f792f00cb5d28": {
          "model_module": "@jupyter-widgets/controls",
          "model_name": "HTMLModel",
          "model_module_version": "1.5.0",
          "state": {
            "_view_name": "HTMLView",
            "style": "IPY_MODEL_c248700783a348db8ef982f7bd1e54c4",
            "_dom_classes": [],
            "description": "",
            "_model_name": "HTMLModel",
            "placeholder": "​",
            "_view_module": "@jupyter-widgets/controls",
            "_model_module_version": "1.5.0",
            "value": "",
            "_view_count": null,
            "_view_module_version": "1.5.0",
            "description_tooltip": null,
            "_model_module": "@jupyter-widgets/controls",
            "layout": "IPY_MODEL_8b7a13d9adeb48518033c3bc5fb57a22"
          }
        },
        "61083617a8204995ab66c36c4def2007": {
          "model_module": "@jupyter-widgets/controls",
          "model_name": "FloatProgressModel",
          "model_module_version": "1.5.0",
          "state": {
            "_view_name": "ProgressView",
            "style": "IPY_MODEL_3f8abe6aeb5d4958a43970e10d701eb8",
            "_dom_classes": [],
            "description": "",
            "_model_name": "FloatProgressModel",
            "bar_style": "success",
            "max": 170498071,
            "_view_module": "@jupyter-widgets/controls",
            "_model_module_version": "1.5.0",
            "value": 170498071,
            "_view_count": null,
            "_view_module_version": "1.5.0",
            "orientation": "horizontal",
            "min": 0,
            "description_tooltip": null,
            "_model_module": "@jupyter-widgets/controls",
            "layout": "IPY_MODEL_340f8481f1f845658d6ed0e60a7ea763"
          }
        },
        "2b9e8225bdb14631acfec8f13799e848": {
          "model_module": "@jupyter-widgets/controls",
          "model_name": "HTMLModel",
          "model_module_version": "1.5.0",
          "state": {
            "_view_name": "HTMLView",
            "style": "IPY_MODEL_da33023353484a00b4d7214a137cf700",
            "_dom_classes": [],
            "description": "",
            "_model_name": "HTMLModel",
            "placeholder": "​",
            "_view_module": "@jupyter-widgets/controls",
            "_model_module_version": "1.5.0",
            "value": " 170499072/? [00:07&lt;00:00, 31844489.59it/s]",
            "_view_count": null,
            "_view_module_version": "1.5.0",
            "description_tooltip": null,
            "_model_module": "@jupyter-widgets/controls",
            "layout": "IPY_MODEL_4a503b12b14047d495a477314ba9fc04"
          }
        },
        "c248700783a348db8ef982f7bd1e54c4": {
          "model_module": "@jupyter-widgets/controls",
          "model_name": "DescriptionStyleModel",
          "model_module_version": "1.5.0",
          "state": {
            "_view_name": "StyleView",
            "_model_name": "DescriptionStyleModel",
            "description_width": "",
            "_view_module": "@jupyter-widgets/base",
            "_model_module_version": "1.5.0",
            "_view_count": null,
            "_view_module_version": "1.2.0",
            "_model_module": "@jupyter-widgets/controls"
          }
        },
        "8b7a13d9adeb48518033c3bc5fb57a22": {
          "model_module": "@jupyter-widgets/base",
          "model_name": "LayoutModel",
          "model_module_version": "1.2.0",
          "state": {
            "_view_name": "LayoutView",
            "grid_template_rows": null,
            "right": null,
            "justify_content": null,
            "_view_module": "@jupyter-widgets/base",
            "overflow": null,
            "_model_module_version": "1.2.0",
            "_view_count": null,
            "flex_flow": null,
            "width": null,
            "min_width": null,
            "border": null,
            "align_items": null,
            "bottom": null,
            "_model_module": "@jupyter-widgets/base",
            "top": null,
            "grid_column": null,
            "overflow_y": null,
            "overflow_x": null,
            "grid_auto_flow": null,
            "grid_area": null,
            "grid_template_columns": null,
            "flex": null,
            "_model_name": "LayoutModel",
            "justify_items": null,
            "grid_row": null,
            "max_height": null,
            "align_content": null,
            "visibility": null,
            "align_self": null,
            "height": null,
            "min_height": null,
            "padding": null,
            "grid_auto_rows": null,
            "grid_gap": null,
            "max_width": null,
            "order": null,
            "_view_module_version": "1.2.0",
            "grid_template_areas": null,
            "object_position": null,
            "object_fit": null,
            "grid_auto_columns": null,
            "margin": null,
            "display": null,
            "left": null
          }
        },
        "3f8abe6aeb5d4958a43970e10d701eb8": {
          "model_module": "@jupyter-widgets/controls",
          "model_name": "ProgressStyleModel",
          "model_module_version": "1.5.0",
          "state": {
            "_view_name": "StyleView",
            "_model_name": "ProgressStyleModel",
            "description_width": "",
            "_view_module": "@jupyter-widgets/base",
            "_model_module_version": "1.5.0",
            "_view_count": null,
            "_view_module_version": "1.2.0",
            "bar_color": null,
            "_model_module": "@jupyter-widgets/controls"
          }
        },
        "340f8481f1f845658d6ed0e60a7ea763": {
          "model_module": "@jupyter-widgets/base",
          "model_name": "LayoutModel",
          "model_module_version": "1.2.0",
          "state": {
            "_view_name": "LayoutView",
            "grid_template_rows": null,
            "right": null,
            "justify_content": null,
            "_view_module": "@jupyter-widgets/base",
            "overflow": null,
            "_model_module_version": "1.2.0",
            "_view_count": null,
            "flex_flow": null,
            "width": null,
            "min_width": null,
            "border": null,
            "align_items": null,
            "bottom": null,
            "_model_module": "@jupyter-widgets/base",
            "top": null,
            "grid_column": null,
            "overflow_y": null,
            "overflow_x": null,
            "grid_auto_flow": null,
            "grid_area": null,
            "grid_template_columns": null,
            "flex": null,
            "_model_name": "LayoutModel",
            "justify_items": null,
            "grid_row": null,
            "max_height": null,
            "align_content": null,
            "visibility": null,
            "align_self": null,
            "height": null,
            "min_height": null,
            "padding": null,
            "grid_auto_rows": null,
            "grid_gap": null,
            "max_width": null,
            "order": null,
            "_view_module_version": "1.2.0",
            "grid_template_areas": null,
            "object_position": null,
            "object_fit": null,
            "grid_auto_columns": null,
            "margin": null,
            "display": null,
            "left": null
          }
        },
        "da33023353484a00b4d7214a137cf700": {
          "model_module": "@jupyter-widgets/controls",
          "model_name": "DescriptionStyleModel",
          "model_module_version": "1.5.0",
          "state": {
            "_view_name": "StyleView",
            "_model_name": "DescriptionStyleModel",
            "description_width": "",
            "_view_module": "@jupyter-widgets/base",
            "_model_module_version": "1.5.0",
            "_view_count": null,
            "_view_module_version": "1.2.0",
            "_model_module": "@jupyter-widgets/controls"
          }
        },
        "4a503b12b14047d495a477314ba9fc04": {
          "model_module": "@jupyter-widgets/base",
          "model_name": "LayoutModel",
          "model_module_version": "1.2.0",
          "state": {
            "_view_name": "LayoutView",
            "grid_template_rows": null,
            "right": null,
            "justify_content": null,
            "_view_module": "@jupyter-widgets/base",
            "overflow": null,
            "_model_module_version": "1.2.0",
            "_view_count": null,
            "flex_flow": null,
            "width": null,
            "min_width": null,
            "border": null,
            "align_items": null,
            "bottom": null,
            "_model_module": "@jupyter-widgets/base",
            "top": null,
            "grid_column": null,
            "overflow_y": null,
            "overflow_x": null,
            "grid_auto_flow": null,
            "grid_area": null,
            "grid_template_columns": null,
            "flex": null,
            "_model_name": "LayoutModel",
            "justify_items": null,
            "grid_row": null,
            "max_height": null,
            "align_content": null,
            "visibility": null,
            "align_self": null,
            "height": null,
            "min_height": null,
            "padding": null,
            "grid_auto_rows": null,
            "grid_gap": null,
            "max_width": null,
            "order": null,
            "_view_module_version": "1.2.0",
            "grid_template_areas": null,
            "object_position": null,
            "object_fit": null,
            "grid_auto_columns": null,
            "margin": null,
            "display": null,
            "left": null
          }
        }
      }
    }
  },
  "cells": [
    {
      "cell_type": "markdown",
      "metadata": {
        "id": "ZpoTZudv_LK5"
      },
      "source": [
        "## Straturi Noi\n",
        "\n",
        "In continuare o sa utilizam o parte din straturile prezentate in curs.\n",
        "\n",
        "Staturi noi:\n",
        "\n",
        "Strat Convolutional:\n",
        "* torch.nn.Conv2d(in_channels, out_channels, kernel_size, stride=1, padding=0)\n",
        "\n",
        "Strat de Pooling:\n",
        "* torch.nn.MaxPool2d(kernel_size, stride=None, padding=0)\n",
        "* torch.nn.AveragePool2d(kernel_size, stride=None, padding=0)\n",
        "\n",
        "Strat de Adaptive Pool, intalnit adesea si ca Global Pool:\n",
        "* torch.nn.AdaptiveAvgPool2d(output_size)\n",
        "* torch.nn.AdaptiveMaxPool2d(output_size)\n",
        "\n",
        "Strat de liniarizare:\n",
        "\n",
        "* torch.nn.Flatten()\n",
        "\n"
      ]
    },
    {
      "cell_type": "code",
      "metadata": {
        "id": "5HWqK9mqHxgB",
        "colab": {
          "base_uri": "https://localhost:8080/"
        },
        "outputId": "b4202fd7-9093-42a4-d6fc-736d23dc12cf"
      },
      "source": [
        "import numpy as np\n",
        "import torch.nn as nn\n",
        "import torch\n",
        "\n",
        "dummy_input_tensor = torch.rand((1,3,100,100))  # Input random de marime 100x100 cu 3 canale\n",
        "\n",
        "layer = nn.Conv2d(in_channels=3, out_channels=10, kernel_size=(3,3), stride=(2,2))\n",
        "print(\"Conv1 result shape\",layer(dummy_input_tensor).shape)\n",
        "\n",
        "layer = nn.Conv2d(in_channels=3, out_channels=10, kernel_size=(13,13), stride=(2,2))\n",
        "print(\"Conv2 result shape\",layer(dummy_input_tensor).shape)\n",
        "\n",
        "layer = nn.MaxPool2d(kernel_size=(3,3)) # Stride este inferat din kernel size, ca fiind egal cu kernel size ca sa nu repete elementele luate\n",
        "print(\"Pool result shape\",layer(dummy_input_tensor).shape)\n",
        "\n",
        "# Utilizat pentru a reduce dimensiunea input-ului la una prestabilita, util cand marimea input-ului este variabil\n",
        "layer = nn.AdaptiveAvgPool2d(output_size=(5,5))\n",
        "print(\"Global Pool result shape\",layer(dummy_input_tensor).shape)\n",
        "\n",
        "layer = nn.Flatten()\n",
        "print(\"Flaten result shape\",layer(dummy_input_tensor).shape)"
      ],
      "execution_count": 1,
      "outputs": [
        {
          "output_type": "stream",
          "name": "stdout",
          "text": [
            "Conv1 result shape torch.Size([1, 10, 49, 49])\n",
            "Conv2 result shape torch.Size([1, 10, 44, 44])\n",
            "Pool result shape torch.Size([1, 3, 33, 33])\n",
            "Global Pool result shape torch.Size([1, 3, 5, 5])\n",
            "Flaten result shape torch.Size([1, 30000])\n"
          ]
        }
      ]
    },
    {
      "cell_type": "markdown",
      "metadata": {
        "id": "GOTmqyCxJ3fk"
      },
      "source": [
        "###Cerinte\n",
        "\n",
        "**(1p)** Utilizati o serie de Conv2D/Pool2D pentru a ajunge la urmatoarele marimi plecand de la input 3x100x100:\n",
        "*   [1, 10, 25, 25] # hint: folositi stride si padding\n",
        "*   [1, 10, 32, 32]\n",
        "*   [1, 3, 2, 2]\n",
        "\n"
      ]
    },
    {
      "cell_type": "code",
      "metadata": {
        "id": "7HtEeXbeKeKu",
        "colab": {
          "base_uri": "https://localhost:8080/"
        },
        "outputId": "71dfe81d-4ca1-4c2a-d986-4f180896e858"
      },
      "source": [
        "import numpy as np\n",
        "import torch.nn as nn\n",
        "import torch\n",
        "\n",
        "dummy_input_tensor = torch.rand((1,3,100,100))  # Input random de marime 100x100 cu 3 canale\n",
        "\n",
        "### Am utilizat formula (n + 2*p - f)/stride + 1 = output\n",
        "### Completati codul pentru cerinta aici\n",
        "layer = nn.Conv2d(in_channels=3, out_channels=10, kernel_size=(3,3), stride=(4,4))\n",
        "print(\"Conv result shape\",layer(dummy_input_tensor).shape)\n",
        "\n",
        "layer = nn.Conv2d(in_channels=3, out_channels=10, padding=1, kernel_size=(7,7), stride=(3,3))\n",
        "print(\"Conv result shape\",layer(dummy_input_tensor).shape)\n",
        "\n",
        "layer = nn.AdaptiveAvgPool2d(output_size=(2,2))\n",
        "print(\"Global Pool result shape\",layer(dummy_input_tensor).shape)"
      ],
      "execution_count": 2,
      "outputs": [
        {
          "output_type": "stream",
          "name": "stdout",
          "text": [
            "Conv result shape torch.Size([1, 10, 25, 25])\n",
            "Conv result shape torch.Size([1, 10, 32, 32])\n",
            "Global Pool result shape torch.Size([1, 3, 2, 2])\n"
          ]
        }
      ]
    },
    {
      "cell_type": "markdown",
      "metadata": {
        "id": "yvdPtetggm61"
      },
      "source": [
        "## Instantierea seturilor de date"
      ]
    },
    {
      "cell_type": "code",
      "metadata": {
        "id": "czyIhYt5gmUQ",
        "colab": {
          "base_uri": "https://localhost:8080/",
          "height": 101,
          "referenced_widgets": [
            "af9be5c276a54e479a51350820e849f6",
            "58fcd94eb4ac4e698e5c61c450773100",
            "6b57ad8f93f04803bc5f792f00cb5d28",
            "61083617a8204995ab66c36c4def2007",
            "2b9e8225bdb14631acfec8f13799e848",
            "c248700783a348db8ef982f7bd1e54c4",
            "8b7a13d9adeb48518033c3bc5fb57a22",
            "3f8abe6aeb5d4958a43970e10d701eb8",
            "340f8481f1f845658d6ed0e60a7ea763",
            "da33023353484a00b4d7214a137cf700",
            "4a503b12b14047d495a477314ba9fc04"
          ]
        },
        "outputId": "99ee2cd0-bbfa-41c8-c37d-6349ef101441"
      },
      "source": [
        "import torchvision\n",
        "\n",
        "cifar_train = torchvision.datasets.CIFAR10(\"./data\", download=True)\n",
        "cifar_test = torchvision.datasets.CIFAR10(\"./data\", train=False)\n",
        "\n",
        "train_on_gpu = torch.cuda.is_available()\n",
        "\n",
        "if not train_on_gpu:\n",
        "    print('CUDA is not available.  Training on CPU ...')\n",
        "else:\n",
        "    print('CUDA is available!  Training on GPU ...')"
      ],
      "execution_count": 3,
      "outputs": [
        {
          "output_type": "stream",
          "name": "stdout",
          "text": [
            "Downloading https://www.cs.toronto.edu/~kriz/cifar-10-python.tar.gz to ./data/cifar-10-python.tar.gz\n"
          ]
        },
        {
          "output_type": "display_data",
          "data": {
            "application/vnd.jupyter.widget-view+json": {
              "model_id": "af9be5c276a54e479a51350820e849f6",
              "version_minor": 0,
              "version_major": 2
            },
            "text/plain": [
              "  0%|          | 0/170498071 [00:00<?, ?it/s]"
            ]
          },
          "metadata": {}
        },
        {
          "output_type": "stream",
          "name": "stdout",
          "text": [
            "Extracting ./data/cifar-10-python.tar.gz to ./data\n",
            "CUDA is available!  Training on GPU ...\n"
          ]
        }
      ]
    },
    {
      "cell_type": "markdown",
      "metadata": {
        "id": "FOA4ted_hHdB"
      },
      "source": [
        "## Crearea Dataloader-ului\n",
        "\n",
        "### Cerinte\n",
        " * **(2p)** Implementati functia de preprocesare a datelor, __collate_fn(examples)__.\n",
        "\n",
        "\n",
        "Atentie! Spre deosebire de intrarea pentru retelele fully-connected, pentru retelele convolutionale intrearea nu trebuie liniarizata, ci doar normalizata.\n",
        "\n",
        "#### Hint\n",
        "\n",
        "  * Amintiti-va folosirea functiei __normalize__ din torchvision.transforms.functional din laboratorul trecut.\n",
        "  * Modificati functia *collate_fn* din laboratorul trecut, pentru a normaliza datele in intervalul [-1, 1]"
      ]
    },
    {
      "cell_type": "code",
      "metadata": {
        "id": "uGHfd229hRyR",
        "colab": {
          "base_uri": "https://localhost:8080/"
        },
        "outputId": "f46d7fce-939a-4ece-a04c-07d199e5bb81"
      },
      "source": [
        "import torch\n",
        "import numpy as np\n",
        "from torch.utils.data import DataLoader\n",
        "from torchvision.transforms.functional import to_tensor, normalize\n",
        "\n",
        "def collate_fn(examples):\n",
        "  ### Completati codul pentru cerinta aici\n",
        "  \"\"\"\n",
        "    Functia primeste un batch de exemple pe care trebuie sa le transforme in tensori\n",
        "      si sa le puna intr-un batch de tip torch.Tensor.\n",
        "  \"\"\"\n",
        "  processed_images = []\n",
        "  processed_labels = []\n",
        "\n",
        "  for example in examples:\n",
        "    tensor_image = to_tensor(example[0])\n",
        "    # In linia de mai jos imaginea este normalizata astfel incat sa aiba toate valorile in \n",
        "    # [-1, 1] in loc de [0, 255]\n",
        "    normalized_tensor_image = normalize(tensor_image, [0.5, 0.5, 0.5], [0.5, 0.5, 0.5])\n",
        "    normalized_tensor_image = normalized_tensor_image.unsqueeze(0)\n",
        "    processed_images.append(normalized_tensor_image)\n",
        "    label = np.array(example[1])\n",
        "    tensor_label = torch.tensor(label)\n",
        "    tensor_label = tensor_label.unsqueeze(0)\n",
        "    processed_labels.append(tensor_label)\n",
        "\n",
        "  #print(len(processed_images))\n",
        "  #processed_images = torch.FloatTensor(processed_images)\n",
        "  #print(processed_images[0].shape)\n",
        "  torch_images = torch.cat(processed_images, dim=0)\n",
        "  torch_labels = torch.cat(processed_labels, dim=0)\n",
        "  return torch_images, torch_labels\n",
        "\n",
        "\n",
        "train_loader = DataLoader(cifar_train, batch_size=500, shuffle=True, num_workers=2, collate_fn=collate_fn)\n",
        "test_loader = DataLoader(cifar_test, batch_size=1, shuffle=False, collate_fn=collate_fn)\n",
        "\n",
        "\n",
        "dataiter = iter(train_loader)\n",
        "images, labels = dataiter.next()\n",
        "print(type(images))\n",
        "print(images[0].shape)\n",
        "print(labels.shape)"
      ],
      "execution_count": 4,
      "outputs": [
        {
          "output_type": "stream",
          "name": "stdout",
          "text": [
            "<class 'torch.Tensor'>\n",
            "torch.Size([3, 32, 32])\n",
            "torch.Size([500])\n"
          ]
        }
      ]
    },
    {
      "cell_type": "markdown",
      "metadata": {
        "id": "cnV6PIC1kQMi"
      },
      "source": [
        "## Crearea unei retele neurale convolutionale\n",
        "\n",
        "### Cerinte\n",
        " * **(1p)** Creati o clasa care mosteneste clasa nn.Module. Ea va reprezenta o retea neurala convolutionala pentru clasificare ale celor 10 clase din datasetul CIFAR10.\n",
        "    * Reteaua trebuie sa aiba 2 straturi convolutionale care sa reduca dimensiunea spatiala a imaginii\n",
        "    * Liniarizati iesirea celui de-al doilea strat convolutional\n",
        "    * Adaugat stratul final de tipul 'fully-connected'\n",
        "    * Folositi o functie de activare la alegere\n",
        "\n",
        "#### Hint\n",
        "\n",
        "Pentru a liniariza iesirea din cel de-al doilea feature map puteti adopta mai multe strategii:\n",
        "  * Liniarizare prin schimbarea shape-ului la [batch_size, -1]\n",
        "  * Global Max Pooling si apoi liniarizare la [batch_size, -1]\n",
        "  * Average Max Pooling si apoi liniarizare la [batch_size, -1]"
      ]
    },
    {
      "cell_type": "code",
      "metadata": {
        "id": "u1Ddc7D-lAEN"
      },
      "source": [
        "import torch.nn as nn\n",
        "\n",
        "class Net(nn.Module):\n",
        "  def __init__(self):\n",
        "    super().__init__()\n",
        "    ### Completati codul pentru cerinta aici\n",
        "    # convolutional layer (sees 32x32x3 image tensor)\n",
        "    self.conv1 = nn.Conv2d(3, 16, 3, padding=1)\n",
        "    #self.batchnorm1 = nn.BatchNorm2d(16)\n",
        "    # convolutional layer (sees 16x16x16 tensor)\n",
        "    self.conv2 = nn.Conv2d(16, 32, 3, padding=1)\n",
        "\n",
        "    # max pooling layer\n",
        "    self.pool = nn.MaxPool2d(2, 2)\n",
        "    self.linearize = nn.Flatten()\n",
        "    # linear layer (64 * 12 * 3 -> 1000)\n",
        "    self.fc1 = nn.Linear(8192, 10)\n",
        "    self.activation = nn.ReLU()\n",
        "\n",
        "\n",
        "  def forward(self,x):\n",
        "    ### Completati codul pentru cerinta aici\n",
        "    x = self.conv1(x)\n",
        "    x = self.conv2(x)\n",
        "    x = self.pool(x)\n",
        "    x = self.linearize(x)\n",
        "    x = self.activation(x)\n",
        "    x = self.fc1(x)\n",
        "    x = self.activation(x)\n",
        "    return x"
      ],
      "execution_count": 5,
      "outputs": []
    },
    {
      "cell_type": "markdown",
      "metadata": {
        "id": "wK0Z9NeYTghv"
      },
      "source": [
        "## Definirea obiectelor folosite in timpul antrenarii\n",
        "\n",
        "### Cerinte **(1p)**\n",
        "  * Initializati numarul de epoci\n",
        "  * Initializati retea\n",
        "  * Initializati optimizator\n",
        "  * Initializati functia de cost"
      ]
    },
    {
      "cell_type": "code",
      "metadata": {
        "id": "Az3WKQdpod34"
      },
      "source": [
        "import torch.optim as optim\n",
        "\n",
        "# Definiti numarul de epoci\n",
        "epochs = 10\n",
        "\n",
        "# Definiti reteaua\n",
        "network = Net()\n",
        "\n",
        "if train_on_gpu:\n",
        "    network.cuda()\n",
        "\n",
        "# Definiti optimizatorul\n",
        "optimizer = optim.SGD(network.parameters(), lr=0.001, momentum = 0.9)\n",
        "\n",
        "\"\"\"\n",
        "Dupa definirea optimizatorului si dupa fiecare iteratie de antrenare, trebuie \n",
        "apelata functia zero_grad() pentru a seta valoare tuturor gradientilor la zero.\n",
        "\"\"\"\n",
        "# Completati aici codul pentru seta valoare tuturor gradientilor la zero\n",
        "optimizer.zero_grad()\n",
        "\n",
        "# Definiti functia cost pentru clasificare Cross-Entropy\n",
        "loss_fn = nn.CrossEntropyLoss()"
      ],
      "execution_count": 6,
      "outputs": []
    },
    {
      "cell_type": "markdown",
      "metadata": {
        "id": "GAnUsWYWodb4"
      },
      "source": [
        "## Definirea functiei de antrenare"
      ]
    },
    {
      "cell_type": "code",
      "metadata": {
        "id": "K9MTYanoMZ8H"
      },
      "source": [
        "def test_acc(net: nn.Module, test_loader: DataLoader):\n",
        "  net.eval()\n",
        "\n",
        "  total = 0\n",
        "  correct = 0\n",
        "\n",
        "  for test_images, test_labels in test_loader:\n",
        "    if train_on_gpu:\n",
        "            test_images, test_labels = test_images.cuda(), test_labels.cuda()\n",
        "    total += len(test_images)\n",
        "    out_class = torch.argmax(net(test_images))\n",
        "    correct += torch.sum(out_class == test_labels)\n",
        "\n",
        "  return correct / total * 100\n",
        "\n",
        "\n",
        "def train_fn(epochs: int, train_loader: DataLoader, test_loader: DataLoader, \n",
        "             net: nn.Module, loss_fn: nn.Module, optimizer: optim.Optimizer):\n",
        "  # Iteram prin numarul de epoci\n",
        "  for e in range(epochs):\n",
        "    net.train()\n",
        "\n",
        "    # Iteram prin fiecare batch din dataloader\n",
        "    for images, labels in train_loader:\n",
        "      if train_on_gpu:\n",
        "            images, labels = images.cuda(), labels.cuda()\n",
        "      # Aplicam reteaua neurala pe imaginile din batch-ul curent\n",
        "      out = net(images)\n",
        "      # Aplicam functia cost pe iesirea retelei neurale si pe etichetele imaginilor \n",
        "      loss = loss_fn(out, labels)\n",
        "      # Aplicam algoritmul de back-propagation\n",
        "      loss.backward()\n",
        "      # Facem pasul de optimizare, pentru a actualiza parametrii retelei\n",
        "      optimizer.step()\n",
        "      # Apelam functia zero_grad() pentru a uita gradientii de la iteratie curenta\n",
        "      optimizer.zero_grad()\n",
        "    \n",
        "    print(\"Loss-ul la finalul epocii {} are valoarea {}\".format(e, loss.item()))\n",
        "\n",
        "    # Calculam acuratetea\n",
        "    acc = test_acc(net, test_loader)\n",
        "    print(\"Acuratetea la finalul epocii {} este {:.2f}%\".format(e + 1, acc))"
      ],
      "execution_count": 7,
      "outputs": []
    },
    {
      "cell_type": "markdown",
      "metadata": {
        "id": "OWvb00A-TkJq"
      },
      "source": [
        "\n",
        "## Antrenarea\n",
        "\n",
        "### Cerinte\n",
        "  * Antrenati reteaua definita mai sus (clasa Net)"
      ]
    },
    {
      "cell_type": "code",
      "metadata": {
        "id": "ZqUwOWmDMpqQ",
        "colab": {
          "base_uri": "https://localhost:8080/"
        },
        "outputId": "5c55dfd5-c1a9-4fc4-8e92-1ca9c269f7d7"
      },
      "source": [
        "train_fn(epochs, train_loader, test_loader, network, loss_fn, optimizer)"
      ],
      "execution_count": null,
      "outputs": [
        {
          "output_type": "stream",
          "name": "stdout",
          "text": [
            "Loss-ul la finalul epocii 0 are valoarea 2.016284227371216\n",
            "Acuratetea la finalul epocii 1 este 30.48%\n",
            "Loss-ul la finalul epocii 1 are valoarea 1.8695898056030273\n",
            "Acuratetea la finalul epocii 2 este 37.05%\n",
            "Loss-ul la finalul epocii 2 are valoarea 1.8183363676071167\n",
            "Acuratetea la finalul epocii 3 este 39.81%\n",
            "Loss-ul la finalul epocii 3 are valoarea 1.6757789850234985\n",
            "Acuratetea la finalul epocii 4 este 42.03%\n",
            "Loss-ul la finalul epocii 4 are valoarea 1.6433016061782837\n",
            "Acuratetea la finalul epocii 5 este 43.46%\n",
            "Loss-ul la finalul epocii 5 are valoarea 1.5122630596160889\n",
            "Acuratetea la finalul epocii 6 este 45.83%\n",
            "Loss-ul la finalul epocii 6 are valoarea 1.5558327436447144\n",
            "Acuratetea la finalul epocii 7 este 47.04%\n",
            "Loss-ul la finalul epocii 7 are valoarea 1.480910301208496\n",
            "Acuratetea la finalul epocii 8 este 49.27%\n",
            "Loss-ul la finalul epocii 8 are valoarea 1.4283952713012695\n",
            "Acuratetea la finalul epocii 9 este 50.15%\n",
            "Loss-ul la finalul epocii 9 are valoarea 1.3720030784606934\n",
            "Acuratetea la finalul epocii 10 este 51.02%\n"
          ]
        }
      ]
    },
    {
      "cell_type": "markdown",
      "metadata": {
        "id": "zmVavwztTZkz"
      },
      "source": [
        "## Reteaua LeNet\n",
        "\n",
        "### Cerinte\n",
        "  * **(2.5p)** Implementati reteaua LeNet dupa figura de mai jos si antrenati-o\n",
        "\n",
        "\n",
        "![alt text](https://drive.google.com/uc?id=1OVancUyIViMRMZdULFSVCvXJHQP0NGUV)\n",
        "\n",
        "Figura arhitectura LeNet\n",
        "\n",
        "![alt text](https://debuggercafe.com/wp-content/uploads/2019/07/Layers-in-LeNet.png)\n",
        "\n",
        "Tabel arhitectura LeNet\n"
      ]
    },
    {
      "cell_type": "code",
      "metadata": {
        "id": "zoe1vbggO-4U"
      },
      "source": [
        "import torch.nn as nn\n",
        "\n",
        "class LeNet(nn.Module):\n",
        "  def __init__(self):\n",
        "    super().__init__()\n",
        "    ### Completati codul pentru cerinta aici\n",
        "    self.conv1 = nn.Conv2d(in_channels=3, out_channels=6, kernel_size=(5,5), stride=(1,1))\n",
        "    self.conv2 = nn.Conv2d(in_channels=6, out_channels=16, kernel_size=(5,5), stride=(1,1))\n",
        "    self.conv3 = nn.Conv2d(in_channels=16, out_channels=120, kernel_size=(5,5), stride=(1,1))\n",
        "    self.batchnorm1 = nn.BatchNorm2d(6)\n",
        "    self.batchnorm2 = nn.BatchNorm2d(16)\n",
        "    self.batchnorm3 = nn.BatchNorm2d(120)\n",
        "    self.avgpool1 = nn.AvgPool2d(2,2)\n",
        "    self.activation1 = nn.ReLU()\n",
        "    self.activation2 = nn.LeakyReLU()\n",
        "    self.linear1 = nn.Linear(120,84)\n",
        "    self.linear2 = nn.Linear(84,10)\n",
        "    self.liniarize = nn.Flatten()\n",
        "\n",
        "  def forward(self,x):\n",
        "    ### Completati codul pentru cerinta aici\n",
        "    x = self.avgpool1(self.batchnorm1(self.activation1(self.conv1(x))))\n",
        "    x = self.avgpool1(self.batchnorm2(self.activation1(self.conv2(x))))\n",
        "    x = self.batchnorm3(self.activation1(self.conv3(x)))\n",
        "    x = self.liniarize(x)\n",
        "    x = self.activation1(self.linear1(x))\n",
        "    x = self.activation2(self.linear2(x))\n",
        "    return x"
      ],
      "execution_count": 25,
      "outputs": []
    },
    {
      "cell_type": "markdown",
      "metadata": {
        "id": "J0XPmGrEol9M"
      },
      "source": [
        "## Redefinirea obiectelor folosite in timpul antrenarii pentru reteaua LeNet\n",
        "\n",
        "### Cerinta\n",
        " * **(0.5p)** Redefiniti obiectele necesare pentru a antrena reteaua LeNet"
      ]
    },
    {
      "cell_type": "code",
      "metadata": {
        "id": "jhqNoDmQo66c"
      },
      "source": [
        "import torch.optim as optim\n",
        "import torch\n",
        "    \n",
        "# Definiti numarul de epoci\n",
        "epochs = 10\n",
        "\n",
        "# Definiti reteaua\n",
        "lenet = LeNet()\n",
        "\n",
        "if train_on_gpu:\n",
        "    lenet.cuda()\n",
        "\n",
        "# Definiti optimizatorul\n",
        "lenet_optimizer = optim.SGD(lenet.parameters(), lr=0.001, momentum=0.9)\n",
        "\n",
        "# Completati aici codul pentru a face gradientii zero\n",
        "lenet_optimizer.zero_grad()\n",
        "\n",
        "# Definiti functia cost pentru clasificare Cross-Entropy\n",
        "loss_fn = nn.CrossEntropyLoss()"
      ],
      "execution_count": 26,
      "outputs": []
    },
    {
      "cell_type": "markdown",
      "metadata": {
        "id": "hwIQwUQpo_eR"
      },
      "source": [
        "## Antrenarea retelei LeNet"
      ]
    },
    {
      "cell_type": "code",
      "metadata": {
        "id": "UUl8W42do_sL",
        "colab": {
          "base_uri": "https://localhost:8080/",
          "height": 382
        },
        "outputId": "eb6cf75a-764a-4a1f-8505-ccefc2da68bb"
      },
      "source": [
        "train_fn(epochs, train_loader, test_loader, lenet, loss_fn, lenet_optimizer)\n",
        "\n",
        "\"\"\" tanh Relu 0.001\n",
        "Loss-ul la finalul epocii 0 are valoarea 2.0796093940734863\n",
        "Acuratetea la finalul epocii 1 este 29.20%\n",
        "Loss-ul la finalul epocii 1 are valoarea 1.9524906873703003\n",
        "Acuratetea la finalul epocii 2 este 32.91%\n",
        "Loss-ul la finalul epocii 2 are valoarea 1.900344967842102\n",
        "Acuratetea la finalul epocii 3 este 35.40%\n",
        "Loss-ul la finalul epocii 3 are valoarea 1.8716014623641968\n",
        "Acuratetea la finalul epocii 4 este 36.63%\n",
        "Loss-ul la finalul epocii 4 are valoarea 1.7920197248458862\n",
        "Acuratetea la finalul epocii 5 este 37.74%\n",
        "Loss-ul la finalul epocii 5 are valoarea 1.7456880807876587\n",
        "Acuratetea la finalul epocii 6 este 39.06%\n",
        "Loss-ul la finalul epocii 6 are valoarea 1.749069333076477\n",
        "Acuratetea la finalul epocii 7 este 39.87%\n",
        "Loss-ul la finalul epocii 7 are valoarea 1.7060997486114502\n",
        "Acuratetea la finalul epocii 8 este 40.56%\n",
        "Loss-ul la finalul epocii 8 are valoarea 1.6933534145355225\n",
        "Acuratetea la finalul epocii 9 este 40.82%\n",
        "Loss-ul la finalul epocii 9 are valoarea 1.8033382892608643\n",
        "Acuratetea la finalul epocii 10 este 41.33%\n",
        "Loss-ul la finalul epocii 10 are valoarea 1.7434660196304321\n",
        "Acuratetea la finalul epocii 11 este 41.75%\n",
        "Loss-ul la finalul epocii 11 are valoarea 1.605223298072815\n",
        "Acuratetea la finalul epocii 12 este 42.38%\n",
        "Loss-ul la finalul epocii 12 are valoarea 1.6265277862548828\n",
        "Acuratetea la finalul epocii 13 este 42.76%\n",
        "Loss-ul la finalul epocii 13 are valoarea 1.6651031970977783\n",
        "Acuratetea la finalul epocii 14 este 42.74%\n",
        "Loss-ul la finalul epocii 14 are valoarea 1.5793588161468506\n",
        "Acuratetea la finalul epocii 15 este 43.66%\n",
        "Loss-ul la finalul epocii 15 are valoarea 1.550754189491272\n",
        "Acuratetea la finalul epocii 16 este 43.92%\n",
        "Loss-ul la finalul epocii 16 are valoarea 1.658993124961853\n",
        "Acuratetea la finalul epocii 17 este 44.09%\n",
        "Loss-ul la finalul epocii 17 are valoarea 1.5809075832366943\n",
        "Acuratetea la finalul epocii 18 este 44.48%\n",
        "Loss-ul la finalul epocii 18 are valoarea 1.5090138912200928\n",
        "Acuratetea la finalul epocii 19 este 44.98%\n",
        "Loss-ul la finalul epocii 19 are valoarea 1.5281784534454346\n",
        "Acuratetea la finalul epocii 20 este 45.32%\n",
        "\n",
        "\"\"\" \n",
        "\"\"\" ReLU ReLU\n",
        "Loss-ul la finalul epocii 0 are valoarea 2.208341598510742\n",
        "Acuratetea la finalul epocii 1 este 24.70%\n",
        "Loss-ul la finalul epocii 1 are valoarea 2.031294584274292\n",
        "Acuratetea la finalul epocii 2 este 32.35%\n",
        "Loss-ul la finalul epocii 2 are valoarea 1.830610990524292\n",
        "Acuratetea la finalul epocii 3 este 36.40%\n",
        "Loss-ul la finalul epocii 3 are valoarea 1.7299917936325073\n",
        "Acuratetea la finalul epocii 4 este 38.80%\n",
        "Loss-ul la finalul epocii 4 are valoarea 1.6747359037399292\n",
        "Acuratetea la finalul epocii 5 este 41.24%\n",
        "Loss-ul la finalul epocii 5 are valoarea 1.6446526050567627\n",
        "Acuratetea la finalul epocii 6 este 43.16%\n",
        "Loss-ul la finalul epocii 6 are valoarea 1.525226354598999\n",
        "Acuratetea la finalul epocii 7 este 44.09%\n",
        "Loss-ul la finalul epocii 7 are valoarea 1.4689027070999146\n",
        "Acuratetea la finalul epocii 8 este 45.29%\n",
        "Loss-ul la finalul epocii 8 are valoarea 1.4290144443511963\n",
        "Acuratetea la finalul epocii 9 este 46.58%\n",
        "Loss-ul la finalul epocii 9 are valoarea 1.452158808708191\n",
        "Acuratetea la finalul epocii 10 este 48.08%\n",
        "\"\"\"\n",
        "\n",
        "\"\"\" ReLU LeakyReLU\n",
        "Loss-ul la finalul epocii 0 are valoarea 2.2462141513824463\n",
        "Acuratetea la finalul epocii 1 este 19.70%\n",
        "Loss-ul la finalul epocii 1 are valoarea 2.124427080154419\n",
        "Acuratetea la finalul epocii 2 este 27.36%\n",
        "Loss-ul la finalul epocii 2 are valoarea 2.0321152210235596\n",
        "Acuratetea la finalul epocii 3 este 30.28%\n",
        "Loss-ul la finalul epocii 3 are valoarea 1.9179110527038574\n",
        "Acuratetea la finalul epocii 4 este 33.05%\n",
        "Loss-ul la finalul epocii 4 are valoarea 1.788777232170105\n",
        "Acuratetea la finalul epocii 5 este 36.04%\n",
        "Loss-ul la finalul epocii 5 are valoarea 1.6475142240524292\n",
        "Acuratetea la finalul epocii 6 este 38.13%\n",
        "Loss-ul la finalul epocii 6 are valoarea 1.6639798879623413\n",
        "Acuratetea la finalul epocii 7 este 41.10%\n",
        "Loss-ul la finalul epocii 7 are valoarea 1.5541795492172241\n",
        "Acuratetea la finalul epocii 8 este 43.65%\n",
        "Loss-ul la finalul epocii 8 are valoarea 1.5308094024658203\n",
        "Acuratetea la finalul epocii 9 este 44.95%\n",
        "Loss-ul la finalul epocii 9 are valoarea 1.470102310180664\n",
        "Acuratetea la finalul epocii 10 este 46.52%\n",
        "\"\"\"\n"
      ],
      "execution_count": 27,
      "outputs": [
        {
          "output_type": "stream",
          "name": "stdout",
          "text": [
            "Loss-ul la finalul epocii 0 are valoarea 2.2462141513824463\n",
            "Acuratetea la finalul epocii 1 este 19.70%\n",
            "Loss-ul la finalul epocii 1 are valoarea 2.124427080154419\n",
            "Acuratetea la finalul epocii 2 este 27.36%\n",
            "Loss-ul la finalul epocii 2 are valoarea 2.0321152210235596\n",
            "Acuratetea la finalul epocii 3 este 30.28%\n",
            "Loss-ul la finalul epocii 3 are valoarea 1.9179110527038574\n",
            "Acuratetea la finalul epocii 4 este 33.05%\n",
            "Loss-ul la finalul epocii 4 are valoarea 1.788777232170105\n",
            "Acuratetea la finalul epocii 5 este 36.04%\n",
            "Loss-ul la finalul epocii 5 are valoarea 1.6475142240524292\n",
            "Acuratetea la finalul epocii 6 este 38.13%\n",
            "Loss-ul la finalul epocii 6 are valoarea 1.6639798879623413\n",
            "Acuratetea la finalul epocii 7 este 41.10%\n",
            "Loss-ul la finalul epocii 7 are valoarea 1.5541795492172241\n",
            "Acuratetea la finalul epocii 8 este 43.65%\n",
            "Loss-ul la finalul epocii 8 are valoarea 1.5308094024658203\n",
            "Acuratetea la finalul epocii 9 este 44.95%\n",
            "Loss-ul la finalul epocii 9 are valoarea 1.470102310180664\n",
            "Acuratetea la finalul epocii 10 este 46.52%\n"
          ]
        },
        {
          "output_type": "execute_result",
          "data": {
            "application/vnd.google.colaboratory.intrinsic+json": {
              "type": "string"
            },
            "text/plain": [
              "' ReLU LeakyReLU\\n'"
            ]
          },
          "metadata": {},
          "execution_count": 27
        }
      ]
    },
    {
      "cell_type": "markdown",
      "metadata": {
        "id": "OspDtfFnTodr"
      },
      "source": [
        "###Augmentare retea\n",
        "\n",
        "Reteaua de mai devreme duce lipsa de regularizare. O forma foarte puternica de regularizare este normalizarea, iar pentru acest lucru exista straturi speciale.\n",
        "\n",
        "Astfel de straturi:\n",
        "\n",
        "* torch.nn.BatchNorm2d(num_features)\n",
        "* torch.nn.InstanceNorm2d(num_features)\n",
        "\n",
        "Un alt element important il reprezinta functiile de activare, care pot influenta convergenta si puterea retelei. Cateva exemple de functii de activate:\n",
        "\n",
        "\n",
        "* Relu\n",
        "* Sigmoid\n",
        "* Tanh\n",
        "* LeakyRelu\n",
        "* GELU\n",
        "\n",
        "## Cerinta\n",
        "\n",
        "**(2p)** Experimentati cu augmentarile mentionate mai sus in cadrul ultimei retele definite pentru a obtine o acuratete mai buna. Observati viteza de convergenta si performanta retelei pentru 3 configuratii diferite.\n",
        "\n",
        "\n",
        "###Bonus\n",
        "**(1p)** Antrenati reteaua folosind GPU (Graphics processing unit)\n",
        "\n",
        "\n",
        "\n",
        "\n",
        "\n",
        "\n",
        "\n",
        "\n",
        "  \n"
      ]
    }
  ]
}