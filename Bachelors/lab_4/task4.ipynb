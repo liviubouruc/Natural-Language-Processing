{
  "nbformat": 4,
  "nbformat_minor": 0,
  "metadata": {
    "colab": {
      "name": "task4.ipynb",
      "provenance": []
    },
    "kernelspec": {
      "name": "python3",
      "display_name": "Python 3"
    },
    "language_info": {
      "name": "python"
    }
  },
  "cells": [
    {
      "cell_type": "code",
      "execution_count": 27,
      "metadata": {
        "id": "flAX9s9zWHxo"
      },
      "outputs": [],
      "source": [
        "import torch\n",
        "import sklearn.datasets\n",
        "import numpy as np\n",
        "import torch.nn as nn\n",
        "from typing import Iterator, List, Callable, Tuple\n",
        "from sklearn.model_selection import train_test_split\n",
        "from torch.utils.data import Dataset, DataLoader\n",
        "from tqdm import tqdm\n",
        "import matplotlib.pyplot as plt\n",
        "from sklearn.metrics import precision_recall_fscore_support"
      ]
    },
    {
      "cell_type": "code",
      "source": [
        "wine_dataset = sklearn.datasets.load_wine()"
      ],
      "metadata": {
        "id": "0RNo_NwyaS08"
      },
      "execution_count": 28,
      "outputs": []
    },
    {
      "cell_type": "code",
      "source": [
        "data, labels = wine_dataset['data'], wine_dataset['target']\n",
        "data_float = []\n",
        "for row in data:\n",
        "  data_float.append([float(el) for el in row])\n",
        "train_data, validation_data, train_labels, validation_labels = train_test_split(data_float, labels, test_size=0.1, random_state=42)\n",
        "train_data, test_data, train_labels, test_labels = train_test_split(data_float, labels, test_size=0.1, random_state=42)"
      ],
      "metadata": {
        "colab": {
          "base_uri": "https://localhost:8080/"
        },
        "id": "Tp0TzQ6NcXMw",
        "outputId": "410adc7e-970e-4f4e-8e61-43d347393813"
      },
      "execution_count": 41,
      "outputs": [
        {
          "output_type": "stream",
          "name": "stdout",
          "text": [
            "18\n"
          ]
        }
      ]
    },
    {
      "cell_type": "code",
      "source": [
        "class WineDataset(Dataset):\n",
        "  def __init__(self, data, labels, transform=None):\n",
        "    self.data = data\n",
        "    self.label = labels\n",
        "\n",
        "  def __getitem__(self, idx):\n",
        "    item_data = self.data[idx]\n",
        "    label = self.label[idx]\n",
        "\n",
        "    item_data_tensor = torch.tensor(item_data)\n",
        "    label_tensor = torch.tensor(label)\n",
        "\n",
        "    return item_data_tensor, label_tensor\n",
        "\n",
        "  def __len__(self):\n",
        "    return len(self.data)"
      ],
      "metadata": {
        "id": "WP3ob7NzfFWP"
      },
      "execution_count": 30,
      "outputs": []
    },
    {
      "cell_type": "code",
      "source": [
        "train_dataset = WineDataset(data=train_data, labels=train_labels)\n",
        "validation_dataset = WineDataset(data=validation_data, labels=validation_labels)\n",
        "test_dataset = WineDataset(data=test_data, labels=test_labels)"
      ],
      "metadata": {
        "id": "v8YtkiFCfddU"
      },
      "execution_count": 31,
      "outputs": []
    },
    {
      "cell_type": "code",
      "source": [
        "train_dataloader = DataLoader(dataset=train_dataset, batch_size=16, shuffle=True)\n",
        "validation_dataloader = DataLoader(dataset=validation_dataset, batch_size=16, shuffle=True)\n",
        "test_dataloader = DataLoader(dataset=test_dataset, batch_size=16, shuffle=True)"
      ],
      "metadata": {
        "id": "rL55NTQEfuTf"
      },
      "execution_count": 32,
      "outputs": []
    },
    {
      "cell_type": "code",
      "source": [
        "class WineClassificator(nn.Module):\n",
        "  def __init__(self, \n",
        "                 input_size: int, \n",
        "                 hidden_size_1: int, \n",
        "                 hidden_size_2: int,\n",
        "                 activation_fn: Callable):\n",
        "    super().__init__()\n",
        "    self.input_size = input_size\n",
        "    self.hidden_size_1 = hidden_size_1\n",
        "    self.hidden_size_2 = hidden_size_2\n",
        "    self.layer_1 = nn.Linear(input_size, hidden_size_1)\n",
        "    self.dropout_1 = nn.Dropout(p=0.3)\n",
        "    self.layer_2 = nn.Linear(hidden_size_1, hidden_size_2)\n",
        "    self.dropout_2 = nn.Dropout(p=0.5)\n",
        "    self.output_layer = nn.Linear(hidden_size_2, 3)\n",
        "    self.activation_fn = activation_fn\n",
        "\n",
        "  def forward(self, x):\n",
        "    h1 = self.activation_fn(self.layer_1(x))\n",
        "    dropout_h1 = self.dropout_1(h1)\n",
        "    h2 = self.activation_fn(self.layer_2(dropout_h1))\n",
        "    dropout_h2 = self.dropout_2(h2)\n",
        "    out = self.output_layer(dropout_h2)\n",
        "\n",
        "    return out"
      ],
      "metadata": {
        "id": "jEJDB4KOb-KM"
      },
      "execution_count": 44,
      "outputs": []
    },
    {
      "cell_type": "code",
      "source": [
        "def train_epoch(model, train_dataloader, loss_crt, optimizer):\n",
        "    \"\"\"\n",
        "    model: Model object \n",
        "    train_dataloader: DataLoader over the training dataset\n",
        "    loss_crt: loss function object\n",
        "    optimizer: Optimizer object\n",
        "\n",
        "    The function returns: \n",
        "     - the epoch training loss, which is an average over the individual batch\n",
        "       losses\n",
        "     - the predictions made by the model\n",
        "     - the labels \n",
        "    \"\"\"\n",
        "    model.train()\n",
        "    epoch_loss = 0.0\n",
        "    num_batches = len(train_dataloader)\n",
        "    predictions = []\n",
        "    labels = []\n",
        "    for idx, batch in tqdm(enumerate(train_dataloader)):\n",
        "        batch_data, batch_labels = batch\n",
        "\n",
        "        output = model(batch_data)\n",
        "        batch_predictions = torch.argmax(output, dim=1)\n",
        "        \n",
        "        predictions += batch_predictions.tolist()\n",
        "        labels += batch_labels.squeeze().tolist()\n",
        "\n",
        "        loss = loss_crt(output, batch_labels)\n",
        "        loss_scalar = loss.item()\n",
        "        # print(\"  epoch %d, batch %d/%d, loss=%f\" % (\n",
        "        #     epoch_idx, idx, num_batches, loss_scalar\n",
        "        # ))\n",
        "\n",
        "        loss.backward()\n",
        "\n",
        "        optimizer.step()\n",
        "        model.zero_grad()\n",
        "\n",
        "        epoch_loss += loss_scalar\n",
        "\n",
        "    epoch_loss = epoch_loss/num_batches\n",
        "\n",
        "    return epoch_loss, predictions, labels\n",
        "\n",
        "def eval_epoch(model, val_dataloader, loss_crt):\n",
        "    \"\"\"\n",
        "    model: Model object \n",
        "    val_dataloader: DataLoader over the validation dataset\n",
        "    loss_crt: loss function object\n",
        "\n",
        "    The function returns: \n",
        "     - the epoch validation loss, which is an average over the individual batch\n",
        "       losses\n",
        "     - the predictions made by the model\n",
        "     - the labels \n",
        "    \"\"\"\n",
        "    model.eval()\n",
        "    epoch_loss = 0.0\n",
        "    num_batches = len(val_dataloader)\n",
        "    predictions = []\n",
        "    labels = []\n",
        "    with torch.no_grad():\n",
        "        for idx, batch in tqdm(enumerate(val_dataloader)):\n",
        "            batch_data, batch_labels = batch\n",
        "            \n",
        "            output = model(batch_data)\n",
        "            batch_predictions = torch.argmax(output, dim=1)\n",
        "        \n",
        "            predictions += batch_predictions.tolist()\n",
        "            labels += batch_labels.squeeze().tolist()\n",
        "\n",
        "            loss = loss_crt(output, batch_labels)\n",
        "            loss_scalar = loss.item()\n",
        "\n",
        "            epoch_loss += loss_scalar\n",
        "\n",
        "    epoch_loss = epoch_loss/num_batches\n",
        "\n",
        "    return epoch_loss, predictions, labels"
      ],
      "metadata": {
        "id": "WJrYun2Chik_"
      },
      "execution_count": 34,
      "outputs": []
    },
    {
      "cell_type": "code",
      "source": [
        "def compute_accuracy(predictions: List[int], labels:List[int]) -> float:\n",
        "    \"\"\"\n",
        "    Compute accuracy given the predictions of a binary classifier and the \n",
        "    ground truth label.\n",
        "    predictions: list of model predictions (0 or 1)\n",
        "    labels: list of ground truth labels (0 or 1)\n",
        "    \"\"\"\n",
        "    num_correct = len([(p,l) for (p,l) in zip(predictions,labels) if p==l])\n",
        "    epoch_accuracy = num_correct/len(labels)\n",
        "    \n",
        "    return epoch_accuracy"
      ],
      "metadata": {
        "id": "LbeQi4bWiv5M"
      },
      "execution_count": 35,
      "outputs": []
    },
    {
      "cell_type": "code",
      "source": [
        "hyperparams = {\n",
        "    'lr': 0.001,\n",
        "    'num_epochs': 100,\n",
        "    'hidden_size_1': 256,\n",
        "    'hidden_size_2': 128,\n",
        "    'activation_fn': nn.ReLU()\n",
        "}\n",
        "\n",
        "model = WineClassificator(\n",
        "    input_size = 13,\n",
        "    hidden_size_1 = hyperparams['hidden_size_1'],\n",
        "    hidden_size_2 = hyperparams['hidden_size_2'],\n",
        "    activation_fn = hyperparams['activation_fn']\n",
        ")\n",
        "\n",
        "loss_criterion = nn.CrossEntropyLoss()\n",
        "optimizer = torch.optim.Adam(params=model.parameters(), lr=hyperparams['lr'])\n",
        "\n",
        "train_losses, val_losses = [], []\n",
        "train_accuracies, val_accuracies = [], []\n",
        "best_val_acc = 0.0\n",
        "\n",
        "for epoch_idx in range(hyperparams['num_epochs']):\n",
        "    train_epoch_loss, train_predictions, train_labels = train_epoch(\n",
        "        model, \n",
        "        train_dataloader, \n",
        "        loss_criterion, \n",
        "        optimizer\n",
        "    )\n",
        "    val_epoch_loss, val_predictions, val_labels = eval_epoch(\n",
        "        model,\n",
        "        validation_dataloader,\n",
        "        loss_criterion,\n",
        "    )\n",
        "    train_acc = compute_accuracy(train_predictions, train_labels)\n",
        "    val_acc = compute_accuracy(val_predictions, val_labels)\n",
        "    train_losses.append(train_epoch_loss)\n",
        "    val_losses.append(val_epoch_loss)\n",
        "    train_accuracies.append(train_acc)\n",
        "    val_accuracies.append(val_acc)\n",
        "\n",
        "    print(\"epoch %d, train loss=%f, train acc=%f, val loss=%f, val acc=%f\" % (\n",
        "        epoch_idx, \n",
        "        train_epoch_loss,\n",
        "        train_acc,\n",
        "        val_epoch_loss,\n",
        "        val_acc\n",
        "    ))"
      ],
      "metadata": {
        "colab": {
          "base_uri": "https://localhost:8080/"
        },
        "id": "aJ9tG6jHgp0v",
        "outputId": "8c44a302-b10e-43be-bbaa-5a64bb80b2c0"
      },
      "execution_count": 45,
      "outputs": [
        {
          "output_type": "stream",
          "name": "stderr",
          "text": [
            "10it [00:00, 288.65it/s]\n",
            "2it [00:00, 809.32it/s]\n"
          ]
        },
        {
          "output_type": "stream",
          "name": "stdout",
          "text": [
            "epoch 0, train loss=18.887127, train acc=0.287500, val loss=1.423050, val acc=0.555556\n"
          ]
        },
        {
          "output_type": "stream",
          "name": "stderr",
          "text": [
            "10it [00:00, 380.48it/s]\n",
            "2it [00:00, 908.25it/s]\n"
          ]
        },
        {
          "output_type": "stream",
          "name": "stdout",
          "text": [
            "epoch 1, train loss=12.107310, train acc=0.331250, val loss=9.178057, val acc=0.388889\n"
          ]
        },
        {
          "output_type": "stream",
          "name": "stderr",
          "text": [
            "10it [00:00, 412.30it/s]\n",
            "2it [00:00, 953.79it/s]\n"
          ]
        },
        {
          "output_type": "stream",
          "name": "stdout",
          "text": [
            "epoch 2, train loss=8.903266, train acc=0.368750, val loss=1.264893, val acc=0.500000\n"
          ]
        },
        {
          "output_type": "stream",
          "name": "stderr",
          "text": [
            "10it [00:00, 401.41it/s]\n",
            "2it [00:00, 784.64it/s]\n"
          ]
        },
        {
          "output_type": "stream",
          "name": "stdout",
          "text": [
            "epoch 3, train loss=4.827022, train acc=0.406250, val loss=0.905573, val acc=0.555556\n"
          ]
        },
        {
          "output_type": "stream",
          "name": "stderr",
          "text": [
            "10it [00:00, 373.83it/s]\n",
            "2it [00:00, 673.51it/s]\n"
          ]
        },
        {
          "output_type": "stream",
          "name": "stdout",
          "text": [
            "epoch 4, train loss=3.290064, train acc=0.437500, val loss=1.517032, val acc=0.222222\n"
          ]
        },
        {
          "output_type": "stream",
          "name": "stderr",
          "text": [
            "10it [00:00, 354.99it/s]\n",
            "2it [00:00, 318.40it/s]\n"
          ]
        },
        {
          "output_type": "stream",
          "name": "stdout",
          "text": [
            "epoch 5, train loss=2.369084, train acc=0.362500, val loss=0.965330, val acc=0.388889\n"
          ]
        },
        {
          "output_type": "stream",
          "name": "stderr",
          "text": [
            "10it [00:00, 478.75it/s]\n",
            "2it [00:00, 357.66it/s]\n"
          ]
        },
        {
          "output_type": "stream",
          "name": "stdout",
          "text": [
            "epoch 6, train loss=1.959551, train acc=0.431250, val loss=1.109818, val acc=0.388889\n"
          ]
        },
        {
          "output_type": "stream",
          "name": "stderr",
          "text": [
            "10it [00:00, 374.83it/s]\n",
            "2it [00:00, 1153.87it/s]\n"
          ]
        },
        {
          "output_type": "stream",
          "name": "stdout",
          "text": [
            "epoch 7, train loss=1.645955, train acc=0.400000, val loss=1.079261, val acc=0.611111\n"
          ]
        },
        {
          "output_type": "stream",
          "name": "stderr",
          "text": [
            "10it [00:00, 403.33it/s]\n",
            "2it [00:00, 667.56it/s]\n"
          ]
        },
        {
          "output_type": "stream",
          "name": "stdout",
          "text": [
            "epoch 8, train loss=1.232068, train acc=0.456250, val loss=1.090513, val acc=0.444444\n"
          ]
        },
        {
          "output_type": "stream",
          "name": "stderr",
          "text": [
            "10it [00:00, 461.14it/s]\n",
            "2it [00:00, 466.68it/s]\n"
          ]
        },
        {
          "output_type": "stream",
          "name": "stdout",
          "text": [
            "epoch 9, train loss=1.190490, train acc=0.418750, val loss=1.074494, val acc=0.666667\n"
          ]
        },
        {
          "output_type": "stream",
          "name": "stderr",
          "text": [
            "10it [00:00, 394.77it/s]\n",
            "2it [00:00, 842.65it/s]\n"
          ]
        },
        {
          "output_type": "stream",
          "name": "stdout",
          "text": [
            "epoch 10, train loss=1.283129, train acc=0.406250, val loss=1.062645, val acc=0.666667\n"
          ]
        },
        {
          "output_type": "stream",
          "name": "stderr",
          "text": [
            "10it [00:00, 422.62it/s]\n",
            "2it [00:00, 854.50it/s]\n"
          ]
        },
        {
          "output_type": "stream",
          "name": "stdout",
          "text": [
            "epoch 11, train loss=1.091586, train acc=0.475000, val loss=1.045244, val acc=0.722222\n"
          ]
        },
        {
          "output_type": "stream",
          "name": "stderr",
          "text": [
            "10it [00:00, 391.75it/s]\n",
            "2it [00:00, 770.59it/s]\n"
          ]
        },
        {
          "output_type": "stream",
          "name": "stdout",
          "text": [
            "epoch 12, train loss=1.278291, train acc=0.406250, val loss=0.936097, val acc=0.444444\n"
          ]
        },
        {
          "output_type": "stream",
          "name": "stderr",
          "text": [
            "10it [00:00, 460.16it/s]\n",
            "2it [00:00, 809.32it/s]\n"
          ]
        },
        {
          "output_type": "stream",
          "name": "stdout",
          "text": [
            "epoch 13, train loss=1.183647, train acc=0.400000, val loss=1.023935, val acc=0.666667\n"
          ]
        },
        {
          "output_type": "stream",
          "name": "stderr",
          "text": [
            "10it [00:00, 455.55it/s]\n",
            "2it [00:00, 826.79it/s]\n"
          ]
        },
        {
          "output_type": "stream",
          "name": "stdout",
          "text": [
            "epoch 14, train loss=1.177044, train acc=0.443750, val loss=1.073513, val acc=0.666667\n"
          ]
        },
        {
          "output_type": "stream",
          "name": "stderr",
          "text": [
            "10it [00:00, 448.14it/s]\n",
            "2it [00:00, 715.51it/s]\n"
          ]
        },
        {
          "output_type": "stream",
          "name": "stdout",
          "text": [
            "epoch 15, train loss=1.093187, train acc=0.537500, val loss=1.030387, val acc=0.555556\n"
          ]
        },
        {
          "output_type": "stream",
          "name": "stderr",
          "text": [
            "10it [00:00, 451.54it/s]\n",
            "2it [00:00, 513.22it/s]\n"
          ]
        },
        {
          "output_type": "stream",
          "name": "stdout",
          "text": [
            "epoch 16, train loss=1.117777, train acc=0.456250, val loss=1.037960, val acc=0.555556\n"
          ]
        },
        {
          "output_type": "stream",
          "name": "stderr",
          "text": [
            "10it [00:00, 460.21it/s]\n",
            "2it [00:00, 957.60it/s]\n"
          ]
        },
        {
          "output_type": "stream",
          "name": "stdout",
          "text": [
            "epoch 17, train loss=1.003436, train acc=0.487500, val loss=1.032992, val acc=0.666667\n"
          ]
        },
        {
          "output_type": "stream",
          "name": "stderr",
          "text": [
            "10it [00:00, 312.68it/s]\n",
            "2it [00:00, 840.46it/s]\n"
          ]
        },
        {
          "output_type": "stream",
          "name": "stdout",
          "text": [
            "epoch 18, train loss=0.958746, train acc=0.537500, val loss=0.990450, val acc=0.666667\n"
          ]
        },
        {
          "output_type": "stream",
          "name": "stderr",
          "text": [
            "10it [00:00, 383.19it/s]\n",
            "2it [00:00, 673.19it/s]\n"
          ]
        },
        {
          "output_type": "stream",
          "name": "stdout",
          "text": [
            "epoch 19, train loss=1.022571, train acc=0.512500, val loss=0.931988, val acc=0.722222\n"
          ]
        },
        {
          "output_type": "stream",
          "name": "stderr",
          "text": [
            "10it [00:00, 255.03it/s]\n",
            "2it [00:00, 648.52it/s]\n"
          ]
        },
        {
          "output_type": "stream",
          "name": "stdout",
          "text": [
            "epoch 20, train loss=1.020988, train acc=0.556250, val loss=0.949695, val acc=0.555556\n"
          ]
        },
        {
          "output_type": "stream",
          "name": "stderr",
          "text": [
            "10it [00:00, 446.61it/s]\n",
            "2it [00:00, 283.45it/s]\n"
          ]
        },
        {
          "output_type": "stream",
          "name": "stdout",
          "text": [
            "epoch 21, train loss=1.022772, train acc=0.500000, val loss=0.870178, val acc=0.722222\n"
          ]
        },
        {
          "output_type": "stream",
          "name": "stderr",
          "text": [
            "10it [00:00, 363.53it/s]\n",
            "2it [00:00, 642.76it/s]\n"
          ]
        },
        {
          "output_type": "stream",
          "name": "stdout",
          "text": [
            "epoch 22, train loss=0.988535, train acc=0.531250, val loss=0.998364, val acc=0.722222\n"
          ]
        },
        {
          "output_type": "stream",
          "name": "stderr",
          "text": [
            "10it [00:00, 451.43it/s]\n",
            "2it [00:00, 577.21it/s]\n"
          ]
        },
        {
          "output_type": "stream",
          "name": "stdout",
          "text": [
            "epoch 23, train loss=1.050756, train acc=0.506250, val loss=0.839492, val acc=0.555556\n"
          ]
        },
        {
          "output_type": "stream",
          "name": "stderr",
          "text": [
            "10it [00:00, 378.40it/s]\n",
            "2it [00:00, 775.07it/s]\n"
          ]
        },
        {
          "output_type": "stream",
          "name": "stdout",
          "text": [
            "epoch 24, train loss=1.010578, train acc=0.518750, val loss=1.001403, val acc=0.666667\n"
          ]
        },
        {
          "output_type": "stream",
          "name": "stderr",
          "text": [
            "10it [00:00, 422.49it/s]\n",
            "2it [00:00, 826.30it/s]\n"
          ]
        },
        {
          "output_type": "stream",
          "name": "stdout",
          "text": [
            "epoch 25, train loss=1.044661, train acc=0.506250, val loss=0.744606, val acc=0.611111\n"
          ]
        },
        {
          "output_type": "stream",
          "name": "stderr",
          "text": [
            "10it [00:00, 392.21it/s]\n",
            "2it [00:00, 848.79it/s]\n"
          ]
        },
        {
          "output_type": "stream",
          "name": "stdout",
          "text": [
            "epoch 26, train loss=1.114240, train acc=0.481250, val loss=0.980014, val acc=0.666667\n"
          ]
        },
        {
          "output_type": "stream",
          "name": "stderr",
          "text": [
            "10it [00:00, 405.87it/s]\n",
            "2it [00:00, 859.05it/s]\n"
          ]
        },
        {
          "output_type": "stream",
          "name": "stdout",
          "text": [
            "epoch 27, train loss=1.065105, train acc=0.493750, val loss=0.887478, val acc=0.666667\n"
          ]
        },
        {
          "output_type": "stream",
          "name": "stderr",
          "text": [
            "10it [00:00, 348.34it/s]\n",
            "2it [00:00, 770.66it/s]\n"
          ]
        },
        {
          "output_type": "stream",
          "name": "stdout",
          "text": [
            "epoch 28, train loss=0.951438, train acc=0.562500, val loss=0.778300, val acc=0.666667\n"
          ]
        },
        {
          "output_type": "stream",
          "name": "stderr",
          "text": [
            "10it [00:00, 440.88it/s]\n",
            "2it [00:00, 1096.98it/s]\n"
          ]
        },
        {
          "output_type": "stream",
          "name": "stdout",
          "text": [
            "epoch 29, train loss=0.997070, train acc=0.537500, val loss=0.883659, val acc=0.666667\n"
          ]
        },
        {
          "output_type": "stream",
          "name": "stderr",
          "text": [
            "10it [00:00, 386.45it/s]\n",
            "2it [00:00, 865.79it/s]\n"
          ]
        },
        {
          "output_type": "stream",
          "name": "stdout",
          "text": [
            "epoch 30, train loss=0.959892, train acc=0.512500, val loss=0.617997, val acc=0.666667\n"
          ]
        },
        {
          "output_type": "stream",
          "name": "stderr",
          "text": [
            "10it [00:00, 304.30it/s]\n",
            "2it [00:00, 851.12it/s]\n"
          ]
        },
        {
          "output_type": "stream",
          "name": "stdout",
          "text": [
            "epoch 31, train loss=1.016746, train acc=0.500000, val loss=0.720634, val acc=0.722222\n"
          ]
        },
        {
          "output_type": "stream",
          "name": "stderr",
          "text": [
            "10it [00:00, 372.73it/s]\n",
            "2it [00:00, 905.51it/s]\n"
          ]
        },
        {
          "output_type": "stream",
          "name": "stdout",
          "text": [
            "epoch 32, train loss=0.907333, train acc=0.562500, val loss=0.872188, val acc=0.722222\n"
          ]
        },
        {
          "output_type": "stream",
          "name": "stderr",
          "text": [
            "10it [00:00, 345.80it/s]\n",
            "2it [00:00, 957.82it/s]\n"
          ]
        },
        {
          "output_type": "stream",
          "name": "stdout",
          "text": [
            "epoch 33, train loss=0.934751, train acc=0.568750, val loss=0.687049, val acc=0.666667\n"
          ]
        },
        {
          "output_type": "stream",
          "name": "stderr",
          "text": [
            "10it [00:00, 357.95it/s]\n",
            "2it [00:00, 874.45it/s]\n"
          ]
        },
        {
          "output_type": "stream",
          "name": "stdout",
          "text": [
            "epoch 34, train loss=1.012160, train acc=0.562500, val loss=0.875766, val acc=0.722222\n"
          ]
        },
        {
          "output_type": "stream",
          "name": "stderr",
          "text": [
            "10it [00:00, 403.85it/s]\n",
            "2it [00:00, 810.89it/s]\n"
          ]
        },
        {
          "output_type": "stream",
          "name": "stdout",
          "text": [
            "epoch 35, train loss=0.958328, train acc=0.512500, val loss=0.889367, val acc=0.666667\n"
          ]
        },
        {
          "output_type": "stream",
          "name": "stderr",
          "text": [
            "10it [00:00, 321.83it/s]\n",
            "2it [00:00, 854.41it/s]\n"
          ]
        },
        {
          "output_type": "stream",
          "name": "stdout",
          "text": [
            "epoch 36, train loss=0.890836, train acc=0.537500, val loss=0.751717, val acc=0.722222\n"
          ]
        },
        {
          "output_type": "stream",
          "name": "stderr",
          "text": [
            "10it [00:00, 421.31it/s]\n",
            "2it [00:00, 951.31it/s]\n"
          ]
        },
        {
          "output_type": "stream",
          "name": "stdout",
          "text": [
            "epoch 37, train loss=0.978427, train acc=0.550000, val loss=0.802147, val acc=0.611111\n"
          ]
        },
        {
          "output_type": "stream",
          "name": "stderr",
          "text": [
            "10it [00:00, 390.68it/s]\n",
            "2it [00:00, 900.84it/s]\n"
          ]
        },
        {
          "output_type": "stream",
          "name": "stdout",
          "text": [
            "epoch 38, train loss=0.889799, train acc=0.575000, val loss=0.671362, val acc=0.666667\n"
          ]
        },
        {
          "output_type": "stream",
          "name": "stderr",
          "text": [
            "10it [00:00, 371.10it/s]\n",
            "2it [00:00, 860.63it/s]\n"
          ]
        },
        {
          "output_type": "stream",
          "name": "stdout",
          "text": [
            "epoch 39, train loss=0.951262, train acc=0.550000, val loss=0.906610, val acc=0.722222\n"
          ]
        },
        {
          "output_type": "stream",
          "name": "stderr",
          "text": [
            "10it [00:00, 312.88it/s]\n",
            "2it [00:00, 825.24it/s]\n"
          ]
        },
        {
          "output_type": "stream",
          "name": "stdout",
          "text": [
            "epoch 40, train loss=0.924555, train acc=0.550000, val loss=0.776461, val acc=0.666667\n"
          ]
        },
        {
          "output_type": "stream",
          "name": "stderr",
          "text": [
            "10it [00:00, 376.05it/s]\n",
            "2it [00:00, 868.39it/s]\n"
          ]
        },
        {
          "output_type": "stream",
          "name": "stdout",
          "text": [
            "epoch 41, train loss=0.922160, train acc=0.537500, val loss=0.861531, val acc=0.722222\n"
          ]
        },
        {
          "output_type": "stream",
          "name": "stderr",
          "text": [
            "10it [00:00, 320.35it/s]\n",
            "2it [00:00, 921.62it/s]\n"
          ]
        },
        {
          "output_type": "stream",
          "name": "stdout",
          "text": [
            "epoch 42, train loss=0.906115, train acc=0.537500, val loss=0.848384, val acc=0.666667\n"
          ]
        },
        {
          "output_type": "stream",
          "name": "stderr",
          "text": [
            "10it [00:00, 329.72it/s]\n",
            "2it [00:00, 981.93it/s]\n"
          ]
        },
        {
          "output_type": "stream",
          "name": "stdout",
          "text": [
            "epoch 43, train loss=0.890638, train acc=0.587500, val loss=0.628942, val acc=0.722222\n"
          ]
        },
        {
          "output_type": "stream",
          "name": "stderr",
          "text": [
            "10it [00:00, 339.45it/s]\n",
            "2it [00:00, 741.70it/s]\n"
          ]
        },
        {
          "output_type": "stream",
          "name": "stdout",
          "text": [
            "epoch 44, train loss=0.891506, train acc=0.587500, val loss=0.725039, val acc=0.722222\n"
          ]
        },
        {
          "output_type": "stream",
          "name": "stderr",
          "text": [
            "10it [00:00, 422.37it/s]\n",
            "2it [00:00, 771.01it/s]\n"
          ]
        },
        {
          "output_type": "stream",
          "name": "stdout",
          "text": [
            "epoch 45, train loss=0.876291, train acc=0.556250, val loss=0.718720, val acc=0.722222\n"
          ]
        },
        {
          "output_type": "stream",
          "name": "stderr",
          "text": [
            "10it [00:00, 401.12it/s]\n",
            "2it [00:00, 963.10it/s]\n"
          ]
        },
        {
          "output_type": "stream",
          "name": "stdout",
          "text": [
            "epoch 46, train loss=0.845923, train acc=0.581250, val loss=0.620957, val acc=0.666667\n"
          ]
        },
        {
          "output_type": "stream",
          "name": "stderr",
          "text": [
            "10it [00:00, 416.70it/s]\n",
            "2it [00:00, 491.89it/s]\n"
          ]
        },
        {
          "output_type": "stream",
          "name": "stdout",
          "text": [
            "epoch 47, train loss=0.847548, train acc=0.606250, val loss=0.633477, val acc=0.722222\n"
          ]
        },
        {
          "output_type": "stream",
          "name": "stderr",
          "text": [
            "10it [00:00, 319.88it/s]\n",
            "2it [00:00, 1038.84it/s]\n"
          ]
        },
        {
          "output_type": "stream",
          "name": "stdout",
          "text": [
            "epoch 48, train loss=0.942451, train acc=0.562500, val loss=0.724737, val acc=0.722222\n"
          ]
        },
        {
          "output_type": "stream",
          "name": "stderr",
          "text": [
            "10it [00:00, 330.68it/s]\n",
            "2it [00:00, 681.95it/s]\n"
          ]
        },
        {
          "output_type": "stream",
          "name": "stdout",
          "text": [
            "epoch 49, train loss=0.842832, train acc=0.600000, val loss=0.895181, val acc=0.722222\n"
          ]
        },
        {
          "output_type": "stream",
          "name": "stderr",
          "text": [
            "10it [00:00, 367.44it/s]\n",
            "2it [00:00, 977.58it/s]\n"
          ]
        },
        {
          "output_type": "stream",
          "name": "stdout",
          "text": [
            "epoch 50, train loss=0.850511, train acc=0.612500, val loss=0.658050, val acc=0.666667\n"
          ]
        },
        {
          "output_type": "stream",
          "name": "stderr",
          "text": [
            "10it [00:00, 239.83it/s]\n",
            "2it [00:00, 630.20it/s]\n"
          ]
        },
        {
          "output_type": "stream",
          "name": "stdout",
          "text": [
            "epoch 51, train loss=0.779310, train acc=0.612500, val loss=0.556422, val acc=0.722222\n"
          ]
        },
        {
          "output_type": "stream",
          "name": "stderr",
          "text": [
            "10it [00:00, 364.09it/s]\n",
            "2it [00:00, 1012.51it/s]\n"
          ]
        },
        {
          "output_type": "stream",
          "name": "stdout",
          "text": [
            "epoch 52, train loss=0.827733, train acc=0.618750, val loss=0.529140, val acc=0.722222\n"
          ]
        },
        {
          "output_type": "stream",
          "name": "stderr",
          "text": [
            "10it [00:00, 272.74it/s]\n",
            "2it [00:00, 1123.27it/s]\n"
          ]
        },
        {
          "output_type": "stream",
          "name": "stdout",
          "text": [
            "epoch 53, train loss=0.952944, train acc=0.550000, val loss=0.838262, val acc=0.722222\n"
          ]
        },
        {
          "output_type": "stream",
          "name": "stderr",
          "text": [
            "10it [00:00, 319.91it/s]\n",
            "2it [00:00, 853.80it/s]\n"
          ]
        },
        {
          "output_type": "stream",
          "name": "stdout",
          "text": [
            "epoch 54, train loss=0.830978, train acc=0.593750, val loss=0.699450, val acc=0.666667\n"
          ]
        },
        {
          "output_type": "stream",
          "name": "stderr",
          "text": [
            "10it [00:00, 373.13it/s]\n",
            "2it [00:00, 923.96it/s]\n"
          ]
        },
        {
          "output_type": "stream",
          "name": "stdout",
          "text": [
            "epoch 55, train loss=0.914701, train acc=0.581250, val loss=0.608978, val acc=0.722222\n"
          ]
        },
        {
          "output_type": "stream",
          "name": "stderr",
          "text": [
            "10it [00:00, 369.81it/s]\n",
            "2it [00:00, 394.96it/s]\n"
          ]
        },
        {
          "output_type": "stream",
          "name": "stdout",
          "text": [
            "epoch 56, train loss=0.833352, train acc=0.606250, val loss=0.832024, val acc=0.666667\n"
          ]
        },
        {
          "output_type": "stream",
          "name": "stderr",
          "text": [
            "10it [00:00, 430.20it/s]\n",
            "2it [00:00, 380.85it/s]\n"
          ]
        },
        {
          "output_type": "stream",
          "name": "stdout",
          "text": [
            "epoch 57, train loss=0.835728, train acc=0.606250, val loss=0.681516, val acc=0.666667\n"
          ]
        },
        {
          "output_type": "stream",
          "name": "stderr",
          "text": [
            "10it [00:00, 340.92it/s]\n",
            "2it [00:00, 1163.15it/s]\n"
          ]
        },
        {
          "output_type": "stream",
          "name": "stdout",
          "text": [
            "epoch 58, train loss=0.774615, train acc=0.581250, val loss=0.732836, val acc=0.777778\n"
          ]
        },
        {
          "output_type": "stream",
          "name": "stderr",
          "text": [
            "10it [00:00, 379.38it/s]\n",
            "2it [00:00, 731.99it/s]\n"
          ]
        },
        {
          "output_type": "stream",
          "name": "stdout",
          "text": [
            "epoch 59, train loss=0.877341, train acc=0.600000, val loss=0.838556, val acc=0.722222\n"
          ]
        },
        {
          "output_type": "stream",
          "name": "stderr",
          "text": [
            "10it [00:00, 477.29it/s]\n",
            "2it [00:00, 1166.22it/s]\n"
          ]
        },
        {
          "output_type": "stream",
          "name": "stdout",
          "text": [
            "epoch 60, train loss=0.829479, train acc=0.568750, val loss=0.857262, val acc=0.722222\n"
          ]
        },
        {
          "output_type": "stream",
          "name": "stderr",
          "text": [
            "10it [00:00, 405.74it/s]\n",
            "2it [00:00, 671.30it/s]\n"
          ]
        },
        {
          "output_type": "stream",
          "name": "stdout",
          "text": [
            "epoch 61, train loss=0.834935, train acc=0.593750, val loss=0.530566, val acc=0.722222\n"
          ]
        },
        {
          "output_type": "stream",
          "name": "stderr",
          "text": [
            "10it [00:00, 345.49it/s]\n",
            "2it [00:00, 742.42it/s]\n"
          ]
        },
        {
          "output_type": "stream",
          "name": "stdout",
          "text": [
            "epoch 62, train loss=0.810354, train acc=0.643750, val loss=0.927614, val acc=0.722222\n"
          ]
        },
        {
          "output_type": "stream",
          "name": "stderr",
          "text": [
            "10it [00:00, 378.74it/s]\n",
            "2it [00:00, 944.66it/s]\n"
          ]
        },
        {
          "output_type": "stream",
          "name": "stdout",
          "text": [
            "epoch 63, train loss=0.820496, train acc=0.612500, val loss=0.638364, val acc=0.722222\n"
          ]
        },
        {
          "output_type": "stream",
          "name": "stderr",
          "text": [
            "10it [00:00, 323.76it/s]\n",
            "2it [00:00, 851.29it/s]\n"
          ]
        },
        {
          "output_type": "stream",
          "name": "stdout",
          "text": [
            "epoch 64, train loss=0.791806, train acc=0.600000, val loss=0.655552, val acc=0.722222\n"
          ]
        },
        {
          "output_type": "stream",
          "name": "stderr",
          "text": [
            "10it [00:00, 352.51it/s]\n",
            "2it [00:00, 298.34it/s]\n"
          ]
        },
        {
          "output_type": "stream",
          "name": "stdout",
          "text": [
            "epoch 65, train loss=0.817479, train acc=0.625000, val loss=0.673213, val acc=0.722222\n"
          ]
        },
        {
          "output_type": "stream",
          "name": "stderr",
          "text": [
            "10it [00:00, 437.18it/s]\n",
            "2it [00:00, 726.73it/s]\n"
          ]
        },
        {
          "output_type": "stream",
          "name": "stdout",
          "text": [
            "epoch 66, train loss=0.777290, train acc=0.612500, val loss=0.799915, val acc=0.722222\n"
          ]
        },
        {
          "output_type": "stream",
          "name": "stderr",
          "text": [
            "10it [00:00, 289.58it/s]\n",
            "2it [00:00, 694.59it/s]\n"
          ]
        },
        {
          "output_type": "stream",
          "name": "stdout",
          "text": [
            "epoch 67, train loss=0.748854, train acc=0.643750, val loss=0.624977, val acc=0.777778\n"
          ]
        },
        {
          "output_type": "stream",
          "name": "stderr",
          "text": [
            "10it [00:00, 357.18it/s]\n",
            "2it [00:00, 794.38it/s]\n"
          ]
        },
        {
          "output_type": "stream",
          "name": "stdout",
          "text": [
            "epoch 68, train loss=0.798088, train acc=0.600000, val loss=0.727855, val acc=0.722222\n"
          ]
        },
        {
          "output_type": "stream",
          "name": "stderr",
          "text": [
            "10it [00:00, 330.43it/s]\n",
            "2it [00:00, 1215.74it/s]\n"
          ]
        },
        {
          "output_type": "stream",
          "name": "stdout",
          "text": [
            "epoch 69, train loss=0.813703, train acc=0.612500, val loss=0.608372, val acc=0.722222\n"
          ]
        },
        {
          "output_type": "stream",
          "name": "stderr",
          "text": [
            "10it [00:00, 367.90it/s]\n",
            "2it [00:00, 741.04it/s]\n"
          ]
        },
        {
          "output_type": "stream",
          "name": "stdout",
          "text": [
            "epoch 70, train loss=0.776891, train acc=0.650000, val loss=0.886436, val acc=0.722222\n"
          ]
        },
        {
          "output_type": "stream",
          "name": "stderr",
          "text": [
            "10it [00:00, 403.91it/s]\n",
            "2it [00:00, 777.66it/s]\n"
          ]
        },
        {
          "output_type": "stream",
          "name": "stdout",
          "text": [
            "epoch 71, train loss=0.867050, train acc=0.575000, val loss=0.772222, val acc=0.666667\n"
          ]
        },
        {
          "output_type": "stream",
          "name": "stderr",
          "text": [
            "10it [00:00, 405.27it/s]\n",
            "2it [00:00, 777.30it/s]\n"
          ]
        },
        {
          "output_type": "stream",
          "name": "stdout",
          "text": [
            "epoch 72, train loss=0.796059, train acc=0.643750, val loss=0.676625, val acc=0.666667\n"
          ]
        },
        {
          "output_type": "stream",
          "name": "stderr",
          "text": [
            "10it [00:00, 384.92it/s]\n",
            "2it [00:00, 811.98it/s]\n"
          ]
        },
        {
          "output_type": "stream",
          "name": "stdout",
          "text": [
            "epoch 73, train loss=0.844681, train acc=0.512500, val loss=0.824346, val acc=0.722222\n"
          ]
        },
        {
          "output_type": "stream",
          "name": "stderr",
          "text": [
            "10it [00:00, 348.13it/s]\n",
            "2it [00:00, 833.03it/s]\n"
          ]
        },
        {
          "output_type": "stream",
          "name": "stdout",
          "text": [
            "epoch 74, train loss=0.821895, train acc=0.606250, val loss=0.952015, val acc=0.722222\n"
          ]
        },
        {
          "output_type": "stream",
          "name": "stderr",
          "text": [
            "10it [00:00, 325.94it/s]\n",
            "2it [00:00, 638.79it/s]\n"
          ]
        },
        {
          "output_type": "stream",
          "name": "stdout",
          "text": [
            "epoch 75, train loss=0.832808, train acc=0.581250, val loss=0.817219, val acc=0.722222\n"
          ]
        },
        {
          "output_type": "stream",
          "name": "stderr",
          "text": [
            "10it [00:00, 289.54it/s]\n",
            "2it [00:00, 914.49it/s]\n"
          ]
        },
        {
          "output_type": "stream",
          "name": "stdout",
          "text": [
            "epoch 76, train loss=0.817471, train acc=0.606250, val loss=0.694917, val acc=0.666667\n"
          ]
        },
        {
          "output_type": "stream",
          "name": "stderr",
          "text": [
            "10it [00:00, 314.27it/s]\n",
            "2it [00:00, 343.96it/s]\n"
          ]
        },
        {
          "output_type": "stream",
          "name": "stdout",
          "text": [
            "epoch 77, train loss=0.860984, train acc=0.625000, val loss=0.391634, val acc=0.777778\n"
          ]
        },
        {
          "output_type": "stream",
          "name": "stderr",
          "text": [
            "10it [00:00, 364.85it/s]\n",
            "2it [00:00, 796.64it/s]\n"
          ]
        },
        {
          "output_type": "stream",
          "name": "stdout",
          "text": [
            "epoch 78, train loss=0.809834, train acc=0.562500, val loss=0.687650, val acc=0.722222\n"
          ]
        },
        {
          "output_type": "stream",
          "name": "stderr",
          "text": [
            "10it [00:00, 330.78it/s]\n",
            "2it [00:00, 694.65it/s]\n"
          ]
        },
        {
          "output_type": "stream",
          "name": "stdout",
          "text": [
            "epoch 79, train loss=0.786476, train acc=0.637500, val loss=0.859783, val acc=0.722222\n"
          ]
        },
        {
          "output_type": "stream",
          "name": "stderr",
          "text": [
            "10it [00:00, 332.24it/s]\n",
            "2it [00:00, 497.01it/s]\n"
          ]
        },
        {
          "output_type": "stream",
          "name": "stdout",
          "text": [
            "epoch 80, train loss=0.815493, train acc=0.600000, val loss=0.732908, val acc=0.722222\n"
          ]
        },
        {
          "output_type": "stream",
          "name": "stderr",
          "text": [
            "10it [00:00, 346.62it/s]\n",
            "2it [00:00, 740.26it/s]\n"
          ]
        },
        {
          "output_type": "stream",
          "name": "stdout",
          "text": [
            "epoch 81, train loss=0.794597, train acc=0.568750, val loss=0.564982, val acc=0.722222\n"
          ]
        },
        {
          "output_type": "stream",
          "name": "stderr",
          "text": [
            "10it [00:00, 362.33it/s]\n",
            "2it [00:00, 787.07it/s]\n"
          ]
        },
        {
          "output_type": "stream",
          "name": "stdout",
          "text": [
            "epoch 82, train loss=0.844424, train acc=0.593750, val loss=0.539533, val acc=0.666667\n"
          ]
        },
        {
          "output_type": "stream",
          "name": "stderr",
          "text": [
            "10it [00:00, 372.23it/s]\n",
            "2it [00:00, 833.94it/s]\n"
          ]
        },
        {
          "output_type": "stream",
          "name": "stdout",
          "text": [
            "epoch 83, train loss=0.751948, train acc=0.612500, val loss=0.543970, val acc=0.722222\n"
          ]
        },
        {
          "output_type": "stream",
          "name": "stderr",
          "text": [
            "10it [00:00, 319.44it/s]\n",
            "2it [00:00, 585.80it/s]\n"
          ]
        },
        {
          "output_type": "stream",
          "name": "stdout",
          "text": [
            "epoch 84, train loss=0.731280, train acc=0.612500, val loss=0.605400, val acc=0.722222\n"
          ]
        },
        {
          "output_type": "stream",
          "name": "stderr",
          "text": [
            "10it [00:00, 250.79it/s]\n",
            "2it [00:00, 916.29it/s]\n"
          ]
        },
        {
          "output_type": "stream",
          "name": "stdout",
          "text": [
            "epoch 85, train loss=0.796037, train acc=0.625000, val loss=0.370600, val acc=0.722222\n"
          ]
        },
        {
          "output_type": "stream",
          "name": "stderr",
          "text": [
            "10it [00:00, 340.04it/s]\n",
            "2it [00:00, 740.59it/s]\n"
          ]
        },
        {
          "output_type": "stream",
          "name": "stdout",
          "text": [
            "epoch 86, train loss=0.764536, train acc=0.656250, val loss=0.481989, val acc=0.722222\n"
          ]
        },
        {
          "output_type": "stream",
          "name": "stderr",
          "text": [
            "10it [00:00, 314.10it/s]\n",
            "2it [00:00, 666.45it/s]\n"
          ]
        },
        {
          "output_type": "stream",
          "name": "stdout",
          "text": [
            "epoch 87, train loss=0.740291, train acc=0.600000, val loss=0.878683, val acc=0.722222\n"
          ]
        },
        {
          "output_type": "stream",
          "name": "stderr",
          "text": [
            "10it [00:00, 320.61it/s]\n",
            "2it [00:00, 671.95it/s]\n"
          ]
        },
        {
          "output_type": "stream",
          "name": "stdout",
          "text": [
            "epoch 88, train loss=0.790764, train acc=0.600000, val loss=0.952518, val acc=0.722222\n"
          ]
        },
        {
          "output_type": "stream",
          "name": "stderr",
          "text": [
            "10it [00:00, 365.56it/s]\n",
            "2it [00:00, 893.74it/s]\n"
          ]
        },
        {
          "output_type": "stream",
          "name": "stdout",
          "text": [
            "epoch 89, train loss=0.746116, train acc=0.612500, val loss=0.602974, val acc=0.722222\n"
          ]
        },
        {
          "output_type": "stream",
          "name": "stderr",
          "text": [
            "10it [00:00, 351.37it/s]\n",
            "2it [00:00, 811.20it/s]\n"
          ]
        },
        {
          "output_type": "stream",
          "name": "stdout",
          "text": [
            "epoch 90, train loss=0.756735, train acc=0.606250, val loss=0.821766, val acc=0.722222\n"
          ]
        },
        {
          "output_type": "stream",
          "name": "stderr",
          "text": [
            "10it [00:00, 327.66it/s]\n",
            "2it [00:00, 877.10it/s]\n"
          ]
        },
        {
          "output_type": "stream",
          "name": "stdout",
          "text": [
            "epoch 91, train loss=0.788933, train acc=0.593750, val loss=0.441347, val acc=0.722222\n"
          ]
        },
        {
          "output_type": "stream",
          "name": "stderr",
          "text": [
            "10it [00:00, 361.18it/s]\n",
            "2it [00:00, 767.20it/s]\n"
          ]
        },
        {
          "output_type": "stream",
          "name": "stdout",
          "text": [
            "epoch 92, train loss=0.757434, train acc=0.612500, val loss=0.567444, val acc=0.666667\n"
          ]
        },
        {
          "output_type": "stream",
          "name": "stderr",
          "text": [
            "10it [00:00, 288.85it/s]\n",
            "2it [00:00, 812.61it/s]\n"
          ]
        },
        {
          "output_type": "stream",
          "name": "stdout",
          "text": [
            "epoch 93, train loss=0.740436, train acc=0.562500, val loss=0.635248, val acc=0.666667\n"
          ]
        },
        {
          "output_type": "stream",
          "name": "stderr",
          "text": [
            "10it [00:00, 278.17it/s]\n",
            "2it [00:00, 867.49it/s]\n"
          ]
        },
        {
          "output_type": "stream",
          "name": "stdout",
          "text": [
            "epoch 94, train loss=0.704357, train acc=0.618750, val loss=0.645390, val acc=0.722222\n"
          ]
        },
        {
          "output_type": "stream",
          "name": "stderr",
          "text": [
            "10it [00:00, 339.78it/s]\n",
            "2it [00:00, 907.56it/s]\n"
          ]
        },
        {
          "output_type": "stream",
          "name": "stdout",
          "text": [
            "epoch 95, train loss=0.817545, train acc=0.593750, val loss=0.771391, val acc=0.722222\n"
          ]
        },
        {
          "output_type": "stream",
          "name": "stderr",
          "text": [
            "10it [00:00, 303.07it/s]\n",
            "2it [00:00, 578.09it/s]\n"
          ]
        },
        {
          "output_type": "stream",
          "name": "stdout",
          "text": [
            "epoch 96, train loss=0.715519, train acc=0.643750, val loss=0.467264, val acc=0.722222\n"
          ]
        },
        {
          "output_type": "stream",
          "name": "stderr",
          "text": [
            "10it [00:00, 270.09it/s]\n",
            "2it [00:00, 776.58it/s]\n"
          ]
        },
        {
          "output_type": "stream",
          "name": "stdout",
          "text": [
            "epoch 97, train loss=0.776814, train acc=0.600000, val loss=0.569015, val acc=0.722222\n"
          ]
        },
        {
          "output_type": "stream",
          "name": "stderr",
          "text": [
            "10it [00:00, 320.35it/s]\n",
            "2it [00:00, 309.05it/s]\n"
          ]
        },
        {
          "output_type": "stream",
          "name": "stdout",
          "text": [
            "epoch 98, train loss=0.803713, train acc=0.606250, val loss=0.440770, val acc=0.722222\n"
          ]
        },
        {
          "output_type": "stream",
          "name": "stderr",
          "text": [
            "10it [00:00, 299.04it/s]\n",
            "2it [00:00, 421.07it/s]"
          ]
        },
        {
          "output_type": "stream",
          "name": "stdout",
          "text": [
            "epoch 99, train loss=0.705765, train acc=0.612500, val loss=0.563239, val acc=0.722222\n"
          ]
        },
        {
          "output_type": "stream",
          "name": "stderr",
          "text": [
            "\n"
          ]
        }
      ]
    },
    {
      "cell_type": "code",
      "source": [
        "%matplotlib inline\n",
        "NUM_EPOCHS=hyperparams['num_epochs']\n",
        "plt.plot(range(0,len(train_losses)), train_losses, 'g', label='Training loss')\n",
        "plt.plot(range(0,len(train_losses)), val_losses, 'b', label='Validation loss')\n",
        "plt.title('Training and Validation loss')\n",
        "plt.xlabel('Epochs')\n",
        "plt.ylabel('Loss')\n",
        "plt.legend()\n",
        "plt.show()"
      ],
      "metadata": {
        "colab": {
          "base_uri": "https://localhost:8080/",
          "height": 295
        },
        "id": "vmi7RSo_MEzI",
        "outputId": "fce2a3e0-5eb1-4bbc-d46c-25466e67f1da"
      },
      "execution_count": 46,
      "outputs": [
        {
          "output_type": "display_data",
          "data": {
            "text/plain": [
              "<Figure size 432x288 with 1 Axes>"
            ],
            "image/png": "[encoded data removed]"
          },
          "metadata": {
            "needs_background": "light"
          }
        }
      ]
    },
    {
      "cell_type": "markdown",
      "source": [
        "Neaplicand dropout dupa liniaritati, graficul pentru loss arata in felul urmator:\n",
        "![loss0.png](data:image/png;base64,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)\n",
        "\n",
        "Se poate observa cum dupa ce am aplicat dropout, s-a stabilizat loss-ul"
      ],
      "metadata": {
        "id": "E_yPuTwlRfpE"
      }
    },
    {
      "cell_type": "code",
      "source": [
        "plt.plot(range(0,len(train_accuracies)), train_accuracies, 'g', label='Training accuracy')\n",
        "plt.plot(range(0,len(train_accuracies)), val_accuracies, 'b', label='Validation accuracy')\n",
        "plt.title('Training and Validation accuracies')\n",
        "plt.xlabel('Epochs')\n",
        "plt.ylabel('Loss')\n",
        "plt.legend()\n",
        "plt.show()"
      ],
      "metadata": {
        "colab": {
          "base_uri": "https://localhost:8080/",
          "height": 295
        },
        "id": "N3bgJbwmMHIs",
        "outputId": "0e1c1cee-ea88-49df-e266-cc2eb2c5139b"
      },
      "execution_count": 47,
      "outputs": [
        {
          "output_type": "display_data",
          "data": {
            "text/plain": [
              "<Figure size 432x288 with 1 Axes>"
            ],
            "image/png": "[encoded data removed]"
          },
          "metadata": {
            "needs_background": "light"
          }
        }
      ]
    },
    {
      "cell_type": "markdown",
      "source": [
        "Acurateatea inainte de a aplica dropout:\n",
        "\n",
        "![image.png](data:image/png;base64,iVBORw0KGgoAAAANSUhEUgAAAegAAAFeCAYAAABOw4xkAAAAAXNSR0IArs4c6QAAAARnQU1BAACxjwv8YQUAAAAJcEhZcwAAEnQAABJ0Ad5mH3gAAO2BSURBVHhe7J0HnFxV2cbfKdt7303vIQkh9N47qFgRBVQURVCxF9TPjlg+/RSxIYgIiBRBiiJg6L2nkYT0nu19d3anfuf/zpzkZpjdnW3ZlPvwu0x25t7T7/uc5z3Nc/TRR8fEhQsXLly4cLFHYReCfuGFFxL/cuHChQsXLlyMBY455hj99Or/Xbhw4cKFCxd7FFyCduHChQsXLvZAuATtwoULFy5c7IFwCdqFCxcuXLjYA+EStAsXLly4cLEHwiVoFy5cuHDhYg+ES9AuXLhw4cLFHgiXoF2MOQKBgLz00kuyZs0a6ejoSHw7MBobG+XVV1+VTZs2SW9vb+LbvRtvvPGGLFu2TNrb2xPfjB5aWlp074N169ZJd3e3xkkdUKb9leeWLVvktdde089wOJz4dmgIBoOycuVKefHFFyUWc/dMGknwLj3xxBOyefNm6enpSXzrYm+CS9Au0kJDQ4Ns3bp1x4Vxdv5dW1urRj4ajSaeSB/Nzc1y/fXXy2OPPabhpItVq1bJn//8Z3n++ed3C6HtDlx77bVy4403yvr16xPf7ARkSD7pmEBsyaDs29ratK7SIc633npLfvCDH8i//vUvfWbbtm3y3//+V8u0s7Mzcdfb8eSTT8ovf/lL/aRzlS5aW1u1UxAKhRLfiMbz73//W/7whz8Mqe246Bt1dXXy4x//WDs/tAsXex/cncRcpIX3vve9snjxYv03hhSFlZGRIT6fTzwej9TU1MgXvvAFOf3006W0tFTvSxeRSER7+5mZmXr5/f7EL/0DkoIgeCYrK0u83r2/v3nJJZdIcXGxfPzjH5cFCxYkvo0DpXvvvffKyy+/LF//+tfl8MMPT/wSB2X4m9/8RhYtWiQ/+clPZMqUKf2WJYb7+9//vpx77rny7ne/W8aPH6/1CrkXFBT0WZ633XabPPTQQzue4950cNVVV6lKvvjii2X+/Pn6HW2Jjh1xkm8XIwfKFGLOzc3dZ96P/QXuTmIuBgWM6x//+Ee9/ud//kdJ+f3vf7/20PkOQjjuuOMkPz9f78cQp6uIIHmMM4YkXXIGEHNRUZHk5OTsF8anpKRE5s2bpwQMWSer3KVLl6o3gzKhw0S5DgaUfV5enj4/GuWJ+udyKmjioc245Bx/Z+isjpSrn/osKyvbb96PfRGugnYxaKxYsULe9a53qYpDRWHQ165dKwsXLpS5c+equxTymD59upxwwgny1FNP6e8oPIxGdXW1fo9ig2Rxe95///0ydepUmTNnjt7DuCTxlJeXS319vTQ1NSlBnXjiiaoMMTqESZudNWuWPofx5xnG3KqqqnQ8FYU9efJkMe1cJk2apIaK71avXq2ucdzFxIHqR2WQHrwAeAeSgWLHi8A4MemhA1JZWSmHHnqoxk8HAzz88MPS1dWl+cBtjAsfQ3nEEUfIgQceqPEASJawyAfpOvjgg1UBT5s2LaWCRhFt3LhRFSjl/773vU8OOOCAxK8i1113naaPOD72sY/pkAFlQX6zs7Nl4sSJWn6khbQlK2jSRbkzfIHHBLKmbviOOQLkibLkb9L8jne8Q5+js8a4OXnhfkAHgfzQoQCkBbc4dXTYYYdpWvAAzJ49W13txIn3wNYPcTDOTd2TLtoVqnvChAlaDoyTMxxCnTC+Srmg5Kln6oI2mQoQ4LPPPqtxUi+AdkXnknZlO5jc9/rrr8vy5cs1HuqaNnL22Wdr3viduQ+0Ido7f/M9dcb1+OOPa9qoS+oI0qUtcD+dkTPOOEO/wxtBuyHfGzZs0GGAyy67TMuaDhdDHZQH6aJeuYjHgnxT9uSHZ7jPtjPiv/XWW+Wkk07Sd6SwsFDfS+qJfBEXcc+YMUPbBe8UIE7aBvkj39xDPR5//PE72riL0YVV0D7T4L+v/zL45Cc/mfiXCxd9A1L7+9//rkZt5syZajAxPD/84Q/V8GPQePkx8BgoCAsjsn37dlV4GB6MLsSIsWKs7JprrlHFh+EmPMj+T3/6k/6b3xlv5iJc4sQAY0BvuukmNUrEQ9iMp95zzz1KsBAghgvDh+sWw0n6ME6PPvqoTqCBaAmT9GH0IRgMWiqCxhULUT333HNqbEkXHQK+x8hbw8l4OuOzkA7hY0QhTmvEMfQYU9zV3IdBJA0QBup43LhxSmJ0ZJzAiHNxP2VcUVGhBIehJw0333zzjg4GhpROD2VAuWNsIT2+p1NBmZE+4qc8IRHSyhg0ZXPOOedoHVEmDzzwgBp10kc6CZP0Q5g8x78hUzpLtlyIC+IkLuoYg8/vhAGh8xv5gzSoM9oIHQ9+o6xIh+1AESZlSN4haNrJgw8+qM/RJoifNNGuIDPKl/tSgTrAPU9903mhzdh2Rd1QpqSNDhztiDCJHxKmbUBUtkP6n//8R/NEXfA7bYz8QIZ//etftQy4lzoCxEMdEc5pp52m5Pftb39b47D5JE0nn3yy1hdDGTxD+LRh6ov2C6FSBsRJOdGO+Z2/qUPeK9oQZf2lL31J76dzCsj33XffvaMNESZlQHsg73SgaN/UOWkiTD55l6lrOnrUkYvRBfNAgOv3cDEiwPBh5CCLiy66SH7605/KBRdcoIYEIv/Wt74lN9xwg7rEMcyQhx3TTgV6/xgRjMbnPvc5+dnPfqY9eEgbI9aX+xyFAEGg3n/0ox+pAYQkbrnlFjXeED5q7plnnlEi40X44he/qOoLo9sfMEyoMxQOeWEy17HHHqukirF2AmMLoXzjG9/QOA455BAlcww6aUDdUwaQ19VXXy2/+MUv9N94GSDbvgBpYtwxroSBu5jwICiMLcYZ4sSQkj/KgHR+5StfUYUEcXBvOqA+KSuI4jOf+YyWPcqdcsCoW1DHxHnllVdqh+n3v/+9/k25QPakBY8AngbSRGeMdEDIeFGcoF7puND5Ip+knYlslAlkRBlaQNp0pAgH4kPN06YgmL5AnUA0pJWO1P/93/9pmu666y7thNDuIKU77rhDXnnlFSVLJu6R989//vOaXgicjg0Efsopp6hnwP5O+xgsrMeHYSIUNZ1N2iweCtL3t7/9TcOmTdHOIGFAp4e/qY/vfve7eh9li3cqldKl3iFeOg6f+MQn5Le//a189rOf1efxvtCRo0MAidPh5DvKlfZ51llnadtzyXn3wiVoFyMCXlwuXKMoVZQchICCOPLII9V9zd+oFFyZGH8MYV9AKUDkGE8UAIoIw4P6wEBhJFOBOIgLY42RQ/HgHkUF8BwuUwwVpHHhhReqIUNBWtdof0BFEB7543mexT0MKSaTHiSAEsegkybcuXQCMLKknQ4CZXHUUUdpZwKDSLngQu7PCGIk6fBQvnRgUE6Eh8cB5Yh6g+hJE25L4iB+8viBD3xA05nujF4MOYoKdylhobL4pKxQiha4zCljLtJFnZ966qlaf3Qi0gWdO+oJrwfPMseBcoawCI/ypoNjgUsady6dAYgaMoWA+2tXdCbIA22K8CifD3/4w/pv2gaqk3ZiJ8FR1pSrLUPySplTj9QbbYh2xu+kmbQOFuSBNFFn1C95oC3SqaNd8DdlTj6B7UjSSSD9pJN4aTcQPeqZOkgG6aYDc8UVV2j7pD3SniFfwuLdIgw6fJQDHQc6gOQLBU4eXexeuATtYkSAEcEoQA7OnjYv+D//+U9VkihrLnr7b775pipajHIqYEgxhpAiZI3hhyC4H0LCiKQC92FQMeykyRIpCh8VhvElTYRFWrmH8DGEPNcfiBO3Kyrlox/9qBIeyhSViHJ3qnoIjPDIB2VBPgB5Ji0oYAwkaSB+7iMNlCHl1xdIL2k/6KCD1KWKa5nyYMwTIwqJAEgYrwEuTggI8v/5z3+uRpfn+ip3JzDY3Ec9UK7kg7SRZtJqQZ6efvpp+d73vqdq9vzzz9d/k6bBLO+h/KgfPik/yoI4KRs8KZQTBG5h74Gcuc+2D1RwXx4Wyh4ywrNAHZJW1CQdCTqNtBHKBw8B5Ef4lDnhEz//plxoC5AhpGV/J53cM1jQTrhsOAAXO+r18ssv13ZGRwDFjsq1ZYqniPhJh42XMEgHn8mgjULQqHLyTN6Zq0C7IM90xuj00BEmPXitGPZEQTNu31eZuhg9uATtYkSAYcF4W0ICjA2iFJkkhmFEeaIYIRfu5bu+iAID4yR6Pq3R4bm+jAXxWzIBTqPHc9aQJYfB387ZxamwZMkSzQskh/JA1eC2Rfkk5yXZWNu0EyfpgVQw8rajwbP8xt8DGULCtkusMJyQC2oacsZ7AMmRTi4MOGnEi4EqI27C76vcnbDpTy6X5LJinBqCRrlSt1btYeRt/oCth77A79QdSC4H/ibNzrkB/NtZxpSLLcdU+aMjgwfhH//4h5Ix5cFkHNok5M5z5I26Ih0QPX8nw6aB3/sC6SINzuchf2d5WBCXzTdgmOORRx5RFzZqmPRRpszPIFxb9qSDNA/Ubi0oHzo11A1hkneGjd75znfqZEFUOG2Z9sIERDwSeE9o73hoGF5Ip924GDm4BO1iRJDK+ELQKE7cgRAKrrVPfepTOwwi2N0vPOoPVUTacOFi3FAOTMpBnfQHxuYgQxTLpz/9aR0XxAWP0hpMPjCyuFghCcaNiR8Fw+Q1FGI6BhciJB+M1WLMKU/IGQOLe5LJbISFa5jxY9Qis6qdRDAQcG1CAqhJFD/kQhlhsEm7BR0XiA/1RVzMGcC9j+p1lgth8TdEmQq0IUgdEkGloiIhOAiLcocQiWOoIF7cw3QoKP9LL71UFSozs61aJ312KMOuCKBuyDv1RBjki/KmXAiP70gnBMw9AA8DngU6S6SbfxMefw8EFDJpRPGicr/85S+r54nhC2eHhA4Z8TEkQBkB4qFtp+o8ULZ0kiFoPB3sW8D8C9s+8MDQ9ugYQ968qyhoXPjEQX04O00uRh8uQbsYNWDwMCgYZowYxh2SYwYuJDIWgKAZfyNdzGbF8DM5CNcfZJmqo2Fh84KRgvwwzkyiwnANBrjdMYAYfiZSYYyZnMPkKNyW/aXBAjXFeDXlyOQgFDIdBdQfF+nkwlhDJOQRIseApwsIgM4IHSwmaFFWuIchZNJuQTyUDSRGuZAXq+ydoPMAAfI9ZQ3JOzsj5Btio/NBuu+77z4tYzohlBFxJG/OMlgQhx3yIK0MtTAEA3FatYtLn8lwDB+QDzpydEBIB88wH4LOEESKGqdjRTohMT6Jgw4AeeA3vucirIE6gYD2RRshvxAwZYU3hLBsBwAwbk09EC5pY9Ic+WGs2XmfhR2zZ3IieSOt3MszhAHJExdthXbJb5QLdUaHhHJLp226GDm4BO1i1AAZfuhDH1J18utf/1rOO+88Hb/FyKKSxgooJibGMEbKTFlmCWNMUZiQTV9gxi4qBncfz6M6MF7JM5EHAoYXY8n4H6qLmbSEBUFAYna8uj9gKFm+gxrCGJM2lA4gPe95z3vUpcksdibuMZ6JcR6MgiYdlA+zqZllzr8hMztxywIvAn/TwUCx4ykhL8kTpkgj5cuY5plnnim/+93vlFSSQZthHNTWD54KyoV8DGWWtAVtDlcxnSM6NUwkZAMeFCPh20lQKGTGfGkn1DXpsW2Xzg71xzpmZvOzxAk1CqGTL1QyHSTSTztnJjiT3VCrdKrSaSvcQ/i0DZQzZUVZkH7CsMAT9cEPflDTT/gQNh4B7k3VEWNSG+PZeDfYXIg2wgQz9jOg02XVN50w6wWhjCBwJssRvh2qcbF74G5U4mLQ4CWmlw3JYNggC3ra9MhxoVnyhbxwtfG9VSh25iyGGWODWw11jTrABYdxxAgwnsmsWjvbFBAv43K4H4kXBYNrmme4CIfnMDTMKIagAO5ZVC4ETPxWAfMsYUJEuOJJAwSMcUo1YxW1h5rkIg7IDoWJ8iAulB9lgYIk76SJPAHyT9ow7qgr+x2Kik/yTLng2qX8GHu0+e4LqGcUD5+MFdIRggDJH8YdpQp5kxbCIi2MVVN+pI3fqBvKkr9RwKSRcuUe8kc4fIerl/zT6bLlyjN0CviefFAuKDoInLism5VyAcTHPXgJAERE3DZO1n5TfoRH3XMvbl7KjHgoa+Inf+SbuuNvyg0QNwRJ3VGPqdQez6KGCZ/77SQr0mTjoD1wn00raaAMaTuES1nyOx4A2jHpsGVMWqg7fofMbVuBRG2Zcx/eCZ7hPaLeGE5wdsxs/u3MasqJ94eysOUO+J32TXumvIkHhU941Cfh26EP6oV7qCvCJ92A7/Ea8D7yO+GRb/5tx63JF2GmKlMXIw86kcAlaBf7HSADiAfjjPHBEKIoIHGULIqlPyXtwoULF6MJS9Cuv8LFfgcUJ8qCMU5ctrhmUUIoOjwAViG6cOHCxVjCJWgX+x1w/eGGRjWzJvuuu+5SVzvjebgH3XE2Fy5c7AlwXdwu9jswlsf4GmOQjAMyroZLmzFX17XtwoWLsYbr4nax3wIXNuPPTDBiWQ+fTNBxydmFCxd7EvYLBY1SYtN9PgezzMSFCxcuXLgYSbAqgGVrLMXrC/vVLG4KhPWULH9gcwcXLly4cOFiLMCmM6ytZ+16X9ivCJr1fmwmwCJ+Nphw4cKFCxcuxgJsr8q+BWyj2hfcMWgXLly4cOFiD4ZL0C5cuHDhwsUeCJegXbhw4cKFiz0Q+/0YNOtg2fuXdbHsn+vCxZ4A1mazHIy9ld2dzVy42HcwmDHo/Z6gIWYOO+BiAwsXLvYE2M1TOHSCwwxcknbhYt+AS9BJ6I+gOQWG9dFsVGFPD3JPbHExlsCrYzuOnNDF6UWpTtdy4cLF3oe9YhY3xwZyVi3nk3784x/XA8T7AscCcp4wGfrEJz4hN9xwgx7lNhLAvY06gaD55GIvZvdyr7G6aIO4tjkk3x16ceFi/8WYETQ7enEGKWcKcyA4JwylAmflLlu2TF5//XU9V5bzgTkL9tFHH03cMTxg/Kw70YWLPQUQNW0SNc3lwoWL/Q9jRtDs6HX22WergnYeVJ4MyJhD2HHzffjDH5aPfOQj6orGHY/7zzVeLvZVuEMtLoJBPIgiy5eLLF0av956izPNOfQlcZOLPgE9hEIi27fHyywdoBVra/eM8h0zgkY9T506VckZtdAXcGXX19fLiSeeKLm5uVJTU6MHHHDgPuq6r4ld/N7Q0CCbN29WksdVuDeSOQq/vb1d3fxc69ev12vDhg07viNv6YD7WltbdWwzHTB2X1dXl/jLhQsXuxvmdZX77hO56SaR66+PX7fdFifqQCBxk4s+AT0Y+pCFC0XefDNO1v0BU/rGGyJPPhkn9LEeXRozgk4XEC0XCtrOZIWoIXYmePVF0K+88or87Gc/08lhjF1z/m+6RLYnIWDewgceeEC9B1znnnuuTnR7z3veo39fdNFFsmbNmrTGKSF2zj5Od3jg6aeflu9973vuGKgLF2MA9ITRFvLd74r87nciN94YvyDrW25h+C9xo4s+YahDyfmXvxS5/34xgiPxQx+gvO++O17ezz/P2fGJH8YIezxBA5SvU2Vb119/xMF49WWXXWYq5pfyk5/8RMe698ZxZpbYnHbaaTpJ7le/+pUS85lnnimf+tSndnxnDwAZiEgnTJigh4b0d4qKE0cccYRu6L4vu1opM3eYxMWeCPQEKg6Hl3nt5Q9/ELnqKpGSEtfFnS4oI9zVlOG2bXhkEz/0gZaWuNeC+xsaxl5B+4zR/n7i3/1O+x4NhE33hMlhDz/8sBx//PEyffr0xC87sXbtWnVRQy6TJk1SkmXGN6oRouIsX6usnWBZCm50TrDi81//+pcSzowZMxJ3xIG7F/JnxuyeCNLGmPv48ePVvU95UAbkjzF43N/Pm64eHgLyggv7zjvv1O9efvllLd/y8nK9n6GCpUuX6ulelBunqrzxxhs6o55/cz9eBtbeMot4+fLlqqIpN4YauIe/Fy1aJP/9739l9erV6smgfFmqRp3ce++98uSTT+rEPxQ7cwWou+R5BqSbsP79739rWkkDEwepB+LGvc6ztA0bHumeOHGi5vO5556Thx56SJ555hl9tqioSNPAhMKXXnpJZs6cqe2C/JJHPBGUw+23367tZ+XKlRoG5LzNvLn8G88CzzLngXtJCwROud1vut+k49lnn9VhBdLIxEWGUIiH+ImDMuJ3+91wQNzUJ/XvHpO6/8G8AqYtinmfRc4/X0znOv79K6+IaX9i7J+YdzX+nYvUoAyNqZLFi/G8irELInPnJn5MAWMWjE2Ju8UPOEDk8MPF2NvEjyMEbFplZaUceuihiW/ejj//+c/6uccraMgCMsFAY4Axzhh3gBFNRc5DRTQWlTcb3pSnNz4tC9ctHNXrhS0vyOa2zYmYBw+I4T//+Y+6vzdu3Gh61G1KapQPrn+udevWyauvvqoXYDwZgoFgITsIEOJZbFpvrelmQsi33HKLPgtxUeZ///vf9d88S8OCFCE0xvf5G/KjPugI3H333UqQ/A4Bcu99992ncwWSwfI20kw4hA2ZP/bYY/oJ0dER4Vk6HhAkaYKsSAuEDKHSQeB5fifvxENe6DzYoQ/uoQPAJ4RHh4DOGnnlftvJIf3EQUeEMlqyZIl+R/h0AigriJe/W0w3m3Im3QsXLtS8Ar77xz/+oWkmXBcuhgOaEGoOoJqzs42iMuYOwuC3sVZ3ewMwA+a11rFn3NsDKWg8E4ztG6ox7398mGEsMWYEDUFgDCEaDPL27dv1wmhjiLkw4igmXLioO4ws6gcDiSpDofQ3wWywCEVDcv/K++VXL/5Krn766lG9/vDKH+TlrS8nYh4aICu8EJ/+9KflM5/5jJx88sm6DA1PCC7w8847T++DKPsC9XDqqafKd7/7XZ0h/+CDDyrhpXKXQ2RVVVVyxRVXyM9//nPtPNE54IKUb731VnnnO98pP/jBD+T9739/4qnUQFHjar/00kv1YjY/RArBE7+tb+YQXHPNNfLVr35V04m7nY4ABEweGb744Q9/KPPnz9fhgHRQWFiokw5Zh8/nIYccoulmSIQxffJFJ4aJeHQU7rnnHh0y+fKXv6zxkV68PaSHjg35pw3TLukgMJxCu3XhYjiAKHC5AqNRdiFofnMJemBA0OgDhgtM31rHmPsjXTpEjFtbgh7rMh4zgsZd+JWvfEWJBWP4rW99S69//vOfahC5rGsbVwBuvs9+9rNqJJk0xgSp/R0Qzemnn64dFYiLDg3q7Rvf+IaS7VVXXaUuZ8qxLxx88MHqPscFjqcCckKNplKAuNghJlzadIzoOBEvnSxIleEELsiXMI877jj9PRUgWBQ4bQAS/vrXv64ETQcNJYuSPuecc6S6ulr8fr+69ZkcCBGifAl/7ty5Gj7u38Fshzlr1iwlXAs6F2x+c8kll2jnBq8CrnE6iahoPBGM3dM5sfFR9pQH5YVy5n48DqxMwH2VbmfBhYu+wCuYTNDmVdihoMda3e0NcCpoCBoFzXd9AQUNQUPo+7WCPvroo+Xqq69WF+ojjzyis4sx0sxQxjBzYQAhgmnTpsnXvvY1+cMf/iDXX3+9Kh2+G2lkeDPk4oMulqtPuVquPfvaUb2+dcK35KQpJyViHhrs2Ln1IuBqZRx1zpw58v3vf19++tOfajn2N3udsVQIEOLhguQgz1QKGpKEnCzpWkLkftQ86eByhtUXHn/8cVWeKNjrrrtOfvOb36jqtGFxEZ/NG7Dx8hv/dv4GbPz2eUB4eBmcIM9OAv3b3/6mn1837Y9JhR/72MeUeHmOcCgL0mLjBzaPtGPuw3WOGxwvBisOXLgYLpwu7mQF7bq40wNkjIKmzCg7yhO90lfZMXpqFTTP7bcKmvFj3JLsOYqr89hjj1VigZStErNGFOWE6jn88MN1whLkPBp7E3s9XplUNEnmVc6TBdULRvU6oPwAKc8tT8Q8NEAQkKAlDhQfahBlizJGEUPOqcjWwhIqsKTTF5J/598QGPWEokRtcjFXgE86DJYok4GqR/GTVvalBaST+wkLtWqHM/geEiRcq14JH+XO/fxGWFZFM07Md3gB7NCJE5bILXBjEy6eGoYIcOVTboSN5wYVzzg+6t7GR1r492GHHaZhMG6N9+Koo45ScnfhYrjAjQ1hML+SCU6oZ5eg0wflgzZBFbPQhX4z5bluXd8qmnspdwga78VYl/GYEbSLkQfERceH2dQoVCZTQdijDYgREqMTxdgxk7BwVzPHIFl5WnA/3zNjGtVPWnGt8x0KFNLGdcxMb8J74okn9F7U/pFHHqnDHIytczFZDsJHGZN/CB1FS7jpTNhidQCkzLAL5cZkMAgY4EqnAwkB2/hQyrjZIWiGYCBxSJuOJB0Opzp34WKooNmaV8B0+NgamQ7xThc3JGKan4t+YF5JncVNORrTJEwLQR0b89gvQXMPz1L2mIGxJGmXoPciQF6oYsaAITFUJuRg1SCeBTwSbNKC2xaigQghEQBx8Bw7sUF0hIPag9gAKtK5uxtj23ac2fmsBc8SBvcTD6eFMQ57yy236CxrCMvGlQzSSV4gZoY3IETihmB5BjXL+Drh3HjjjTo7mnFeyJcJZXhYWNL0pz/9SW6++WZ1l5P+2bNn67OkgXBxcc+bN0/LiXzwHOE7FTTjyyjmv/71r0rsqGjyzfABE77e9773afoYmyY+xs7tjHIUO2WANwh3PWVJPC5cDBeQcGdnXPnZV8hV0OkDcrXjyOY1VoKGmPsiaO6DoFHdlDPPQ9KQ9Vhhvz9uEpUHgUB2ewNQahADF4BorJub7yAk3L32N8D3EKx1FXMveebfgOe5l9+tG5m/bVgMJzifRRWD5HiYEW5/o5PAhD86BxdeeKESoxOkieeJgzBtfKSLMPid+PiOf3MP6Uz1G7Bpdv7GM4DvuQib/Nl/29+5l2fIo00L4XAPcfI9aeUT8DvpsPf99re/1Y4JM83pZPDMSIA0MVmOYZ89dZ2+i9HDvfeK/OIXYjrKIr/5TXwNLyb6j38Uueee+HrdQw5J3OzibWBy2BNPiHziEyLf+lacfJ9/nuFVMZ1xMZ32xI0GmBFjBnStOVt9YsYwD6aPL8wnHcnXb684btLF0GAJDELichINn/wNoXKh5pwToiAUnuF57uXTEo39necs4duw7G/2WQv7PPfjjkZZsnSJmfkstOc3lnqlGpMlfMIjfNJn/23Dt+njN3tPX79x2TTbdNpnbNjkBVAePMu9FjzL9/YZ7udvS7SEaX/n4t+QNR6K73znO+rWR6XTGbFl6cLFcGFd3BBKovnqJ68Bv0EoLvqGU0EzyQ4VXVjIlsfx3/jegr43Y86oZzwWOB0pXyaKJXTImMC1Ji5GBJAWY9DsCMfWpKwrhpxxEfPbvgaIGLc5k8JwuZNnyN1J/C5cDBWQBy5uxlAhjETf1HQa4+PRkEc47Lq5+4OToPFCQNA4SpnJzbxRfregHCFjCLqycleC5ruxgkvQLkYEKEs2/GCDEtZgf/CDH9TJVajRfZG0IGjGst/1rnfJu9/9bl2T7cLFSAFSgJxRb84xaD5tf5d7XBXdNyxBA5TzpElM+ox/zzg05WvhJGNL0JA2bnKXoF24cOHCxQ5AHlwo5uRJYiho4BJ0/4CIUct0aFimxjQYLsqMM7VTETQdIoYUIHLgKmgXLly4cLELmL3NhWvbOQYNQVsFDQHh5naRGpag7TI13NyoY/69atXbCdqqZe7DFZ6dHVfgLkG7cOHChYsdsAQNMSdPEnMStKug+wblw8xt5zpyyJflVmvX7krQuLMhYzo8qG2e4V4mjrmTxFy4cLHXwU5kYncmZhWPNDCwTObZ21Qi5cK+z2x4MVQwe9sS9Fi4uMkDYW/cKLJ8uciyZfFPxm6p8+GCuoX8CGugiW78DpnSznguXXAvz1iCBoxFM1mMmdyUsY3burjxWEDQLKuCoF0F7aJfsL6WbSY5QMIJtsC0Zx+zzrsvsMMWu2Cx8xXratl+kzDtGmYnOIiC05gIl/AHAsctsq0mu3pZcAIVW2eykYeLfRs0oZdf5nzb+LnFIwkIHzfkrbfSpkaGFHYHMOabN4v84x9xUhsMoTgBeXAlK+jd5eKmbjdtiufjppviF0cU80m9DLc+CPu+++Lth3z2B+IyJkz+85/4Np3pgvKxCtrOgoegp06Ndw6cnSg7IQy3NgRNGbM0i/tcgnbRJ9h68s4771TidAIS5NhFzkxmj+i+wHnNf/zjH3XDC3bLYn9rNhFJdYAGpEp4bGfJzlwD4fXXX9d0OTsPnExGB4AOgYt9GxhA0wTl178WefrpxJcjBPp3zz0n8oMfiDz2WFzd7A1A9Zo+s/zsZ/F09/Nq9gvCgTwgCpQcxAycCpryHy0FTdzGTMj114v85S/xTVPuuEPkpz8VeeqpOJkNFahzzBlhsRHIQGFRhmwscu21YsRK4ssBQBx08qyCdhL09Onxf3NohtUhVkHn5OxK0Cho18Xtok+w4wzrbdkS0wkOikANszMae3Cniw996EO6qxrbcw4XkP2SJUtURVuwLSZbZ47GaWN7AtigxO4otr+DYsAFjWIcKhH1BQgC44nhZMbt3uKQsQoao04ehqo0UZWEATmjnu1KRf5tFTRxjRZBEy7lj0L/4AdFfv97ke98Jx4/47fD6TARNh2Qurr4NZBCJQ2QKeU6kNq2sOVPJ6asbFcX94wZ8Y4OKt7mgzTRUYCcLUFbFzdhjBVcgt7DwfpaCBhliluarSVRzLW1taaH2KOnVqGkOVeZ84yvuOIK3cWrLwXLvta/N28b23IC9p7mmEWOWPyBkSsoZ3tQBDtl3XbbbfKpT31Kw/7CF76gcXGwBG5wDsTguFCOtuTsae4n7rtMt/gtY1VxmaOyv/nNb2r4V155pe5lzffk46abbtIwOW7y0ksv1XvuMN30VGnnGfbi5n62yPv4xz8uP//5z/UwDEuYdBh+8YtfyEc/+lEN62dGxqDwccHzLPkkHvLyq1/9StNLufIM+3oDvAi/+93vdO9vzoEmj6zr5jhMtugjrRzCQTopa8L6/Oc/r+VEuZEvdlVj3+4vfelLmg6uBx98UA/1YN9wDv+wZYw34y9Goji/21tAsVNVqBRrDEcKGG3CJA4IYaQ7AKMFiAFDD6nYayjg9eRZVJwTu8vFTbnb8mf98JFHihx6aHx2M+fvWOU5FDAiR/4gRQh3oE6GJU/i5Nl08kzaCZuN/SBoq6BxYZMHypWzoa16Jw7aslXQEDrKm+9J61i9mi5BO0DF//e/kFh879vRvIw9VzfPQGCbTPYJZ7OP5cuXKynbMd6ZM2eaXl6R6RHO0OM6zzzzTN1ykpOfIBfn2LAFBIy7m99Q4f81GWaTEc4x5qAJ5+lPfM9OYBxagVLnIIsNGzYo2ZEu9ohm9zDORGYHMToSnJ7F/uaQOGPUnOHN9yeeeKKeGkUeGBPndwgSLwBj48RBeMQPaSaDjUHI63HHHaf38ske2uz3zfPki4M16Liwqxfp5QALDuSwwwF4DSgnnuc3u0UpZWU7BXSCyCP5oIwYiyc95IVn2IyFc6u5Tj31VI2HdJMXOgikhVOx6MBQXvxOvXAqFmUGCUPwlswpDzoRHDayt20TivHGaKISaWqJPt+IwEnQTEyiE7A3ABsyEgQNufCs42waxe5ycVuCxlWMs410QHQ4xswrpspyqIBkLTEPRNDET6eHdoZZIk1cA8HGQXkxhm/LjL/JDxPFqCdeexsHXhp+swoagsZzYTugYwGXoB2goTDuYkSljrmM5mVstBqegcC+0ezxzOlKGH6UL8YfYoEYIW6IACKCgPib35ms1d/YtFWk3MM52xxoccYZZ5iGmbWDKPg3u2VBsIQNeUHujDFDKKQJwoKE2NqTNNj9qyEgyJJJbBwP+eEPf1iJinsYV7eTyCBdvAAXXHCBxs9zqO9kEC4dhsrKSj04gn/X19drWBA1aSI+DqsgL1wQKJ0bCJeDYCBmdjgjLSeddFLaB1CwGxodEfJIR4N8c4IVaadcbAfBSdDk49xzz9V0EB8dJ07J4tAQ0kOHgPRC/JQ3Z6Hb/cL3BmDAMZhW6WHARlLlQj4YWeJBsY31bNp0YRU0toR/D5egUXpOJLu4hxr+QKDcKX9MAeqT15p4TTNVUuMaatyWPIkD8usvHMrRkjL/ts8OBNolYZNup4sb8G+jRZT0qSvaGvfT0eQAjWSCpl27BL0HgMow9t8Y4HhPcTQvtpJjPCQdoNYw7pARE7JQmRAAxyry+cwzz+hEsltuuUVdpZD39u3bTWM2rbkP8BzhQGiQLWQMeUKWHBMJIEBcvxzDyIXyhVwglYFABwD1CZFBkoQJuUJUnFfN74DOBePsdCxQopAV6U8G96N0b7/9dk3LvaaXw7g8acHFTbogTIYE7KEadm9syoH8LliwQMfzIXvu6WsbUpStE4RzxBFHaPig2bAFZU55kxbKiPgpc3uIBp0a8gXIE+XL85QFx3ZytjXuczo9eEBs52pvgVUcfFJcI03QVkETNs3YNMURDX+0ANkwJYNPew0W5Nl2fFIpaEvQEAukNRqwdcqrlHid1D1szJASGcTWj3npF5Y8IWhe9f7yQB5pZ/aedAma+yxBo6BtHgAEzfnQ5I+6ol1B1qSHVxw3tyVoOij8njBXux0uQTtAxX384/Ej3pi9OJrXD38octppiYgHAKoLBcd4JS5RSBr1x/e4k5l5jZpmTJexUty/kM9wJzMxfgwRcowiYf/QJJqwUy3RGiogL6scrXJPlW4IkDFciO/qq6/W8645PnS4aYGsIWRLynwyw92ZBogTkrbeAdQ6Y8mXXXaZjun/+Mc/VrVOWpLJPRl0QtijHJXNuDRh4mHY2wCBoqKs4RxpgsYwE6YFk4TS6BeOOWiOkJcl56E0T5oeJMbnWLu4ics6diAtFDQERl0wQXAoIG+QLHHw2V8nhjziPbGvlSX3geAk6GQFDVmjoNEhELQxLUrQxAFB8z3385wlaGdb3J1wCToJVCgN0vYcR+sijgQfDQjUHkoUBchkJAgElyhkgDrEyEPY3Ifq5fjD/tQzwEWMWmYMmLFoxp0hfsZxrYKFcFCeKF8IH9czys8SGqRlCS0ZpAeliMKlE4Frnk/WdB900EGqGPtCKpIjLahoyoG0M66Mi94SKR4GlC3hk2bAGDJhQeo8g2LFtY5LnDTziaLlOS7KgE86JqlUvAVubNKC+kcZkxZms1vQmSIc3PuANHI/cVImhx12mI5rc1GGjP3vbYB4IOhE8Y84QdOkuHDx8r5ABnsDQUM2GH2Ik38PhUApR4YPUKxj6eJORdAoaAiacWiGHoYCq4KdBJ3ilVfwKlvyBPbZgcB9XKSZkSzsugV54pXDBOGZYRKieV01DkvQPEfZ49RyCdpFv0DBMRbMRC7c0pCUdeXinsYF/vTTT8v//d//qSpjMtJA45kQFu5mlkPhuv7f//1fnbkMsVqlyNg35PHb3/5Ww4aErMoFPM9YKjO5mZ1N5wDyAqQNhc/pVqjFX/7ylxo+pMiYNfkZDCA2OiWQ8vXXX6/5ZCIX8QDSQlrpBPz0pz+Vn/zkJxof7mYm0zEezHnV1157rc7+xjMAgRMuLmbWizOb+6677tLOiC2DVKDMGXvHq0C54NlwlsvZZ5+twwVMYLvmmms0PdwD6UPodHiIl7KnjNMdC9+TADk4FTQuwJEmaDoBppj0gAPiwpjuyaAsKAcIhH+T/qEQKC5dS9DJrwnNjCbPJ2U0lA5AOnASdOIVU6I2TVddxqRxqARtVTCESPn05wmgHCx5Akg3XQVNuLaD5xw94tWuqYmXLflg8xPiIM+WoLmHTy7S6xK0i36BCmSSE2uMmeDERCVIGBVnZwlDjhh+JiahtnkG8mZiE/dxP+oNlypjwtwLWRIWCpX7zz//fB1vheRRghynCPgdlUoaGPum04AShhghI1QrSpF4GXslbDoSpAWihpghZWZRcw8KGpLDNQ9pER5jtHzH78kgPO4lDZAn9x5zzDG67pp8oYT5m+dJK2oY9Uy4lAEEzSfgN9LDc5Ajk9MgcZ7j7/e+972aR9ILgfIsY9eWhCkv4iXdPAPBEwaT7egw2DKGyFHOlA3p4Hn7SSeAe3iW7/Y2OAkatWGKQY3dSIHwuRgHZGMJjPKerqBJL+TMpyWfoRA0ihFiQqkmK2iaCuQBcRLP7iBoiBnQ/EkTJz3x23AVtAVhkZdUgGQhT0CHhb/TVdDcCwknXlsFNqEn0i2bupdLbkm7eT+jOxQ0YJIY8VDO5L3YPF/X2i7bmlulOzQGLG2MXsxeuxvGuMVaW1tjq1evjq1cuTK2YcOGWEtLS+LXnTDGNGaMamzjxo16L9eWLVtiwWAwZkghcVff6OzsjL3nPe+JGQWV+GYnCKe2tjbxlwsXowfae1NTU+yZZ56JGZUde+CBB7T99wXuX7VqVcwo78Q3ew7MKxj72tdisbKyWKymJhY79thY7Ic/TPw4ArjttljsuONisTPPjMU+/elYbMGCWOyb34yZdz5xwx4IU7Wxv/8dao5fH/xgLLZwYeLHNIE545nTT4/Fzj8/Zuo/8YMDb7wRixUXx2IXXhiLPfts4ssRBvV7/PGx2KmnxmL335/4MoHvfz8WO+qoWOyLX4zFwuHEl4PAb38bi82ZE4t5PPFy+tvfYrHm5sSPSVi0KF7/+fnxdnbSSbHYddclfuwHv/99LHbCCbHYRRfFzPuT+NLAkGxsef3y2DcXfjN25iefic0/vC124onR2Cc/GdUyffTReB2ALVujsaOPD8QmHbIy9s1rX4+tb1kf/2GY+MIXvhC74YYbEn+lhuXkMVXQjAcyM/njH/+4GALVjSRYl5sMxu6YwcuGF2wawUYUbELBDlYoIRcu9gYwq50JfZ/97GeNKpyu6tnODN/bgGJGdeACrKqKq6yRdnGjgFCQzLjFTcnkK1T7ngpUL+rXYjgKGld5Khc3QBHyG3Uw2gqacrcK2oK9rEkDHg2UKjQ7GOAy5jnrOu9PQVOmtCvaAe0MpOPiJg7aj10qZVHfWS//WfMf+e0rv5XHm2+W5Y3LZN36qGyrjWgceIPs/ZFYSNp9642C7pA1ddtkQ+uG+A+7EWNG0KaToKTLzlMYLNOjUBchY6msKbVjmYBxRMb7cKkyk5iLMVieZcMLFy72BjAUwFrqW2+9VWfGswnM3goMKgSNUWNMEqM20gTNRfgzZ8aXJBKfMQVDwqLaRXLDazfIQ6seks6gsd6jAEjV6eaHQLkGCwgacoGEybdFOBqWF7e8KL9/9bfSIy3SEeiWYGh0GDrZxU2Zvbz1Zbnk/kvkhnXfljWBV+TZVUvl63f/Qda3bJDeiElwmoCc6VgwDgzRD+TixsQzo5r5CKQrXRc3YdqlUha4qbd1bJNINGLeP6+Ul/mkviEqL78ekGh2s8S88Q2E1rWsk1uW/EW2hZeIN5wn80qOkENrDk2EsvswZgTNBhlM8kEd2zE7JgExq5UNH+xMXMC97LbE2CZjg0cddZSODT7yyCOmIkxNuHCxF4DxaSaI0dGEnJmo1x8wFHsqMH4QCQ4ADKcl6JFKMq8/cRA++wbwCUGbvvuggTFeVr9Mbl96u6qnjmAaFn4ISCbo4ShoypO5g1Zl0hae2/yc3LrkVnl47UPSHWuW5bWr5cl1z8ji2sUSigyhJ9APqEcnQW9u2ywPrnpQHlv3mATyVog/t11qm3rkqTc2yTMbn5X23v6FUsz8F4wETYciKp1dMR1HZ0oI+bRkmgqWoCFaOoLpEDRhkXbykKygu8PdUt9VL0XZRfLBY46Sw6dPkWCvT9tWc2yN/HXZjXL9a9drW/nHyjulsCQk/miBZMfKpCAz/TMPRgpjRtC4t3H5sS4UNx+TZphUw2Qflv5A3MnAnU1DZTISM2LZ8AKCtktthgIm7PB8qvhcuBgr0NbppNqJZXsaeF0sQWM4VWUZYYpiHC5J8zoTPuSGgiR8LtydQyFoyANF9Hrt6/La9tekJ2QCGgVYgqYscJVSDkNxQdswIGiqHnJbUrdE7ll+j7yy9RUpzimS/Dy/NHd1yiOrF8pdb94lb9S+kXh6ZEAdkB8IOuYNyqqmVfL4+selPLdczj34CJk/dZxkxgqkZVupPLH+SWnr6dt9QvpbA61y9/K75dm1r+uEK7wDEHQ6CpqOHwqaNgAg6P7KFcInTDoByQQdCAWkobtBKvMq5ZQD58ncyVWSmeE1RJghhcUheWbLY/KXRX+Rf636lwQinYbAp0q+v0h6A74+0ziaGDOCZiYtBoiZsnZ2LOqZC/J2ki4EzsxeVDQXS2JY8oMRY6mM0x1uAYFzFjLLktj20s7qTQYzcQH3c497udeecNGu6XzyPvS35GusgLGyLm4UNK+RSbYax+ESNGFjmAmHWbWQBDOHvd6YrN9gOuiDjGBrx1bZ3rldjfOW9i3qjoU0RhrkH7XHuLxdOTdUF7cl6FA0JHWddXLbktvkmU3PSE1BjXxkwcUytaJaKnPGy4aWLXL/W/fLfSvvG9E8QYCWoFuCDeqB2Ni6Ud49+91y2VEfkZPmzpGqgjKJtUyTl7a8Ii2BFlMvqYVSOBKW9S3r5aqFV8kNz98tb9Vu0nodSEFTzbZMIVraGa8C5Eva+moGEDr30CaTXdy0gcauRqnJr5Gy4iwNk3H+rAy/HD5jqsyrnike85/f55fz5rxTTp23QEryCjQ8OqC7Gx5miiX+rfsV7y6gklkfy+f//M//mN5Rue4hzXeMOX/jG9/QZToAIuc71upyP6TOMiE2emDdKktv7HpYCyafsQ6VzSIgZjaO4ASj8847L3FHHJA8LnTUvKuiXewpgJQhZ7tJjO3E7gnAMLKX/Pnni3z0oxyJKvLEE/HTgTg7mKH1pNdxUICg/u//4mdNf/3rIu9/f/zft9wWkdy8iNx3X0yy/Km3aU2Fh1Y/pG7LB956QHIzcuWpS56SBVULJMM3jESmAGXy29+KLF8e72DMnSvykY+IXHxx4oY0gC656KL4mu8PfEDkvR+plVsW3SLXvXKdzCmfI5869FNyUMYH5DNXeJT8M46/VsKz7pUJhRPktvfdpuQyXJAGzqs55hiRSy4RqTrxQVnkvUFWN6+Wez94r0wtmSq335ItN/01KEubXpOO950q/7zwDjlt2mmSn/n2Nf1N3U3y2PrH5GP3fUymh94rzY9cIbOyTtD8fe1r8Tb0yU+KHHFE4oEE6CTcfrvIl74kctll8VO17r8/3rZ+9zvbaUvc7ABp5zxuNlP5yU9EDj883uEB96+8Xz7/8OfltKmnydeO/Zq8/NAcue66+Froz3zG1NfHghIpWqNj1dPyD5Tnns6S737XI8cfL/LlL8cnyA0XnIrHcC2n8vUFloyCMSNoCJdTlxhH/vWvf62GiB2wIGjANopMqgEQLCTNXseoC/6GnNnykb2n2U86+WVl8hikyw5WrEX99re/rcf/sYmEE4QFSXMNx1XuwsVIgvbs8XiNMfLvUeQMUC8cKMO2uBhPlq3zt+lf60ltBx8cn+CUDIjdoj9uZX2tMQny0EMi3/seG7+Y8Be2yY03eGVrXa987VevyvsPP0GKcvvejQ7wOhPP9a/9UW564yZ5Zdsrku3Plrs+cJecMPkEKc6O25eRAuRB/lGEdDLY0//CC+Mkly5I87nnxssKYj/4zKXyvjvfJ2W5ZXL54ZfLu2a/S1q2lskXvhD3YFSccbMEZv5N/F6/PHTRQyNC0OiUV18VOeUUQ5yfCsvWGVfLxpz7dZLUtWdfq52ch//jlRtvjMkDL74pkYtPkx+e+wX50PzzZWbZzEQoO7GmeY3csfQO+dEzP5L87edIz9NXykkTT5NLL423ofe8R+TTnxY57rjEAwngyubUv+9/X4xgi5fn3/4WL9+f/zzeMUzlXOLkWDp45OPaa+Pr6LkPzwnDAV955Cva0bn00EvlrRen6dbLzz0nhiNMZ/ADMamo7pVILCLeiBGBb3gMocbj+vzn4219uBgMQY/Zm89GGChkdn5iuRQkCmnjlmYLSlSDBcQJgXJcIRPJUBe4wZlY1tchA2y6wYYSbKTBMyjuVPfxHRtW4Opm0o57uddYX01NOfLww9nyq19lmg6mdxdiG2ngtsOY/eMfIuvXJ74cABA0bkdeJ1yIjA2ybSIGkWVQffVzCR8D+6c/xceX+8oX4aNAMaq4Qumf+IvqxJvfLE1tvfLk65uku6d/3zGzvVFRkOZLKzdJe7Bdxx3pkG/v2C5dQWPlRxi4YylP3Ka4uSmHwUwSozxQjbhoUYnZuWHp6O2QDW0bZGbpTJldPlvKcsq0POgAoaDz/IWS5cuS1p5WdSWPhJubNFMHpKc+uFk2d66TgswCOWv6WZKTkSNe03GsrmZHPY/EgnlS0LVAlm1bo0MJqdDS0yJvNb+lLvCONq/0BryafsqJ+qWuk52XS+uWyt2LHpKFK16SnkiXvNLyH3m87i7Z2LVC1jdul9tfflj+veohaQq8fd3d1vouaWnvVfd8SQmbFcW/pyxxxYPxBeO1s8bSLQ4uoq2Rnuwsj36fl5Enfp9Hx76pCzoFtPndjTEjaIiVnZ1Qv5yPi6uacWW+ZwmVHTuGiCFv/v3AAw/ofRyawL7RbCO5N26T6MJFf8BVzHYAt94aNwqjSdCMrREPajXdCVg8A4lYgsawQdAQBmuVIZlU4HhV8woraVoCSAV+g+xwS1qCDmZvk3BmvXR2h2Tp2hbpCfbNfIRLGd5wg1He/wnLkrV1SmLzKuYpgW3r3CZdoZEnaNINQdNhMf0sTcdgCZowuCCwjOygzjhnFvr4wvFSlBVfM0+5Ez7lnesrVEWLS5bJcNw7XJBmyh+sbV8mXZF2mVE6Q46ZcIySM4DY2ILVH82TysCJsrJ2kxJ0qnFoOg+oaNIZDRRKNJRh8hfTsV8mAULQXE4sXL9Q7nj9X/Li2uXSG+uWN7ueklfaHpLtvetke2uzPLj4Obnp9b/I1vatptx2bUirNrVJXVureLI6zNVpyiv+e1tvmxI63oZxheOUiMkDYvXUU+P7jNOxsqDdQdB4hFhJQJnvbowZQaNcUcQXX3yxTvq65557TC+lS7exZFtHxqMZb2bsmLFhlDb7J3OKEQc2sEwFd7U9GtGFi30FuPYYg2Q2Lz33vghvuEDhoVw43AG3croKAYImbeKJSiynSbr8m6XX26KG3bk/dzIYE+SCxMhXX0qb8CEIp4Juj22Vjlid9AYjsqW+Q9p7unRdcCoQP2W4eXNMVq0PSG1Lh6rnI8cdKZnezFFR0OSFdEOudFgw5oNV0KSbOuA5nvdm9O5YElaYFVfKwCpows7zF+hvlAXLh/oqk8GAcMkHWNvxphSaxBxcfbBMLJq4w4VOJwQVnevPk4rA8bKlqVk2tW162xpzOgzNgWYl0hklMyQnUiM+yZKsnIh26qhf6toqaDpQ5OGZjc/Im1s3SE9XhmT4DVfU5Mm0cYVSXJAp0bBfWppF/rPmYZ30F4zuKr9XU+cdDdKTtUkag6bTYP4DzDRv7m6OE3TBOMnyZ2kezjorPr48f368o2lBObNKgbHyd7wjPqltd2PMCBow2eu0007To/vYYYnDCtgbGnfzRRddpJs6cKAA7nD2Q+bsXSZ+/fGPf9QdxZgYlspt7cLF3gwMJOrIKqrRJGiMI/GgYIgzHVgFHYr2ylN198p1i38sz2x7WA1afwQN+VhitvGmAnkmPU4F3RjaLK3hWvOsRwKdflnfslFdlqlA2Ep0JvyGlm4J9IalKq9K5lfNl6r8Kqnvrh9xBU16KRfyDnmhG8jfUAiaTwgYgrbri5WgDaEATB6/Q2ooaH5jtndtV+2IrIcmzZQhaI/UyUHVc+TYCcfGv0iAGdKoy+qKLPE2zZFwL3WyXtY1r0vcEQeEzSx0xn/Pm32elHtnGML1SWYuSwjf7uJmOBOlW9dVJ6W+STItd4FU5pfLr9/7P3Lzh66Vd807XSqya2RO/rHajiD+5CVeLbUF0h1ul/asFbK2ea2GCbgPBe3z+pSgs32mEA2or8MOi89Yd4Jypg0azSjHmuzbncx2J8aUoAEEyyQYu97TEq7z36Cv+1y42NeAgbYEbY3+aIBwCX+oBB2OhWR553Py4vanpD60wai+WL9j0JAP6pnfiW8ggnYq6LrubdIc2m7+HZNIb64sq12uyiwVbPoIv6UtLLGIXypyK2Ra6TSd7cwym5FW0Ch28sZ45XAUNOHwyfOeZIJ2KGh+J2zGoFVBR8JKhBD1cEG41AHl580IyoyKKTKrfFbi151AXU6a4JOGTaXiDeergn6r6a3Er3EwnLC5fbPk+HPk8HGHS5l3uo7tSmbHjvp1EjSbmbzV+Ja67P2RYsmMlmmZlpR4JDPDIwX5HinMNZ2CHlb4eGRj20adJQ4o77aOiARaSiTi65T2zOXqWmfCF4D48UiU5pSqu905+bI/OuG3saKbMSdoFy5c7AoMJBcGcjQVNOFaQ+w0kgMBAkQJ5+SGZVPXW8YIbzEGsUMys6NpKWh+H0hB8zvqJT8/ZtRQp1E+jdITa5PsLK9khstkWf3ylBOEAM+rC96Ez65VJZmVUp1fLSXZJTKxcKIq6JHe7hNy5iLNVkEPhaBV+ZvnUMjiT62g4RXr4kZBs8MVxMw+0yNB0LZdgJL8XKkoKEm5fEoJepJH6mszZJx/nrSYyn0bQXdsU5Wbl5kncyrmSGFsosQ8EYlktBjS46z2FARtwoCgvaF8yYoVKYmjbsk3Lui8nAwJdRUYBZyjLm7bDhj+eGNls7S1x3ToRRV0y9qdBG0UNOHiTcHNPRIz3kcbLkG7cLGHAQOJmsVQD1dBM2mntrNWd9LqCffoGJ8F4Q5VQXd3x6SgOCytwSYJhLvFlxk0V++ACjpdFzfkgxvVnxmT+q66uBvTF5KC3EzJjVbK8vq31DAnTxAClqD5pafbJzW5k9SliYpDQUPOzOqGDNJBb7hX1SmbdaDAUk2ESqWgSdpgCdoq6JQu7oSCRs3xO+FneHIkx5evZINbGCU9XNAOrIt7fGmpFOfm7Zgc5gSrYFkXTHuY4D1CgoEsWd+6Xj0btp1B0OzcBSkyD8AfLJdwrFcC3noJRnt2KGgugCt8VeMq/bc3VCDeaPYum41A0HTSAh05Up1Xo23bEnSgNyIvLmqW1g7TTkoNwRdt39XFbRQ0G5XQWUuVnz0RLkG7cLGHAaNuXdyQzVAJWmcsGwPJJhHsNsVOUM5JRIRL+MSDQR4MQXd1Rw1BByUsQSUsX1avxPxdfSpobCTkw7PpEDT3KMlJRE8RghizMnFvZktOtEo2tGxSxZjqkAbisAo63JMtE/KnSk1iUhATnSB1tp5MV0U3djfK85ufl78u+qs8u/FZHWslPc7OjiVoq6CH6uLGNc+ndXEzzs6YKQrWbqxiFTREjfs+05OrnQ8IeiQUdCjMftnxhE8qqzQEnXqlDAoagiYdZb2Hia+nXPfsZltS2oRd0kYeZpTOFJ9kSDiQJ6FYQDo926UxUC/5BdG3KeiVTSu1Q5IRKZFwyKezva2LGYJGTXe2ZcrM0llaN7i4qYve3pi8saxbOrp7ZWKNIfAqr2xq36SqmclqEDSdVHZjcwnahQsXQwIGGsMOgUE2qQgvHaAc2CLymmeukd+/8nu5d8W9qiAsCJfwicdpJAcCz3R0RSS7oFM83rg6kYyAhLztuswqmZQIH0JGPRMHxEV8fJ8KlqDVTWwMPR0LCDEn2yvFeTmSFSk3qjakxhdSSgbPQ3TGrJsI82Vi3nQZl1+jBD2pcJISHYbdrokdCLhcb150s/zyhV/KRfdeJD977mfy+rbXd1nS5FTQw3FxEw7PKQH7e6Uz1KlrkDN9mTtIBYKGwPmkU+WXXCnMLhwxgu7uDUlDe6fWz5TyainNMzI3BSBolh+RDl/7dMkK1Whd0c4oG9JCB5E2N6tklmkDrIH2S8QbkPbYFtnQvlby8mOaB9su7Bg0e35nRkv1exS0JWhW1eJZiRP0bF1jjYImvqAJZ/VbXumONcmcyeVy0IQZ6oFg+Rfth+VeTKKrMcrbJWgXLlwMCSOhoDt7O+X6V69XY8kYIEbyxa0v7qI4CdeSIYQ5GAXd3hkSTy7jiEY9e3yGTLol5G/WcCAqZ1jkg521+A0Q70AKGqCWIGg26sCFW5ZfIAW5xjr3GsKIedV9iWJLBs+rggZRv1TnTJLy7BqdtTup2BC01xB0oLHPSWbJUOPe26rqe1rJNHl609Ny1WNXyY+f+bESA+oNYiV/EDMXJEL+BkPQ1INzFjdj0N3BbinJKdExUwvr4rYEnRHLUcWpk8RGYBZ3l6mc7S2tmq8ZlRNMuRsmTgG8BYwhswVnc32mzMs/QceZn9r4lDy76VlZWr9UO0J0HqYVGzJtim9PKpnd0iZbTb2uUwXNZDHKrr0rpJ0m3NbslZ0VeTtB0ybonIR6MmVq3lzJ8GRLQ1eD5j1i1Hb9phLJKGiTSdW5OpwB4XPQh10CxkYr1QWui9uFCxdDBAbaEvRQFDTrYR9a85DctvQ23YzhlCmnyNyKubKycaUaMzv2SrhOBZ0OQUMiPNPW1SuxnHrJy8rRscWc3Jj0+Ov0d8jRqcb5DoK23/E3BM1nKkCwpCmuQo2Cbtuo+agpLpXcHJ9RYVlSlRsffxyQoA2xM9EoU+IqlPFHwoIIUF/pAMPOxUYnVx55pbxn9nu0w/D0xqfV8EOKEDTlB2FBOLhhyd9QFDTPQ/Bh6dHlYMw6xs1tYV3clqB9EHTmSCrooNTjgvCEZUrZOCnNTU3QkCZkOWsWa+m9Mj3nCN1CFZcyW6uylpm2yJaq04tnSXOzV9ObmxeVSEZrnKDzo0r0tIeGtg4tTzqR4/MmSXa0TMsvmaAZt/ZEs6Taf4C694ljU+s2LbvupnIpLTfpHleormw6eChyHSbp7dDZ25D/3rIKyCVoFy72MAxHQTPGtrxhuZ4bDAGdPu10ueigi3SJC2oGkrbrhwnXkiEE7STVvsB9uKoDwR4JZm2XyvwymVQ0yRC0MY7e7UpK7BHNfRaE7/zOEjTfpwJp4p5cQ/qMmeM2ZQx2XHG5Elegyy8zS2Zp/ljCgxF2QjsQ6uKORxAOZhh15d8xlosiRRWn4+ImbLwRLMtin+kzpp8hF8y7QOZXzlf37ZL6JVrmeA0oT8ZLwVAJGgVNHnGVB6NGQRuyg6CdCtoSNBxDO/FLjp5vjEeACW3J5TFYdJuG0NjBgHpQ1XNupmHhPkBa2YGL8s4OjpfDKo/RPbuZ9/DvVf/WU8RwV1fljpemxriCLi3MlIycgBJ0niFoOiS0h7rWdp11TforMifrGcz85hyDxsVNJ8hrcp0fnixZnnwdg16xbaOs3RiQUHeOTJzglYlGQRMv9c0hH3Yeg6ugXbhwMSxgqDHsENhgFTRGmrOBn9jwhJw0+SR535z3KUmzjzOq4aWtL+2Y9Uq4VkFDzhhPSKU/QEQ8E/J0S3fGFplQVCNTiqdIdk5UOrxb9HkmijnJfrAEbdOUZcJEuaKUUWHjiiviBN3tk7ll8yUYDqr7PnmylyroNpM5v/mHJ6p/Ex/AMKOgcPk39+x0cUOykGHyzG4Ij3FMPicUTNDx61lls/Ti3te2vaZhod4oz8T5Pkqw5MHWYzqwBI0qheCJEwXN8jCGESwgq13GoI2CpnzoRHANdzcxtlFt7WRmfq/4fd5+yYyOwpw58bQ3GhWNqv3A3A/ob89tfk5n3+sMel+eNCYIurIkT1Xwlo6Nkp0XEq+PCV4itS1tOgGPzkh+bLxkxoq0vlMpaIn6JNpdIoX+Mq2fRRvXycvLmiQcicnsadkyripLirOKdYtU1kJD0LQT9tiuzK00xOcStAsXLoYAq6AhssEqaMbiNrRsUFfexQddrOSJ8Z5cNFld0a9ue3UXgrYK2pIJ8fYHu1QqKF3S5l0r4yHooimSlR2RNtms4SQraPKRTND8uy/ismnyZvaoQoY8Sfv4knIlhGCPT2aXzDfqqFB3z8KoO9Ftnm/tNBEUbjWBhHchaDopGG3CtAoaxbapdZOsaFihis8JJhYx+zfTn6ljmoxfs6YX9yl7Y7+2/TXpDnfvQtCQiV23y3fp1h/3EQ7kC8FD0IxBl2anVtA7CNooaA7RAHQ6nBMBBwtmXrOeuL2713SQwhpHf4BAZ8+OD0fU1Zm6aS3XPbtPn3q6lhM7tzF2T9tiAiHpHVdWIFWlOdLS2yxhf6spsHBcQbe163AGwxDSUyzh3oy3EbRV0JRVU5NHl9CFY2FZsmmDLF7eab6PyYLZJTKpynQCsgp0UiCqHC8MHTq+Q1W7Lm4XLlwMCZYoIanBKmjWnOJ6zc/IVyLCpQdwkx5WfZiOx9nJRIRr1SogTktkfQFXJs9EvT0SzqqVCcU1Mrl4shTlZ0gss+VtZAwIn++ID5dlfwqa73YSdLduHYlSxWjj4oYIvEZNTsqZK/m+EnXbs8bbgrILmPR19ZoIig1x+4K7EDTKCQXNOCcETdioPI5C/MbCb+jZ0U7gkYCkGb+mPCFoQIcB1/6i2kXS0dspbe1RjdsqaAiavJLndIYOAPfSAYJ8/RmxuKo35F+cU5xyDBqOUYI2Cpr6Bew1jSdgqECNtnS1SzTkl9wcdm5M/NAHyCdj0HQqIGgOKSEtnzvyc3JA+QF6hvXs0tmaNwia8CaWV8iksiqJmG5eQ2SNBGOBOEG3tunGI+qd6M7VeiOfycusUNA2vJqcyaatxGTVtu2ydn1EovlbZXJ1oZSZm5g4x6Q+ypEJa3gj6MjsTbtQugTtwsUeBoyPJWiMVGNni05IeuCtB3RSlHN5TzIgLEgFxYw7z7pGMZpHjj9SjRUuPyYUEY8lQwCROIk1FVB4KGjxBnUW96Si8XGVbiynNzMgGZkRaTGiKJWCRhWigLCPfRE0+SYdkBtLt+xOUCixmqJSNdBM0MqKmn/7ijQ/zqVWdB5IX8RjMlZiCNob0jza9GCcx+WP00MzICPInXJ9ccuLel70eqPGnTOhKUvGutkkhCMK7VpkNt5gTLrZkPzquk1S39K5Y7wUWAVN3smTBap4ce1i+eeKf2rYzrqkPihfSIkOUCBsEm6gY9CeXWdxWxc3nYIMFHRuQkGbMO1zQwG7rNW2N+kGIYX5fpOn/smMPNMp4dAJhj84dIVJeAdWHijfPP6bctlhl8m8ynmaToY+yNtkQ9DjC2skFOuVjYE3pSfaJV2BsLq4ST8EHeqKE3SyguZv2gB5J7yavEmq1Jtaw1K3NUtyK2u1jWX4/UrQ00um63N60pb5z5bT3gKXoF242MOQrKDZNQsS+dNrf5I/v/FneWTtI0rUyeOlKAkUNEuCZpTN2KH2AG7uQ2oOUUXNul5my0IIqoYNiQDiHEhBo/B4hl29vLltMrF4vCro4pxCQ9BhycrtldaWWMoxaIyrneWciqBtfnkWMvcYBc3OVLjrIani/FxV0NzXG8iQXF9crtIpsdjRgfCbCFRBxwna5gty56jB3MxcLSs2IPnb0r/pxDnI3hKyBX9D5JSb7oSVcDXz79lls3XnrkUb10utUX/kzzkGbRW0k6BZ8sOmMbcvu113JnOSKfVgXdxh6VYlTHxMautvFjcu7h0KGoIehosb78r29nrxRXP15CjdN7sfQJzklZOeKGMImjFrSPPcmefK8ZOO17KiHFC8kGtVcYF6I8pyS+Slhv9Ke7BZWjtNR6u1XWehzyo1BG0UNOFRpqy3tgTNjG/KhwuCHpc7WUozKyXYmSc9bUVSOdHUQ05Y6xl39tSSqVqGlAmbudhy2lvgErQLF3sYMGaQNEQEuby+dbEqvGc2PaMbZvzqxV+pkUddOicEYew5CAKi4YB/57glaho1wYQdHZNr26hxOBU0xn4gBa0EHYiKLyMombk9UlNYrcqSWcQZGTHJyO80Cjq+O5SFVdDW2GJk+d12DCxIByqMdKFAPUZBQ9C4t1FDbPEIQQPuK/DHJ0/ZMXWwC0GXbDAsGVRDv4OgUdCmDCgPwn54zcO6ZpfzjnF/4s5GbVnYMV3iZ+zSTpiCNHGfQtzLNm6RBlMwkAb5A6lc3ITz+PrHVT1Tn3QOnId2cK91cYcSBA0x9zUGDWkRtjeapR0wv8+v6cUtDujAMYaPx4R8pQMm5G1vbxB/LE9K0iBoiylT4vW5ffuuHRILS9DUX0GeX8vu+MnHytKWl6Qz0qrlt910chhKYEJj0ChowuF+LkvQwLYjCLoqZ6KU+SaLp9t0nqKFMm1GxNwfb9AQMnMFqDvKkTkDdqx+b4FL0C72W0AIGBVLUKMJ4rDXQMCYYZy4F0W5vnmTEjEuamZlL6ldIlctvErJGsXEfWoc2+ukoatZsry5uu7U5zDqEBNkwnIrVJJu+xmJavg2TekQNGPQvebGnPyQFOUUGPIoUXJmxmxhTrZ4clqkuWVXgib8ZIKGMJPLgr8hXtIBwbGhBSQKoepuWuY7q6C5Lx+CNobXqaAhOH5jm0xv8Vbx+pMUtCkHjHZeRr4px2Xy4Fv/UnL74lFfVA8DRMY4qAXlGzJlX5FbZcrYo3XD5ZNMKckqlxklB8jabW3S1N6tBO10cTsVNJt+QJQQ9OK6xdqJWt64XD8tuJf0E07I0xVX0B6/qj6ngoasrIKmMxMJ+9StTD5aA+3S3RvQMmLN+7UvXitf++/XtBNCcfO9zQMX7cbZUWKSXF17k2R5Co3a9Zk8pE/Q1C8kTF0n1y3ptAqa/B1UdZB8+ZgvyYJxcyQ32yfb2uplc2O9DiXoGLQhaPKna56TkkDe8cRA0AXecikKzZHMzmm6FeyCeVmSnx+nNTpTkPT00unqhaGdui5uFy72AkAgK1eKfOYzIs8/n1Bdo4jHHxe58UaRhx9OfNEPMGaWoAOBmGxo2awG+uQpJ8sXjv6C3HjejbrxyOqm1fLKxqWyYoXIJZeIfPyDFfLgd6+QDb+7Tm74zvGyfEnWLvlCnRw9/mg1gri41zVtVPICGEHitETWFyCQrmBAcgvC6tpGtQF2i6ooLJJwVr00tkQGVNB9ETTpJR0Qa8TXrmtcOYEK9QrpYeDtfUwSQ0FD0Hbtr6bP/Iaar6iIGkPu0fK06cH1SVi5W94pvtcvl6qtn5DLD79cjhh/hB5JyUSiLW07CZqJZO11JbJq4XF6aP+55+68PnfRNNn0+9/L2r9/Tto3zFTicLq4IRhIEJXLWPNfFv1FvReM2TNHYGXDyh0EzX2kkXvphKCgSQv1rjuJOcagCReS45OyIn8MZzAuvvbFA+Te20vlqadi6qr/1+p/6YYhLDNatTYgN98s8s537szDBz8ocs018TAYInEq6DyTDuJIBxA0Y8V04NaufXvdEn5DQzxvpJ180X7+94z/lZnV46Stx3QsTFu0irej3adtUpdUJYF2RDt4802RK6/0yN0/PVPCSz8gOVl+Of6QKikppHcXhyry0tnqMaED4ypoFy72ArDT1GuviTzyiMiyZXZji9HD66/HyfnVVxNf9AHIzKls2PO6qatVZ2Xjtoas2K0JVQAxPb/mTc3H00+LrNlijJwhz862bFn2Sqm8+orXsaNW3FihoDFUqMQVDauVKJlUA2li7J3Emgr19YZsu1slu7BdScaOc+M+rCgskJ6c9dLQFFKiJDzyQByoWowzBN3fGDT3YczDnm7p8TYr8bK8CVLFMDsVNC5ulBFuYmZiM5kMFzdHTELm1eVZJr44QROfBaTuqztcvKveJ5WNF8j5c8/XSWhcELhV0MSNgm7anivNyw+SJUvi5QNxqIr1Z8n4wnESzWyWyXPrZd4hnXqSFb85FXRTZ4eSJEMUkDNjs7h4maDG5hmkm7Kis0R5xQnaKOhgfAw6WUFDmtbFzXOQOh0lhgIa3zpAXnyiVJ57tUMnvNERg6jxmLyxdqu88EK8DeI5oY6WLhV58sn43y2BNm1THT0B8UayTTo4gz8R6QBgu08ImjDXrYvnw4Iyo4NGx4l9ylUVm/9y/bkyv2q+TCgrlWxfrhT6qrSN06bqauNxl6Xg05oakTPPFDn44HhYRQV+qZhSJ4UHPSHzplRIPoWTAJ1R1DqdHMiZ8fC9CS5Bu9gvwdaTGKfa2jjpYKBGE1uMzV+1Kj6Jpj8oOamagSBiStABY4ExMBAVbjsIVicoRcPy0tqVsmRpVAkre/rLUnHMI1I2d4mEQ17Nn7PjgZGHIDBSENrqxrVqPHHLQij9ETTpgeRYStPS0yiZxQ1K0HZsFIIuL8qVQP6b0hUIaplirMkLaYBE6AhYBU08hJkM8kE6OFCBwzcw5BV5FeqqJI2Ql70PFzcTgVgyxXaPqFRV0D0hycoNS43JWHGh720EDTwdE8VTd7Bktxwik/NnS6Y3WxUo5MC4LWoS4meCWFtTjgQbJsuECSLvfa/IRz6y87r4opiUHv2gTD7lUZl2yEZVdoC0qsINR2VT83bd2Y2JaMdOPFbOmXGOTC2equ500s3YNHm23g7CYJ25nSRGfTsJGmK2k9DIG89aBR1sHC+b1+bLsvUNsqxhma79pc2Qp6WbN+gYMfyFej777DjZ8R0dudWN6zU9oVBMYuEMLet0CZo2BPnSIYGgnXVLp2nz5ng6x4/f6WVguAHXfHlRjlTnjZMFpUfL2dPP1QM1aGekk9nhyaiqEjnrLJFPflLkYx8T+fglXvnkpV654EOssS6UTBpYAoTPumx2f6PsKcu9CS5Bu9gvgSHHFUdPXwnBGJbRBOqIOK1LuS8404KR6zQEzd+4X5n5asG+0MyUXbnNKOFVQUN8Mck64DGpPPZhmXPMejViGEqMowVkxzg0Y7ps7rChebMSF8YVdUrcfRE05QTpMu7X5amXzLLaXV3cWYVqaHuLlkrMF9T1sLg0IWbUE3lg3BCChlz6U9CkI+YzCfF3qRFn/JnlTTyHexSCUhe3v1Q7BixdYuyUDotOEusNSFZeQGoKqwxB+5XEnPkiL7HeXIl2lUhPe77ugEX6IDhOvCIsSJ9Z3qynDrQbpuopkiOPFDn/fJGLLopfH/2ITz718VyZeMLTknXQv8VXvTwRw04C7ejpkjdrV8u9K+/VdcHHTTxODq4+WDtKjEvjeoaoKScnQePiZtIfChAvgXMnMQBxEgfpprwg8srcKvH0lEh3R6ZsaKzVuQrUCwqceQerGzZoOdA23vUukfPOM+1onmmTwZBR11vk0VWPy7a27eKLZUk04leCJg/pgLQQLu3IvlcWTre3dYU7UZDvM2VfLYdWHCfnTHuX1NdlaAea++gUJYOO3ty5Ih8yhEw9fObSIvmfT8+Vr11wvORkmZ6RA9TnguoF8pVjviJnTT9LCXtvgkvQLvZLYDTWrNlp4DDiownrUnROykoFJ0EDJfSYT8rzynX9rgVrS3F3t7SFZeXqXpky1ahH2aZqac64iXoM4Pr1uxK0BTs7sWHHhpYtarAxhFZBB3pi6trlgkAsSBPlpeHlNEpOWaNu1LFDQWcX6RaOUrbKWPWgegzq6tiVKir1DVF93hJ0Oi5uMQQdzejUTgUdEeKxyhHigMwKfCVKQJAp5w5D0O3tMekIdIk/t0tdvqkUNP/u6vIoKVK+b70VJ3DuJx94F1CSbCPa3eGTUIdJdCRLt7SEgCwoa9LGpCZIlpnxFtbFvcUQ3subXlc1fvH8i9WlizcEgga4oS1Bk3cAAeHixiOAh4B4UoG0UGZK0J4MKc+uMkVfJj2dWUrQnKt8cM3Bujc2M7shaPJul7rl58f0qmtvlB/95w/yv8/+Wra010pFtmlnMc+gFDSAoOlc0DF0tmHeNb5D2KKgaQNOqFck5pVQr19ikQx5a2X8PamsNIp4Z5PvE5QPRMw4M+0lGXTyqCfu2dvgErSL/Q707nHpQWBWQTt7/KMBCAUywBBDBn2RtO0sQESFBebfQb9U5Y7Tjf8tGQIM/MSCqeLtLZGmuiwpH98uvuz4wQpzJkyU6dPjChb16lSPgD2lUWXNXa0mTTF1OVqCXrZtjfzo6R/JnW/eqaRnQZpWr4agTcJzmyS3rEkVtHMMuqqwVDw57VJU1m1IOSJPL18pt7x+h/z+qTulLdCh44WQQ18ubidB605lXvOHsbeMVdq8x4klXpZ5/mIlaJYTWQXd2h7Vnb0y87oN4Vbp+KSToInDefQlRMBkQf5mDBpPBcqVAxYYv+1qNmzSWa0kwqEQToIGdHToLJEG1DAucWBd3NvaUK4bVTlzFCPlpG5dU5+MieJ6hqApe9JCJ0QVtMcQdCyi+esLpMW2X69kSl54kqrfYNAjje2d0tLVJidMOkGOHHekktjW1gb1yFAPlGNtcI1sD66S3lBU1m1tl3fP/ID8+KT/lYvnXappHyxB447GzU2b020/TVsHEDQubjqNNm4nyC/1Qp1SD9QH/4agccHvz3AJ2sV+BwwG7lpIE8NgSXG0gJqAIGw8Nt5U4B7ux8BDZrGIXzdjKM+uVCVgoWs8Mw6QajnYPOORrMrN4s3q0mUkc8ZNkJkz43Ew5o3BdAIFXZpbagxzWBUzhKdLe8IRWV2/Scn5wbce1Bm9FlZBB2PdklvUaZ7xmI6DUWwJ1ytKj7Firz8shdVNsqWhQ+5//QW5+bXb5dU166XHxGUVNARNeSR3ikgvZYMB9/qD0hvt3qGgbUeAZ0kvZMb6X+LF/b3DxW34sbO3RzJzIWijiBMubidBUx72b8JhFjxkgosbgmZm9ZqmNUrQgZYS8XbFCZotLZMJmjphjBPC5RSxhesW6vfWxd0dNIxjVOH757xfOwCMJVvlzdprtmVN5eIOSrfmpz+Cpo1YgvZEMyQzOM58Zmoew6ZNZESLlKCPGn+UHrjRGeiVzu54PXi9MVnS8oIsbnlW8v1FclLF++XCeR+V48adImWZ43YQdDKZ9gcIGkKlTGkrkCzgfWPIgzapajkJfEc+bAcWjwZlANnTLvdnuATtYr8D6zGZGGPdcJYURwPW8BCHNaaoxIEI2u+PSUFhxNCTV8blTJGSrIrEHXFADCWxGVIZOVQiEpL67Of14AGIYqaxkjNmxMkMVzP5dYKNRcpzKiQa8UrIGESMIFdPuFe2NDfobldse8kMZgtL0D3eJqOQg1KeX6zj2bbTgCpEHRZk54qndK3UtXTIhq1dsr25TbrbsbIRY3SjSq6WoJPLgL9xofO7JyOkREkHgLDtJCkIAxVGmZJ+Znfj2kTtcwpTV6dHn8vMC0h1QZUUJxS0VczEYRU0eYZIrYvbrpOlU4CC1oM6WsokNzpeZxPjwiVtTpB/5gMcWn2ourHZ8Y3xXg87rRnrynrpiuwaOXP6mTqWbkEHiw05cKUzy7qnN7ILQauL2yhoyrQvOF3cnphffIEq8xnvyGRInpT7J+uxmLjV6RzQ2aPcKb/tXVtkcdNLsr77Tck19Tgz+1iZV3awFPrLdYIhaScdg1HQVvGSHquCuZi3AEnbQzWSQTyAtHHxLOXNNZj490WMafbD5s1pNt3ZZcuWyaJFi2TVqlWmMnfuCmTBoe0BU9OrV6/We5csWaL3tpla5zcXLgYD3G+6JWGi9VtSHA1Y0rEKnc+BCJp7fBkRycrvFY9ROlXZk6Q4Y1eCBlk9EyQnMFNC3g5ZEf63scpdqgBrSopk8uS4MbSTtZxgFjfjlRmSa94fr86W5V5mEze2d+g7xVIjiIN9qXnFMJwMCXR6t0hJWVgnmjkVvVWF1QUV0lWwWNqD7VLpmSeHFJ4pxbHp4ssMSdjXIR5/T78ETdnwuzcjGCdaX6ZedhyW36yCpqwgaIhvmyHoji5OrvJKWHYqaCaJ2fRTx8QBQfM3BMAYJxOYCM/vydTxYcJkUxEUdI9R0CUZNbqVJYrVkWUFZA6pnzrtVJlSMkVe3vqyPLnhCWkO1uphEAUZxTKlYLaOUzvHQLMzsvUgCY5AZGlTa1f3DoKmLuwYdLoubomagulmGnW8B8Ea8Ym5B0iFqWsmF9bkjZM881046FMF/cr2F2VN6wqJ+jq1/ttbMyUSjo/L01nh3SAdgyFIhkroxNCJotNDmeKtYKUE5c4QQSqC5juegcypG8arCSfVEqv9DWNK0C2mNhYuXCiXX365XHjhhfLtb39bHn30UVOZu765vabFrDO19p3vfEcuu+wy+cQnPiHf+ta35Pnnn1fiduFiMICgMRoYBgzuaBI0BhTSseEPRND8rvd6Q+LJMrJDokaBTZSiTGN8kxDpLJVwe5lEshtkU/hVKS3IU4LOyPCoK5kJOajnZIKGKMqNqivPnKD5pxy4eiM90txhrKoB5IiL27pfGRIgrFbfaiks7dXx52SgdDndKlCwVEL+Jpmbd4KcXfo5GeebJ97sDlnbvlzqAlvVGEMCyWXA35CUErQ/qOO6kL4lZ8CzuxB0hiHoLEPQ7duloSms4XIONAq6ypBTUaFPwyMPkDKwCpoZwswGpj2QN75jGQ5eCBT0xtZN0tFUYDpHlTr7uD/gSj516qk6Ye0XL/xCntq8UJp66qUip1oOKD3IlPOuzI6CZkyauqCcN7fUad5tfTCUwEz7dF3csYhPgu2F5m9TQAalmdUys+Bg030wZWnKb2LBNJmQO8Pc6DcKOib/3fCwdgzGl5aZMvJq/gmHcuKy6aC80wXlzIoAlLQlaNsZpjPRl4LmO/JiV1YwP4S2mzzbe3/EmBE0JLzW1Maf//xn+fKXvyy33nqrHHPMMfLMM8/Ixo3sE5yQHAZbjQy444475KCDDpIf//jH8oc//EFOO+00+fWvf20q07ETgwsXaQCyQdXiBkY97CDFUQAGFMNjmzNGkLj7ImjbWYh6eyWUaaymJyrF/iqjft6+frOpyaubghTW1IrXF9F10pALwFgyZsrrkUzQoCSzUmqyp6ghxtWrbtVoSEmK3ZxwKbOjli41MsTBBDHSFi3YIOUVUd1oIxm4Yw8bv0CmTo9Ibn5EWlv8Ur+5QDJDVTqr+tltj8nSxjfUrZxKQQM6L/zuzQjFCTpjV4JOpaAhsbqueqlt6DXhxiQjOyx5hSHJycyWgnzvDoLmGeJE1VEvEDSqju9QbbhhIWjG0je0bJRNtZ3S1pIpRXlZAxI0y6HYivXds98tyxtXyB/euFaW1C+SwswSnUOQDAj6gLIDtFODe35Tc62WCXmLcQJXOD7+PpCCJu2UQ9io3+Zmv6pgUJRRLpNzTO9DKVpkXPZUGZ8zXUKxHtncu1yWNy3VgyROmn60UdQeJWjaKOVEGxiKgga2Y2gJmo4ww0m0r6lT4+9bMvgNgsZ5unhxvG7wALkKegwJGvW8LbFrA8Q7f/5887IcYHp3BfLKK6+Yxpro7hqETAtsNC3IZ7pz403tT5w40TTkfNMAuk0D7cPSuXCRApAfvXpIx0nQjv7giMIqaBs+n/0p6LixNen0BKTbt11iRkF7Itk6+ccJ7mls8EhHZ0ymTAuKzx/TyV8sxwKQEpNyeI0g6GRHU5G/XCqzJ5l/mYRkBMSfFdSlVfm+Mt1SNO423qb7OZNeNlkJh2MSK9giFeUe3WgjGYxzfnj+h+Qn7/i6nDDnAOnt8cj6dX7pajeKvTRDVrctk1XNy3WNL+nncpYD/95J0HEFDQEnK2g7Bk1ZobCZDd0T6pXNdV3SGTDEnBOTYkMUPIfxJzyIhzonDhQ04UDQkAbfodwsQeO+D4R6pKuhXEJdeVJS7B2QoFHIHEZyxrQzZHLRJKnt3iTtwRbxGsXKec3JYGIbHSEOwuCwj00tcYLWvEU6VYkzMc45bp0Mp4K27YFPkOMtkjL/zo5BZdYkqcqaLJ2hdnmm9t/SEWyVBVUL5Niph2inIFlBD5WgcXNTVnSCCHPDhni5QtrEk0qRW4LmfggasDMZanx/x5gRNOPHXDU1NaYHV2gqKFMqKyv1YnwZUrbg90MOOUSV9X333Se33367LF++XE4//XTzMr698YPNmzfLU089JXfeeafcc889SvCR0ZJJLvYaYCwgLJQjBEbzoVmMVtPA+DvHoFkX3NxmyDDqYCYHaPakBRJrl02GniMSCnp1Vq4TkAz5wNAffVC5zK2arQbXrpW2BA05Yfi4nCjMKJPyzPHaAeiONUnY12YIOiIl/mo5ZcopusYaF+hOBW3Sm9UlucVdUlWSKzX5b1//ApmyKcQ755wlh82q0bwzsay1xSdTq0ok7OmSrV0bpbFnuxILRMCnhSVo0m4VNGE63cP8Bomh8ng+15+vY8Dsura5rlNnKefleqW0JL6XM6RgCdqpoCEEXLGMdaL6jGnZQdB4Irgv0mQIrqdAXa0QxkBA7TIh60PzPiQHVh8ghTl5Jn8eU6e71h2g88BSN8aHGYfenFDQjA93h9s177i/01fQ8Tr2+MKmsxYVr+nQecM7ny3yV5mrWmfGr+56TSaXTNC0Ti0fp+XJs4SRTNCDcXEDypJOD2ligiIdO9oPS6z6Csu6uKkXJohR3u4M7jjGjKAZV+YqNl0ub6Kblm3kTJZpdcmTv4pMrS9YsEBJFtJ9+OGHdUwa1c39qVBnZNKrr74qjzzyiDz22GPqCncJ2gWTpjAEGO7dQdCRSEyaWnslGIq3566eXtlY3ySRfggaQ8kkIQg6Zggaw+3oryrIB0a1vChbzjxyqnz4oA/Ez97NN6xjYAmafELkpr+6C5hEVJJRrR2A5tAW6Yo1xJf1+Kp0Ywt2veJcaWYZq4JeY4x+wXapKDUd6cJyJc6+AKGiTkkDxNfR7pFp48plclmNEsSGDmO1DSBZZ7nvQtADjEFjHng+y5Mv5TnlEjPlubU+oNt85uf5jGKPexycBO1U0HwHmUCIuFMpHwgaNz2z3L0sH2uZJpmxQkMYUSXydMAEvEsOvkQuWnChzCyPDwMk150TuJkZ72cMmjXpkGVnuEN3R8v2ZQ9I0E4FTT0XFkckJzdmvvNIoNvRsYkWSIa5Yp6whP1Ncuq0k3S72Pxcv5YBeac8aWt8YpJRtoNV0JSpJWPc3BAuZc+6/L7CsgRNRxbvFs9Tb4ONe1/EmBdBKhd18oQKZnYzNs0Y9a9+9Su5+eab5ayzzpKf/exn+luqMA4//HD5yle+IjfddJP8/ve/lxkzZqhKd7F/A8JgrAujhIsbgsa4jRZBh03A6+oapLvXWCmDlu52WbRptYQiJtIUwNhqh8HbIz0Ztcagxk+GSjbymzbFCbq4yC/HHVwlXz3+S3ooAGOhAJLDKFp1lEzQud4iQ8aVqprrgxulNbpNj1XExc36XGYYs3d0fVeDtLVHDUGHpTf/LZlUWaKzo5Pf0WTg0sTAEzdkwcEVx009XMoLimVT12olymSChmwgUcjTg4s7ahR0Rr4xUjvNlFXQGG/c3P6oIei8cpMPY9wbQhII9kqBIejKIpT3rgSdrKD5jfpn8hJqj/F6Oh646rO8OeJtnSFlJrLyyqiGkQ6Ycc4Eus8d+Tk5YuLBmoa+CJoxZoYKmK29va1Rz9kuKIxJV6hdXdyDVdAQ9MSaLCkt9ul3lKUFxMvFqoDM3KCcPuMUrWeGeHBLcz+dIy6ngh4sSVKmeBso31deic9doIwh3b6ajHVxkxeIva/JZPsjxoyg80yt5JpaqK+vNy9p/C3tMi2Kq7y83FTUTn8I9zC7Gzd3lenKVlRUyJQpU8wL3qtq2+kOd+GiP0DQGC7caGysgIFSQnQQxUgiaAJ+a9t26TTWkSMUu8Ltsrq2Vne7wjAnwxpbtsuUbCNrPLGUBA3hkg9cganWi2IMMXx2XSqE7kQ06pdYOFPX2m7vXSeNoY0mrb2G8OKbgmC8IZstjc2yclOjtLSGpSt/qUwsL0rp3k4GCpqTnQBpobwPGjdbJhXXSNQTHxB3EjSfECifGHRfRkhC4VBKBQ1B8wlB+6K5ugkH68XrG4PSHWnTfJflle0og1QK2hI0RAAhEDcE193l1YlpU4qmSUbbHJlQXirjaoZmJtUTYB4l7r4AQbP+uqcnou75IsPHXeE2VdADETR5SFbQKFguQH4tIGfKq6agUr5/1pflwKo5OkGN9m/HeikXq6QtQTvMcFrgfp6jc4iCxtNDevpT0NSRdYSSJ+qD71yMIUGXmje2zFgWZmg3mJbFcqlNxoowdnzooYfu4rq2vXXc1twHMXd0dCgxc5+TzF246A9MWgEQF02MC1KwRDHSQEFvqG+QnkiX5ORF9FD55tagPLPxWZ0clAyMLWlhLJGlSYZS1LimImiMM0pVFWcKdYJBhCghpWQFzZh2b6/HEHRI1rQvlcbwRqOgDZNEsnVbTQgacmQm87I1rer+jpbEFTQKcyCQrsq4t13TAUEz3lmeX6KHaZCmZIJGvfEJaXjYScx0GFKNQeP9IEwIh3W9jOWWZJcagvFITwyCjklZjonQwKmgCZ9nIC46AZAAZMJMbkwIM44huRxvoczMPloye8bLhMocqalOUbhpgLSS9OS62wHzG7Ph6WD0Bo1yVgVt0mkVtC89giZvXBAsnRcIl/yQXwuroAuy8+TsecdJmakHOj6WoEknHgS74oAy66tdDQTChGRJG/WJQmcdeV9hUQfkBfDZ13rp/RFjRtCoZ2ZjzzY1+dBDD8ktt9yim5UwJs1s7jfffFNWrFghbGQCkZ944ony+uuvy7333qtLrhYvXqzfcb9L0C7SAcYCosLwQFwYDAwCBklV6whDt57s7ZLapi7dW5q9tYvyciTYkyUPvPWgLq9JHp6xBJ2d5ZOa8lzxeSHSnUae2/k3yoRmj+HrD3aDDZa6QE42OsJQgjQKuiG4QboTY9CRUIaOvzI2ynhsbX1Y3lrXHe8wlG2QSRWGoPMGJmiMPgoagqScIejxJeVSklugu2yRDggDIw4of8Yg+ZtZ2MziZtlX8jIr8ux0cdPJQAlyGlJPR67uYQ1Bsyc58WLoLUGjDrn4N+lyKmg6aiwqYQw0z1smB2W/W3JiFUY9+6V6iARtCY74UgEXN8MFqqIzKqTXlEdeflQ6w+26QQwKmvz3BathUP+UHeWJWoUQKZ9UCjorwy/Tqiok23wCp4KGoCkf2h9hk/ahgGchWTpB1BUdNTpVfYVH++SiQ0N67NwQF2NI0PSKJ02apBuUrFmzRh5//HE1VieddJK6uFkjvcHInXbTpauurpYPfOAD+gwTv5599lnT6IPyyU9+Ugl6bwEvCQqOF8oaprEAxpneNhM4+rqYfcl64ST+GHVgVBgjxlgkx02Z0cNnzWqqNPd3LV8eP/+Z8kc5ofAwGBgGDBLXcADZUV6k25I95/luat0i7R3xMcyiIo+U5OVLRrhEntrwtO5W1RVyWFEDtnxkQllJbr4smDxVMjN8GrY18pQJcRAXRoyORn/gd4iIMoV8bD4tQeNC59xlyTSNUqJGkXolFvXqhieQXGdrtmzeEtGDOArLO6SmtLjf7SctKFfc7wwjWAVdYax0YW6eZCSIRTsIifRQZtQtdZyVHdVZ3LrsyyhoJ0Enj0HzTuGKr8kfJ7FAsXaETBHr0itAuZMWwoV8GBMnLsKgXCATOjEQCJ03lvlsWVMs+XWnizeSpzuNpTtBLBkDKmgDvBQLqg6RWcUHSijokVhGmy7P4iQx1kozS78vkHZLxOQLQLZWQTsJOt6ZiZcH7YbnQF8Ezfd9EepAsARN5wdypgxtfKnAbzxDfWDOrXfLhSmbxOeYAHI95ZRT5E9/+pMuh7rmmmvkjDPOMJWTJRdccIGcc845OtbMUipU9U9/+lOd9MUksauvvloOO+wwvXdvAI2eccBrr42TH4ZlrMCL+NxzIt/6lshVV6W+vv99kQce6N+4jAYYt/rvf0VeeOHtnRiMzGuvifziF6nTPND19a/Hl/2g7CxB03yoG0sUQwWK9sEH4+VK+YKm7iZ5bevrEgpkG2LKkuIin/nMlXypNr+1yEtbX9LjBp1o6e7UM4jL8ovl6CkHSU5WhpKzrQfIhQ4K7ksIMB0FTX65nwk7tvNAePE2aBg/IyDZORHJSBAZ33vEp0uAMnprDLl7JLeiXmbVTDAdh6Id+2IPBNLHmliIChLIyTb5N+9yaX6edjScBM0naeR7tgX1ZYSFfbj7msXtJGhcwWxl6e81bOALxhV0btzFTR1DFHxSLxAZcUHQdNQIh9+Z2MRaaGOK5Ic/8Mgtf/Xpvt50MMjHUGAJui8FbXFY1dFySMUxEoyEZUvvcmkM1OkwA3nvbzIeHQ9LxHTYAARHWRM339tOLuVE3ZNXJ1lCxDxDNHTabSeJ74cK3ik7jgzZ8q4NBDoNlDWTyXi+n2zvVxhTgt6fQM900SKR228X+fe/4wZ9rEDcCxeKPP543Cjxt/OiA/HkkyLPPht3je5OvPyyyC23xMkumTQx4A8/LPLEE3FFnJzu/i7cl6hIltSYfp1OWsEIYAwwXMMlaPapvvFGkTvuiI9lAtYRv7z1VWOhC6UkP1dKDEHnZPnFFyqSiQWT5PnNz8vS+qXGiCasqEFtW6O0BFqlwhD0cVOOlKL8DCVTJ0Ez4xgvDIYYo9Yf+J37IDPKweaT8CAOnw9GDEtlsUmjsaj8TtgkifXAJqVKVNGidXJAxYy01LMFrsp3v1vkne+Mk5y6p7NzpaIgHkaygrYubk9Gj3j8vdoRGEhBE4ZfcqQoMl28plx92Z2Skx+f/W0B2XA/7yBtgDitggak68wz46qP3xiHRmmedVZ8pj+/DwXpKGhQljHBXOMlEOmQJW3Pyvburdo5YWy9P9B2SRvvhW1z1DWEa4nbAoImb5CmE5QL5UN5UP5WQUOYQwUdB96vk04SOftsNqJK/NAP5s8Xed/7xIiyeLm5iMMl6N0EDAnLOzAQkAv/HitggFESGOFPfUrke9/b9frIR+I9X3rTpNvBH6MOjCNkx2dyvBgOlAJG5R3vEPnud2Pyrf8JyVe+2Sn/893I2/LhvPAI/OAHIj/+cdwI2DGxkXJxU6a4SFG3EAcztOu66mTR9sXiN8RRkJOtLu7MDI/Egvly1vSz9ezgpXVLZWuHYc4E6tqbpa2nTfKys2RyySRdMgR5WSMPgVE2kCsEg0HuD5aIyB/P2Xxa0i8pyJGLF3xYzjngVJlUOk5/J/1K0AWGOPyTJRzMFE9+gxxQOWtQBI17nXr67Gfj6aS8i3JypbKwWMPvCkQkHIlXspOgvUrQQSWp5EliEE+ygpaQIbIWw6SRbMkr7ZC84u5dVL5VjdbFTR6tggaECZHgYbn66p3t5MtfFpkzJ57uoQCS59mBFHQ0lKkX23DWhlbJisaluja6v/FnAEFbpQxBU6ZWQVvitnAStDM//Jt0shKA+50u7qGCsqbMP/Yxkfe+N+5FGQhHHCFy0UUip54aT7uLOFyC3k3gJbUuJ7vv71gBw8wLy4SSk0+OKxzndfzx8XE3jCWGc3eBsrFGgo5BMkgP6cbIHHqoyDGnNUnJguekbvyf5bCTtr8tH6kuDDGqyBpPjBwGiWs44HnSDgFQ15wExWlI29vrxBMqlLycDCUF4o325Mq5M94hRdnF8mbDm/LG9jd0zJGNORo6WqU71GU6DpyDnGsMHTtR7UrQdO4oK4zgQIaU+LgPo8dzPA8Ij7otK8yRCw/6kJw8/RipKSrTfFiCrsqZKKW+8SZzPvHltcqcCkPQ2ekTNETKrlKHHx4vZ1CUmyfVRaUm/Ji0dHbpmdSAeC1B43Ln1CtINnmSGMafsLgoZ9pJNJgtPbVTJBb2SXFFQApLYe2dQA1S19bFzb9Jm1WJ/E06TzxxZzuhY3HMMUN3b4N0FTRtWjsanqh4szqlIWDajHlwIAVtXdy0O+YXUDYQdH8Kmnwng3SST/vuUQe2zIYK0rJgQXw/eNr9QGCcmoNLGGrgWRdxuEWxm+AkaCYqMd5jjeXuBmnBCPPipOqt8h0vCWndnQSNIUOJUk6kkfid4G8MDQaFi1nQ9628T6555hpZ17JOJxUNBhggjBx5HA5B23Ii7XhISPvmti16rjICEULW8Vej2lWxG0V6UMVhuhnI9s7t8uymZ/UsYfLT3Nmhs6kz/R5NH4aSsJ0ETRyEY4l3IFgiT0XQhfkZckjNwTKtYryqfCdBl/jHSb63SuDH7IIumVY6WRXtcFCcWyDjTEeArTnr2lp1YxFAWiBo4o35AxL19e5Q0M6NSgBtk04aeaA9hHszpXVrlUQlJGUVISlO8ipYF7claMidcqUNjSYsQdMe+oMlaJ1hXV0hGX6vnrXNGHR/IB+WiPEs8TflYt9r2qOtb0vQ1mvgBOm08xRGQkG7GDns2vJdjBp4SXlhMEC4ozCyqVTi7oA1bBBGKgPPC4tB4+UeDnENFrjUIQebvmRQdnxP+tQwGaXJucXNgWYlOIhtMLAETR4hiKGC50kzFx0v6nV9ywZD0Kslx5cnvYFMycr0anlDDJGIR0n6+AknqUJ8bftrstrc++LWF6Wlq1MyfOb+rPhe0txvw7Zx0XYwoKmMbSpwH+HwXDJBQ97EQ3iobcK37TQrbMgiUiwZmTEpLWPzjxKdMT0cMDt9XAk7f8Wk3rBBTzCeMUvQpCXi7ZaIp0cnSiWPQQPuQQnyDO2hN+CX2o2FEs7ZJmWlXtMJ2LVgyDvPQD6UAfWwOwjIvke27vqCddUXmc7LOQceL0U5BTqGPpCL26mgyRcqmDokv/xGO8TuUOfEQd32RdA8C9HbSWKE4WLs4RL0bgIvitPlxOQr3FJjAdJiCRoDkgwnQQ+HuAYLFI41JKlUB+kh3Rgh0ohLuK23Td3DHDjA7kuDAUYb1UF8XEMFabWdLdII0WxorJW2QLscULxAoqEMNXiWoCE/7jl2/Ikyv3K+qug737xTntrwlLQHelQ95WT6NX0QKHVgjTzho4QJh9/SgVXQToImzYRJOLYcbGfFKujODp8Eug3h5eXKYdOmSGZi7exwUJJXKOOKK0z4MWls75SeRMaIF6IhrSyVYlczdXGnmMnMnxANj9Ie2HN6/Vq/ZJc1yqzx1Tq5zQnyaBU0ZcDQDvkdbdBOSetABE0euIoNMb9r/kkyr2q27oVuDz7pC+SB94AOFW0CFUyc1DV5tm3RvjeUcSqChuR5FvtkFTTPuxh7uAS9m2AJ2toaCNrOvNzdwGBghPtS0HxHOnmxx4KgiRfCgySc4G++xyiRRiXoHmNRIJNQ/Ii+wYA8YuTI43AImvK0BA0wcrUtbdLVG5TKjKniifmUeChvJSCTP8ioLKtS989mJ6kHVz0oT218Sk+7yjeklJHhUVLBUJI+22HhWUgGIzwYgiYcJ0GTZsLle1sOTgXNfagp/j3eEOoHjzjNkOXwrXZ2ZoYU5GZL1PzXbAqhN8FepMUSNOqZutVlVklj0BYoaNIaV8UeaW32yRmHzpRzDzxOZpXNStwVB3mkLLkXFzcu4N2loCnbVJ1NJ2jzECibh0yvrpBvnniVfHTBR2VG2YzEHalBnfEeUHZcqGDiJG9clA91yG+Ez2d/Y9C8X9yvaTHPW1vlYuzgEvRuAi8pDR9jgYFgRu1YEbRNS19j0Lywe4KCtmRigQEh3aSPC0K2ChoX91AUtFWNXMkdgnRBWp0E3dIalYY2k55gRIo840w8cYKmvKl/8qXu3FimHs+IisbFzTi613wHKVn1xXNwWILHNJ0QLeEMxsVNOBAU6SR+G6YlaMrBSdDWWNOpREEfMWOajpEOF+yMluE3EXpC0tLVLcGwidCAeC1Bh6VH69Yq6L5c3KSfsVeW0IVDXjnmoCqZP2mybrDiBHkkb+SL++ko7Q4FTRslrbbu+gJtOt6uPVJSlCGnTD1RDq4++G35SIZ1cVNXfPZF0NQ5F2npz8WtnV7TlgmPMnMx9nAJejfBGnGWQLD8RFXWGBN0XwqaFxaC5kXlJR9NtARaZFn9MlnbvFZqG3t2uFeJl86Bk6T5N7+TPi6roHe4uIeooImPuPgcCjDAToJuaApKU1vA5MEreVKlBzlg8KyCJh7IiDyi9o6acJQSkW7v6CnQ2buWoHmOtBEH+ScejC7hcKUD7oPQqHPiteHxaQkag24J2tYB8fBvygi3MG1iJOD1xncK6+ju1Vnc1B9pSVbQjEFTFqlc3HYMmrXdHIBCO2aTC8o4GeSR/JFn5giQF/4ebdg65H3rD9QL93A/ZZ1uOXMv7wHgEzc1n+SNPNNeqEM6JoTPbxB0UnHueJb4AWW5O8rHxcBwCXo3wUmKLPPhpbFrF3cneGlJC4beqaAZE7SzoHlhd5eCfmXbK/L1/35dfvXCr2T55m1KCIC4KS9n+fBv0o0h0d5+OKhriUk7ChqjPhhgqFAh5NV2CIYCW54W25u6paUjKL5YlmRHy41S9irxUPfWcKKgia84u1jmVMyRYyYeIyU5JZLrLdQ9mK1x5zmIxV507EirJft0wH2QEvEyVkl6bXj8RjwYe+tNsAqauLgHo47BTjbsQwWCOCMzKl09RiubCFgzbglaOyRGQfMdO4RB0uxZ7QTpIE08g3pmhz7Ki/W2tOlkECb5AzzLMiT792iC94j4KMP+QJun3MnTYDpB5MG+v06SJb9chEk7ox6pc37ry8XNOmg+7d8872Ls4RL0boI14hhKdljCWOJuwxjuTth0YAisKkK51XbV6rIgwEu/OwgaQt3WsU1e3/66rG5eLdsbAzsIGoKAoEmDhf0OAxLzhiQQDkhPxHxhMJxJYuSVfA5kSPsCzzkJuqE5KB1dYSXozDB7QnvU+KYiaHBA2QHyg5N+IL8793dyQOl8ky6v5pH0cb9NG3HYcWTqjjDTgY2b53jeEjThEj75d7q4nQoaENdIgviyTHyeSIY0dbaoF4R4IWjSioJGVTNZri9YF7c94IJ1zDxrCcsJOhdORci+4LtDIVKH+n6ZdFKefYHypm7SrU8L6sxJqskubsKkDmlrpIH6TRUHZeZU0DYMF2MP03xc7A5gFCEXS9AYGNQMLrrdCYwB6cBwWAW9qnmV3LbkNvm/F/5PajtrJeYJ6e+84BjO0QJbYW5t3yodwQ49erGxOdwvQfNvS9DhWI8eRmG3yWTJ1VBc3E4FjREbCmynx6K5NSKdXVHxRDPFHylWF7dV0HySZCdB52fly7zKeXLq1FOlKMMobvMdxpL0WZVM2hgPtgQ9HAVNWi1J8xvx0A6Ik086jdyLcSetI03QPlPeuTk+Q9BZUt/ZpMvkKAvKhPSEPQGtVw6LSAXSy/tDveGF4rInUqUCYVrC4VmGmXaXgqY8KUvyl2iqbwNtmvY3FIImfEBcThc3F2FSh1zUd18EzTOW3O3fdNwoKxdjC9PEXewOWILGsOLixs3GeJg9n3h3gTRAgrzYpIXPTa2bdF/oJzc8KW/Wv6lbDlqCtiQyGkA9b27frOuXmezlJGjidhI0xg2DYw1Nb6xb3doWw1HQfJLPoeYVooP0CAfD2NEeMyQXMwSdId6QKeSYRw0epGKJwo4FA7vvcnmuIWdD6sAStFW4xMEzECxlMhgFbQmaMoTgKWPC42+nISZOjDO/89toKWifzyN5uX7xRrOlvqNxB0HTASGtEelfQZNeypK2C6mTXvbR7ot0yaOToHeXgrblSX3RPvojaO4ZCYImTvLG5SRo6pv7U8VB++J7yp5wuHZH+bgYGC5B7yZYIw4pcsIQvXiMy1gQNJeToNmWkslaKNJXt70qPbEufWkxKKNN0Gw0wth3e0+7NBmCppwwEMTtJGg+LalgaIJRQ9COoxp1FvcwFDT5JPyhwCpoypKxvJ4erwR7/OKTLIn2QDIeNX5cxEf+nATtBGkgXRha0sUzhMv3tBdL0NQdxJMOuM+OzdIphAiJm3gIn09gCcWOQWPY+RwNgs7PMeUTzTUKulkaupp3lCHpURe3iXggBU16ISE+UdCUbSpANpa8eXZ3KmjblvsjaDoYQ1HQ5Ju2QZ6IxypoysF2PGkzTgVNuSXDPk+b4jn+nW7bcjG6cAl6N8GpoDGW7HXNCztSBI0KhaAGmijlJGjr4maiFQpWCXr7q9IbjRM0RIDhGC1A0OxXHYlFpC1oCLolrMbBqj0nQZMOa+QwIkGjoFHNgFm+Q10H7STooXZGIE/SRtqZoc/GJN5wgWR7Cw3ZmQI2wOARF0YSEuqPoMkjYZE+nqOOaD8YWhQwv1N36RpR4iVO4obgrcEmXMIgHsDvXJYwuA/QZkcSLLVi69NMT740drVIXVuzxgnIVzpj0JAZaQXkrT+CJo9WEZLX3U3QtGHK27blZNDOh0LQ5MXWGfFYNzXfkz8u6tDWN+VDHLa+k4FXj3IiDFdB7xlwCXo3gBcTA85LYlUrm8PzwnBy00iAXah++9Jv5W9L/pb4JjWcBA0RWoJGwaJIUdC90U59iUn3UElrIKCQOMUJBW1ssSmbsLQZQ4IxxQVJ3KkIGlBuwVhAVTPuYTb6wL09VpPEqFdL0Ho+czRLsqIlkucr2uG2xYhag4qRTEdB88mz1BHfY2hRwJAYBpTv0wVlBjHxPKqK8Hie8IkHWENPmomL8qd8RlpBU9452R7JEgi6WWoNQaPaSQdlwyxu2kdfh0VwH0qQtBIW/+Z4w/4ImnyQX+7l78GU3VBhy5MOle1cpgKdE9r5YAkaEAf55rLvs/2eNkJdc9FG+a6/OCBoyoY082nbhYuxg0vQuwHWgNPgMa4YFQgaY8GOYhhrS0RDxfKG5fLo2kflhS0vJL5JDYwBF2mwaUE9o0AhOyaJ1XVvk0C4a1QJmklh9V31pkw8MqlgqmGDYomEfGpkIGiMWf8EHXdxZ/gyZGLhRPUgDGWZlSVowh9qXiE7LsLCM+KLZkuOlEmet0SJx5IJ4BNStG7mZBAOwJiSPksmfI+hZTOXoSwT4n4ImuchX0vQTkNsCYW02clkpHU0CDoryyP+WJ40drbI9tZm6eyKaTooq7BV0Gm4uGnDHI0K8RBuKnAf+Yew7HIim+fRBPFw0Yb7ImhnOx8qQVMG1JEzX3xP3VoXN23NftcXaB/8Tjiugt4z0EeTdjEU8JIxKzt5j21eQF5QDKJV0BgVjAVrFDlH2BrmoWJbY6csfysoy97IkxdfFHnpJZEVK+KG1gnSwmXTEvOEVUFzCMK0kml6Du369jXS2ts8YgRNJ4Sd04jXAtc2s7hZBzy/4hDxBsoNS2Yo+VAufRE032NsIWhc8tn+bBlfMF5C0dCQXdx8ks+h1gHP8TxkVllpDKE3Q7JjpZIdqVCCxvBi9ABGkr/plJGnZNg0cB/pSlbQECyGtC+12Be4vy8FbYmNOLlImz02czQImnizjYL2RXOkK9gjDe1turEL+YV4BzMGTWeOIwoJsy/wG20GInPOVh5tEA8XbZay5JOLsn3jjfg7+oLpT2MzyNNwCJq6dYL6hmRpM1z2vekv704Xd39E7mL3wSXoEQIvAGT4xBMizz8fVyEWKFZLila1QtCoLX5bvXqnOhwKmGTVtq1KGt44RtYuPFVuuCFmLpG77hJZvDhxUwJOgsYg9ES6dCyXbQWPGHeEGsU1rSulsade8zRcgiaMxx8XefrpeEfEgp3DmL1bnV8tB1ceZgjaMFs0Qw1NOi7u3mi3urQLMgukPK9cNy0ZSxc3z+cZ0igpjarRzIqWij8YJ2jIxBIIxo9yT6WgrYonXdzHJ4aSZ4kDYoVgh0PQVkETHuESPvEA0k28pA0SobxHS0Fnm3Jnxjp5ZsvPuhaTOYO8vJgh6Hg99jeLm/eIcsQTxaqIgcC9vHPMEeiPpEYSxMNFG6YsbZtetEjkL38RfUe5Vq6MEyMEOVjQtrAj1dWJLxKgLp0ETZk76zoV6Fzy7lHnXC7GHi5BjxB4+ZYsEbnpJpE774xvP2jhJEVL0My4pDfPi8tOSBjMoSIQCkjX6iOk9+WPSOML58idd8Xktr+JXHedyCOPJG5KgHQQFwYbcmrpadbny3LK5MDKA/UkoLUtq426rdc8YUAh2aGA53j+j38U+fWvRZ57LvGDwZqWNTqGPK5gnMwsmSMeCDoNBQ1IOwoa1UzHojirWDcsGe466KF2RqyChlwKinvEl2FIOlJk8lSuZIcRtaTAJ8YveQya/BIO+eUeDCzp417aDb9ZF/dIELRTQTsJmos02w1N+H1UCNoo6Jipb4l5pb27R+pbOzQd2blh81VQ99/uT0HTTtg57OCDRQ46KPFDP4DEjjhC5NBDd586tOVJ3dJ2+cS7tnChyO9+J3LHHSL33BP/js4DnoDBgg4HeZo3L/FFAtQ3+XQS9EBua/ZnIJzJk+N2yrYLF2MHl6BHEKglDB+fKB0Lq6AxvNbFzcvDCwMx8ALxOVQwnhvoNIFntcu0k5+VW/+9Rq78Yo+qC4w6hsGCtEACkAYvIG5mXMVMyJlcPFkOH3e4bG7fJM29Deb3+B7JQwV5ohwwTuz4xGWBgrZu9cKMEvF0mx6LUdAY3v7GoPneurghaCaIFWUX6daQKOjBnAlN/i1Bk0/qbiiAyEhfTm5EvPnNpoJDOos71h0fg0a9WYLGYPN3KoImHPJL++A+0kU74W9+YziEtjJUgqZcySOeHkjYtkNriImTdFoXN+U9WgRNHYZDPolGPNIZCEpjm2mYpr15s7rF4w3r3IL+ZnGT1q99TeQ73xFZsCDxZT844QSRH/5Q5BOfGJpSHQooS8qYOrVtl/eRi33DUdFPPhl3c//iFyLz5yceHATOO0/kW98S+dCHdiVUyoe6tfHZuu4PlON3vyvy+c/vbK8uxhYuQY8QePl4CTHUkGAqguYlgaAxUPzbjglhdC0RDQUNXQ3S3WUCNPCVbpKi8dtlyrSwEgFxY3AtSAdp5DcAQTPZCoKeVDRJ3dw6nhs1zGJe+OESNIYeUrCnDgVDUe0QMAbNqU3TS6ZLQYaxmN3sWe03xjOmBER59K+gAzopjP2ri7KKVHExfs72n+kCg0Yd8Nkbisji7W/K9a9er2kbzIQz8kc55eRFJJpjMurtFU8wX8Jd8VncqRS07czRbiwsQXMPF+niXv6NkbW7iOFhGCxBk0+eA9QJZE8bTKWgSRv32PgHG9dAsAQdCnq0znt6YtLcTuXGxJNpCNoXlkxvZp8KGpA2vFAo44GUIaC9cy+dFPK9O2Dr0doG6o565H2kXA85RGTOnPgSsfHj08tHMrAnuKaTOx3UI+ERH3VNmQ8UPr9TRnj2bJtwMbYYU4IOGPZYtWqV3HbbbXLDDTfIfffdJysZkElCs+nyL1y4UO+7+eab5aabbpLrr79e/vjHP5rGZ1rfHgInQeNKtHASNK4jPnkBMHwYKl4iS0SDBbNd69qbpStBwuHMemnqqZfC4pC+cMTrLKJkglb1HQooQePeRkGjbKMSNoYlfojBUMGzTA7j0xr92oaQbGrdrPGW5Zapgs73F6uCxpjlF0TVeGHU+ifohII2BM1EMw5VgJwh/3RBHVD+GK+unl5ZvG25/H3Z33VvcLvGOh1YBZ2dE5FgZq1EvT0SDeZIsCM/pYKGsCFn214A+SUcPmkf3Ef6UD2kjzqkLPkOoiXdgwFlZsmJcCxBOxU09zgJmr9JO/GPJIiXthmNenQpmoRzpK0zaL6PSdTfKVFPaEAFvTfAEjRtmLqmbi1BU84QIWVM+do6GCkQLu+RtUW2LbnYuzCmBF1vZNWDDz4ojz76qDzxxBPy0EMPyWOPPWYMxM49lgF/r1ixQl566SV5/vnn5eGHH5ZbbrlFSX1PImhrqJMJGqJxErQ1eLxEGKphubhNMW1vbpfObmMFvGFD0A26fCm/KKxhp+osEJdTQeMWRs2y1eTcirnqNuZs2qgMn6CtgsZIkY5Va3tkaf0yJVLGn6cWT5UcX4GOQWdlRyQr1xhnY7xAKoKmWVBu7CTGIR+l2aXq4oage0JGQZvORrrAaFkD2dFjVH3zNj36cnHtYunoNZY0TVgFnZ0Tli6plbC3Q0K9fuluz9U0JytoO7xAXdBmgCVo8ss9lqAhYv62BE1aIVrSPRhwP8TO84RDXSQTNHFyH2lmXJR/23YykiAN5It4SzIrdby+K2DqPjsmQVOCdA7pJPa1DnpvAfXGRd06CZoOEO+m0xaMNKhL6o52ab15xOli78IoNY+BETEWd926dXL77bfLZz/7WVXDRx11lLz88sv6fQirl8CECRPkyiuvlOuuu07+9Kc/yde+9jU5++yz5cQTTzQGZs/pFlp1mooUeUEtQfMJMIAYquGOQW9r7JaOblNe/l4JZzWpyzu/ME7QpMnpbrdptIYXJcvB+JAcRhFVi6s7PytXIrHwsNLFs5agMcbkc/nqHllSu1Td0TUFNTK+cLz4JUt8gSrJzAmJPyu4w7BRZqkUdEamMeRGQTPuPFwFTR1gJAO9IaOigxI2ed7euX1QE84gVgxhpulgMPs9mNEo3T1haWvO0vRT5+QHYDgtQWOobZ6sEed+2oftpNh/Y9gZJiCtQ3Fxcz/EzvOE0xdB0x4pa4YjSDMqbKRBGmiblqCzYqUm7zEtp0C4W8KROEH35+LeG0B5UobUqfWOUI+0Fcb1KX9b9iMNZ+fK2iJXQe99GDOCbjDd+NraWpk4caKMHz/eGK18mTFjhkybNk1Vcg9M0gfWr1+v12mnnWYMyJ7Ry7YKCOOWTNBkhd8wflY5AF4iXprhuLhBXaPRHd0RycyKSEZel9R11RmCjru4SUsyQRPXDgXd1ajrdiFoC1R0WV6xhKJBCYVNxoYIDBFqjU/yTdzL3+qVpXXLVKVX5hrj7DM/xPy6zMqf1SvejF41XJSNTSugXClDEPUEjMYy95mOhRJ0VpygIf2hurgDwZB09waV9NmsZTAETQeE9ClBd9dLJLNJ2jp7DBF6NGxnpwyD3RdBkz/yyz2WoIGtR8agCWe4CppwGBu3BGLbI/+mPEgDa9edRn4kQRrse1Dkr9AlaaGgV4c3WPYXiiVc3Hs5Qdt6dHa+7OTA0Z6oRrzOuqMNcbnYuzBmBN1pWmqXsRJVVVXmZc0yL63X9CqL9Nq6datpxKYVp0C7kWH8jtv78MMPN40udatbtmyZ/PnPf5ZvfvOb8r3vfU82bty4iyofDfASpiJo/ublpC9hjSHgJcJQDYegoc/GpoiJI6YuwryCoDR076qgkzsLpNGpoCG3wqzC+BcG8yvnS1V+ue4uVt+RtNPJIEAVoqDJI8tBsrJisnRll7yxfbG6tyvyKkx5mAKJ+iTaVRafIJTR0ydB87caO+nU7SBRWXYWN2Q9FAVNHfDZGwobgg6pu18V9CDWVEOs5JUOUkPA9Eiy2qQjEJKGhOJNx8UNLEGTf3s/sGTG74Q3FIK28dIhpCyBDdeCsqDNUMaUNW1ktBS0Ve4F/jLJjbFJTaYuseo2BK0Kmkli+8AYNHVpCZpP3nXKn4mQowmXoPcNjBlBQ8BcuKjVSBv4TYvmYvKYcwzaCdzfjDujuisrK80LkJAmSYC4y4xkGDdunNTU1BiDlrkjntFCfwTN98nGDiPLSzNcFzdxYVBzczxSUBzRMWh/Zljjw+DbtFjDS1y8vDGJSlN3k6oVZkJbLKheIOOKqqUz2CGbWraqMmUzlMGCeCBo4tID9Q1BrFlnCLCtQRZUHayudNLEFp/RQJHEMjsklhFQo4aBSSZoCIoq7Im1G5XVuwtBD0VBA8gCQxoKR6QnaNqkIWhV0IMg6F0VdIN4czpNyRpFbpKiJJTk4uZv4u3Lxc293GcBkfId5UJZQm48PxiQDsK0y/wIL9lg8ztxAdLDvU4jP1Igfts5yPeXSo4haE8kWzKymUNgOl+mDtTFvQ9NEqPtUqbWxT3aCtp6P6zJo65pNy72LowZQUOsXE5XNuPSXCjqvsh08eLFprEH5dBDDzVGqu/k4y5/z3veo2PXl19+uZI05D9asAYWQ02WmNRjycUq6GRjx0uEobK96qGAjkx7m0+ChiRyc71SXOhVBR3zhFUxUUTWxQ2RkEa+y8mN6oQq9uHGlegkaCZuVRdUSCQWko3NW+TNhjcHtXzJAkNkCXrylJguoWpuyJDccI0cWXNMfA9tc08g4JFoMFsiGa0S83WpAadsLGEBysemPRBtl2A0sIOg2U0MNz2kOliCtsQVjhqC7jXtLwbJNmp++fdAIF2UK/WvCtqUfUZul/l3VNNOep0EzafTxY3hBjzPv3mG/DsJGuPK35QJ6pkw+ng9+gVpsTPAnWRsYdujxWgRNOkgT+Qh31csuQJBm3c+u1O6w3GC3hdc3JSxJWjbMcbFzedYKGiXoPc+mFdlbMCYM+PHzOTG9QzRdBim4sLtnUoZR01Lx3UNiR922GGJb/ccWILG0DLGZwnGKsGBFDRGejCgzFivG2jPkljUqOc8rxTlZekkMZYgWWKwCtoSAi8v7kSIKBgNqnvbOQZN56gwJ1fys/L0vN4bX7tRVWVfXo2+YAkaQho/KSjllSHJjBXLgRnvlWkF86Qgq0DLiPQRdDizUaL+nQSdSkFTXl2hDh0jhqCZIJblz9I9uZnVPViCBpRHJBaVnlBE80gY7E/O9qEDgTRB0F5vTDKyTJkGGiQrr9cYw3hZJRM0cVmCtm0EkH/bXriX+ywsoVqCJsyhwBI04SSTMdB2YcrXYjQJmrj5zPUWS3bUJCpCgtqlC4KOGYI2HS7qdW8G7Zi6tHVLO4Ggwe5S0BbUq7NuXewdGOKrPnyUl5crEW/evFnHlBmTXrNmjbqwjz32WNOYdm1NkPOWLVuMwW80hqNQJ5PtaeAlhEgALyOTcfgbBc1LmmzseIkgbYjMGufBABJWMu7Ol+xMv5QWMdmrUFp7W9Xdm5sXUQNhFTSEQLrUQGeHdKwVUlOCdihokOXPkJKcYvHFsuWu5XfLou2LpLXH4bdPA+TdKuhwwWppy1wh2VIkc+R9qpoAJEz61Ihl1EnY17FDQSYTNGnHsHeG2zV/TDArNPn1mP/yM/PVDT9UgqZ9hYIxPdEL4PpPZy20Nbweb1S8mb0mXQEpLIpJXm5c4kJCELLtb1IflqBpFzwPyL9TQVtCB7wKWmfmshO9hgKeg+At4ScbbL5zkjYzjZM7lSMB0mHHoLM8BZIZLZFYOFNC/hZD0O1aB5Azm8/szSB/1CUXdUs7p74pd3cM2kU6GLM3AHfz1KlT5bzzztP1zF/96ld1nfOBBx4okydPlkceeUSefPJJJWWAyn7xxRdNz7NYpk+fboyVsVZ7GJIJGnKKu3Dj36ciaL7DKKNueWYwgFxrOw2pdeVLXlamlBVn66xmyKatp00ycnr1RbUKmt67VdAsadreYQjakDzk7FTQwOczitwo3IqcakMeUblnxT26RjhdWMJhW0n2qN4YeVmWdz8lHp9RqQ2zTOLj/jZI2J64Fcyol5CnXcmOsnF2Wig/wsPIoKAhaBQ0nQsUf15mnkTNf0MhaOKKRmOS6cmTiUUTlRgaA43SEexI3NE3SD/1FvOEtXMRjUWkvMQvBflxRsZIOxU0xpo88LeToIElaH6jjiwsofI5XIK2CtqG5wTfOY34aCtoyobtPiO92RKN+KXH1yidpm6ZT6Cz+/cB2M6Wbed80jkZbQVNnHSuKGNAvbou7r0PY0bQGNXq6modJz744INl5syZctxxx+nSKRRyqenq82mJGJc3E8POOeccHX/e02DdWLyQJNm6dyGWvsagMYhWoUCegyZoQ664nlHQBebtqyzJUYIGLYEW8WcH9EWFoIk/WUHrsyhoo0Kds7gB+cjyZxqCHienTztdFtctlkV1izTcdEA85ElVcGabbO5dJnWRN6WguFe2ri+Q3p44gVFmVkFHM5ul19MiEYl3LPTZPgia5VC4tbkACtq6pwcL4gK5vkKZVTZLZ4Snq6AtQUc9Qe1csJ90ZZlR9vnxQClH6p16ABhMazzJO3kCTgXN7zZNgDzzN/U2Ei5uS/hOMgZ85yRtCHo0FDRlQtyURXeXRwLdPu3YBDx1pm7blaAzTdvbF0BeqU/qGo+aJejRVtDWDlHO1DtxJte3iz0fY0bQIM9Yrvnz58sVV1yhCvriiy+WBQsWGEORIccff7wSMTO1AYobAj/zzDNl1iyjwPZAYGAxaBhkjDYEzScvJQY42djxAlnShjytsU4XkKuqYKOgi0zgVaV5OmkKcJSjP7tHX0pLlExGIw419kZBQ9CASVYQnBO84F5jQYsySuWCeRfoWPfqptXqFk8HGCQ7ttwYXS2NoU2SmR+QiRO8erwm+eU30hV3wZs/stskIK3SywQwUzb85iRoyhICwcVtVbN1g7IT2lBd3D5/PBK2HJ1ZOlPVG8vPBuPijkjQdC5aTS5iUl2WK8UFmWoYnUbSgn+jqqkLngdOgqbsqSMLS6h8joSLmzQlkzHgO2vE+TdtczSMOukgXAia+Re0T9a1d8g26UgQ9L6ioMmrJWiroMn7aCtoQLy0M9shchX03ochvuouUoGXkHE7escYbTbp4DteSmDJ2AJDCWljnIeioIOGoLd1GBVsCLokL1/GlRXsVNA9RkHnBHZ0FjAOGEP+Tbzq4jZkiwKF6DCKTvBSY0AzPblyaM1hSoCQPsoyHewkXpG3ul6SkLddZo+vlrnTi2TzZo/OcsfLYO/z+TkooUt6Ym26jScEkUzQEBiGBgUNMZNuCx2DHqKL2+uLiMe8CnneYplUOEld/gwRDEZBo/oDnmZduja+Il9KC7M1D4w3JxMqf6ciaP5tFTSXhSVo6o22lRxeuuC5gQia77gP9UxZDzWu/kCYlqBpB3GC7pG22BZpD7bGCXovnyBmwXuUTNAQ5e4gaFuPlqC5XOxdGIXXb/+ENbAYZEiav1HQlogwiqkImvuBdT8PBkET8NbGVt33uSg/UxU0e1MDq6AhAutuR9HuUNA6SaxWyQjyTQYvNwbUE8uQmoJqJXJIi3DTgSVeymFLcJnMrpok75x/vMyY7tXvNm+O/859be2coxzSc5RZ3sRJWpSNJSxgFbSToPMzdqp+yDoWjQ1qL24Ljy+kE82yvHlSnleum6hAzoNR0CjA7liTCUWkpqzQEHTOjvqlHJ2gbPneSdDA5jdZQZNnS9AjMQZtCT/ZYEMkxEH89r7RAOkgbCdBs2484K03bXKrekKYX7AvIJmg+aTceS9HG8RNPLbtcLnYuzDEV91FKvDy8TLSa6WXjIJ2qta+FDQYEkGHorK5rts8xz7GHikpzFSiQn0w49qXHVAigKBJC8YQUtCXNSe+IQeTw1IdSsDLjQHlvN5MX5aU5pTqxCyUeTqoNb2B19auM2Qck7kTx8m5c06Rs+YdLdOnx8N97TWRl14SWbGCgxliUlwaMYbEEKwSdGoXN2nHsHeFUyto3Mvd4Z0HreD+v+vNu+RvS/+mHYs+l4n5TAFB0J58qcyrVIJmgthgFHQo1qMETXnmZ+VIYb5X1S51nkzQ/G0VNBcgafzbEnQqBc3naLq4SRfx0ibtSUujAdIBSfFJm6Ttc9BLNKNVGgLxYZd9bZKYJWjyzDvJ96MN4sIW0dZsh8jF3gVThUMDu4CxHhmjx6zhVmOQ2U6TZVD8vT+Cl9C+FBhmq6AtQSePQWMkLWkPhaAh5m21QaOkY/rSFxV6VemyNph1vEwSswRt0wLRkRavP2gIertODktF0OSDF5pnGYuGuJiUlg5Bs5PZ65uXy/OrVxjKjMh7Dz5VTpl5rEyrqtJzbymf554TuekmkX/8wyjsLSLVVTHJMOlCAffGBnBxG4JmKY5TQfNvJnexWYndR5sNVv616l9yy+Jb5O4379YySbUjWswbVILM8uRJRW5FWgqazgDj8i2dAT1og8M72iN1Up5bauogS4qKPFJTEyfUZMNI2WI0aS9cwBI0wKBzjwX30k7o9EGczt8GA54jPYRFmFzJoNy5Z9y40RuzJB3aBs2nHYOGoNlJjsMy9sVZ3JagKV/eyd1BlsTLFB7OzU72lrjYOzDEVx3ls0I2bNigRM3mIiyJ4szmF154QQ+y2B9hCRrDBxknq1ZLxhaWtDHOGClroNMFBF3XEJWwKuj4i88GD5ApCtCX3bODoG1aMAwZmVFVfIwnc9BEqi0VrYLmWdJnCXogFzezq1/Z+oo8+tbTsqGuVTKzYnL67GNkZsUUzW91tciZZ8ZJmgMZcLuzDehxx3lMB8OQslHpjEFzL+UBMRM/n3Rg2M871Rg0/8YtysYrECsdx6V1S2V5w3J5actL8uc3/ixPb3w6pZKOeXsN3Zr6MATNkZsQNETPkZNMxEuF7mC3hvfC+tdlW1uDdEc6pT64UZ8nHTNmiJx6qsgRR8SNshO0EYZBaC90QgBJ4m/K3Za9BfuYE87hhw+PoAmTeNnj56ijRCZPTvzgAOGffjr1EVfbowHSYYmLiYuWoCXL/OGJ6g5i+6qL2xL07gD25uij4+2QNuRi78OQCfovf/mLnt/MgRdr166VX/7yl3q281133SV333134q79B04DC/nwElpShFh4MZMVNC+udfUNVkFDMkFDzK1NfkNeHo0Pkvb7/KoCIRdvRnySGORm00L6ODEKNQkZlhrF15+LG4IGVXlVeogBy6z6dBUbtAfb5cFVD8rCVc9KqXeKMfheycn2mTzGGQdlZpqK/OY3ItddF7/4+4tf8JjfPDtc3LjkiIb4UdFc2tHJikog0qUqyzl2josb1QWhkjcU7tqWtaqm8RJsad8i33/q+/JG7RvqBnci6jEEbSJjQhyu/HH547QDQCcn1VpoOiGb2zfLlf+5Uq57/k/yZu0q6Yl2Skt4q0wsnqDlefLJIlddJXLppW9XotQ35Ac5U+/kjbySP2vQnTjwQFM+XxT56leHp754jo7Pl74k8pWviKRarXjAASI//anIZZelJvCRAmmhjsk/l8cbEW+WYWpvVL1A+9okMeqaZVb8e3cRNJ0t6vF734t3yFzsfRgyQQPWJnO61Kuvvmp63afryVFHHnmkUUbpLcXZV4BxxchCsLyQqVzcGKNkBY2RgrghVtZKD4agIZ4O81C4o1hiEZ+GQfhWQUNSEB2dAr6HoFGrkEPMH9gxG7s8pzzlJDFL0JA7IEzIX8dmQ327flGtkGGmFMj4rNlSUebdhXAIF5fbnDkiBx0Uv+bO8Up5SbbkZMYJFgVtx0fp9EDSXJwZ7PEbFkNlGdW/i4I2ecCo43a2ynd963ol3AvnXyifPeKzsq5lnfz6xV/L0xue3sXVHfZwOIspm1iWKjfOqSYs9ilP5TFgCdZr217TMfxJebOkKmeizK2cLd857evyxaO/oIeAkH4MMeWfTKiUAW5kPql3NqkBlqC5nKDOCAv1OxKw3pbkeAB1RTx0KlL9PlKwBA1oYxl+r2604zMdOQh6X1PQ1O3uVtC0G+qR+qZj5mLvw5AJGsXRZLqEHF7x7LPP6mYjbL/JQRejfazjngaMO0QCSVvC5WJ8DZKm98z3yQQNeIG5l3sGU2yM1TZ1tUmsu9wYN4/k5MZUjaMsOcYRIuUejqDEIDgVdNTXrTtlgbLcspSHEvByY0Stgq7Mr1QSxH3MGDMKNRUW1S5SUsuOFYk3WGR68R7NuwVhkgYMBgaai39jmPMN4aJOexIubmDd3Fy9QVPAPlNQhqBRqcmTxKyCJv6NbRtV7dOxOG7icfKu2e+SD837kGxs3SgvbX1JtrZvTTwZJ+ioqURPNFPLr7qgWsOik5NqYxaI+dlNz+q90wrmSHVetUwpGyfnHfAOmV0+W9NGPm0ZJoPvIWjKBfWIm5c21BdBA57hGgn0F1Z/6R5pUPfERX7zczNlfHGFKVNfXEHvQ2PQXLjxef/I8+4iaLA769PFyKOP13RgQMhMBkM9s+PXHCOJUNQQtN1cZH8BxAzBYmQxuihoVAiEizMBhQTh9EfQzpON0gHrfRs7zRvfZRRwnteQc1RfRFXQuZV6IlBXqEt8GcFdCJpDHQKxFlnXvE7DYcw0NzM9FzeE2BXskrrOOpPZ+PdOoErZcQzyLs+cKN2dGepmcxJ0f6ADwAlSTLjCkBE/ZUIa4gRtQjbqXzwR7VQwMcxCCdqoXsbJUbiMPdNJqc6vVtKcUTpDzp93vpLqmuY16qK2CEl3/OSqaIZONOMZwmrvaX+bgqZct3ZslVe2vSJzyudIRdZEJeSS/FyZUDRe84B7vD9QtpQLbYJ6pyNnO3n85vQ47Kugbqlj8kv7KM7PkvFFNeql2ddc3OSVjjreEjwqvO8uXKSDIRP0ySefLHPnzlVyPuuss2TChAlK2JMmTZIjmNGyH8EStFXQEDQbEWB0maGMSsIYpZpJyQvMCztYFzfk2wRBd1dIcaFRHYmwrYKGJCDTiK9Lw8dAtLRGpTPcJhu7VqjS5T7Gq1MpaGtYdihoQ/oQIvFC0MkKGuKCzNhtrDirRCbmzVLVABGlSzh2sxE7Bg0gaMoFgg6FoyY/3Sbmtyto/o3qwsXNKV1L65fqv2vya5RwMfqHjTtMOyQQuFNBB8WUk8p0v84Oxy1O+OQ1edY6y9fWNq9VN/5JU06SAl+56fR4dqQ3HdCRQkFD0LQNOk4DKeh9EbRZ8krZsbELk/P8ngRB70MKmvpmeIkmxru4OxW0i70bQyboiooKede73iVf/vKX5dxzzzUE1WNIJiDz5s3T8ej9CU4FjdFNJmiUkVULyeA7Xtohubg728VjCLqsOFNycgybGnCOro4XG6JGQYa9HWoQGhtj0tQSknWtq+XVhudkTcsaOWPaGTremmq8j3RB0BgVALFBoMRb12UUdBKYcLa4drGS4/i8yTIxZ5bmaTAKWgnaFGbyGLQtG4g54u2SmFHQb3Nxm86DdXGTBg72QIVRFkwSo8PCpiz8TccFFWwBQYdMByMa8Zk8G7I14TC7nbCSXdyQsw371CmnSp7XMK3BcAgaBQ0gaH5L1U72NTgVNOVQWmgUdMF4bbf70hi0erVM+8dGAJegXQwGQybo2267Tf7zn/8YA2MUVV2dXH755fLBD35Qvv3tb8tjjz2WuGv/gJOgeRl5CSFovmfHLFRoKvUMMFAQOgp6MC5uVdBdreLpKZfykizJTRC0KmijipWgmSxlCJr0NDfHpLklJr2RHjlq8gL53zP+V3511q90QlMqWIK2CjrDz1GWRUp06uJOAqT3zKZn1PVemTlVKjOmqXIeLEGjzNlJzBIeZeIk6JCnw3zGCRpStsjOMEbdn6mualXQdUvVLU9ZOEF+1U1tFDRxMTO9N2o6MtGgxKLeHR0SxuZR8809u7q432p6S1Y2rtQtQedVzBN/NH8H2aQLytZuGJLs4qbM9gcXN6DMIDA+UdDjCw1B+/xat5D0vgDq2tn+IWeXoF2kiyETNGudGxoajIHpljfeeENKSkrkkksukYkTJ+qxkfsTLEHzyctoFTSAeDG4fRlwXmAINJWLm5nWTFRCySUDImxIuLhLijJMB2AnQaMSGYvWGdfRRvHmtBvi8Ug0lCnzaw6Qd809XU6Zeoq6uLk/FTCcVkFDHmyFyQYoKBsUdLKLmw4DE6cgxGLvRIn05mq+mbE9GIJGQffG4i5u4k8m6KDpcHAcJbO4IWULOg4YdciX2dtbOrbIhMIJmkcnJhdPNuF6dKIXnQrOzmYMGlVOXjUekzU8BqTFOQZNh2dV0yp1cx878VhV8KFg/BUaDEGTLzpszEkgPkvQ+7OCriktkhMnnyiXHXqZfibX296KZILmXedy4SIdDJmgIeZe0+VvaWmRV155RU+hOuOMM6SqqkqJe3+CJWiroOkh8xJCUPyGMe5PQScTNJOtmC19y5Jb5J7l9ygpJKPLlH1jW5ex6vmGoJkkFv8eYoZcdEmUIZTN3atlQ88b5hdjEWNeGV9SLjOrJr5NWSaDdHGRfi7yxkEclqCd/MymHqhqdu5iMlaRZ5x0d/r0+cGMQUN45F03KsmKR2Bd3JBXVMK6W1emUfOMmyd3LviOtKxoWKHkO6VoipaFE5OLJuvpXShjVHRDd4MStHjCmk/rxSjLiStoXNx2SRb1wAQzFN7JU07W4QTSZslmMICI6cgR5/46Bu0k6JLCLJlSPEVPTjuw8sCUm+fsjbD5A9Q5tiF5PwQXLvrCkAma85pZZvXMM8/oRiUHHXSQMTiFxtDETKPcTyxMAhhZS9C8jJAl6w9RSLyU6RA0xhkyQsWxWQck85c3/iJ3vHmHEl8yAj0RHVOORfxGrXt2hO81ERZkFShZ1XfXy+LGF2Vp+zPxHw0Yq7bj1f2BdHORJ6sqOcoSldrQ1aBK1apoVOjq5tXqWp5XOU8KDUGzdAhiHpSLOwN3sUd3OfP54751ysV2XkLRoGwLrJOagip1QaPqnSBtuLhZYgWmlkxNSdBMAqPzQppZMhYS09HxRnYhaO3kePzqwWDcnQlnL259UbZ1bJOJRRPl0JpDtYNAnYHBEjRgpj/lur/O4qbNkl/KLi+XPd8ztf1QP8l1u7fCSdDkF3K2f7twMRCGTNDHHnusbkhy8803m15hvhzAFkQGkHM5Vnk/giVoPiEje9nNKCDrgQgag4WBhiBwbd+74l5VqrhYIYlk9BjSamuLGzEOZbDhY9hYKsQkJ9Tey3VPS33krfiPBqSFayCQLi6Ig3FoPnFxox6Z2YxLGxcwQD2/sf0NdTMfVHWQ5Ev10Ag6M19VacRQZtRrMmg6AJQHZWsJen3HSjl03MEyrXha/CEH1O2dcHPTQYFISbMTE4omKLnj/kcR09lQBW0Ims4R8ZFX7kHR48nY0LZBNrRu0K096TzNrZgrVflVmt+hKmhgNx5xThKz5b4/wKmgUy1B3BdA/mj/tBGGvfqyAy5cpMKQCfqEE06Qn/zkJ/KPf/xDfvzjH6ui5rrgggvkyiuvTNy1f8CpoHkZISY+rXu3P4Lmd1ydvMiE0R2IKOHdvfzuHWcSQ4ZO4KXo7fFKZ1tcajkJ2gJ3NGuCPRm9MrFq56AX96VjJJxEYSeKoaBRN4yJ4x5GVQLGc1nWNLV4qo77SjBPZydTBpCQDWcg2KVSUU9Iwt54np0E7fHExJ8ZllOnnSyzymbp705AynQgUGIHlB+wY/a2E7i3Ucd0ZCBoFHRQXdxvV9B0GOzuY+ffdb48suYRzePxk46P32QwHIKm3mkzzjFoZ7nvy6DMIGa8NJTdvur2pS5tBzXVe+rCRX8YMkHjisS1feeddypBf+1rX5PrrrtOli9fbl62/WuQJZWC9vtjUlQaFK8vJms73pS/LP2DXP6vy+ULD39Bnlj/xI7JR7zAGGoMFa7cdQ3b4jtddWzdoQYZT3WCbT4DJr5IoKDPnjl7bEN2c2umywWHnaPhg8ESNMSxw8VtSN8SP+njYAqWV0HWuJWPmnCUzvTu6vIq2UDOdEBIYzqAEJWgDWUGPeyBbToivSJtnUHpCPRKdkaWHDzhAJlaMlnvTQblBUETBjOscZknA8JmEh2dAUvQ4YSCtgRNXhmDJg7y+di6x3SG+GeO+Ixcfvjlckj1IYnQ4l4PMFwFTdz7q4sbot6XCdq6tF2CdjFYDJmgn3/+eR1/5nhJ1kRzMSb93HPP6bU/wRI0hp2XEYL2+MLiz2/VQwB6pEVqezbo0p+F6xbKDa/fIC9sfkEVMi8wLm4+Iehl29bKUxufUtcsrlTIJllBM4O7OxCVWCBu4ZNffNTh4TWHy9kzzpZ3zj5HTp5x1I440iVoCJ37nQRNmkqz4wqajTqC4aCsb1mvY+R8d+rUU3WtMRuU8AzpSpecAYSoS6UMQfcKy6nihLmpqd5c2w2p5shpM4+TyoJydeMnwypo1igz0QgSTgWWX5FOZnvrcitvSPw+zw4XN0BBH1x9sJwy5RQ5bdppcsXhV8jFB12snRC8CIAygVTJ41AJmrbCUisuS9Bc+wOcLm5XQbtw8XYMmaCffvppqa2tleOPP16XV3Hh9oawn3jiicRd+wecBG0VNEY/mlNvrHdYxpeWyrFTD5VzZp4jh9UcJs9vfl7+ufKf8tr214wKDSh5QojNHQFZsvUt3aby6AlH60QkVCGE7DxBCkXd1R0RT2+x+IxS53nbS7c4YdIJ8rEFH5N3zX6njC+u3OFux0AMdQyayWeQNJPDIGjU8+u1r6t7m12g2PMaF7IlaNb6DgZWQYcNQffEjKz0oKBjsrJ2g6yoXyu5hqCPn36YUek7XfZOQM6oZsoMgk6lsgEKGgJmjH9l00qT0ZBkZfh3UdA8y0xtDtn4wlFf0LKkw2QPFrHlwv2U01AJmrqAmFta9i+Ctp0aW3b7uoImvy5BuxgshkzQra2tuub5tNNOk+rqar1OOeUUmTJliv62PwFj7XRxq4vSG1SCjnnDctD4mXLRoe+Xbxz3DbnmtGt0y8nH1j8mty65Vda3rRF/Treu7cW9jYLmwAgOdmDZCYCgcSsD4urohaCjehhFXn7YvPTMnNefd2B66XQdK4VUSA/rkfnsbzzcCcKj00B8VkFDnnaGOATNemBOdWJm81Hjj9LxWdTrcBQ0z4djQQlE24UTKrt6QrKmfousa9wsGT6/TC6rluyMpN5IAnQe2OyC7T3nVMzZQabJgKC5jyVZ7H7GedBZmTsJGjCEw4Q3OlWQfbJipzzweNg6HypBQ0zEyVGEhEe57w8ubkCZ0cYgsH11khj5cxW0i6FiyASdYVodannduvihC2DDhg26Bprf9iekUtBRQ9C9WVsl5glJQZ5f8nL9ujaZfaG/e+J3ldCe2vCUfPfJb8vjW++XzlC7Uc+rZG3DVt1M48wZZ+qEKwgLImnraVfFBvnVNwekpdkr/lC5lJZHjIpOJKQPkB6roDGK6RI0F3myChrgNmYcmo1AmNW8onGFuozfMesdSmrASdCDAeqXCV6hSFC6THlwEtem5u2yvaVVT7IieNKO0UsFiPTKI6+UX571y/i+zn0UDOllW0ldbx7qlNzsDEP6nKu9U0EPBO7BLc0zEMxwCJq2w9YBxE0d7Q8EbeuSNravu7itd8slaBeDxZAJmv23MchXX321XHrppXr96Ec/MsY8rHt070+wBA1xYFwxPhFvj3RlrpOoJ2jUgccQtPne/MfaWWYgf+zgj6nCXdq4SG5763fS0tsoTe1dUuKv1j2yCzMLdbwX1YorednqNrnqKpGPflTkm1dMk8dvOUYymg+SqkqPGG7pFxB0dXV8Mpo1igOBvNj7rIIGqFLGYFHQ/1r1L12mhFrFHc8ELO5lBjdlwuS1BGenBZZJkV+8BZ2hDvFnRmRN43p15+f7SjRN/RE0z7OV54KqBbpcq6+1tHQy2KiFWemgICdbso0VdSrogcC9lqApX2uEBwMnQdfWxsOi/aRTP3s7aBfknfxSpwzT7IugbZA/8ksnOZ3hJRcuLIZM0Bw3iUubk6tmzZqlF/+eMWOGefHS6w6zG9mKFSvkz3/+s/zmN7+Ru+66S5YtW5b4dVdw2tDq1av1nt/97ndy4403ygMPPKB7gY81LEHzMmJc4wTdIR2FL0v14S/JjAUN4jyBEyI5evzR8tEFH5UrjrxM3rfgLCnOKZDJebPktInv0MldkB0zolHQAcMaqzd1mLyLvPmmSGNrj/RkbpGSGavlve/xSdGuS33fBoj5jDNELrxQZPbs9EiTfHC9TUEnCBq3NmPoqGkmpNmJU6hnXLWUxWDHoFG85JcJZ9s6t0rQ0yZtgW6pzJokUwtna7r7I2jKjOdxlfdFzoBOEu5w1klrOefkSk6CoOlgpAPKg3xagh6KgqZeeFUIB4ImftuG9nWQR7ZOeOc7RY4/fvDelr0F1PH8+SIXXCByyCHxTqsLF+liyARdbFraSSedJJ/5zGd03TPXFVdcobO52Zs7HXDIxv333y8vvPCCLFq0SCeXPf7448bIdxpjZaxVApAz49qPPPKIzh5funSpLueCsIPpSp5RBEllgg8qKk5qMV0m1Jr9usw+/Tk54LB63bTECYiNWc9XHf8N+dbJX5UJJRUyo2ieHFV9srpq4RclaKMo27tCsnFrj56MdfjhIkees0omnvagVJ/4oHzwAz4pKe6fcVEnEPQnPylyoAk6HTgJehcFnVCfzEBv623T5UyHjzOJSoDpBxAORDrYMWhIlfFtlpGtbFouAWmRAn+pTMufJ5Pypykx23HL4YI10tNLpuvxkkV5uZJrKg+ypR5tXvsDdT5cFzfkzEUHiHPDCZOw9gcXN23L9Om108jhd/vqARLky2gZ+fznRRYs2Hfz6WJ0MGxTx85hKGYu/v3WW28p4Q4EXOEcuHHPPffIZZddJr/+9a/lyCOPVHJnfTW/W6C0V61aJQsXLtSjLLn3Zz/7mc4cZ3vRsQaG1amgw7H42uWW3iaZOTcgZeWRlESFesMVy+zkggKvxKI+CfburBKWAqEIW1pismFDTMMwfSKZe9waKTvkeamcv0QmT/YM6F7F4EOWM2ak34OHBLneRtBGQTOGC5lyoAFLkWaXG1meQDJBDxZ4F9ha882GZeL19xrlPFPKsyaIT7K1bLkGQ/p9wRI0dVAMQWcNzsVNeUDQPDNUBU1emBzFJwRt1Th/7w8gr7TJCRMSX+yDoK3SQT7qqHhdj0TbdbH/YAS0yNDAZDKWaU0wbydXgWnF06dPl2nTpqlK5mxpi/r6enn00UdVseNKzzLW0G9YhxO09oR9vy1BWwUNOTd0xw8MYVJYX7OJnaBnjYEmHAABWgXd1uqTLZsy9OWeOtUQbl6XzvSGZEYL5IMLItrFxW0UNHkCp089XXfsch5aMRwFDVgqpTPFM7JlQlmF5PoKJRLK0DK2Y3kjgcLsQplRNkMJujSvUPKycjQOZ2ekP3AP+RyOggYoaIjKurj3lzFoFy5cDIwxI2jGjrk4/YpZ30w4Qw1D1OzxjVvbArJGVbMRyl/+8hf5+te/Lr/4xS/U1c2JWqmwePFi+eMf/yhf+tKX5Bvf+Iaq9VC6A4yDBIaVZFj1w/acTJ4iT+zZnJs58Jg8vWsnQQPW86Ioeztzpak2R5dKcUW8nbrDGAQ+WuiLoJlYxRrtLx39Jbnk4EvetuUmBE0eIKyhKGiOcSTsrx73ZakpLpFY1C89gfgmIoQ5UgTNTmEnTT5JvnjUF+XMWadITWGFxjHUSWJDJWjqHYKvq9upxvcHF7cLFy4GxqAIes2aNXLNNdf0e/33v//dRf32BVzYkHC2kUV2eQ6qmKvHWHjnxhzc29bWJlu3btWx78mTJ+s9t9xyiy71cpK5BWQ/adIkmTt3rsyZM0dd8DaekQaGFVKyCpqDGDhJChVcnTewgiZZGGqI0EnQqDsUZSxQLF3NhTJ9elxpByJGQcdGV0Hj3rYE7VSVuNxZn80ENzZdYbKVExA0nRVmqzL6MNgih/BZsnXuzHOkKC9LImGPlgllPJArfzCg88O67QvnX6hnZBdk52ocELSj6fUJ7hnuGDSg3lHRTK6zBE25u3DhwsWgCLqjo0OWLFmiyjXVxW8QLkdPDgRLxpC5JWOImMtJ2oAjFHFro7RPPfVUHXs+7LDD5KmnnpJt27alnCg2depUXQr2qU99Su9HqRPfaADDuouC7o0raMaXy/PKdeLTQEhF0CDPVyi+nkoJdxabjkacCHCh4+JmjHq0QD5SETRA1c+vmq+uaDoRTkDQlAekMxTSIk+sUR5XWG1I3qNxW4IeKgn2BTobHG9Ykltg8urZQdDpgPKwLu7hKGjKiU4XdQ9cgnbhwoXFoAj6kEMOkTvuuEP+/ve/p7z47e6775bvfOc7iSf6BkdU5hlWYnwZgmXWdnt7u141NTW7kCnkzK5l8+fP1xOzeI7Z4hxryexu1PRYAsOOsbYKGhc3R0ZCYGx9CVEPBAgaY5+clWwpk4zeavGGC3RZSmZWVMPfXWPQIN1xWcCWlTzHxJjhOCx4ljFn22mhjEdyDNoJ0mub22Bd3HwOV0GzHtoCgh6lfqQLFy72MgyKoEcSkGtlZaVs2rRJXdeMR+NCZ2ey4447TlW0BaR8zDHH6O8thgEYd8a1zXNlZWVGaY3t6n+MNAra6eJmCRJKkJ2x0kHyJDELX+d48XWNU5cxCjrmC+jOYpD+aCtoO4sbkkyXoFHQlqCHAydBW6U6ki7uZECK5HcoLm5Idahpg6CdCxFcBe3ChQuLMSNoZl8zY/v888+XP/zhD/K5z31OXnzxRVXpzOr+17/+pcuqNm/ebBRGkS7BYlyZTU0+//nPy7///W+58MIL9d7M0bTcaQCChlitcUXhsk6YrTozvAOrZ8jISdBOgoh2VJurSgkaBd3raZeeSI+6Z3fXGPRYEDTxQ9Cj6eJ2gjRbgk4HpIeOA8ROvQ9V2ePidgnahQsXqTBmBK0znKuq5N3vfreeggUBn3HGGXr4BkQ8fvx4dWOjjiFg3N5nnXWWHHvssXLooYfqM+9973t10hhj1GMJJ0Fz/jME3d7bLhMKDEGn4d4GKCmygRJ3kkSotUJCXQXiz2uXyuqIdEVaVUGz/Gp3zeIejIsbgoa0RlJBOwl6qEQ4EIaqoKlzrqEilYJ2XdwuXLgAY8pszKxmhvUnPvEJ+exnP6tq+sADDzQGyi9HHXWULFiwQF3hgAliHG35kY98RC6//HK54IILjKI8YMzVM4A8rIs7EutVcmY3LE5MSkdBAww1hhkyxPBb9LSUSE+3TzyFW8Xj7zFhG4I2YTMLeXetg06HoPkdMm1rGxmCtgra6eIeTQVNmslvugqa/JKukSDo5DFo0uHChQsXYys99xFYBQ1Bd4bjW2CyeYe6uNNQ0KhCDDXP/397Zx4lVXG+4W+YYZgZ9n3fBEEUFQQEiYq4onFDYgxqXKJiJBo1xyT+lIP840mMa4Iec4xr9IREonFfQBGBYBQ1CoLIvovAsAzLDLP+7lPdBQ2yzEz37Z50vw/nnm5uL9O3urreer/6qgqB8ALN++7Y3Nh2lZRZeZMltqV4ixUWF0YcdE7goJOUxV2dEDeflWXRES2ENVEO2of9+QxhC3RNHDTXGxviri0HCnHznkIIIYFOAF6gaVy3lm52+yTn5uS6JLHYVbYOBWPQvB6B8Pt/cLttcwM377m8yWIrLCm0zcWb9zjoMEPciBVHdQUaIWVPY9w218IRDwi0D2kjhJRLmCFuOiNeoKsD5ZGIEDcCTWfGXxfvJQcthAAJdJwgzogTBw64CIEu3urGiF2IuwZj0DTOCBzCjACsXBkI9NYsq2qw1cqbLrbNuzZHBDo6Bs2uTWHhHTRUJ8SNiLOnMbeIcyJC3CTGcUvnhyGEZDno6hAr0PE4Xv4mkQJcNCItgRZCeCTQcYJA+7AoArItEGhC3DhcNpWojoOmYfYC7R0077dsWSTpyvK2BA56qQtvM78aWCykulO4aoMXaD5HdQV606a9DjpRIW4EjPeGuhbiToSD5jq5Lrbm5O/HK/hCiPRBAh0niId3XV6gd5XtcglcHGxnWB0QNT8GHSvQu4qD8413WHnBWueeOXhPlg/dfxWvRIJYcPA5uMbDiRYRBAQ6UQ46VqCBW8qX82HgOyR0MKoD5ZGIJDHgutiOlGtEnOWghRAQbf5EbUGQCL8CAotAs5FFm4I2gZhUX028g2ZN5rVrI8eCBQhSlbVoVWYV2TtciBsXnZOd43aVChPE4kAOmls6EWzu4Kc/AeUQK9Ac8eAF2Qs0n4X/h4V30HyXXCMH3wUro/kOWCzeQfO6eAWaeoOD9uLsr1kIkdmoKYgTnCMNuA9Vbivb7DayaNOwTfQZh4fXImg09PPmmd17r9nIkWYvvxw02kGD3alDdvBF1duTJEbYvDpbWMYDIsHBZ4t10Ij1okVmY8eaffzx3oQ2L9A8n8Qn3G888D5+DBqSJdBejLmef/3L7JFHzL75JvI9x0J5JCLEDVwXswkpM7lnIYRHAh0nNOS+UW/QoMq27Q4cdEW5tW7YOnKymtBIn3qq2bnnmvXqZdahg9mAAWbnnZdlJ50Y2XYSccZBM7c6bAcNCBaCEeugEeQlS8xmzjSbNcvs228j5ykHksSIBCCsCGw88PrYELcX6Hjf92B4gfbXum6d2Zw5Zu+/bzZ79r6hb+4XFUXyAwjlxxstaN8+0iEbM8asS5foSSFExiOBjpNYga7K3m27KrZbdr3sGjloQBxOO83sxhvNbrrJ7IYbzG6+2eyii8yO6Z3nBJkEsWQ5aOAzcXCNXqAJARP23bzZbP78iCiDH4P2Ah0v/F0EmVsI20Hz/vwt/12uWhU5yKQnqhHroHHOq1dHygJxrc2+17Hw+qFDzS6/PNIxE0IIiDZ/orbQcEfGoKtstxVZaWWx28O5pgINRx5pdsYZZhdeGDkuuMCMnTvbtmzgtqzcsHODm2PN1K1kCfT+Dnrv9ZqtWBERa/AOGjeZCIE+mIMOCz/+6wUaYWZeN0556dLI9Xn8OcoCx0uCVzxwXQgz33XsoiVCiMxGAh0n3kFXBf92Vmy2sqoSNz+5piHuQ8GULULca7evdRniiHUyBBqRPJRAI2I4aR6jHHDQCHS848/A3z7QGHSYIW7em2vjerxAE9LnPhnbPiEOgSbMz/M7dYrfQQshxIGQQMcJguVdV4lttfLAR+OgW+S1iJxMAE6gA1FeW7TWSitKXbi7ILcg+mh4II4IV2yIO/Z616+PiJhfijPRIe5UOGg/1kx420cHEGn+j0jD9u0R0W7XLiLOZGELIUSikUDHCcLkQ9zlWbusMqvMhaAR6UTBqmGNGzR22eHQqH6jlI1B++vl/zhKplsxJYxxWQ5CtIkKcSPIsQIdphD6JDGujQ4H19SsWSRhjw4JmetcH+CgEegjjohEDMJy9UKIzEYCHScIViTEHdyvtxOZdlnWuN5E4dbdjtkYAwedqizu2BA34KIZi2YXK8oCUUtEiJu/ncwQN++PSHNtuGVC9926mfXvH7l2BBonzXfNY4y39+wZiRgIIUQYSKDjZG/It8rKsnZGHHSCBZqdq2K3lnQCXQeSxJj/u2GD2fLle8PBCHRYSWKJEP6DgTh7gWaBGBYpQaCPPz4ylWrx4ohA0xEhasB3jruWQAshwkICHSd7Q9yBkGXtcALNSl+IaqLY30G7EHcSHDQiiTDGhrhjx6BZ/YpwL0uShiHQyQ5x0+Hgu5w7NyLGbduaHXVUJFObpDBEmw4J4W+e27t3JMQthBBhIIGOEx/idg7adgTinOU2sUjkOtkIdJO8vQ6aBLFEjnEfDO+guUYP9xmjBaaF8X/voBHxRAo0osnf9x2FsLO4YwWaa2d1L7K0EWiuEYHGPa9ZE+kscP2smiaEEGEggY6TWEdZGhVokroSCW7cO2hC22R0sxhK2CBSHPuHuPk/YskYLIJJwhSuEshqToRAA++NEHqh5m+GBe/P3+G7ZAEWogMIdNOg2EkGQ7hZNQ0nzRg085Z5jNcIIUQYSKDjBAeJYOXUr7KSqp1OOBO9DWReduCgo2PQ3CLYWcG/sIl10PsLNOPBPXpEQrwI19dfRxwo/+c2USDKfIawBRqh5eD6mC7GCmEsQEJWuu+IsHrYwoWRceju3SOdh7AcvRBCSKDjJFawdlcWW04IAp2bk2uNcxsb20w2zWuacId+MLxAc31+kY7Y68VZ4pgRNDaUIJmK87wmUezvoMMOcdMR4fo6d44INB0OksX4HLhnEsgI8SPaibxOIYTYHwl0nHgHjXjsLi92DjrRAkpWOGPOjEU3z2ue0AzxQ4EYeoH2INCEgblexmYJBSNYTDsiJJzokG+sQHM/LHj/2M/ul/Ckw0GyGGPrRAmYbkXHRQIthAgbCXScINAceflVVlIRCHTgcnG8iYbFT1jfmyNZAu0dNKLsQ9y+Q8I4M465TZuIi0bcEOhEhreBjgCHF+mw4P1jP7vvfNBJ4e+Tsc3624S5uW4EmvIRQoiwSGkTs23bNps5c6bdcsstdtVVV9mECRNs+vTp0Uf3UlhYaK+99ppdc8017hgzZoyNGzfOpk6darv88k4pAvFyAh004iUVu0IZg4ZOTTrZhNMm2E2DbrLeLQO1SAKxIe4DjUHzGMtdMl7rBTrWhSYCXDMCmWjh3x8v0FwTzrl1670Z2nwG5jxzy/UzLk14P8wOgxBCpEygq4IWf82aNTZp0qSgkW9ngwYNst27dzuB3rhxY9AQBi1hFM6vX7/etm7dat27d7ehQ4da//79rUOHDkHDmmBFqCF7Qtx5gYMmxB046DDGiBl7PqfnOTa442BrVRAoYRI4nEDjLvcX6EQLKaKIWw8zvA18fi/SJIAhwl6AvUAj2CxMgngTNZCDFkKEScqamOLiYlu1apXNmzfPLrjgArvuuuusX79+Tpznz59vpX7uUpTsoLXs0aOHey4uetSoUXbMMccEjWfILfdh2BPiDgTLhbhDctCMQ7dt2Naa5TVz4e5kcDCB5qvhenkcgWbKEc8Lw0HjnvlbYTtoPj9/g+pEODt2hTDO+3O4a6437M8jhBApE2jC1ohxp06drG3btoE7KbBu3bpZly5d7NNPP3WuORYcN+FsnDTOm9eXB8rI+QPBc3n/1atXu+cj+Ad7bjwgWBGBZgx6V2QMOgSBTgU+SYzrO5CDRqBxz4zX4jg7dky802W8F1HkNkz43Agwc5v79t13hTAeY1ESOiBdu0ayuoUQImxSJtAIKC66devWzh0DIs2xadOmfULcUBaowuzZs+2uu+5yY9CPPvqobdiw4XvP88yZM8fuu+8+u/LKK+3666+3RYsWfc+VJwLvoBs0iCaJhZDFnSq8gz6cQA8YYHbyyWaDByd+6Us2qzjzTLNjj42eCAmytAlj/+AHZmecEQlhe4gK4JqHDjUbMSLymYQQImxSJtC4WY56tPJRsgLLxlHpJ91GaRa0nsOHD3ei/Pjjj9u1117rXvvQQw+5cekDcdxxxzkhf/DBB+13v/udc+f1Q4hLIl6lpVWW26DSqqzCuecwsrhTAV8NR2yIm+uNFWhC0IjanXdG1q3mfCJB+IM+VvD9R0+EBFXjxBPNxo8369Pn+6uh0VEJqp37LAi5EEKETcoEukHQsjN+TCa3Dz0T1uZo0qTJPsKdF7T6COxJJ51kQ4YMsWHDhrnxaBLKDpbF3TywQL2ClnTgwIEuoaxRYO1i3zNROEdZXmU5ucGdrCrnntMlxE1xHcpBEwLnIATtN46IBkMSBu/NoiEkZoUJ14FrRpwPdh2Et/ksiY4SCCHEgUiZQDdt2tQd3377rRUVFbkQNiFrxo2PPPLIA7pdQuE4bAS7YcOGLkQexrhyTXAOuqzKsnMD1UKgcxqkXYg71kEj0LFJYkIIIcIhZU0sYev27du7cWGythcuXOiOLVu2ONeLM0a4eRwhXr58ua1YscJWrlxpX3zxhS1ZssRlfePEU4kPcderXxp0HiICnW5JYocKcQshhAiHlDWxhJsJUzO9inHiK664wiWBnXzyyW5e9IsvvmhvvPGGE2Yyt59//nk3veqyyy6z8ePHO6G+8847XSg7lURCvpWWHQh0IGPOPaebg+YaEWgOH+JmjFYCLYQQ4ZHSJrZFixZ29tln28MPP2x/+ctf7J577rFzzjknaPzz7eKLL7bTTz/dOnfu7BYkQchJCps4caK7vfXWW61nz55uHDuV+BB3Vv3de0Lc6TYG7R00uXtcLxC4wGELIYQIh5QKNOPMTLM64YQTbPDgwda3b19r06aNc9fMj8ZJM+0KwcZtDxgwwK04xvNJAOM8Y9KpAjeJYFVUVVpWDgJdGUkSS6Msbu+gEWeEmoMiV4hbCCHCRU1sHCDOHFVWaVU5JWnpoP3KYIg0a8d4gVaIWwghwkVNbBx4R4lztuzi4E7UQddLryQxQKDJ3uZ6EWY5aCGECBc1sXGAYLkx2UCgK3MCgY7Og8ZFpwOxDprrjHXQEmghhAgXNbFx4B00K4hV1tsZnAkcdAaEuL2DTuHwvxBCpD0S6DjwAm1ZFVaevTMQriwnzjn1ErylU4qQgxZCiNShJjYOECufJFYROOj6gZohzvWy0qNYEWA/Bs11xo5BK0lMCCHCRU1sHHjBqnIOeofl12/g9m1OF3DKctBCCJEa1MTGAWLFUWnlVpa13fICgc7JTo/wNiDABxuD1kIlQggRLhLoOECsIiHuikCgIw46XcafIVag93fQCnELIUS4qImNAx/irsyqsNKsbZaXk34CrXnQQgiRGtTExkFJScRVVlmZlWZviYS4M8RBS6CFECJc1MTGQVGR2c6dQSHWL7fSnELLy62fVgJ9oCQxXLQctBBChI+a2DhYt85s+3azpi1KbXf97yy/fvrMgYZYB32gtbiVJCaEEOEhgY6DtWsjjrJzlwrbVbbTLfOZziFurpVbxqXr15dACyFEmEigawlu8ttvze2T3LlLpe0MBDovJy9tk8R8iBsnjTjzmARaCCHCQwJdCxDlTZvMCgsZi62yTl3KraS8xK3DnU4LlRwoxM2+0MyBFkIIES4S6FqASC1bZrZtm1mz5pXWoXOZlVeUW35OftonidE5kUALIUT4SKBrASLlBbpx0zJr17EkUDOz/PrpJdCxIW4/D9o7aIW3hRAiXCTQtQCRWro0IlLNWpZZTn5xoM9ZaeegfYib6/QOmmvPTY/dNIUQok4jga4FXqCZC9yiVZmVVRW78+nooPcPcXsHLYQQIlwk0DWE8DZCtWqVWePGgUC3LrPi8vQV6P2zuCXQQgiRHFIq0OVBq79t27bAjS61b775JhC9Ve7/h2LXrl22evVq95ri4uJAMAPFTCIs1EH29oYNgTi3iAg0GdyEuAtyCtI2SWz/MWghhBDhklKB3rp1q02bNs2uvfZaGzlypP3617+2KVOmRB89MF999ZWNHz/err76aifqpahGEgn6BLZoUcRNduxo1hIHXRacTNMksQNNs9IYtBBChE/KBBrnu2zZMnvqqads7Nix9sQTT9jAgQNtxowZtnLlSueuY+H5OGYex2l36NAh6e4ZAgNvCxdGxCr4CGkf4tYYtBBCpIaUCTSh7HXr1jkHPGDAADvxxBOtT58+lpeXZ5999lkgBoEaxFBWVmbvvfeeZWdnW9euXa0xA8ApwAt0QYFZ69aBWOWnb4j7QAJNn0gCLYQQ4ZMygSa8vWXLFmvfvr01bdrUcnNzrV27dta2bdtAABfuE7pGnDds2GCzZs2yLl26WN++fQPxOPRHR/w/+ugje+211+ytt96yzZs3WwVx2jhBoAlxI87Nmwcn6pVHQtwBmZQkpnnQQggRLikT6JKSEueSmwcq58UW98yBeFeiBFH4/5w5c1xI+4gjjnCifjhIJJs+fbpNmjTJJk+ebJs2bYpboPlIO3ZEplh16mRBxyLoPFTuddDpvJJYbJKYxqCFECJ8UibQ1QVRXrFihT399NM2atQo69WrV/SRQ0PI/Le//a298MIL9uSTT7rX4dLjAYEKjLitX2/WtWtUoCsiY9AINGtxp5uD9oEKjUELIURySZlAFxQUWH5+vm3cuHGPW2YKFUerVq3cWDMQ3iYUPm/ePLvrrrts9OjR9uCDD9rUqVPt7rvvtk8++cSKiorcc2PJCuwfzpz38e8VL4gz859xlj167HXQpRWl1jC3oWVnJebv1CUQaHavis3ilkALIUT4pEygW7RoYS1btrQ1a9Y4kSZDm7A0/+/Xr98et4u49u7d2+655x675ppr7NJLL3XuuHv37jZs2DAX7m6QJMVAoAMz70Qr+PP7CHRB/QLXIUg3fJgbcWYOOJeoELcQQoRPyhSlYcOG1rlzZye0uGHGib/88kt3/uijj7bFixe7Y/v27S5rm7nSP/3pT91xyimnWM+ePe3ss89275EsgebPdOlidtZZEQednx8JcZdWRhx0vbo/YlBjvEAz/5sQP8EIOWghhAiflCkKIWgysq+44gr7/PPPnUDv2LHDTj31VGvdurULaZPNTfb1/jRr1swJMyFy3idZBH/SLrrI7P/+L5IkhnDtCXHXDwQ6Kz0FmhA3Ao2D5pol0EIIET4pVRQyuM8880x79tln7ZVXXrEHHnjARowY4Rwxwn3++ee7rO394Tnjxo1zoe94E79qAptjIMyDB0fmQQMOmiNdBRpiBVoOWgghkkPKFSU2mYtb74i5PZg79q852ONhE/tnY5PE0tVB+xC3F2j6RCkqeiGEyBjS0/IlETcGHU0SS1WHIUy4JBw0C7RoDFoIIZKHBDpOyivLM85BS6CFECJ8JNBxoiQxIYQQYSCBjhMX4i6PzoNOcwetELcQQiQPCXQcsAwpDpoj3R00S32yipgEWgghkoMEOg58eNsCEUvnaVY4aGCrSZ/FLYQQIlwk0HGAOHOwBndBbvqGuHHQ3IJ30P7/QgghwkECHQdsM+kFOp1D3DhoL8hKEhNCiOQggY6D3RW7nUAjzEyzSud50P7SNAYthBDJQQIdB7vLA4EuDxx0vfR20PsLtMaghRAifCTQcYBA46L3hLjTsDgRZp8kxlaT3Pf/F0IIER4S6BrAqmE7S3daYXGhOzbs2mDbS7fvCXGn+xg07pn7CLUQQohwUVNbA4p2F9mCjQtsypIp7pi5cqat3LrShbgb5TZK+xA3txxCCCHCRwJdA5ZvWW7PfvGsXfGvK9wxfvp4m7FqhtWvV9+a5jV1Qp2OSKCFECL5SKBrQKcmnWxkn5F2/1n37zkmjpho404dZy0LWqalQMtBCyFEapBA14Bm+c2sf/v+NqrPqD3HRUddZEM7D3UuOoslxdIMhNmPQUughRAieUiga0CD7AbWMr+ldWvWbc+Bq26R3yL6jPQjVqC5lUALIURykECLQ+Kdsxy0EEIkFwm0OCT7C7QWKRFCiOQggRaHxIe25aCFECK5SKDFYYl10BJoIYRIDhJocUjkoIUQIjWkVKDLy8tt8+bN9tVXX9kXX3xhixYtssLCwuijeyktLbX169fb/Pnzbe7cue75y5Yts+LiYquqqoo+S4SBF2YJtBBCJJeUCvSWLVvs/ffft5///Oc2evRou/vuu23KlCnfE90NGzbY5MmTbezYsXbttdfaDTfcYL///e9t+fLlVlZWFn2WCINYB61pVkIIkTxSJtCI8NKlS+3JJ5+022+/3Z5//nkbMmSIzZw501auXOnctadVq1Z24YUXuudOmjTJ7r33Xuvdu7c99thjtnXr1uizRBjIQQshRGpImUAjrOvWrXP3jz/+eDvuuOOsT58+1rhxY5szZ46VlJS4x6BBgwbWoUMH69mzp/Xq1cs6duwYuLkc++6776yioiL6LBEGsQ5aAi2EEMkjpQK9bds2a9++vTVp0sRyc3OtTZs21rp1azcWHRu6zgrUoV69eu7866+/bq+++qqtXr3ahg4danl5edFn7cuaNWvsww8/tBdffNFefvll27Rpk8S8FshBCyFEakiZQO/evdsdzZo1c+ILiC0Hwl1ZWenOeRBXxpw/+OADd2zcuNEGDRp0UIEmqQwn/vbbb9vUqVNdh0ACXTvkoIUQIvmkTKA9B8rCxjHvDw57xIgR9tBDD7kDcX7hhRds+/bt0Wfsy8CBA+2OO+6wZ555xh5//HEXHuc9RM2IddBKEhNCiOSRMoFu2LCh5efnuwxt75Z37tzpDpLCsrMPvnVj9+7drUePHjZr1iw31UqER6xA079RH0cIIZJDygS6RYsWTojXrl3rRBqhXbVqlRtbPuGEE1ximId50DzHh6gJgRPiRuAP5LZF4vDOWQ5aCCGSS8oEuqCgwDp37uymS7311lv217/+1S1Wwpj0UUcd5RYl+frrr91CJowfz5gxw/7xj3/Y3/72N3vppZfcQiVMvWrUqFH0HUUYxDpobhFpIYQQ4ZMygcb5dunSxS6//HJbsmSJTZs2zY1HDxs2zDlr5kivWLHCioqK3JQr5kazqMm7777rhJwQ+dVXX+2mZYnwiHXQCLQctBBCJIesIUOG7MnS+uijj6L30gvGta+88kq3Ytk555wTPSuqAzl4H39sduutZiNGmI0ZY9a7d/RBIYQQNeK2226zvn372vXXXx89831OOukkd5vyLG5Rt8nPZyEZs1GjzIYPN+vUKfqAEEKIUJFAi0NCMn3z5majR5sNGhQRbCGEEOEjgRaHxI9B9+lj1rZtUGFUY4QQIimouRVCCCHqIBJoIYQQog4igRZCCCHqIBJoIYQQog4igRZCCCHqIBJoIYQQog4igRZCCCHqIBJoIYQQog4igRZCCCHqIBmxWcaOHTvskksusQEDBrhFyuOhsrLS7U/NftXai7r6lJWVudv62g6rWrD3OWWmelYz+G1SXqpn1YN6Vl5evs/+++LwUM/q1atnObXYf5ctk8877zz7xS9+ET3zffxmGRkh0Lt27bJf/epX7jYvLy96tnZs27bNbXc5cOBAt+WlqB6LFy92DUEf1gwVh2XTpk22aNEiV89yc3OjZ8XhWLBggSuvnj17Rs+IQ/Htt9/amjVrXD1TR7D6fPnll9asWTPr2rVr9Ez12bp1q40aNcouu+yy6Jnvk1ECnUj++9//2i233GLPP/+8de/ePXpWHI7777/fdZDuueee6BlxKKZPn25/+MMf7IUXXrAWLVpEz4rDMW7cOGvZsqXdfvvt0TPiULz22ms2adIk157Vxg1mKmhA//797Wc/+1n0TGLRdpNCCCFEHUYCLYQQQtRBJNA1hHFnEs2UVFEzOnToYJ06dYr+TxyOpk2buvF6hR1rRufOna19+/bR/4nD0bx5c+vVq5fGn2sIw5tt2rSJ/i88soNGc0L0vl1//fXRe+JgUJEbNWrkKrWSd6oPGY/t2rVzhzg81DNE+ogjjpBI14Ds7Gzr2LGjtW7dOnpGHAp+l4h0t27dJNI1gHKjM0i+Qxg89dRT7lZJYkIIIUQdQkliQgghRB1GAi2EEELUQRTirgEsUrJs2TL7/PPPraqqyo1BHHXUUbWarJ5usMLazp07bfbs2bZhwwa3ClZ+fr4deeSRLtmJ8foVK1bYZ5995lZ2I9muX79+bkEJrfpkrkzefPNNNw543HHHWY8ePWzz5s02Y8YM2759uytLzrGgBONfmQ4rObFgEL9H6h3j9EOHDrW2bdva6tWrbe7cuW7ePfVs0KBB7jea6WP5LH6zcOFCt2gQkEvD7++YY46x4uJimzVrlvvt8nskofPkk092Y/qZMDbN9dN2rVq1yrVdtFvDhw93j1HX5s+fb19//bWVlJS4OkUImsRX6hTn5syZ4167e/dul6RInWP9gtr+Vn2IW0liNYAv6I033nBf5MqVK53gIDw0nJn+42eVMASFhQ9YZYey4aABpXxoLP/973/b66+/7hpQVnyiIaBBJRkqk6FsvvnmG3v44YddB4YfOD9+6tkrr7xiS5cutSVLlrgOImVJA5HJIs3ylAjN1KlTXcO4fPlytxoWmbU0tBiNd955x9UzGlbKi6SxJk2aRN8h8+D3ye9y8uTJrq5RNrRnlBe/Qe7z2/zqq6/cb3bt2rUuEZayy4S2jQ7yyy+/bDNnzrQPP/zQ/SZHjBjhHqMdmzJlik2bNs2JMGWE+LZq1cq1/5Tlc8895+oanR9WZ6PMqI+1LTufJCaBriZU8Lffftt9gQ8++KCNHj3aNabr1q1zvdBMX+2JiAK9RyrlxRdfbJdeeqm7zwpi9NARZIRm8ODBNn78eOe4ER0aiGOPPTb6LpkH5YbA0LGhjiE+lBeu5ZlnnrFzzz3XbrrpJtcYUF4sE0hEIpOjDjiWRx55xInHj3/8Yxs7dqwrJ0T4/fffdw3msGHD7M4773QNLUumUp5EuzKVoqIi++CDD1wn+dlnn3VLTW7ZssXVvcLCQnvppZdcBAIN4PfI7/W7775zHUKcdrpD/eA6TznlFNcm8Vv0Ak2nhujD2Wef7dbPJqJFB5H6x2so008//dQtJz1y5Egn9qy3/cMf/tAKCgrce9QUL9CKlVUTeuiE0gj94G4IOR5//PHuCyLUlukQCkNE6KwwbYOeI46F6RtUeEKOlB8NJ+6PxoAfARU9k6FMcCz0ys8880znZoDGk7IZMmSIm8qBm6HDgzsk5Jap0IFBbCgvxIM1CWhc6bDwW6QTQ6eHECF1kjAlz+d8pkO58JujI82t3/CBNR0QGDp+tG8cbCxEyJuoTSZAGTC0RPRq/zUuaLsQWoaXaPcRalwyUVSEm8jEaaed5uZFM40UfaDO8Vi8v1UJdDXBuVCpESEaAxoFf59xm0yH8qBBJOTDLY0AFZQIAwJD48DYDj8AnosQ4aIRokyGKAxuxTtAOjaUHZ0aypFODnWMhfkbN27syhORylRo8PzvjSEAnPSECRNctIH6hhukXlG/EB8aTMozU4TmYOD2iCDQybv55pvtxhtvdOVHG9alSxdXVnRw+P1yS13ElGRKZ5A2iY2U+P1xPxbqlDcgPM48eyIzOGl+p9RHziHePO6dNUN+EugkQUEjMrG9KyozXyYNgNgLAkJYkTEbogwk6FBWNJy+/Lj1op2p0Av3u3ydeuqpe8qG8qOsfEcQuM+PnwaBcstUKCsaRgSXsqBRpdzYxIboAh0YoL4Bj1OWvC7TQYQpDxwegoKQ0K4RkqV+8Tj1jXpG+VG+lF2mQxtFufj2njLkN+oP2n/OIeLALf/nPI/HgwS6mvjGMrZHxBdHY8ljIgLlQeiHcRlCtFdffbULmdGIxpafr/Q0BpkKiTkkoPixQJJM/PZ/HIiKF2Pu82P35ZipICI0gES0cISXX365O3DMZLwzbgq+40d94zWZXM+A8iLBiXrEjl/kgTDeyhDLvHnzXHl5Maae8f9Mr2se6o43E9xSp6iDHNQt2n/O+fLjlv8j6DweDxLoakKmMYVN2IIvgC+KhpUKH9Zyb/+L8IMn4QlHQ5IFjQBhWkI+VGTCkJQdYSPKM5MzaxFjMmqZGXDrrbfaAw884LaZfPfdd+29997bE+qmwcQ1UraMc8X7o/9fhjqEGHOQ30Aolt8m01qoW5QNB/WLesY5XkP9y2To8G3cuNG1VfzmEA+WkSW5leRNEu84aM8I39K2MTzgIxGZDMNLtPl0cvgt0gnEITMuzS1lun79eld+PI/fLBEecnHiLT8JdDXxISEyRAmj8WWQHEB4iPm8IuKen376aZf0RLb2+eefv0dMSB6jQjOFgUqMw6YHmsmZtRdeeKFNnDjR3nrrLTfFg4x3yuyqq65y2aK9e/e2//znP05sEHJcNslPmdxoIrY0iHRU+O3RYSYhhw4hY4Qk8gDhbsSGzGUEiYSyTIYyQFwYeqLt4r5PcmLOL+VGRAchp40jN4J50JncgfaQ1U6nhUQ6xJcpV3ReGLqjzjGMR8easWjEmylq5IvwWLy/VS1UUk0Qn08++cS5HZwPDQVQiZlWhHhnMrg9BOS2225zgkLvnOQTOOuss5zLIfOWikyPlEYVsSFzGfHOdCg/GoC///3v9oMf/MBlu1NWOGnqGmJDeRLOxTlmcsiWUCNzdhFl6hHQgF5yySWunnGe3yrigpM5/fTTXZYt5ZapEH1hiijTqQhdU6c4x+wAfoOINVPUEG8g4nDddde53zHJT+kO9YipUWRsM7ee3yPlQttFWVCfGAqgnadO0ZGm7UeEafceffRRZzzo+CDOZMEz5aq2ZaeFSmoIYzF8OYgLvSjCFyeccIL7IrRDU2TchR83jSeCi2OhseTgPo0jZUY5Umk5xxQinouTFnvrGGWCGPPjZyyLBoLeOnWN3nqmj6cSlaFsaAypO4S5mSJEg0m5Ub94DhEb3CGNHfUvk+sZTo5yodOC2aAd887ZTy+irhGyJVpI28awQaaMQ9MBJkxNHaEOEdljGIV2ik4Mv0Eeo/z4P3WNcqJ8+M1ySxnT3h199NGuQ8j92paddrMSQggh6iDeQWsMWgghhKiDSKCFEEKIOogEWgghhKiDSKCFEEKIOogEWgghhKiDSKCFSEOY9sYiHqwIxQpI/mC+MNOTwoDpO0xXYZ4o0+2EEPEhgRYiDWGFqPPOO8+tVsbe5RzXXHON/fnPf3ZrMocBizuwrSP7V7MCmhAiPiTQQqQhOGiWHmQbyzvuuMMdrPLmt7UMAxw0zpnlDlnMRwgRH1qoRIg0hFWR2Kjkj3/8o3PS+8NyhuyexWpIrL0MrJ7EqlKsjMTmHDyHxxB7li9kS0w2VwDWo2f5Q57H4ywJycpUhNHZ+INN7Vm9i+UkWbXqjDPOcCsr8blY85ltNlnti/ft27evO4QQEbTUpxBpDBtJsFwgIomzRWhZQx5YkvDVV1+15557zj3GWsKIJmLLUoZsRPHxxx/b1KlT3XnEmNA1y0DivhnXZrMTHsct8748xtKIiDUbfyC+jEUvWLDArY3N8ocINfdfeeUVF2ZHrFkDmfdE4IUQEbTUpxBpDKJ54oknuvXP/XaorE3NWDRudvLkyW7jhJ/85Cd25ZVXup3Z3nzzTbfeMOHwW265xe3iQ0icda/ffvtte+edd1yYHMFmS0zWI2aDChw36zjjlukIjBo1yn75y1+69ybMzjaaOALei78xbdo0NxbO60gqY+MGBF4IEUFLfQqRxrBIPwv4/+Y3v7FJkya5g61A2XkNhww41+HDhztx7N+/vwtB46YRzYULF7qNAghb++exjSiuGPHn9oILLnAii1vmb/lNKnDSOGKEncfZ/APX7TeZYVOVCRMmOKeNA8+EzRiEqA0SaCHSFISPMWN2W+NAOP2uPMAtrprnIdKIK+IMOGKcLQfPQ3xJAGOKFs8hlM17eXHl1t9HrDl4nRdv/xrGxXHn7MrFFoePPfaY28KVx4QQ+yKBFiJDYZyaDfwRT0LTOFtcL6LK9oNM1SJEzdg0z8NJI+iMJXNLWBwh9/OfEXBEmtd7vHDzHA7C7WxliCNnq0PGohnn1rxpIb6PBFqINAW3S5IWCV0c5JgghggzkKD12WefuccYX0YkEU+SyIYNG2Zr1qxx48XTp093m/2zfzcunJA1IWxeM2PGDJs1a5Z7X97vUPhkNbLDSRDj79AhwInzmBBiX5TFLUQawophJIIxljx79mz74IMPnJAWFhY6cSUrm2lWHTp0sH/+85/ufr9+/VzSl9/MH/EmOYxFRxDvMWPGuHFp3DUhbxLFOHhvnDQb3RMSpyMwdOhQl0FOZ4BxbVw0G93PnTvXnnjiiT2vQ+xPP/10ZXELEYOyuIVIY3DPhKd9iBm4xbWSuPX4448753zfffftGX9GdAldM3bM6xFXVgcDzjEFKycnx/0fQSb07ZcN5T14LTAXmvnNnONxOgs4ZD+Ozft6x8zn4XWMUwshIvgsbgm0EBnIn/70JzfXeeLEic4xx44bCyFSi6ZZCZHBMEd65MiRztV6hy2EqFtIoIXIQEj4+tGPfiSBFqIOI4EWQggh6iASaCGEEKIOIoEWQggh6iASaCGEEKIOIoEWQggh6iASaCGEEKIOss9CJUIIIYSoG8hBCyGEEHUOs/8Hf3yLbPzvTI0AAAAASUVORK5CYII=)\n",
        "\n",
        "Se poate observa cum a scazut acuratetea pe date, dar modelul a reusit sa generalizeze destul de bine astfel incat sa obtina o acuratete mai buna pe validare fata de train"
      ],
      "metadata": {
        "id": "Vg1QfYiwSahG"
      }
    },
    {
      "cell_type": "code",
      "source": [
        "test_accuracies, test_losses = [], []\n",
        "for epoch_idx in range(hyperparams['num_epochs']):\n",
        "    test_epoch_loss, test_predictions, test_labels = eval_epoch(\n",
        "        model,\n",
        "        test_dataloader,\n",
        "        loss_criterion,\n",
        "    )\n",
        "    test_acc = compute_accuracy(test_predictions, test_labels)\n",
        "    test_losses.append(test_epoch_loss)\n",
        "    test_accuracies.append(test_acc)\n",
        "\n",
        "    print(\"epoch %d, test loss=%f, test acc=%f\" % (\n",
        "        epoch_idx, \n",
        "        test_epoch_loss,\n",
        "        test_acc\n",
        "    ))"
      ],
      "metadata": {
        "colab": {
          "base_uri": "https://localhost:8080/"
        },
        "id": "-32sOqvKMrp1",
        "outputId": "2e99b208-95c6-4554-bfb5-48b740036538"
      },
      "execution_count": 39,
      "outputs": [
        {
          "output_type": "stream",
          "name": "stderr",
          "text": [
            "2it [00:00, 328.00it/s]\n"
          ]
        },
        {
          "output_type": "stream",
          "name": "stdout",
          "text": [
            "epoch 0, test loss=0.402997, test acc=0.888889\n"
          ]
        },
        {
          "output_type": "stream",
          "name": "stderr",
          "text": [
            "2it [00:00, 932.59it/s]\n"
          ]
        },
        {
          "output_type": "stream",
          "name": "stdout",
          "text": [
            "epoch 1, test loss=0.166564, test acc=0.888889\n"
          ]
        },
        {
          "output_type": "stream",
          "name": "stderr",
          "text": [
            "2it [00:00, 1028.65it/s]\n"
          ]
        },
        {
          "output_type": "stream",
          "name": "stdout",
          "text": [
            "epoch 2, test loss=0.231124, test acc=0.888889\n"
          ]
        },
        {
          "output_type": "stream",
          "name": "stderr",
          "text": [
            "2it [00:00, 1230.00it/s]\n"
          ]
        },
        {
          "output_type": "stream",
          "name": "stdout",
          "text": [
            "epoch 3, test loss=0.218284, test acc=0.888889\n"
          ]
        },
        {
          "output_type": "stream",
          "name": "stderr",
          "text": [
            "2it [00:00, 1239.82it/s]\n"
          ]
        },
        {
          "output_type": "stream",
          "name": "stdout",
          "text": [
            "epoch 4, test loss=0.222742, test acc=0.888889\n"
          ]
        },
        {
          "output_type": "stream",
          "name": "stderr",
          "text": [
            "2it [00:00, 1126.29it/s]\n"
          ]
        },
        {
          "output_type": "stream",
          "name": "stdout",
          "text": [
            "epoch 5, test loss=0.515201, test acc=0.888889\n"
          ]
        },
        {
          "output_type": "stream",
          "name": "stderr",
          "text": [
            "2it [00:00, 1110.78it/s]\n"
          ]
        },
        {
          "output_type": "stream",
          "name": "stdout",
          "text": [
            "epoch 6, test loss=0.166543, test acc=0.888889\n"
          ]
        },
        {
          "output_type": "stream",
          "name": "stderr",
          "text": [
            "2it [00:00, 1163.31it/s]\n"
          ]
        },
        {
          "output_type": "stream",
          "name": "stdout",
          "text": [
            "epoch 7, test loss=0.270675, test acc=0.888889\n"
          ]
        },
        {
          "output_type": "stream",
          "name": "stderr",
          "text": [
            "2it [00:00, 1385.17it/s]\n"
          ]
        },
        {
          "output_type": "stream",
          "name": "stdout",
          "text": [
            "epoch 8, test loss=0.165185, test acc=0.888889\n"
          ]
        },
        {
          "output_type": "stream",
          "name": "stderr",
          "text": [
            "2it [00:00, 1070.11it/s]\n"
          ]
        },
        {
          "output_type": "stream",
          "name": "stdout",
          "text": [
            "epoch 9, test loss=0.166552, test acc=0.888889\n"
          ]
        },
        {
          "output_type": "stream",
          "name": "stderr",
          "text": [
            "2it [00:00, 1205.61it/s]\n"
          ]
        },
        {
          "output_type": "stream",
          "name": "stdout",
          "text": [
            "epoch 10, test loss=0.152569, test acc=0.888889\n"
          ]
        },
        {
          "output_type": "stream",
          "name": "stderr",
          "text": [
            "2it [00:00, 1055.04it/s]\n"
          ]
        },
        {
          "output_type": "stream",
          "name": "stdout",
          "text": [
            "epoch 11, test loss=0.402997, test acc=0.888889\n"
          ]
        },
        {
          "output_type": "stream",
          "name": "stderr",
          "text": [
            "2it [00:00, 1122.97it/s]\n"
          ]
        },
        {
          "output_type": "stream",
          "name": "stdout",
          "text": [
            "epoch 12, test loss=0.391343, test acc=0.888889\n"
          ]
        },
        {
          "output_type": "stream",
          "name": "stderr",
          "text": [
            "2it [00:00, 909.14it/s]\n"
          ]
        },
        {
          "output_type": "stream",
          "name": "stdout",
          "text": [
            "epoch 13, test loss=0.493719, test acc=0.888889\n"
          ]
        },
        {
          "output_type": "stream",
          "name": "stderr",
          "text": [
            "2it [00:00, 1090.70it/s]\n"
          ]
        },
        {
          "output_type": "stream",
          "name": "stdout",
          "text": [
            "epoch 14, test loss=0.372600, test acc=0.888889\n"
          ]
        },
        {
          "output_type": "stream",
          "name": "stderr",
          "text": [
            "2it [00:00, 1122.22it/s]\n"
          ]
        },
        {
          "output_type": "stream",
          "name": "stdout",
          "text": [
            "epoch 15, test loss=0.233824, test acc=0.888889\n"
          ]
        },
        {
          "output_type": "stream",
          "name": "stderr",
          "text": [
            "2it [00:00, 1185.84it/s]\n"
          ]
        },
        {
          "output_type": "stream",
          "name": "stdout",
          "text": [
            "epoch 16, test loss=0.257264, test acc=0.888889\n"
          ]
        },
        {
          "output_type": "stream",
          "name": "stderr",
          "text": [
            "2it [00:00, 1274.67it/s]\n"
          ]
        },
        {
          "output_type": "stream",
          "name": "stdout",
          "text": [
            "epoch 17, test loss=0.245098, test acc=0.888889\n"
          ]
        },
        {
          "output_type": "stream",
          "name": "stderr",
          "text": [
            "2it [00:00, 1345.84it/s]\n"
          ]
        },
        {
          "output_type": "stream",
          "name": "stdout",
          "text": [
            "epoch 18, test loss=0.190093, test acc=0.888889\n"
          ]
        },
        {
          "output_type": "stream",
          "name": "stderr",
          "text": [
            "2it [00:00, 1255.78it/s]\n"
          ]
        },
        {
          "output_type": "stream",
          "name": "stdout",
          "text": [
            "epoch 19, test loss=0.177498, test acc=0.888889\n"
          ]
        },
        {
          "output_type": "stream",
          "name": "stderr",
          "text": [
            "2it [00:00, 1263.34it/s]\n"
          ]
        },
        {
          "output_type": "stream",
          "name": "stdout",
          "text": [
            "epoch 20, test loss=0.257286, test acc=0.888889\n"
          ]
        },
        {
          "output_type": "stream",
          "name": "stderr",
          "text": [
            "2it [00:00, 1097.70it/s]\n"
          ]
        },
        {
          "output_type": "stream",
          "name": "stdout",
          "text": [
            "epoch 21, test loss=0.179159, test acc=0.888889\n"
          ]
        },
        {
          "output_type": "stream",
          "name": "stderr",
          "text": [
            "2it [00:00, 1238.54it/s]\n"
          ]
        },
        {
          "output_type": "stream",
          "name": "stdout",
          "text": [
            "epoch 22, test loss=0.155278, test acc=0.888889\n"
          ]
        },
        {
          "output_type": "stream",
          "name": "stderr",
          "text": [
            "2it [00:00, 1153.39it/s]\n"
          ]
        },
        {
          "output_type": "stream",
          "name": "stdout",
          "text": [
            "epoch 23, test loss=0.630536, test acc=0.888889\n"
          ]
        },
        {
          "output_type": "stream",
          "name": "stderr",
          "text": [
            "2it [00:00, 1138.21it/s]\n"
          ]
        },
        {
          "output_type": "stream",
          "name": "stdout",
          "text": [
            "epoch 24, test loss=0.152577, test acc=0.888889\n"
          ]
        },
        {
          "output_type": "stream",
          "name": "stderr",
          "text": [
            "2it [00:00, 1173.23it/s]\n"
          ]
        },
        {
          "output_type": "stream",
          "name": "stdout",
          "text": [
            "epoch 25, test loss=0.467578, test acc=0.888889\n"
          ]
        },
        {
          "output_type": "stream",
          "name": "stderr",
          "text": [
            "2it [00:00, 1191.90it/s]\n"
          ]
        },
        {
          "output_type": "stream",
          "name": "stdout",
          "text": [
            "epoch 26, test loss=0.179159, test acc=0.888889\n"
          ]
        },
        {
          "output_type": "stream",
          "name": "stderr",
          "text": [
            "2it [00:00, 1455.85it/s]\n"
          ]
        },
        {
          "output_type": "stream",
          "name": "stdout",
          "text": [
            "epoch 27, test loss=0.580917, test acc=0.888889\n"
          ]
        },
        {
          "output_type": "stream",
          "name": "stderr",
          "text": [
            "2it [00:00, 1170.78it/s]\n"
          ]
        },
        {
          "output_type": "stream",
          "name": "stdout",
          "text": [
            "epoch 28, test loss=0.231145, test acc=0.888889\n"
          ]
        },
        {
          "output_type": "stream",
          "name": "stderr",
          "text": [
            "2it [00:00, 870.37it/s]\n"
          ]
        },
        {
          "output_type": "stream",
          "name": "stdout",
          "text": [
            "epoch 29, test loss=0.269881, test acc=0.888889\n"
          ]
        },
        {
          "output_type": "stream",
          "name": "stderr",
          "text": [
            "2it [00:00, 1100.29it/s]\n"
          ]
        },
        {
          "output_type": "stream",
          "name": "stdout",
          "text": [
            "epoch 30, test loss=0.169243, test acc=0.888889\n"
          ]
        },
        {
          "output_type": "stream",
          "name": "stderr",
          "text": [
            "2it [00:00, 1016.19it/s]\n"
          ]
        },
        {
          "output_type": "stream",
          "name": "stdout",
          "text": [
            "epoch 31, test loss=0.165185, test acc=0.888889\n"
          ]
        },
        {
          "output_type": "stream",
          "name": "stderr",
          "text": [
            "2it [00:00, 1245.15it/s]\n"
          ]
        },
        {
          "output_type": "stream",
          "name": "stdout",
          "text": [
            "epoch 32, test loss=0.245098, test acc=0.888889\n"
          ]
        },
        {
          "output_type": "stream",
          "name": "stderr",
          "text": [
            "2it [00:00, 1228.38it/s]\n"
          ]
        },
        {
          "output_type": "stream",
          "name": "stdout",
          "text": [
            "epoch 33, test loss=0.155361, test acc=0.888889\n"
          ]
        },
        {
          "output_type": "stream",
          "name": "stderr",
          "text": [
            "2it [00:00, 1362.01it/s]\n"
          ]
        },
        {
          "output_type": "stream",
          "name": "stdout",
          "text": [
            "epoch 34, test loss=0.231124, test acc=0.888889\n"
          ]
        },
        {
          "output_type": "stream",
          "name": "stderr",
          "text": [
            "2it [00:00, 1352.56it/s]\n"
          ]
        },
        {
          "output_type": "stream",
          "name": "stdout",
          "text": [
            "epoch 35, test loss=0.166543, test acc=0.888889\n"
          ]
        },
        {
          "output_type": "stream",
          "name": "stderr",
          "text": [
            "2it [00:00, 1172.58it/s]\n"
          ]
        },
        {
          "output_type": "stream",
          "name": "stdout",
          "text": [
            "epoch 36, test loss=0.220605, test acc=0.888889\n"
          ]
        },
        {
          "output_type": "stream",
          "name": "stderr",
          "text": [
            "2it [00:00, 1191.90it/s]\n"
          ]
        },
        {
          "output_type": "stream",
          "name": "stdout",
          "text": [
            "epoch 37, test loss=0.169314, test acc=0.888889\n"
          ]
        },
        {
          "output_type": "stream",
          "name": "stderr",
          "text": [
            "2it [00:00, 1247.19it/s]\n"
          ]
        },
        {
          "output_type": "stream",
          "name": "stdout",
          "text": [
            "epoch 38, test loss=0.517902, test acc=0.888889\n"
          ]
        },
        {
          "output_type": "stream",
          "name": "stderr",
          "text": [
            "2it [00:00, 1161.21it/s]\n"
          ]
        },
        {
          "output_type": "stream",
          "name": "stdout",
          "text": [
            "epoch 39, test loss=0.391723, test acc=0.888889\n"
          ]
        },
        {
          "output_type": "stream",
          "name": "stderr",
          "text": [
            "2it [00:00, 1008.00it/s]\n"
          ]
        },
        {
          "output_type": "stream",
          "name": "stdout",
          "text": [
            "epoch 40, test loss=0.231145, test acc=0.888889\n"
          ]
        },
        {
          "output_type": "stream",
          "name": "stderr",
          "text": [
            "2it [00:00, 1089.01it/s]\n"
          ]
        },
        {
          "output_type": "stream",
          "name": "stdout",
          "text": [
            "epoch 41, test loss=0.152577, test acc=0.888889\n"
          ]
        },
        {
          "output_type": "stream",
          "name": "stderr",
          "text": [
            "2it [00:00, 1158.17it/s]\n"
          ]
        },
        {
          "output_type": "stream",
          "name": "stdout",
          "text": [
            "epoch 42, test loss=0.401639, test acc=0.888889\n"
          ]
        },
        {
          "output_type": "stream",
          "name": "stderr",
          "text": [
            "2it [00:00, 1231.08it/s]\n"
          ]
        },
        {
          "output_type": "stream",
          "name": "stdout",
          "text": [
            "epoch 43, test loss=0.191451, test acc=0.888889\n"
          ]
        },
        {
          "output_type": "stream",
          "name": "stderr",
          "text": [
            "2it [00:00, 1293.14it/s]\n"
          ]
        },
        {
          "output_type": "stream",
          "name": "stdout",
          "text": [
            "epoch 44, test loss=0.165185, test acc=0.888889\n"
          ]
        },
        {
          "output_type": "stream",
          "name": "stderr",
          "text": [
            "2it [00:00, 1136.82it/s]\n"
          ]
        },
        {
          "output_type": "stream",
          "name": "stdout",
          "text": [
            "epoch 45, test loss=0.335820, test acc=0.888889\n"
          ]
        },
        {
          "output_type": "stream",
          "name": "stderr",
          "text": [
            "2it [00:00, 679.07it/s]\n"
          ]
        },
        {
          "output_type": "stream",
          "name": "stdout",
          "text": [
            "epoch 46, test loss=0.218306, test acc=0.888889\n"
          ]
        },
        {
          "output_type": "stream",
          "name": "stderr",
          "text": [
            "2it [00:00, 1029.78it/s]\n"
          ]
        },
        {
          "output_type": "stream",
          "name": "stdout",
          "text": [
            "epoch 47, test loss=0.515223, test acc=0.888889\n"
          ]
        },
        {
          "output_type": "stream",
          "name": "stderr",
          "text": [
            "2it [00:00, 1177.18it/s]\n"
          ]
        },
        {
          "output_type": "stream",
          "name": "stdout",
          "text": [
            "epoch 48, test loss=0.152577, test acc=0.888889\n"
          ]
        },
        {
          "output_type": "stream",
          "name": "stderr",
          "text": [
            "2it [00:00, 1208.56it/s]\n"
          ]
        },
        {
          "output_type": "stream",
          "name": "stdout",
          "text": [
            "epoch 49, test loss=0.155361, test acc=0.888889\n"
          ]
        },
        {
          "output_type": "stream",
          "name": "stderr",
          "text": [
            "2it [00:00, 1229.28it/s]\n"
          ]
        },
        {
          "output_type": "stream",
          "name": "stdout",
          "text": [
            "epoch 50, test loss=0.540109, test acc=0.888889\n"
          ]
        },
        {
          "output_type": "stream",
          "name": "stderr",
          "text": [
            "2it [00:00, 1215.04it/s]\n"
          ]
        },
        {
          "output_type": "stream",
          "name": "stdout",
          "text": [
            "epoch 51, test loss=0.197843, test acc=0.888889\n"
          ]
        },
        {
          "output_type": "stream",
          "name": "stderr",
          "text": [
            "2it [00:00, 1193.77it/s]\n"
          ]
        },
        {
          "output_type": "stream",
          "name": "stdout",
          "text": [
            "epoch 52, test loss=0.233824, test acc=0.888889\n"
          ]
        },
        {
          "output_type": "stream",
          "name": "stderr",
          "text": [
            "2it [00:00, 1322.50it/s]\n"
          ]
        },
        {
          "output_type": "stream",
          "name": "stdout",
          "text": [
            "epoch 53, test loss=0.271239, test acc=0.888889\n"
          ]
        },
        {
          "output_type": "stream",
          "name": "stderr",
          "text": [
            "2it [00:00, 1300.96it/s]\n"
          ]
        },
        {
          "output_type": "stream",
          "name": "stdout",
          "text": [
            "epoch 54, test loss=0.245098, test acc=0.888889\n"
          ]
        },
        {
          "output_type": "stream",
          "name": "stderr",
          "text": [
            "2it [00:00, 1293.54it/s]\n"
          ]
        },
        {
          "output_type": "stream",
          "name": "stdout",
          "text": [
            "epoch 55, test loss=0.389044, test acc=0.888889\n"
          ]
        },
        {
          "output_type": "stream",
          "name": "stderr",
          "text": [
            "2it [00:00, 1320.00it/s]\n"
          ]
        },
        {
          "output_type": "stream",
          "name": "stdout",
          "text": [
            "epoch 56, test loss=0.372600, test acc=0.888889\n"
          ]
        },
        {
          "output_type": "stream",
          "name": "stderr",
          "text": [
            "2it [00:00, 1219.27it/s]\n"
          ]
        },
        {
          "output_type": "stream",
          "name": "stdout",
          "text": [
            "epoch 57, test loss=0.282172, test acc=0.888889\n"
          ]
        },
        {
          "output_type": "stream",
          "name": "stderr",
          "text": [
            "2it [00:00, 1286.79it/s]\n"
          ]
        },
        {
          "output_type": "stream",
          "name": "stdout",
          "text": [
            "epoch 58, test loss=0.515201, test acc=0.888889\n"
          ]
        },
        {
          "output_type": "stream",
          "name": "stderr",
          "text": [
            "2it [00:00, 1284.63it/s]\n"
          ]
        },
        {
          "output_type": "stream",
          "name": "stdout",
          "text": [
            "epoch 59, test loss=0.152590, test acc=0.888889\n"
          ]
        },
        {
          "output_type": "stream",
          "name": "stderr",
          "text": [
            "2it [00:00, 1403.01it/s]\n"
          ]
        },
        {
          "output_type": "stream",
          "name": "stdout",
          "text": [
            "epoch 60, test loss=0.527818, test acc=0.888889\n"
          ]
        },
        {
          "output_type": "stream",
          "name": "stderr",
          "text": [
            "2it [00:00, 1523.26it/s]\n"
          ]
        },
        {
          "output_type": "stream",
          "name": "stdout",
          "text": [
            "epoch 61, test loss=0.179159, test acc=0.888889\n"
          ]
        },
        {
          "output_type": "stream",
          "name": "stderr",
          "text": [
            "2it [00:00, 900.65it/s]\n"
          ]
        },
        {
          "output_type": "stream",
          "name": "stdout",
          "text": [
            "epoch 62, test loss=0.152590, test acc=0.888889\n"
          ]
        },
        {
          "output_type": "stream",
          "name": "stderr",
          "text": [
            "2it [00:00, 1235.44it/s]\n"
          ]
        },
        {
          "output_type": "stream",
          "name": "stdout",
          "text": [
            "epoch 63, test loss=0.389023, test acc=0.888889\n"
          ]
        },
        {
          "output_type": "stream",
          "name": "stderr",
          "text": [
            "2it [00:00, 1295.34it/s]\n"
          ]
        },
        {
          "output_type": "stream",
          "name": "stdout",
          "text": [
            "epoch 64, test loss=0.155269, test acc=0.888889\n"
          ]
        },
        {
          "output_type": "stream",
          "name": "stderr",
          "text": [
            "2it [00:00, 1290.75it/s]\n"
          ]
        },
        {
          "output_type": "stream",
          "name": "stdout",
          "text": [
            "epoch 65, test loss=0.593756, test acc=0.888889\n"
          ]
        },
        {
          "output_type": "stream",
          "name": "stderr",
          "text": [
            "2it [00:00, 440.05it/s]\n"
          ]
        },
        {
          "output_type": "stream",
          "name": "stdout",
          "text": [
            "epoch 66, test loss=0.231124, test acc=0.888889\n"
          ]
        },
        {
          "output_type": "stream",
          "name": "stderr",
          "text": [
            "2it [00:00, 361.45it/s]\n"
          ]
        },
        {
          "output_type": "stream",
          "name": "stdout",
          "text": [
            "epoch 67, test loss=0.233895, test acc=0.888889\n"
          ]
        },
        {
          "output_type": "stream",
          "name": "stderr",
          "text": [
            "2it [00:00, 278.41it/s]\n"
          ]
        },
        {
          "output_type": "stream",
          "name": "stdout",
          "text": [
            "epoch 68, test loss=0.515201, test acc=0.888889\n"
          ]
        },
        {
          "output_type": "stream",
          "name": "stderr",
          "text": [
            "2it [00:00, 1073.81it/s]\n"
          ]
        },
        {
          "output_type": "stream",
          "name": "stdout",
          "text": [
            "epoch 69, test loss=0.280520, test acc=0.888889\n"
          ]
        },
        {
          "output_type": "stream",
          "name": "stderr",
          "text": [
            "2it [00:00, 1027.26it/s]\n"
          ]
        },
        {
          "output_type": "stream",
          "name": "stdout",
          "text": [
            "epoch 70, test loss=0.169314, test acc=0.888889\n"
          ]
        },
        {
          "output_type": "stream",
          "name": "stderr",
          "text": [
            "2it [00:00, 978.04it/s]\n"
          ]
        },
        {
          "output_type": "stream",
          "name": "stdout",
          "text": [
            "epoch 71, test loss=0.233895, test acc=0.888889\n"
          ]
        },
        {
          "output_type": "stream",
          "name": "stderr",
          "text": [
            "2it [00:00, 1043.75it/s]\n"
          ]
        },
        {
          "output_type": "stream",
          "name": "stdout",
          "text": [
            "epoch 72, test loss=0.257286, test acc=0.888889\n"
          ]
        },
        {
          "output_type": "stream",
          "name": "stderr",
          "text": [
            "2it [00:00, 951.74it/s]\n"
          ]
        },
        {
          "output_type": "stream",
          "name": "stdout",
          "text": [
            "epoch 73, test loss=0.402997, test acc=0.888889\n"
          ]
        },
        {
          "output_type": "stream",
          "name": "stderr",
          "text": [
            "2it [00:00, 1108.28it/s]\n"
          ]
        },
        {
          "output_type": "stream",
          "name": "stdout",
          "text": [
            "epoch 74, test loss=0.401639, test acc=0.888889\n"
          ]
        },
        {
          "output_type": "stream",
          "name": "stderr",
          "text": [
            "2it [00:00, 767.41it/s]\n"
          ]
        },
        {
          "output_type": "stream",
          "name": "stdout",
          "text": [
            "epoch 75, test loss=0.302531, test acc=0.888889\n"
          ]
        },
        {
          "output_type": "stream",
          "name": "stderr",
          "text": [
            "2it [00:00, 1166.22it/s]\n"
          ]
        },
        {
          "output_type": "stream",
          "name": "stdout",
          "text": [
            "epoch 76, test loss=0.267904, test acc=0.888889\n"
          ]
        },
        {
          "output_type": "stream",
          "name": "stderr",
          "text": [
            "2it [00:00, 1253.15it/s]\n"
          ]
        },
        {
          "output_type": "stream",
          "name": "stdout",
          "text": [
            "epoch 77, test loss=0.155340, test acc=0.888889\n"
          ]
        },
        {
          "output_type": "stream",
          "name": "stderr",
          "text": [
            "2it [00:00, 1323.33it/s]\n"
          ]
        },
        {
          "output_type": "stream",
          "name": "stdout",
          "text": [
            "epoch 78, test loss=0.197835, test acc=0.888889\n"
          ]
        },
        {
          "output_type": "stream",
          "name": "stderr",
          "text": [
            "2it [00:00, 1301.97it/s]\n"
          ]
        },
        {
          "output_type": "stream",
          "name": "stdout",
          "text": [
            "epoch 79, test loss=0.152577, test acc=0.888889\n"
          ]
        },
        {
          "output_type": "stream",
          "name": "stderr",
          "text": [
            "2it [00:00, 1325.84it/s]\n"
          ]
        },
        {
          "output_type": "stream",
          "name": "stdout",
          "text": [
            "epoch 80, test loss=0.155340, test acc=0.888889\n"
          ]
        },
        {
          "output_type": "stream",
          "name": "stderr",
          "text": [
            "2it [00:00, 1242.57it/s]\n"
          ]
        },
        {
          "output_type": "stream",
          "name": "stdout",
          "text": [
            "epoch 81, test loss=0.152578, test acc=0.888889\n"
          ]
        },
        {
          "output_type": "stream",
          "name": "stderr",
          "text": [
            "2it [00:00, 1353.87it/s]\n"
          ]
        },
        {
          "output_type": "stream",
          "name": "stdout",
          "text": [
            "epoch 82, test loss=0.593756, test acc=0.888889\n"
          ]
        },
        {
          "output_type": "stream",
          "name": "stderr",
          "text": [
            "2it [00:00, 1318.34it/s]\n"
          ]
        },
        {
          "output_type": "stream",
          "name": "stdout",
          "text": [
            "epoch 83, test loss=0.259965, test acc=0.888889\n"
          ]
        },
        {
          "output_type": "stream",
          "name": "stderr",
          "text": [
            "2it [00:00, 1279.53it/s]\n"
          ]
        },
        {
          "output_type": "stream",
          "name": "stdout",
          "text": [
            "epoch 84, test loss=0.155269, test acc=0.888889\n"
          ]
        },
        {
          "output_type": "stream",
          "name": "stderr",
          "text": [
            "2it [00:00, 1205.78it/s]\n"
          ]
        },
        {
          "output_type": "stream",
          "name": "stdout",
          "text": [
            "epoch 85, test loss=0.152577, test acc=0.888889\n"
          ]
        },
        {
          "output_type": "stream",
          "name": "stderr",
          "text": [
            "2it [00:00, 1213.28it/s]\n"
          ]
        },
        {
          "output_type": "stream",
          "name": "stdout",
          "text": [
            "epoch 86, test loss=0.515202, test acc=0.888889\n"
          ]
        },
        {
          "output_type": "stream",
          "name": "stderr",
          "text": [
            "2it [00:00, 1278.36it/s]\n"
          ]
        },
        {
          "output_type": "stream",
          "name": "stdout",
          "text": [
            "epoch 87, test loss=0.169314, test acc=0.888889\n"
          ]
        },
        {
          "output_type": "stream",
          "name": "stderr",
          "text": [
            "2it [00:00, 1247.93it/s]\n"
          ]
        },
        {
          "output_type": "stream",
          "name": "stdout",
          "text": [
            "epoch 88, test loss=0.467578, test acc=0.888889\n"
          ]
        },
        {
          "output_type": "stream",
          "name": "stderr",
          "text": [
            "2it [00:00, 1275.06it/s]\n"
          ]
        },
        {
          "output_type": "stream",
          "name": "stdout",
          "text": [
            "epoch 89, test loss=0.221055, test acc=0.888889\n"
          ]
        },
        {
          "output_type": "stream",
          "name": "stderr",
          "text": [
            "2it [00:00, 1289.56it/s]\n"
          ]
        },
        {
          "output_type": "stream",
          "name": "stdout",
          "text": [
            "epoch 90, test loss=0.200155, test acc=0.888889\n"
          ]
        },
        {
          "output_type": "stream",
          "name": "stderr",
          "text": [
            "2it [00:00, 1337.04it/s]\n"
          ]
        },
        {
          "output_type": "stream",
          "name": "stdout",
          "text": [
            "epoch 91, test loss=0.165185, test acc=0.888889\n"
          ]
        },
        {
          "output_type": "stream",
          "name": "stderr",
          "text": [
            "2it [00:00, 1273.90it/s]\n"
          ]
        },
        {
          "output_type": "stream",
          "name": "stdout",
          "text": [
            "epoch 92, test loss=0.155340, test acc=0.888889\n"
          ]
        },
        {
          "output_type": "stream",
          "name": "stderr",
          "text": [
            "2it [00:00, 1256.91it/s]\n"
          ]
        },
        {
          "output_type": "stream",
          "name": "stdout",
          "text": [
            "epoch 93, test loss=0.372600, test acc=0.888889\n"
          ]
        },
        {
          "output_type": "stream",
          "name": "stderr",
          "text": [
            "2it [00:00, 838.86it/s]\n"
          ]
        },
        {
          "output_type": "stream",
          "name": "stdout",
          "text": [
            "epoch 94, test loss=0.231145, test acc=0.888889\n"
          ]
        },
        {
          "output_type": "stream",
          "name": "stderr",
          "text": [
            "2it [00:00, 1254.47it/s]\n"
          ]
        },
        {
          "output_type": "stream",
          "name": "stdout",
          "text": [
            "epoch 95, test loss=0.313170, test acc=0.888889\n"
          ]
        },
        {
          "output_type": "stream",
          "name": "stderr",
          "text": [
            "2it [00:00, 1247.01it/s]\n"
          ]
        },
        {
          "output_type": "stream",
          "name": "stdout",
          "text": [
            "epoch 96, test loss=0.166543, test acc=0.888889\n"
          ]
        },
        {
          "output_type": "stream",
          "name": "stderr",
          "text": [
            "2it [00:00, 1244.23it/s]\n"
          ]
        },
        {
          "output_type": "stream",
          "name": "stdout",
          "text": [
            "epoch 97, test loss=0.180177, test acc=0.888889\n"
          ]
        },
        {
          "output_type": "stream",
          "name": "stderr",
          "text": [
            "2it [00:00, 1184.66it/s]\n"
          ]
        },
        {
          "output_type": "stream",
          "name": "stdout",
          "text": [
            "epoch 98, test loss=0.152590, test acc=0.888889\n"
          ]
        },
        {
          "output_type": "stream",
          "name": "stderr",
          "text": [
            "2it [00:00, 1214.68it/s]"
          ]
        },
        {
          "output_type": "stream",
          "name": "stdout",
          "text": [
            "epoch 99, test loss=0.515201, test acc=0.888889\n"
          ]
        },
        {
          "output_type": "stream",
          "name": "stderr",
          "text": [
            "\n"
          ]
        }
      ]
    },
    {
      "cell_type": "code",
      "source": [
        "precision_recall_fscore_support(test_labels, test_predictions, zero_division=0)"
      ],
      "metadata": {
        "colab": {
          "base_uri": "https://localhost:8080/"
        },
        "id": "WtvNAPLyOkye",
        "outputId": "d06ad6c4-6dcf-4d4a-faea-3b4ee00111c8"
      },
      "execution_count": 40,
      "outputs": [
        {
          "output_type": "execute_result",
          "data": {
            "text/plain": [
              "(array([0.77777778, 1.        , 1.        ]),\n",
              " array([1.        , 0.85714286, 0.75      ]),\n",
              " array([0.875     , 0.92307692, 0.85714286]),\n",
              " array([7, 7, 4]))"
            ]
          },
          "metadata": {},
          "execution_count": 40
        }
      ]
    }
  ]
}