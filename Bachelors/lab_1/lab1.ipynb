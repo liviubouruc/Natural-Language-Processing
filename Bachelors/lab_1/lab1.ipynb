{
 "cells": [
  {
   "cell_type": "markdown",
   "metadata": {
    "id": "kYN6xXrf0jdy"
   },
   "source": [
    "# Lab 1. Basic Techniques"
   ]
  },
  {
   "cell_type": "markdown",
   "metadata": {
    "id": "jl-E8ey90y3-"
   },
   "source": [
    "## Regex"
   ]
  },
  {
   "cell_type": "markdown",
   "metadata": {
    "id": "ibjQLLG9yCZS"
   },
   "source": [
    "Expresiile regulate. Utile pentru cautare si normalizare de texte - https://www.w3schools.com/python/python_regex.asp\n"
   ]
  },
  {
   "cell_type": "code",
   "execution_count": 1,
   "metadata": {
    "id": "gFqSzXcNyPU7"
   },
   "outputs": [],
   "source": [
    "import re\n",
    "\n",
    "text = \"\"\"\n",
    "Praise for The Rain in Portugal\n",
    " \n",
    "“Nothing in Billy Collins’s twelfth book . . . is exactly what readers might expect, and that’s the charm of this collection.”—The Washington Post\n",
    " \n",
    "“This new collection shows [Collins] at his finest. . . . Certain to please his large readership and a good place for readers new to Collins to begin.”—Library Journal. \n",
    " \n",
    "“Disarmingly playful and wistfully candid.”—Booklist\n",
    "Buy new:$38.65\n",
    "No Import Fees Deposit & $13.01 Shipping to Romania Details -12.3.\n",
    "\"\"\""
   ]
  },
  {
   "cell_type": "markdown",
   "metadata": {
    "id": "PLNJrErsyXNN"
   },
   "source": [
    "Sterge toate caracterele diferite de litere mari si mici ale alfabetului englez, apoi normalizeaza toate secventele de caractere de tip spatii la 1 spatiu"
   ]
  },
  {
   "cell_type": "code",
   "execution_count": 2,
   "metadata": {
    "colab": {
     "base_uri": "https://localhost:8080/"
    },
    "executionInfo": {
     "elapsed": 246,
     "status": "ok",
     "timestamp": 1644683724989,
     "user": {
      "displayName": "Bogdan Iordache",
      "photoUrl": "https://lh3.googleusercontent.com/a-/AOh14Gh-PZvTGY_WfhB97fLgLmkcd8CIjhKRDgsFQiip=s64",
      "userId": "11937921055418047811"
     },
     "user_tz": -120
    },
    "id": "YP7lMkYPyW0H",
    "outputId": "1aaf8845-a230-4ca6-b06a-c893408e43b3"
   },
   "outputs": [
    {
     "name": "stdout",
     "output_type": "stream",
     "text": [
      " Praise for The Rain in Portugal Nothing in Billy Collins s twelfth book is exactly what readers might expect and that s the charm of this collection The Washington Post This new collection shows Collins at his finest Certain to please his large readership and a good place for readers new to Collins to begin Library Journal Disarmingly playful and wistfully candid Booklist Buy new No Import Fees Deposit Shipping to Romania Details \n"
     ]
    }
   ],
   "source": [
    "cleaned_text = re.sub(\"[^A-Za-z]\", \" \", text)\n",
    "cleaned_text = re.sub(\"\\s+\", \" \", cleaned_text)\n",
    "print(cleaned_text)"
   ]
  },
  {
   "cell_type": "markdown",
   "metadata": {
    "id": "_LOnaRquyhlP"
   },
   "source": [
    "Le putem testa cel mai usor pe https://pythex.org/ . Aici cautam toate numerele float sau int, impreuna cu pozitiile si valorile lor."
   ]
  },
  {
   "cell_type": "code",
   "execution_count": 3,
   "metadata": {
    "colab": {
     "base_uri": "https://localhost:8080/"
    },
    "executionInfo": {
     "elapsed": 248,
     "status": "ok",
     "timestamp": 1644684003604,
     "user": {
      "displayName": "Bogdan Iordache",
      "photoUrl": "https://lh3.googleusercontent.com/a-/AOh14Gh-PZvTGY_WfhB97fLgLmkcd8CIjhKRDgsFQiip=s64",
      "userId": "11937921055418047811"
     },
     "user_tz": -120
    },
    "id": "1uJAKaNHyUS_",
    "outputId": "d94404da-f9e8-4fb8-c00f-8c95e28d59ca"
   },
   "outputs": [
    {
     "name": "stdout",
     "output_type": "stream",
     "text": [
      "418 38.65\n",
      "450 13.01\n",
      "484 -12.3\n"
     ]
    }
   ],
   "source": [
    "pattern = re.compile(\"[+-]?(\\d+\\.)?\\d+\")\n",
    "for matching in pattern.finditer(text):\n",
    "    print(matching.start(), matching.group())"
   ]
  },
  {
   "cell_type": "markdown",
   "metadata": {
    "id": "UQMO4b6u007D"
   },
   "source": [
    "## Encodings"
   ]
  },
  {
   "cell_type": "markdown",
   "metadata": {
    "id": "bI5ffSzvfJi8"
   },
   "source": [
    "Encodarea unui text poate varia, in functie de limba si este importanta. Python foloseste standardul 'utf8'. Urmatorul exemplu este preluat dintr-o subtitrare (.srt) din limba rusa, dar nu este encodat in utf8. Citindu-l obtinem urmatoarea eroare:"
   ]
  },
  {
   "cell_type": "code",
   "execution_count": 4,
   "metadata": {
    "colab": {
     "base_uri": "https://localhost:8080/",
     "height": 338
    },
    "executionInfo": {
     "elapsed": 233,
     "status": "error",
     "timestamp": 1644678939085,
     "user": {
      "displayName": "Bogdan Iordache",
      "photoUrl": "https://lh3.googleusercontent.com/a-/AOh14Gh-PZvTGY_WfhB97fLgLmkcd8CIjhKRDgsFQiip=s64",
      "userId": "11937921055418047811"
     },
     "user_tz": -120
    },
    "id": "W1F8_BTNfOK1",
    "outputId": "1486b3df-db44-4424-b8d8-ef19cb4fe330"
   },
   "outputs": [
    {
     "ename": "UnicodeDecodeError",
     "evalue": "'utf-8' codec can't decode byte 0xdd in position 34: invalid continuation byte",
     "output_type": "error",
     "traceback": [
      "\u001b[0;31m---------------------------------------------------------------------------\u001b[0m",
      "\u001b[0;31mUnicodeDecodeError\u001b[0m                        Traceback (most recent call last)",
      "Input \u001b[0;32mIn [4]\u001b[0m, in \u001b[0;36m<module>\u001b[0;34m\u001b[0m\n\u001b[1;32m      1\u001b[0m \u001b[38;5;28;01mwith\u001b[39;00m \u001b[38;5;28mopen\u001b[39m(\u001b[38;5;124m'\u001b[39m\u001b[38;5;124mencoded_text.txt\u001b[39m\u001b[38;5;124m'\u001b[39m, \u001b[38;5;124m\"\u001b[39m\u001b[38;5;124mr\u001b[39m\u001b[38;5;124m\"\u001b[39m) \u001b[38;5;28;01mas\u001b[39;00m fin:\n\u001b[0;32m----> 2\u001b[0m     content \u001b[38;5;241m=\u001b[39m \u001b[43mfin\u001b[49m\u001b[38;5;241;43m.\u001b[39;49m\u001b[43mread\u001b[49m\u001b[43m(\u001b[49m\u001b[43m)\u001b[49m\n\u001b[1;32m      3\u001b[0m     \u001b[38;5;28mprint\u001b[39m(content)\n",
      "File \u001b[0;32m/usr/lib/python3.8/codecs.py:322\u001b[0m, in \u001b[0;36mBufferedIncrementalDecoder.decode\u001b[0;34m(self, input, final)\u001b[0m\n\u001b[1;32m    319\u001b[0m \u001b[38;5;28;01mdef\u001b[39;00m \u001b[38;5;21mdecode\u001b[39m(\u001b[38;5;28mself\u001b[39m, \u001b[38;5;28minput\u001b[39m, final\u001b[38;5;241m=\u001b[39m\u001b[38;5;28;01mFalse\u001b[39;00m):\n\u001b[1;32m    320\u001b[0m     \u001b[38;5;66;03m# decode input (taking the buffer into account)\u001b[39;00m\n\u001b[1;32m    321\u001b[0m     data \u001b[38;5;241m=\u001b[39m \u001b[38;5;28mself\u001b[39m\u001b[38;5;241m.\u001b[39mbuffer \u001b[38;5;241m+\u001b[39m \u001b[38;5;28minput\u001b[39m\n\u001b[0;32m--> 322\u001b[0m     (result, consumed) \u001b[38;5;241m=\u001b[39m \u001b[38;5;28;43mself\u001b[39;49m\u001b[38;5;241;43m.\u001b[39;49m\u001b[43m_buffer_decode\u001b[49m\u001b[43m(\u001b[49m\u001b[43mdata\u001b[49m\u001b[43m,\u001b[49m\u001b[43m \u001b[49m\u001b[38;5;28;43mself\u001b[39;49m\u001b[38;5;241;43m.\u001b[39;49m\u001b[43merrors\u001b[49m\u001b[43m,\u001b[49m\u001b[43m \u001b[49m\u001b[43mfinal\u001b[49m\u001b[43m)\u001b[49m\n\u001b[1;32m    323\u001b[0m     \u001b[38;5;66;03m# keep undecoded input until the next call\u001b[39;00m\n\u001b[1;32m    324\u001b[0m     \u001b[38;5;28mself\u001b[39m\u001b[38;5;241m.\u001b[39mbuffer \u001b[38;5;241m=\u001b[39m data[consumed:]\n",
      "\u001b[0;31mUnicodeDecodeError\u001b[0m: 'utf-8' codec can't decode byte 0xdd in position 34: invalid continuation byte"
     ]
    }
   ],
   "source": [
    "with open('encoded_text.txt', \"r\") as fin:\n",
    "    content = fin.read()\n",
    "    print(content)"
   ]
  },
  {
   "cell_type": "markdown",
   "metadata": {
    "id": "60znqZ6wfP-s"
   },
   "source": [
    "Incercam sa detectam encoding-ul lui folosind chardet"
   ]
  },
  {
   "cell_type": "code",
   "execution_count": 1,
   "metadata": {
    "id": "gvOUmRW2fRN1"
   },
   "outputs": [
    {
     "name": "stdout",
     "output_type": "stream",
     "text": [
      "Collecting chardet\n",
      "  Downloading chardet-4.0.0-py2.py3-none-any.whl (178 kB)\n",
      "Installing collected packages: chardet\n",
      "Successfully installed chardet-4.0.0\n"
     ]
    },
    {
     "name": "stderr",
     "output_type": "stream",
     "text": [
      "WARNING: You are using pip version 21.1.3; however, version 22.0.3 is available.\n",
      "You should consider upgrading via the 'c:\\users\\user\\appdata\\local\\programs\\python\\python39\\python.exe -m pip install --upgrade pip' command.\n"
     ]
    }
   ],
   "source": [
    "! pip install chardet"
   ]
  },
  {
   "cell_type": "code",
   "execution_count": 2,
   "metadata": {
    "colab": {
     "base_uri": "https://localhost:8080/"
    },
    "executionInfo": {
     "elapsed": 259,
     "status": "ok",
     "timestamp": 1644678991060,
     "user": {
      "displayName": "Bogdan Iordache",
      "photoUrl": "https://lh3.googleusercontent.com/a-/AOh14Gh-PZvTGY_WfhB97fLgLmkcd8CIjhKRDgsFQiip=s64",
      "userId": "11937921055418047811"
     },
     "user_tz": -120
    },
    "id": "pBBadYt8fXx8",
    "outputId": "8337c7c7-bd49-4889-9600-69399bde4512"
   },
   "outputs": [
    {
     "name": "stdout",
     "output_type": "stream",
     "text": [
      "windows-1251\n"
     ]
    }
   ],
   "source": [
    "import chardet\n",
    "\n",
    "with open('encoded_text.txt', \"rb\") as f:\n",
    "    rawdata = f.read()\n",
    "    result = chardet.detect(rawdata)\n",
    "    extracted_encoding = result['encoding']\n",
    "    print(extracted_encoding)"
   ]
  },
  {
   "cell_type": "markdown",
   "metadata": {
    "id": "XwjdvMNSfZTP"
   },
   "source": [
    "Reluam citirea si salvam continutul in format utf8"
   ]
  },
  {
   "cell_type": "code",
   "execution_count": 6,
   "metadata": {
    "id": "OPBYzpfYfcF6"
   },
   "outputs": [],
   "source": [
    "with open('encoded_text.txt', 'r', encoding=extracted_encoding) as fin:\n",
    "    content = fin.read()\n",
    "with open('utf8_text.txt', 'w', encoding='utf8') as fout:\n",
    "    fout.write(content)"
   ]
  },
  {
   "cell_type": "code",
   "execution_count": 7,
   "metadata": {
    "colab": {
     "base_uri": "https://localhost:8080/"
    },
    "executionInfo": {
     "elapsed": 240,
     "status": "ok",
     "timestamp": 1644679004976,
     "user": {
      "displayName": "Bogdan Iordache",
      "photoUrl": "https://lh3.googleusercontent.com/a-/AOh14Gh-PZvTGY_WfhB97fLgLmkcd8CIjhKRDgsFQiip=s64",
      "userId": "11937921055418047811"
     },
     "user_tz": -120
    },
    "id": "3ZwGqlQifzDk",
    "outputId": "d5330318-7461-46ab-b094-d1e19fc1fb28"
   },
   "outputs": [
    {
     "name": "stdout",
     "output_type": "stream",
     "text": [
      "1\n",
      "00:00:05,100 --> 00:00:10,860\n",
      "Это были тяжелые времена. Рим находился под господством коррумпированного Папы и сомнительных законов\n",
      "\n",
      "2\n",
      "00:00:10,960 --> 00:00:13,820\n",
      "игр власти и междоусобной борьбы\n",
      "\n",
      "3\n",
      "00:00:15,660 --> 00:00:20,310\n",
      "Синьоры начинали жестокие сражения с единственной целью – накопить состояние\n",
      "\n",
      "4\n",
      "00:00:21,640 --> 00:00:24,950\n",
      "А тем временем, простые люди ели не каждый день\n",
      "\n",
      "5\n",
      "00:00:30,090 --> 00:00:36,040\n",
      "Любовь была темой для поэтов, но редко упоминалась в свадебных клятвах\n",
      "\n",
      "6\n",
      "00:00:36,940 --> 00:00:42,140\n",
      "Женщин отдавали в жены мужчинам, которых они едва знали, не говоря уже о любви\n",
      "\n",
      "7\n",
      "00:00:43,040 --> 00:00:47,980\n",
      "В этом мире, жестоком и несправедливом, я повстречала двух молодых людей\n",
      "\n"
     ]
    }
   ],
   "source": [
    "with open('utf8_text.txt', \"r\") as fin:\n",
    "    content = fin.read()\n",
    "    print(content)"
   ]
  },
  {
   "cell_type": "markdown",
   "metadata": {
    "id": "EEC0t_4T05S2"
   },
   "source": [
    "## Non-standard files (PDF, Word, etc.)"
   ]
  },
  {
   "cell_type": "markdown",
   "metadata": {
    "id": "kT-3FzVo0QKT"
   },
   "source": [
    "Putem citi texte din documente word folosind:"
   ]
  },
  {
   "cell_type": "code",
   "execution_count": 3,
   "metadata": {},
   "outputs": [
    {
     "name": "stdout",
     "output_type": "stream",
     "text": [
      "Collecting docx2txt\n",
      "  Downloading docx2txt-0.8.tar.gz (2.8 kB)\n",
      "Building wheels for collected packages: docx2txt\n",
      "  Building wheel for docx2txt (setup.py): started\n",
      "  Building wheel for docx2txt (setup.py): finished with status 'done'\n",
      "  Created wheel for docx2txt: filename=docx2txt-0.8-py3-none-any.whl size=3965 sha256=bc5fb1d45ad1916085c49c697447b301142df9a4e8d141c9bde3c385c74cfc1a\n",
      "  Stored in directory: c:\\users\\user\\appdata\\local\\pip\\cache\\wheels\\40\\75\\01\\e6c444034338bde9c7947d3467807f889123465c2371e77418\n",
      "Successfully built docx2txt\n",
      "Installing collected packages: docx2txt\n",
      "Successfully installed docx2txt-0.8\n"
     ]
    },
    {
     "name": "stderr",
     "output_type": "stream",
     "text": [
      "WARNING: You are using pip version 21.1.3; however, version 22.0.3 is available.\n",
      "You should consider upgrading via the 'c:\\users\\user\\appdata\\local\\programs\\python\\python39\\python.exe -m pip install --upgrade pip' command.\n"
     ]
    }
   ],
   "source": [
    "! pip install docx2txt"
   ]
  },
  {
   "cell_type": "code",
   "execution_count": 4,
   "metadata": {
    "colab": {
     "base_uri": "https://localhost:8080/"
    },
    "executionInfo": {
     "elapsed": 282,
     "status": "ok",
     "timestamp": 1644684536901,
     "user": {
      "displayName": "Bogdan Iordache",
      "photoUrl": "https://lh3.googleusercontent.com/a-/AOh14Gh-PZvTGY_WfhB97fLgLmkcd8CIjhKRDgsFQiip=s64",
      "userId": "11937921055418047811"
     },
     "user_tz": -120
    },
    "id": "r9aPabVw0XBH",
    "outputId": "76ff3ec9-247c-4efd-b460-28c31dbdb652"
   },
   "outputs": [
    {
     "name": "stdout",
     "output_type": "stream",
     "text": [
      "Beautiful Soup is a Python library for pulling data out of HTML and XML files. It works with your favorite parser to provide idiomatic ways of navigating, searching, and modifying the parse tree. It commonly saves programmers hours or days of work.\n",
      "\n",
      "\n",
      "\n",
      "These instructions illustrate all major features of Beautiful Soup 4, with examples. I show you what the library is good for, how it works, how to use it, how to make it do what you want, and what to do when it violates your expectations.\n",
      "\n",
      "\n",
      "\n",
      "This document covers Beautiful Soup version 4.10.0. The examples in this documentation were written for Python 3.8.\n",
      "\n",
      "\n",
      "\n",
      "You might be looking for the documentation for Beautiful Soup 3. If so, you should know that Beautiful Soup 3 is no longer being developed and that all support for it was dropped on December 31, 2020. If you want to learn about the differences between Beautiful Soup 3 and Beautiful Soup 4, see Porting code to BS4.\n",
      "\n",
      "\n",
      "\n",
      "This documentation has been translated into other languages by Beautiful Soup users:\n"
     ]
    }
   ],
   "source": [
    "import docx2txt\n",
    "my_text = docx2txt.process(\"soup.docx\")\n",
    "print(my_text)"
   ]
  },
  {
   "cell_type": "markdown",
   "metadata": {
    "id": "rYv-2JYZ1YD3"
   },
   "source": [
    "Sau pdf-uri care sunt salvate ca texte (nu poze):"
   ]
  },
  {
   "cell_type": "code",
   "execution_count": 5,
   "metadata": {
    "id": "uZHrdF851Z3q"
   },
   "outputs": [
    {
     "name": "stdout",
     "output_type": "stream",
     "text": [
      "Collecting pdfplumber"
     ]
    },
    {
     "name": "stderr",
     "output_type": "stream",
     "text": [
      "WARNING: You are using pip version 21.1.3; however, version 22.0.3 is available.\n",
      "You should consider upgrading via the 'c:\\users\\user\\appdata\\local\\programs\\python\\python39\\python.exe -m pip install --upgrade pip' command.\n"
     ]
    },
    {
     "name": "stdout",
     "output_type": "stream",
     "text": [
      "\n",
      "  Downloading pdfplumber-0.6.0.tar.gz (46 kB)\n",
      "Collecting pdfminer.six==20211012\n",
      "  Downloading pdfminer.six-20211012-py3-none-any.whl (5.6 MB)\n",
      "Requirement already satisfied: Pillow>=8.4 in c:\\users\\user\\appdata\\local\\programs\\python\\python39\\lib\\site-packages (from pdfplumber) (8.4.0)\n",
      "Collecting Wand>=0.6.7\n",
      "  Downloading Wand-0.6.7-py2.py3-none-any.whl (139 kB)\n",
      "Collecting cryptography\n",
      "  Downloading cryptography-36.0.1-cp36-abi3-win_amd64.whl (2.2 MB)\n",
      "Requirement already satisfied: chardet in c:\\users\\user\\appdata\\local\\programs\\python\\python39\\lib\\site-packages (from pdfminer.six==20211012->pdfplumber) (4.0.0)\n",
      "Requirement already satisfied: cffi>=1.12 in c:\\users\\user\\appdata\\local\\programs\\python\\python39\\lib\\site-packages (from cryptography->pdfminer.six==20211012->pdfplumber) (1.15.0)\n",
      "Requirement already satisfied: pycparser in c:\\users\\user\\appdata\\local\\programs\\python\\python39\\lib\\site-packages (from cffi>=1.12->cryptography->pdfminer.six==20211012->pdfplumber) (2.21)\n",
      "Building wheels for collected packages: pdfplumber\n",
      "  Building wheel for pdfplumber (setup.py): started\n",
      "  Building wheel for pdfplumber (setup.py): finished with status 'done'\n",
      "  Created wheel for pdfplumber: filename=pdfplumber-0.6.0-py3-none-any.whl size=33667 sha256=78c78e091f8d48fa5c147a4f352c29d7dd4acb1dd46f7dc047e700cad10fab25\n",
      "  Stored in directory: c:\\users\\user\\appdata\\local\\pip\\cache\\wheels\\d9\\28\\db\\b9560dc712489797249930c9252d6966e7d6c8c45fe16e909f\n",
      "Successfully built pdfplumber\n",
      "Installing collected packages: cryptography, Wand, pdfminer.six, pdfplumber\n",
      "Successfully installed Wand-0.6.7 cryptography-36.0.1 pdfminer.six-20211012 pdfplumber-0.6.0\n"
     ]
    }
   ],
   "source": [
    "! pip install pdfplumber"
   ]
  },
  {
   "cell_type": "code",
   "execution_count": 6,
   "metadata": {
    "colab": {
     "base_uri": "https://localhost:8080/"
    },
    "executionInfo": {
     "elapsed": 952,
     "status": "ok",
     "timestamp": 1644684520795,
     "user": {
      "displayName": "Bogdan Iordache",
      "photoUrl": "https://lh3.googleusercontent.com/a-/AOh14Gh-PZvTGY_WfhB97fLgLmkcd8CIjhKRDgsFQiip=s64",
      "userId": "11937921055418047811"
     },
     "user_tz": -120
    },
    "id": "A_x4wZpQ1hh8",
    "outputId": "e937a5ee-fb74-4c04-bfb2-68ad259bdf1b"
   },
   "outputs": [
    {
     "name": "stdout",
     "output_type": "stream",
     "text": [
      "Beautiful Soup is a Python library for pulling data out of HTML and XML files. It works with your favorite \n",
      "parser to provide idiomatic ways of navigating, searching, and modifying the parse tree. It commonly \n",
      "saves programmers hours or days of work. \n",
      " \n",
      "These instructions illustrate all major features of Beautiful Soup 4, with examples. I show you what the \n",
      "library is good for, how it works, how to use it, how to make it do what you want, and what to do when \n",
      "it violates your expectations. \n",
      " \n",
      "This document covers Beautiful Soup version 4.10.0. The examples in this documentation were written \n",
      "for Python 3.8. \n",
      " \n",
      "You might be looking for the documentation for Beautiful Soup 3. If so, you should know that Beautiful \n",
      "Soup 3 is no longer being developed and that all support for it was dropped on December 31, 2020. If \n",
      "you want to learn about the differences between Beautiful Soup 3 and Beautiful Soup 4, see Porting \n",
      "code to BS4. \n",
      " \n",
      "This documentation has been translated into other languages by Beautiful Soup users: \n"
     ]
    }
   ],
   "source": [
    "import pdfplumber\n",
    "with pdfplumber.open('soup.pdf') as pdf:\n",
    "    for page in pdf.pages:\n",
    "        print(page.extract_text())"
   ]
  },
  {
   "cell_type": "markdown",
   "metadata": {
    "id": "-ix-cDK_1FrO"
   },
   "source": [
    "## Web scraping"
   ]
  },
  {
   "cell_type": "markdown",
   "metadata": {
    "id": "SZ5jU3-C9Xrw"
   },
   "source": [
    "Prin scraping ne referim la o multime de metode prin care putem descarca date nestructurate din mediul web, pe care le putem apoi procesa si stoca sub forma structurata."
   ]
  },
  {
   "cell_type": "markdown",
   "metadata": {
    "id": "kz0-C3BJj9V_"
   },
   "source": [
    "Ca prim exemplu de scraping vom incerca urmatorul task: pornind de la site-ul de programare competitiva \"infoarena.ro\" dorim pentru un utilizator sa descarcam informatii despre toate submisiile efectuate de acesta.\n",
    "\n",
    "Exemplu pagina de submisii: https://www.infoarena.ro/monitor?user=iordache.bogdan\n",
    "\n",
    "Pentru a realiza un request care sa intoarca continutul paginii putem folosi biblioteca \"requests\":"
   ]
  },
  {
   "cell_type": "code",
   "execution_count": 11,
   "metadata": {},
   "outputs": [
    {
     "name": "stdout",
     "output_type": "stream",
     "text": [
      "Requirement already satisfied: requests in c:\\users\\user\\appdata\\local\\programs\\python\\python39\\lib\\site-packages (2.27.1)\n",
      "Requirement already satisfied: charset-normalizer~=2.0.0 in c:\\users\\user\\appdata\\local\\programs\\python\\python39\\lib\\site-packages (from requests) (2.0.10)\n",
      "Requirement already satisfied: urllib3<1.27,>=1.21.1 in c:\\users\\user\\appdata\\local\\programs\\python\\python39\\lib\\site-packages (from requests) (1.26.8)\n",
      "Requirement already satisfied: idna<4,>=2.5 in c:\\users\\user\\appdata\\local\\programs\\python\\python39\\lib\\site-packages (from requests) (3.3)\n",
      "Requirement already satisfied: certifi>=2017.4.17 in c:\\users\\user\\appdata\\local\\programs\\python\\python39\\lib\\site-packages (from requests) (2021.10.8)\n"
     ]
    },
    {
     "name": "stderr",
     "output_type": "stream",
     "text": [
      "WARNING: You are using pip version 21.1.3; however, version 22.0.3 is available.\n",
      "You should consider upgrading via the 'c:\\users\\user\\appdata\\local\\programs\\python\\python39\\python.exe -m pip install --upgrade pip' command.\n"
     ]
    },
    {
     "name": "stdout",
     "output_type": "stream",
     "text": [
      "Collecting bs4\n",
      "  Downloading bs4-0.0.1.tar.gz (1.1 kB)\n",
      "Collecting beautifulsoup4\n",
      "  Downloading beautifulsoup4-4.10.0-py3-none-any.whl (97 kB)\n",
      "Collecting soupsieve>1.2\n",
      "  Downloading soupsieve-2.3.1-py3-none-any.whl (37 kB)\n",
      "Building wheels for collected packages: bs4\n",
      "  Building wheel for bs4 (setup.py): started\n",
      "  Building wheel for bs4 (setup.py): finished with status 'done'\n",
      "  Created wheel for bs4: filename=bs4-0.0.1-py3-none-any.whl size=1273 sha256=28999b4853fb7f1834e1888dfb51f5b57a84c115bc327a606f303be77b71789d\n",
      "  Stored in directory: c:\\users\\user\\appdata\\local\\pip\\cache\\wheels\\73\\2b\\cb\\099980278a0c9a3e57ff1a89875ec07bfa0b6fcbebb9a8cad3\n"
     ]
    },
    {
     "name": "stderr",
     "output_type": "stream",
     "text": [
      "WARNING: You are using pip version 21.1.3; however, version 22.0.3 is available.\n",
      "You should consider upgrading via the 'c:\\users\\user\\appdata\\local\\programs\\python\\python39\\python.exe -m pip install --upgrade pip' command.\n"
     ]
    },
    {
     "name": "stdout",
     "output_type": "stream",
     "text": [
      "Successfully built bs4\n",
      "Installing collected packages: soupsieve, beautifulsoup4, bs4\n",
      "Successfully installed beautifulsoup4-4.10.0 bs4-0.0.1 soupsieve-2.3.1\n",
      "Collecting tqdm\n",
      "  Downloading tqdm-4.62.3-py2.py3-none-any.whl (76 kB)\n",
      "Requirement already satisfied: colorama in c:\\users\\user\\appdata\\local\\programs\\python\\python39\\lib\\site-packages (from tqdm) (0.4.4)\n",
      "Installing collected packages: tqdm\n",
      "Successfully installed tqdm-4.62.3\n"
     ]
    },
    {
     "name": "stderr",
     "output_type": "stream",
     "text": [
      "WARNING: You are using pip version 21.1.3; however, version 22.0.3 is available.\n",
      "You should consider upgrading via the 'c:\\users\\user\\appdata\\local\\programs\\python\\python39\\python.exe -m pip install --upgrade pip' command.\n"
     ]
    }
   ],
   "source": [
    "! pip install requests\n",
    "! pip install bs4\n",
    "! pip install tqdm"
   ]
  },
  {
   "cell_type": "code",
   "execution_count": 8,
   "metadata": {
    "id": "Kp2mSeC_9CCu"
   },
   "outputs": [],
   "source": [
    "import requests\n",
    "\n",
    "def get_submissions_page(user):\n",
    "    return requests.get(f\"https://www.infoarena.ro/monitor?user={user}\")"
   ]
  },
  {
   "cell_type": "code",
   "execution_count": 9,
   "metadata": {
    "id": "13W4i-G3k7hl"
   },
   "outputs": [],
   "source": [
    "html = get_submissions_page(\"iordache.bogdan\").content"
   ]
  },
  {
   "cell_type": "markdown",
   "metadata": {
    "id": "6aSHQWnilIOR"
   },
   "source": [
    "Observam ca folosind metoda de mai sus putem descarca intreg continutul HTML al paginii. Pentru a extrage informatii utile trebuie sa parsam acest continut. Vom folosi biblioteca [BeautifulSoup](https://www.crummy.com/software/BeautifulSoup/bs4/doc/):"
   ]
  },
  {
   "cell_type": "code",
   "execution_count": 12,
   "metadata": {
    "id": "a1NrQndSlG4g"
   },
   "outputs": [],
   "source": [
    "import bs4\n",
    "\n",
    "def parse_html(html):\n",
    "    return bs4.BeautifulSoup(html, \"html.parser\")"
   ]
  },
  {
   "cell_type": "markdown",
   "metadata": {
    "id": "DyKYAfF7l3pO"
   },
   "source": [
    "Avand continutul parsat, putem determina acum cate submisii are in total acest utilizator:"
   ]
  },
  {
   "cell_type": "code",
   "execution_count": 13,
   "metadata": {
    "colab": {
     "base_uri": "https://localhost:8080/"
    },
    "executionInfo": {
     "elapsed": 258,
     "status": "ok",
     "timestamp": 1644680792685,
     "user": {
      "displayName": "Bogdan Iordache",
      "photoUrl": "https://lh3.googleusercontent.com/a-/AOh14Gh-PZvTGY_WfhB97fLgLmkcd8CIjhKRDgsFQiip=s64",
      "userId": "11937921055418047811"
     },
     "user_tz": -120
    },
    "id": "UB0sUnx0ltvH",
    "outputId": "e5cd8d9e-0ac0-4f55-d14a-8e0b05ea6e21"
   },
   "outputs": [
    {
     "name": "stdout",
     "output_type": "stream",
     "text": [
      " (5027 rezultate)\n",
      "5027\n"
     ]
    }
   ],
   "source": [
    "import re\n",
    "\n",
    "soup = parse_html(html)\n",
    "\n",
    "# cautam un span care are clasa \"count\", in acest span se afla numarul de submisii\n",
    "submission_count_text = soup.find(\"span\", class_=\"count\").text\n",
    "print(submission_count_text)\n",
    "submission_count = int(re.search(r\"\\d+\", submission_count_text).group())\n",
    "print(submission_count)"
   ]
  },
  {
   "cell_type": "markdown",
   "metadata": {
    "id": "Obu7nG4HnSIJ"
   },
   "source": [
    "Observam ca aceste submisii sunt impartite in mai multe pagini (paginarea rezultatelor). Observam ca link-ul urmator: https://www.infoarena.ro/monitor?user=iordache.bogdan&display_entries=250&first_entry=100 ne returneaza 250 de submisii, incepand cu submisia cu numarul 100. Modificam metoda get_submissions_page astfel:"
   ]
  },
  {
   "cell_type": "code",
   "execution_count": 14,
   "metadata": {
    "id": "xwKHy-zGnQ27"
   },
   "outputs": [],
   "source": [
    "def get_submissions_page(user, display_entries=None, first_entry=None):\n",
    "    req_string = f\"https://www.infoarena.ro/monitor?user={user}\"\n",
    "    if display_entries is not None:\n",
    "        req_string += f\"&display_entries={display_entries}\"\n",
    "    if first_entry is not None:\n",
    "        req_string += f\"&first_entry={first_entry}\"\n",
    "\n",
    "    return requests.get(req_string)"
   ]
  },
  {
   "cell_type": "markdown",
   "metadata": {
    "id": "Pv9ylMxPoTh4"
   },
   "source": [
    "Implementam o functie care returneaza informatii despre toate submisiile unui utilizator:"
   ]
  },
  {
   "cell_type": "code",
   "execution_count": 15,
   "metadata": {
    "id": "sLG0u9POonXT"
   },
   "outputs": [],
   "source": [
    "from tqdm import tqdm\n",
    "import pandas as pd\n",
    "import pdb\n",
    "\n",
    "def scrape_submissions(user):\n",
    "    # determinam numarul total de submisii\n",
    "    html = get_submissions_page(user).content\n",
    "    soup = parse_html(html)\n",
    "    submission_count_text = soup.find(\"span\", class_=\"count\").text\n",
    "    submission_count = int(re.search(r\"\\d+\", submission_count_text).group())\n",
    "\n",
    "    # vom salva in acest dictionar datele despre submisiile extrase, structura aceasta\n",
    "    # ne va ajuta ulterior sa construim un tabel (dataframe) folosind pandas\n",
    "    d = {\n",
    "        \"id\": [],\n",
    "        \"problema\": [],\n",
    "        \"url_problema\": [],\n",
    "        \"url_sursa\": [],\n",
    "        \"data\": [],\n",
    "        \"puncte\": [],\n",
    "    }\n",
    "\n",
    "    # accesam pagini cu submisii in grupuri de 250\n",
    "    for first_entry in tqdm(range(0, submission_count, 250)):\n",
    "        html = get_submissions_page(user, display_entries=250, first_entry=first_entry).content\n",
    "        soup = parse_html(html)\n",
    "\n",
    "        # selectam toate liniile de tabel (tr)\n",
    "        lines = soup.select(\"table.monitor tbody tr\")\n",
    "\n",
    "        for line in lines:\n",
    "            # selectam celulele de pe aceasta linie\n",
    "            cells = [cell for cell in line.select(\"td\")]\n",
    "\n",
    "            # extragem link-urile pentru problema si codul sursa\n",
    "            try:\n",
    "                url_problema = cells[2].select_one(\"a\")[\"href\"]\n",
    "                url_sursa = cells[4].select_one(\"a\")[\"href\"]\n",
    "            except Exception:  # daca vreun link nu exista ignoram linia\n",
    "                continue\n",
    "            \n",
    "            d[\"id\"].append(cells[0].text)\n",
    "            d[\"problema\"].append(cells[2].text)\n",
    "            d[\"url_problema\"].append(url_problema)\n",
    "            d[\"url_sursa\"].append(url_sursa)\n",
    "            d[\"data\"].append(cells[5].text)\n",
    "\n",
    "            try:\n",
    "                puncte = int(re.search(r\"\\d+\", cells[6].text).group())\n",
    "            except Exception:\n",
    "                puncte = 0\n",
    "            d[\"puncte\"].append(puncte)\n",
    "\n",
    "    return pd.DataFrame(d)"
   ]
  },
  {
   "cell_type": "code",
   "execution_count": 16,
   "metadata": {
    "colab": {
     "base_uri": "https://localhost:8080/"
    },
    "executionInfo": {
     "elapsed": 47013,
     "status": "ok",
     "timestamp": 1644683262587,
     "user": {
      "displayName": "Bogdan Iordache",
      "photoUrl": "https://lh3.googleusercontent.com/a-/AOh14Gh-PZvTGY_WfhB97fLgLmkcd8CIjhKRDgsFQiip=s64",
      "userId": "11937921055418047811"
     },
     "user_tz": -120
    },
    "id": "W9Pf0rtfrL_w",
    "outputId": "c6bc6bb7-15d2-4220-9192-e6a1a0bb826b"
   },
   "outputs": [
    {
     "name": "stderr",
     "output_type": "stream",
     "text": [
      "100%|██████████| 21/21 [00:39<00:00,  1.88s/it]\n"
     ]
    }
   ],
   "source": [
    "df_submissions = scrape_submissions(\"iordache.bogdan\")"
   ]
  },
  {
   "cell_type": "code",
   "execution_count": 17,
   "metadata": {
    "colab": {
     "base_uri": "https://localhost:8080/",
     "height": 206
    },
    "executionInfo": {
     "elapsed": 267,
     "status": "ok",
     "timestamp": 1644683266483,
     "user": {
      "displayName": "Bogdan Iordache",
      "photoUrl": "https://lh3.googleusercontent.com/a-/AOh14Gh-PZvTGY_WfhB97fLgLmkcd8CIjhKRDgsFQiip=s64",
      "userId": "11937921055418047811"
     },
     "user_tz": -120
    },
    "id": "LwOII21wtFKF",
    "outputId": "4c315a21-7994-46e4-a6a1-19083f4aea61"
   },
   "outputs": [
    {
     "data": {
      "text/html": [
       "<div>\n",
       "<style scoped>\n",
       "    .dataframe tbody tr th:only-of-type {\n",
       "        vertical-align: middle;\n",
       "    }\n",
       "\n",
       "    .dataframe tbody tr th {\n",
       "        vertical-align: top;\n",
       "    }\n",
       "\n",
       "    .dataframe thead th {\n",
       "        text-align: right;\n",
       "    }\n",
       "</style>\n",
       "<table border=\"1\" class=\"dataframe\">\n",
       "  <thead>\n",
       "    <tr style=\"text-align: right;\">\n",
       "      <th></th>\n",
       "      <th>id</th>\n",
       "      <th>problema</th>\n",
       "      <th>url_problema</th>\n",
       "      <th>url_sursa</th>\n",
       "      <th>data</th>\n",
       "      <th>puncte</th>\n",
       "    </tr>\n",
       "  </thead>\n",
       "  <tbody>\n",
       "    <tr>\n",
       "      <th>0</th>\n",
       "      <td>#2836860</td>\n",
       "      <td>Luff</td>\n",
       "      <td>/problema/luff</td>\n",
       "      <td>/job_detail/2836860?action=view-source</td>\n",
       "      <td>21 ian 22 00:50:03</td>\n",
       "      <td>100</td>\n",
       "    </tr>\n",
       "    <tr>\n",
       "      <th>1</th>\n",
       "      <td>#2836859</td>\n",
       "      <td>Luff</td>\n",
       "      <td>/problema/luff</td>\n",
       "      <td>/job_detail/2836859?action=view-source</td>\n",
       "      <td>21 ian 22 00:49:40</td>\n",
       "      <td>0</td>\n",
       "    </tr>\n",
       "    <tr>\n",
       "      <th>2</th>\n",
       "      <td>#2836858</td>\n",
       "      <td>Luff</td>\n",
       "      <td>/problema/luff</td>\n",
       "      <td>/job_detail/2836858?action=view-source</td>\n",
       "      <td>21 ian 22 00:41:56</td>\n",
       "      <td>70</td>\n",
       "    </tr>\n",
       "    <tr>\n",
       "      <th>3</th>\n",
       "      <td>#2836856</td>\n",
       "      <td>Luff</td>\n",
       "      <td>/problema/luff</td>\n",
       "      <td>/job_detail/2836856?action=view-source</td>\n",
       "      <td>21 ian 22 00:36:59</td>\n",
       "      <td>70</td>\n",
       "    </tr>\n",
       "    <tr>\n",
       "      <th>4</th>\n",
       "      <td>#2836855</td>\n",
       "      <td>Luff</td>\n",
       "      <td>/problema/luff</td>\n",
       "      <td>/job_detail/2836855?action=view-source</td>\n",
       "      <td>21 ian 22 00:36:26</td>\n",
       "      <td>70</td>\n",
       "    </tr>\n",
       "  </tbody>\n",
       "</table>\n",
       "</div>"
      ],
      "text/plain": [
       "         id problema    url_problema                               url_sursa  \\\n",
       "0  #2836860     Luff  /problema/luff  /job_detail/2836860?action=view-source   \n",
       "1  #2836859     Luff  /problema/luff  /job_detail/2836859?action=view-source   \n",
       "2  #2836858     Luff  /problema/luff  /job_detail/2836858?action=view-source   \n",
       "3  #2836856     Luff  /problema/luff  /job_detail/2836856?action=view-source   \n",
       "4  #2836855     Luff  /problema/luff  /job_detail/2836855?action=view-source   \n",
       "\n",
       "                 data  puncte  \n",
       "0  21 ian 22 00:50:03     100  \n",
       "1  21 ian 22 00:49:40       0  \n",
       "2  21 ian 22 00:41:56      70  \n",
       "3  21 ian 22 00:36:59      70  \n",
       "4  21 ian 22 00:36:26      70  "
      ]
     },
     "execution_count": 17,
     "metadata": {},
     "output_type": "execute_result"
    }
   ],
   "source": [
    "df_submissions.head()"
   ]
  },
  {
   "cell_type": "code",
   "execution_count": 19,
   "metadata": {
    "id": "bSUVqGCBwycM"
   },
   "outputs": [],
   "source": [
    "df_submissions.to_csv(\"submissions.csv\", index=False)"
   ]
  },
  {
   "cell_type": "markdown",
   "metadata": {
    "id": "0JDLdzlAijhV"
   },
   "source": [
    "Exemplu scriere/citire fisier JSON:"
   ]
  },
  {
   "cell_type": "code",
   "execution_count": 20,
   "metadata": {
    "id": "SkKsP_UPiofJ"
   },
   "outputs": [],
   "source": [
    "import json\n",
    "\n",
    "vec = [\n",
    "    {\"title\": \"example_1\", \"size\": 7},\n",
    "    {\"title\": \"example_2\", \"size\": 3},\n",
    "    {\"title\": \"example_3\", \"size\": 8},\n",
    "]\n",
    "\n",
    "with open(\"example.json\", \"w\") as f:\n",
    "    json.dump(vec, f, indent=4)"
   ]
  },
  {
   "cell_type": "code",
   "execution_count": 21,
   "metadata": {
    "colab": {
     "base_uri": "https://localhost:8080/"
    },
    "executionInfo": {
     "elapsed": 4,
     "status": "ok",
     "timestamp": 1644679711408,
     "user": {
      "displayName": "Bogdan Iordache",
      "photoUrl": "https://lh3.googleusercontent.com/a-/AOh14Gh-PZvTGY_WfhB97fLgLmkcd8CIjhKRDgsFQiip=s64",
      "userId": "11937921055418047811"
     },
     "user_tz": -120
    },
    "id": "8qpLd3OujHvP",
    "outputId": "9661a6b7-8b83-44db-c1a3-18f126be8337"
   },
   "outputs": [
    {
     "name": "stdout",
     "output_type": "stream",
     "text": [
      "[{'title': 'example_1', 'size': 7}, {'title': 'example_2', 'size': 3}, {'title': 'example_3', 'size': 8}]\n"
     ]
    }
   ],
   "source": [
    "with open(\"example.json\", \"r\") as f:\n",
    "    vec = json.load(f)\n",
    "print(vec)"
   ]
  },
  {
   "cell_type": "markdown",
   "metadata": {
    "id": "L57SsXOnfd__"
   },
   "source": [
    "Un alt mod de a face scraping este sa folosim biblioteca pandas pentru a ne extrage tabele html, transformandu-le in DataFrame-uri, pe care le putem manipula foarte usor. Un exemplu util este extragerea sarbatorile legale romanesti, in anul 2022, de pe https://www.timeanddate.com/."
   ]
  },
  {
   "cell_type": "code",
   "execution_count": 18,
   "metadata": {},
   "outputs": [
    {
     "name": "stdout",
     "output_type": "stream",
     "text": [
      "Collecting lxml\n",
      "  Downloading lxml-4.7.1-cp39-cp39-win_amd64.whl (3.7 MB)\n",
      "Installing collected packages: lxml\n",
      "Successfully installed lxml-4.7.1\n"
     ]
    },
    {
     "name": "stderr",
     "output_type": "stream",
     "text": [
      "WARNING: You are using pip version 21.1.3; however, version 22.0.3 is available.\n",
      "You should consider upgrading via the 'c:\\users\\user\\appdata\\local\\programs\\python\\python39\\python.exe -m pip install --upgrade pip' command.\n"
     ]
    }
   ],
   "source": [
    "! pip install lxml"
   ]
  },
  {
   "cell_type": "code",
   "execution_count": 23,
   "metadata": {
    "colab": {
     "base_uri": "https://localhost:8080/",
     "height": 206
    },
    "executionInfo": {
     "elapsed": 486,
     "status": "ok",
     "timestamp": 1644679255096,
     "user": {
      "displayName": "Bogdan Iordache",
      "photoUrl": "https://lh3.googleusercontent.com/a-/AOh14Gh-PZvTGY_WfhB97fLgLmkcd8CIjhKRDgsFQiip=s64",
      "userId": "11937921055418047811"
     },
     "user_tz": -120
    },
    "id": "4KiZSYVGg1jP",
    "outputId": "b8c1093b-3c08-4272-c9f3-f84d0e15ac55"
   },
   "outputs": [
    {
     "data": {
      "text/html": [
       "<div>\n",
       "<style scoped>\n",
       "    .dataframe tbody tr th:only-of-type {\n",
       "        vertical-align: middle;\n",
       "    }\n",
       "\n",
       "    .dataframe tbody tr th {\n",
       "        vertical-align: top;\n",
       "    }\n",
       "\n",
       "    .dataframe thead th {\n",
       "        text-align: right;\n",
       "    }\n",
       "</style>\n",
       "<table border=\"1\" class=\"dataframe\">\n",
       "  <thead>\n",
       "    <tr style=\"text-align: right;\">\n",
       "      <th></th>\n",
       "      <th>Date</th>\n",
       "      <th>Day</th>\n",
       "      <th>Name</th>\n",
       "      <th>Type</th>\n",
       "    </tr>\n",
       "  </thead>\n",
       "  <tbody>\n",
       "    <tr>\n",
       "      <th>0</th>\n",
       "      <td>1 ian</td>\n",
       "      <td>sâmbătă</td>\n",
       "      <td>New Year's Day</td>\n",
       "      <td>National holiday</td>\n",
       "    </tr>\n",
       "    <tr>\n",
       "      <th>1</th>\n",
       "      <td>2 ian</td>\n",
       "      <td>duminică</td>\n",
       "      <td>Day after New Year's Day</td>\n",
       "      <td>National holiday</td>\n",
       "    </tr>\n",
       "    <tr>\n",
       "      <th>2</th>\n",
       "      <td>24 ian</td>\n",
       "      <td>luni</td>\n",
       "      <td>Unification Day</td>\n",
       "      <td>National holiday</td>\n",
       "    </tr>\n",
       "    <tr>\n",
       "      <th>3</th>\n",
       "      <td>19 feb</td>\n",
       "      <td>sâmbătă</td>\n",
       "      <td>Constantin Brancusi Day</td>\n",
       "      <td>Observance</td>\n",
       "    </tr>\n",
       "    <tr>\n",
       "      <th>4</th>\n",
       "      <td>24 feb</td>\n",
       "      <td>joi</td>\n",
       "      <td>Dragobete</td>\n",
       "      <td>Observance</td>\n",
       "    </tr>\n",
       "  </tbody>\n",
       "</table>\n",
       "</div>"
      ],
      "text/plain": [
       "     Date       Day                      Name              Type\n",
       "0   1 ian   sâmbătă            New Year's Day  National holiday\n",
       "1   2 ian  duminică  Day after New Year's Day  National holiday\n",
       "2  24 ian      luni           Unification Day  National holiday\n",
       "3  19 feb   sâmbătă   Constantin Brancusi Day        Observance\n",
       "4  24 feb       joi                 Dragobete        Observance"
      ]
     },
     "execution_count": 23,
     "metadata": {},
     "output_type": "execute_result"
    }
   ],
   "source": [
    "import pandas as pd\n",
    "\n",
    "tables_df = pd.read_html('https://www.timeanddate.com/holidays/romania/2022?hol=1')\n",
    "df = tables_df[0]\n",
    "\n",
    "# Il putem curata prin a sterge liniile nule si modifica coloanele de la tuplul \"(Date, Date)\" -> \"Date\"\n",
    "df = df.dropna(axis='index')\n",
    "df.columns = ['Date', 'Day', 'Name', 'Type']\n",
    "\n",
    "# Reindexam tabelul\n",
    "df = df.reset_index(drop=\"True\")\n",
    "\n",
    "# Afisam primele 5 randuri\n",
    "df.head()"
   ]
  },
  {
   "cell_type": "code",
   "execution_count": 25,
   "metadata": {
    "colab": {
     "base_uri": "https://localhost:8080/",
     "height": 238
    },
    "executionInfo": {
     "elapsed": 251,
     "status": "ok",
     "timestamp": 1644679369336,
     "user": {
      "displayName": "Bogdan Iordache",
      "photoUrl": "https://lh3.googleusercontent.com/a-/AOh14Gh-PZvTGY_WfhB97fLgLmkcd8CIjhKRDgsFQiip=s64",
      "userId": "11937921055418047811"
     },
     "user_tz": -120
    },
    "id": "4s6tVtnIfF1_",
    "outputId": "b6533bfb-860f-4340-cbe1-554159b629da"
   },
   "outputs": [
    {
     "data": {
      "text/html": [
       "<div>\n",
       "<style scoped>\n",
       "    .dataframe tbody tr th:only-of-type {\n",
       "        vertical-align: middle;\n",
       "    }\n",
       "\n",
       "    .dataframe tbody tr th {\n",
       "        vertical-align: top;\n",
       "    }\n",
       "\n",
       "    .dataframe thead th {\n",
       "        text-align: right;\n",
       "    }\n",
       "</style>\n",
       "<table border=\"1\" class=\"dataframe\">\n",
       "  <thead>\n",
       "    <tr style=\"text-align: right;\">\n",
       "      <th></th>\n",
       "      <th>Date</th>\n",
       "      <th>Day</th>\n",
       "      <th>Name</th>\n",
       "      <th>Type</th>\n",
       "    </tr>\n",
       "  </thead>\n",
       "  <tbody>\n",
       "    <tr>\n",
       "      <th>2</th>\n",
       "      <td>24 ian</td>\n",
       "      <td>luni</td>\n",
       "      <td>Unification Day</td>\n",
       "      <td>National holiday</td>\n",
       "    </tr>\n",
       "    <tr>\n",
       "      <th>10</th>\n",
       "      <td>25 apr</td>\n",
       "      <td>luni</td>\n",
       "      <td>Orthodox Easter Monday</td>\n",
       "      <td>National holiday, Orthodox</td>\n",
       "    </tr>\n",
       "    <tr>\n",
       "      <th>19</th>\n",
       "      <td>13 iun</td>\n",
       "      <td>luni</td>\n",
       "      <td>Orthodox Pentecost Monday</td>\n",
       "      <td>National holiday, Orthodox</td>\n",
       "    </tr>\n",
       "    <tr>\n",
       "      <th>23</th>\n",
       "      <td>15 aug</td>\n",
       "      <td>luni</td>\n",
       "      <td>St Mary's Day</td>\n",
       "      <td>National holiday</td>\n",
       "    </tr>\n",
       "    <tr>\n",
       "      <th>25</th>\n",
       "      <td>31 oct</td>\n",
       "      <td>luni</td>\n",
       "      <td>Halloween</td>\n",
       "      <td>Observance</td>\n",
       "    </tr>\n",
       "    <tr>\n",
       "      <th>33</th>\n",
       "      <td>26 dec</td>\n",
       "      <td>luni</td>\n",
       "      <td>Second day of Christmas</td>\n",
       "      <td>National holiday</td>\n",
       "    </tr>\n",
       "  </tbody>\n",
       "</table>\n",
       "</div>"
      ],
      "text/plain": [
       "      Date   Day                       Name                        Type\n",
       "2   24 ian  luni            Unification Day            National holiday\n",
       "10  25 apr  luni     Orthodox Easter Monday  National holiday, Orthodox\n",
       "19  13 iun  luni  Orthodox Pentecost Monday  National holiday, Orthodox\n",
       "23  15 aug  luni              St Mary's Day            National holiday\n",
       "25  31 oct  luni                  Halloween                  Observance\n",
       "33  26 dec  luni    Second day of Christmas            National holiday"
      ]
     },
     "execution_count": 25,
     "metadata": {},
     "output_type": "execute_result"
    }
   ],
   "source": [
    "# Daca vrem se vedem sarbatorile care pica in ziua de luni\n",
    "df_luni = df.loc[df[\"Day\"] == \"luni\"]\n",
    "df_luni"
   ]
  },
  {
   "cell_type": "code",
   "execution_count": 26,
   "metadata": {
    "colab": {
     "base_uri": "https://localhost:8080/",
     "height": 175
    },
    "executionInfo": {
     "elapsed": 244,
     "status": "ok",
     "timestamp": 1644679392984,
     "user": {
      "displayName": "Bogdan Iordache",
      "photoUrl": "https://lh3.googleusercontent.com/a-/AOh14Gh-PZvTGY_WfhB97fLgLmkcd8CIjhKRDgsFQiip=s64",
      "userId": "11937921055418047811"
     },
     "user_tz": -120
    },
    "id": "zeX7VEyXh57m",
    "outputId": "f15cdbdc-26f9-412b-f09b-eb3d516397f1"
   },
   "outputs": [
    {
     "data": {
      "text/html": [
       "<div>\n",
       "<style scoped>\n",
       "    .dataframe tbody tr th:only-of-type {\n",
       "        vertical-align: middle;\n",
       "    }\n",
       "\n",
       "    .dataframe tbody tr th {\n",
       "        vertical-align: top;\n",
       "    }\n",
       "\n",
       "    .dataframe thead th {\n",
       "        text-align: right;\n",
       "    }\n",
       "</style>\n",
       "<table border=\"1\" class=\"dataframe\">\n",
       "  <thead>\n",
       "    <tr style=\"text-align: right;\">\n",
       "      <th></th>\n",
       "      <th>Date</th>\n",
       "      <th>Day</th>\n",
       "      <th>Name</th>\n",
       "      <th>Type</th>\n",
       "    </tr>\n",
       "  </thead>\n",
       "  <tbody>\n",
       "    <tr>\n",
       "      <th>count</th>\n",
       "      <td>6</td>\n",
       "      <td>6</td>\n",
       "      <td>6</td>\n",
       "      <td>6</td>\n",
       "    </tr>\n",
       "    <tr>\n",
       "      <th>unique</th>\n",
       "      <td>6</td>\n",
       "      <td>1</td>\n",
       "      <td>6</td>\n",
       "      <td>3</td>\n",
       "    </tr>\n",
       "    <tr>\n",
       "      <th>top</th>\n",
       "      <td>24 ian</td>\n",
       "      <td>luni</td>\n",
       "      <td>Unification Day</td>\n",
       "      <td>National holiday</td>\n",
       "    </tr>\n",
       "    <tr>\n",
       "      <th>freq</th>\n",
       "      <td>1</td>\n",
       "      <td>6</td>\n",
       "      <td>1</td>\n",
       "      <td>3</td>\n",
       "    </tr>\n",
       "  </tbody>\n",
       "</table>\n",
       "</div>"
      ],
      "text/plain": [
       "          Date   Day             Name              Type\n",
       "count        6     6                6                 6\n",
       "unique       6     1                6                 3\n",
       "top     24 ian  luni  Unification Day  National holiday\n",
       "freq         1     6                1                 3"
      ]
     },
     "execution_count": 26,
     "metadata": {},
     "output_type": "execute_result"
    }
   ],
   "source": [
    "df_luni.describe()"
   ]
  },
  {
   "cell_type": "markdown",
   "metadata": {
    "id": "xmrzEs27iHYw"
   },
   "source": [
    "Putem salva rezultatul (la fel ca orice dictionar de python) intr-un json, ca alternativa la DataFrame - si poate fi util intr-o aplicatie pentru comunicarea cu front-end-ul"
   ]
  },
  {
   "cell_type": "code",
   "execution_count": 27,
   "metadata": {
    "id": "cRwND0SBh_Ca"
   },
   "outputs": [],
   "source": [
    "import json\n",
    "json_str = df.to_json(orient='records')\n",
    "json_result = json.loads(json_str)\n",
    "\n",
    "with open('holidays.json', 'w', encoding='utf8') as fout:\n",
    "    json.dump(json_result, fout, indent=4, sort_keys=True, ensure_ascii=False)"
   ]
  },
  {
   "cell_type": "markdown",
   "metadata": {
    "id": "v4uecs3b3MXZ"
   },
   "source": [
    "Alte biblioteci utile pentru scraping:\n",
    " * [scrapy](https://scrapy.org/) (folosit in special pentru web crawling)\n",
    " * [selenium](https://selenium-python.readthedocs.io/) (folosit pentru a simula activitatea din browser, utilizat in special in scrierea de teste pentru aplicatii front-end)"
   ]
  },
  {
   "cell_type": "markdown",
   "metadata": {
    "id": "sFNRIfgF1cRD"
   },
   "source": [
    "## TASK: IMDb scraping (deadline: 3 martie ora 23:59)"
   ]
  },
  {
   "cell_type": "markdown",
   "metadata": {
    "id": "6G-0iTm14GIy"
   },
   "source": [
    "1. Pornind de la lista cu cele mai populare 250 de filme de pe IMDb ([https://www.imdb.com/chart/top/](https://www.imdb.com/chart/top/)), identificati pentru toate aceste filme link-ul catre pagina sa de recenzii.\n",
    "\n",
    "Exemplu: aici se gaseste pagina cu recenzii pentru \"The Shawshank Redemption\": [https://www.imdb.com/title/tt0111161/reviews](https://www.imdb.com/title/tt0111161/reviews)"
   ]
  },
  {
   "cell_type": "code",
   "execution_count": 2,
   "metadata": {
    "id": "Wlm1QSJR5Ie9"
   },
   "outputs": [
    {
     "name": "stdout",
     "output_type": "stream",
     "text": [
      "['https://www.imdb.com/title/tt0111161/reviews', 'https://www.imdb.com/title/tt0068646/reviews', 'https://www.imdb.com/title/tt0071562/reviews', 'https://www.imdb.com/title/tt0468569/reviews', 'https://www.imdb.com/title/tt0050083/reviews', 'https://www.imdb.com/title/tt0108052/reviews', 'https://www.imdb.com/title/tt0167260/reviews', 'https://www.imdb.com/title/tt0110912/reviews', 'https://www.imdb.com/title/tt0060196/reviews', 'https://www.imdb.com/title/tt0120737/reviews', 'https://www.imdb.com/title/tt0137523/reviews', 'https://www.imdb.com/title/tt0109830/reviews', 'https://www.imdb.com/title/tt1375666/reviews', 'https://www.imdb.com/title/tt0167261/reviews', 'https://www.imdb.com/title/tt0080684/reviews', 'https://www.imdb.com/title/tt0133093/reviews', 'https://www.imdb.com/title/tt0099685/reviews', 'https://www.imdb.com/title/tt0073486/reviews', 'https://www.imdb.com/title/tt0047478/reviews', 'https://www.imdb.com/title/tt0114369/reviews', 'https://www.imdb.com/title/tt0102926/reviews', 'https://www.imdb.com/title/tt0317248/reviews', 'https://www.imdb.com/title/tt0038650/reviews', 'https://www.imdb.com/title/tt0118799/reviews', 'https://www.imdb.com/title/tt0120815/reviews', 'https://www.imdb.com/title/tt0076759/reviews', 'https://www.imdb.com/title/tt0816692/reviews', 'https://www.imdb.com/title/tt0245429/reviews', 'https://www.imdb.com/title/tt0120689/reviews', 'https://www.imdb.com/title/tt10872600/reviews', 'https://www.imdb.com/title/tt6751668/reviews', 'https://www.imdb.com/title/tt0110413/reviews', 'https://www.imdb.com/title/tt0056058/reviews', 'https://www.imdb.com/title/tt0253474/reviews', 'https://www.imdb.com/title/tt0103064/reviews', 'https://www.imdb.com/title/tt0088763/reviews', 'https://www.imdb.com/title/tt0114814/reviews', 'https://www.imdb.com/title/tt0110357/reviews', 'https://www.imdb.com/title/tt0054215/reviews', 'https://www.imdb.com/title/tt0027977/reviews', 'https://www.imdb.com/title/tt0095327/reviews', 'https://www.imdb.com/title/tt0120586/reviews', 'https://www.imdb.com/title/tt2582802/reviews', 'https://www.imdb.com/title/tt0172495/reviews', 'https://www.imdb.com/title/tt0407887/reviews', 'https://www.imdb.com/title/tt0021749/reviews', 'https://www.imdb.com/title/tt1675434/reviews', 'https://www.imdb.com/title/tt0482571/reviews', 'https://www.imdb.com/title/tt0034583/reviews', 'https://www.imdb.com/title/tt0064116/reviews', 'https://www.imdb.com/title/tt0047396/reviews', 'https://www.imdb.com/title/tt0095765/reviews', 'https://www.imdb.com/title/tt0078748/reviews', 'https://www.imdb.com/title/tt0078788/reviews', 'https://www.imdb.com/title/tt0209144/reviews', 'https://www.imdb.com/title/tt0082971/reviews', 'https://www.imdb.com/title/tt0032553/reviews', 'https://www.imdb.com/title/tt1853728/reviews', 'https://www.imdb.com/title/tt0405094/reviews', 'https://www.imdb.com/title/tt0050825/reviews', 'https://www.imdb.com/title/tt0043014/reviews', 'https://www.imdb.com/title/tt0910970/reviews', 'https://www.imdb.com/title/tt4154756/reviews', 'https://www.imdb.com/title/tt4633694/reviews', 'https://www.imdb.com/title/tt0051201/reviews', 'https://www.imdb.com/title/tt0081505/reviews', 'https://www.imdb.com/title/tt0057012/reviews', 'https://www.imdb.com/title/tt0119698/reviews', 'https://www.imdb.com/title/tt0364569/reviews', 'https://www.imdb.com/title/tt7286456/reviews', 'https://www.imdb.com/title/tt5311514/reviews', 'https://www.imdb.com/title/tt2380307/reviews', 'https://www.imdb.com/title/tt1345836/reviews', 'https://www.imdb.com/title/tt0090605/reviews', 'https://www.imdb.com/title/tt0087843/reviews', 'https://www.imdb.com/title/tt4154796/reviews', 'https://www.imdb.com/title/tt8267604/reviews', 'https://www.imdb.com/title/tt0082096/reviews', 'https://www.imdb.com/title/tt0057565/reviews', 'https://www.imdb.com/title/tt1187043/reviews', 'https://www.imdb.com/title/tt0114709/reviews', 'https://www.imdb.com/title/tt0086879/reviews', 'https://www.imdb.com/title/tt0169547/reviews', 'https://www.imdb.com/title/tt0112573/reviews', 'https://www.imdb.com/title/tt0361748/reviews', 'https://www.imdb.com/title/tt0119217/reviews', 'https://www.imdb.com/title/tt8503618/reviews', 'https://www.imdb.com/title/tt0091251/reviews', 'https://www.imdb.com/title/tt0086190/reviews', 'https://www.imdb.com/title/tt0062622/reviews', 'https://www.imdb.com/title/tt0105236/reviews', 'https://www.imdb.com/title/tt0986264/reviews', 'https://www.imdb.com/title/tt0052357/reviews', 'https://www.imdb.com/title/tt0022100/reviews', 'https://www.imdb.com/title/tt2106476/reviews', 'https://www.imdb.com/title/tt0033467/reviews', 'https://www.imdb.com/title/tt0045152/reviews', 'https://www.imdb.com/title/tt0180093/reviews', 'https://www.imdb.com/title/tt0053125/reviews', 'https://www.imdb.com/title/tt0044741/reviews', 'https://www.imdb.com/title/tt0338013/reviews', 'https://www.imdb.com/title/tt0040522/reviews', 'https://www.imdb.com/title/tt0056172/reviews', 'https://www.imdb.com/title/tt0012349/reviews', 'https://www.imdb.com/title/tt0093058/reviews', 'https://www.imdb.com/title/tt1255953/reviews', 'https://www.imdb.com/title/tt5074352/reviews', 'https://www.imdb.com/title/tt0053604/reviews', 'https://www.imdb.com/title/tt0036775/reviews', 'https://www.imdb.com/title/tt0017136/reviews', 'https://www.imdb.com/title/tt0066921/reviews', 'https://www.imdb.com/title/tt0075314/reviews', 'https://www.imdb.com/title/tt10272386/reviews', 'https://www.imdb.com/title/tt0070735/reviews', 'https://www.imdb.com/title/tt1832382/reviews', 'https://www.imdb.com/title/tt0086250/reviews', 'https://www.imdb.com/title/tt0208092/reviews', 'https://www.imdb.com/title/tt8579674/reviews', 'https://www.imdb.com/title/tt0211915/reviews', 'https://www.imdb.com/title/tt0056592/reviews', 'https://www.imdb.com/title/tt0435761/reviews', 'https://www.imdb.com/title/tt0059578/reviews', 'https://www.imdb.com/title/tt1049413/reviews', 'https://www.imdb.com/title/tt0048473/reviews', 'https://www.imdb.com/title/tt0097576/reviews', 'https://www.imdb.com/title/tt0113277/reviews', 'https://www.imdb.com/title/tt0119488/reviews', 'https://www.imdb.com/title/tt0089881/reviews', 'https://www.imdb.com/title/tt0095016/reviews', 'https://www.imdb.com/title/tt0055630/reviews', 'https://www.imdb.com/title/tt6966692/reviews', 'https://www.imdb.com/title/tt0042876/reviews', 'https://www.imdb.com/title/tt0363163/reviews', 'https://www.imdb.com/title/tt0042192/reviews', 'https://www.imdb.com/title/tt0071853/reviews', 'https://www.imdb.com/title/tt0053291/reviews', 'https://www.imdb.com/title/tt0372784/reviews', 'https://www.imdb.com/title/tt0105695/reviews', 'https://www.imdb.com/title/tt15097216/reviews', 'https://www.imdb.com/title/tt0118849/reviews', 'https://www.imdb.com/title/tt0347149/reviews', 'https://www.imdb.com/title/tt0993846/reviews', 'https://www.imdb.com/title/tt0055031/reviews', 'https://www.imdb.com/title/tt0469494/reviews', 'https://www.imdb.com/title/tt0112641/reviews', 'https://www.imdb.com/title/tt0057115/reviews', 'https://www.imdb.com/title/tt0040897/reviews', 'https://www.imdb.com/title/tt0457430/reviews', 'https://www.imdb.com/title/tt0268978/reviews', 'https://www.imdb.com/title/tt1305806/reviews', 'https://www.imdb.com/title/tt0081398/reviews', 'https://www.imdb.com/title/tt0071315/reviews', 'https://www.imdb.com/title/tt0096283/reviews', 'https://www.imdb.com/title/tt1130884/reviews', 'https://www.imdb.com/title/tt0120735/reviews', 'https://www.imdb.com/title/tt0477348/reviews', 'https://www.imdb.com/title/tt4729430/reviews', 'https://www.imdb.com/title/tt0046912/reviews', 'https://www.imdb.com/title/tt0084787/reviews', 'https://www.imdb.com/title/tt0015864/reviews', 'https://www.imdb.com/title/tt5027774/reviews', 'https://www.imdb.com/title/tt0050976/reviews', 'https://www.imdb.com/title/tt0080678/reviews', 'https://www.imdb.com/title/tt0167404/reviews', 'https://www.imdb.com/title/tt0107290/reviews', 'https://www.imdb.com/title/tt0120382/reviews', 'https://www.imdb.com/title/tt0071411/reviews', 'https://www.imdb.com/title/tt0050986/reviews', 'https://www.imdb.com/title/tt0041959/reviews', 'https://www.imdb.com/title/tt0353969/reviews', 'https://www.imdb.com/title/tt0434409/reviews', 'https://www.imdb.com/title/tt0083658/reviews', 'https://www.imdb.com/title/tt0117951/reviews', 'https://www.imdb.com/title/tt0116282/reviews', 'https://www.imdb.com/title/tt0050212/reviews', 'https://www.imdb.com/title/tt2096673/reviews', 'https://www.imdb.com/title/tt0266543/reviews', 'https://www.imdb.com/title/tt0266697/reviews', 'https://www.imdb.com/title/tt1291584/reviews', 'https://www.imdb.com/title/tt0031381/reviews', 'https://www.imdb.com/title/tt0046438/reviews', 'https://www.imdb.com/title/tt0047296/reviews', 'https://www.imdb.com/title/tt0476735/reviews', 'https://www.imdb.com/title/tt1392214/reviews', 'https://www.imdb.com/title/tt3011894/reviews', 'https://www.imdb.com/title/tt2278388/reviews', 'https://www.imdb.com/title/tt0079944/reviews', 'https://www.imdb.com/title/tt0077416/reviews', 'https://www.imdb.com/title/tt0017925/reviews', 'https://www.imdb.com/title/tt1205489/reviews', 'https://www.imdb.com/title/tt0060827/reviews', 'https://www.imdb.com/title/tt0015324/reviews', 'https://www.imdb.com/title/tt0112471/reviews', 'https://www.imdb.com/title/tt0264464/reviews', 'https://www.imdb.com/title/tt0978762/reviews', 'https://www.imdb.com/title/tt0031679/reviews', 'https://www.imdb.com/title/tt0072684/reviews', 'https://www.imdb.com/title/tt0107207/reviews', 'https://www.imdb.com/title/tt2119532/reviews', 'https://www.imdb.com/title/tt2267998/reviews', 'https://www.imdb.com/title/tt3170832/reviews', 'https://www.imdb.com/title/tt0065234/reviews', 'https://www.imdb.com/title/tt8108198/reviews', 'https://www.imdb.com/title/tt0019254/reviews', 'https://www.imdb.com/title/tt1160419/reviews', 'https://www.imdb.com/title/tt1950186/reviews', 'https://www.imdb.com/title/tt2024544/reviews', 'https://www.imdb.com/title/tt0035446/reviews', 'https://www.imdb.com/title/tt0118715/reviews', 'https://www.imdb.com/title/tt0097165/reviews', 'https://www.imdb.com/title/tt1201607/reviews', 'https://www.imdb.com/title/tt0052618/reviews', 'https://www.imdb.com/title/tt0892769/reviews', 'https://www.imdb.com/title/tt1392190/reviews', 'https://www.imdb.com/title/tt0077711/reviews', 'https://www.imdb.com/title/tt0405159/reviews', 'https://www.imdb.com/title/tt0046268/reviews', 'https://www.imdb.com/title/tt0092005/reviews', 'https://www.imdb.com/title/tt0074958/reviews', 'https://www.imdb.com/title/tt4016934/reviews', 'https://www.imdb.com/title/tt3315342/reviews', 'https://www.imdb.com/title/tt1954470/reviews', 'https://www.imdb.com/title/tt0113247/reviews', 'https://www.imdb.com/title/tt5323662/reviews', 'https://www.imdb.com/title/tt0061512/reviews', 'https://www.imdb.com/title/tt1028532/reviews', 'https://www.imdb.com/title/tt0053198/reviews', 'https://www.imdb.com/title/tt0091763/reviews', 'https://www.imdb.com/title/tt1895587/reviews', 'https://www.imdb.com/title/tt0198781/reviews', 'https://www.imdb.com/title/tt0032976/reviews', 'https://www.imdb.com/title/tt0079470/reviews', 'https://www.imdb.com/title/tt0118694/reviews', 'https://www.imdb.com/title/tt0116231/reviews', 'https://www.imdb.com/title/tt0395169/reviews', 'https://www.imdb.com/title/tt1979320/reviews', 'https://www.imdb.com/title/tt0075148/reviews', 'https://www.imdb.com/title/tt11032374/reviews', 'https://www.imdb.com/title/tt0245712/reviews', 'https://www.imdb.com/title/tt0758758/reviews', 'https://www.imdb.com/title/tt0087544/reviews', 'https://www.imdb.com/title/tt3417422/reviews', 'https://www.imdb.com/title/tt0381681/reviews', 'https://www.imdb.com/title/tt0025316/reviews', 'https://www.imdb.com/title/tt10431500/reviews', 'https://www.imdb.com/title/tt0060107/reviews', 'https://www.imdb.com/title/tt0058946/reviews', 'https://www.imdb.com/title/tt0083922/reviews', 'https://www.imdb.com/title/tt0050783/reviews', 'https://www.imdb.com/title/tt0242519/reviews']\n"
     ]
    }
   ],
   "source": [
    "from tqdm import tqdm\n",
    "import pandas as pd\n",
    "import pdb\n",
    "import requests\n",
    "import bs4\n",
    "\n",
    "\n",
    "def parse_html(html):\n",
    "    return bs4.BeautifulSoup(html, \"html.parser\")\n",
    "\n",
    "\n",
    "def get_page(link):\n",
    "    return requests.get(link)\n",
    "\n",
    "\n",
    "def scrape_movies():\n",
    "    # determinam numarul total de submisii\n",
    "    html = get_page(\"https://www.imdb.com/chart/top/\").content\n",
    "    soup = parse_html(html)\n",
    "\n",
    "    # vom salva in acest dictionar datele despre titlul filmului si link\n",
    "    # ne va ajuta ulterior sa construim un tabel (dataframe) folosind pandas\n",
    "    d = {\n",
    "        \"movie\": [],\n",
    "        \"url_movie\": [],\n",
    "    }\n",
    "\n",
    "    lines = soup.select(\"table.chart tbody tr\")\n",
    "\n",
    "    for line in lines:\n",
    "        # selectam celulele de pe aceasta linie\n",
    "        cells = [cell for cell in line.select(\"td\")]\n",
    "\n",
    "        # extragem link-ul pentru film\n",
    "        url_movie = cells[1].select_one(\"a\")[\"href\"]\n",
    "        \n",
    "        d[\"movie\"].append(cells[1].text)\n",
    "        d[\"url_movie\"].append(url_movie)\n",
    "\n",
    "    return pd.DataFrame(d)\n",
    "\n",
    "\n",
    "df_movies = scrape_movies()\n",
    "links = []\n",
    "for link in df_movies[\"url_movie\"]:\n",
    "    links.append(\"https://www.imdb.com\" + link + \"reviews\")\n",
    "print(links)"
   ]
  },
  {
   "cell_type": "markdown",
   "metadata": {
    "id": "wK56g-0W5I1p"
   },
   "source": [
    "2. Pentru fiecare film colectati date despre recenziile sale (titlu, text, rating, data, utlizator, etc.)"
   ]
  },
  {
   "cell_type": "code",
   "execution_count": 8,
   "metadata": {
    "id": "jXT34ayI5_qi"
   },
   "outputs": [
    {
     "name": "stdout",
     "output_type": "stream",
     "text": [
      "Închisoarea îngerilor\n",
      "<div class=\"review-container\">\n",
      "<div class=\"lister-item-content\">\n",
      "<div class=\"ipl-ratings-bar\">\n",
      "<span class=\"rating-other-user-rating\">\n",
      "<svg class=\"ipl-icon ipl-star-icon\" fill=\"#000000\" height=\"24\" viewbox=\"0 0 24 24\" width=\"24\" xmlns=\"http://www.w3.org/2000/svg\">\n",
      "<path d=\"M0 0h24v24H0z\" fill=\"none\"></path>\n",
      "<path d=\"M12 17.27L18.18 21l-1.64-7.03L22 9.24l-7.19-.61L12 2 9.19 8.63 2 9.24l5.46 4.73L5.82 21z\"></path>\n",
      "<path d=\"M0 0h24v24H0z\" fill=\"none\"></path>\n",
      "</svg>\n",
      "<span>10</span><span class=\"point-scale\">/10</span>\n",
      "</span>\n",
      "</div>\n",
      "<a class=\"title\" href=\"/review/rw2053711/\"> Enthralling, fantastic, intriguing, truly remarkable!\n",
      "</a> <div class=\"display-name-date\">\n",
      "<span class=\"display-name-link\"><a href=\"/user/ur20552756/\">TheLittleSongbird</a></span><span class=\"review-date\">17 April 2009</span>\n",
      "</div>\n",
      "<span class=\"spoiler-warning\">Warning: Spoilers</span>\n",
      "<div class=\"ipl-expander\">\n",
      "<div class=\"ipl-expander__container\">\n",
      "<div class=\"expander-icon-wrapper spoiler-warning__control\">\n",
      "<svg class=\"ipl-expander__icon expander-icon\" height=\"8\" viewbox=\"0 0 12 8\" width=\"12\" xmlns=\"http://www.w3.org/2000/svg\">\n",
      "<path d=\"M10.197 0L6 4.304 1.803 0 0 1.85 6 8l6-6.15\" fill=\"#2572B3\" fill-rule=\"evenodd\"></path>\n",
      "</svg>\n",
      "</div>\n",
      "</div>\n",
      "</div>\n",
      "<div class=\"content\">\n",
      "<div class=\"text show-more__control\">Shawshank Redemption is without doubt one of the best films ever made, and definitely the best film of 1994. Yes, it is better than Lion King, and I really like that too. It is not only enthralling but powerful and moving too. I will confess that I didn't understand it when I first saw it as a lot happens in the film, and I have now seen it three times. I seriously hope, that those who ignored the film when it was first released now recognise it as a great film, as it really is. The dialogue was extremely well-written, with lines that really stick in your mind. The cinematography and music are both gorgeous, and the prison itself is like a character that dominates the film. In the script, there are some true elements of Stephen King Now I admit I am not a huge king fan, and usually don't like coarse language in books. But in his books like It, which is very good, I have accepted the language represents brutality and rebellion, shown perfectly in the film with the battle of acceptance I suppose between the inmates and the superiors(like the scene with the warden yelling coarse language at the new inmates lined up in a row at the beginning.)The acting was exceptional. I am not hugely familiar with Tim Robbins, but he did a great job in a very demanding role. The best performance however, comes from Morgan Freeman as Red, who was seriously robbed of that Oscar, that he lost to Tom Hanks for Forrest Gump. Freeman reminds me very strongly, or his style of acting does, remind me of that of Sean Connery, suave yet very charismatic. Acting isn't just about your vocal range, it's about depth, which was what Freeman certainly had. In short, Freeman was brilliant in what could be his best performance. The scene where the inmates are listening to the Mozart aria over the speakers was a beautiful profound moment, and I actually cried in Brook's death scene. Very rarely do King adaptations translate-to screen well, because of the large scale of the author's books, with the exception of this and the Shining. Some like It and Dreamcatcher are genuinely memorable but have a number of flaws that prevent them from being classed as outstanding. And some, like Thinner and Tommyknockers that border on unwatchable. In conclusion Shawshank is a brilliant film, that is worthy of the credit it has been denied for so-long. 10/10 of course. Bethany Cox.</div>\n",
      "<div class=\"actions text-muted\">\n",
      "                    120 out of 160 found this helpful.\n",
      "                        <span>\n",
      "                            Was this review helpful? <a href=\"/registration/signin\"> Sign in</a> to vote.\n",
      "                        </span>\n",
      "<br/>\n",
      "<a href=\"/review/rw2053711/\">Permalink</a>\n",
      "</div>\n",
      "</div>\n",
      "</div>\n",
      "<div class=\"clear\"></div>\n",
      "</div>\n"
     ]
    },
    {
     "ename": "IndexError",
     "evalue": "list index out of range",
     "output_type": "error",
     "traceback": [
      "\u001b[1;31m---------------------------------------------------------------------------\u001b[0m",
      "\u001b[1;31mIndexError\u001b[0m                                Traceback (most recent call last)",
      "\u001b[1;32m~\\AppData\\Local\\Temp/ipykernel_1336/3007044928.py\u001b[0m in \u001b[0;36m<module>\u001b[1;34m\u001b[0m\n\u001b[0;32m     38\u001b[0m \u001b[1;33m\u001b[0m\u001b[0m\n\u001b[0;32m     39\u001b[0m \u001b[1;32mfor\u001b[0m \u001b[0mlink\u001b[0m \u001b[1;32min\u001b[0m \u001b[0mlinks\u001b[0m\u001b[1;33m:\u001b[0m\u001b[1;33m\u001b[0m\u001b[1;33m\u001b[0m\u001b[0m\n\u001b[1;32m---> 40\u001b[1;33m     \u001b[0mdf_reviews\u001b[0m \u001b[1;33m=\u001b[0m \u001b[0mscrape_reviews\u001b[0m\u001b[1;33m(\u001b[0m\u001b[0mlink\u001b[0m\u001b[1;33m)\u001b[0m\u001b[1;33m\u001b[0m\u001b[1;33m\u001b[0m\u001b[0m\n\u001b[0m\u001b[0;32m     41\u001b[0m     \u001b[0mdf_reviews\u001b[0m\u001b[1;33m.\u001b[0m\u001b[0mhead\u001b[0m\u001b[1;33m(\u001b[0m\u001b[1;33m)\u001b[0m\u001b[1;33m\u001b[0m\u001b[1;33m\u001b[0m\u001b[0m\n\u001b[0;32m     42\u001b[0m \u001b[1;33m\u001b[0m\u001b[0m\n",
      "\u001b[1;32m~\\AppData\\Local\\Temp/ipykernel_1336/3007044928.py\u001b[0m in \u001b[0;36mscrape_reviews\u001b[1;34m(link)\u001b[0m\n\u001b[0;32m     23\u001b[0m         \u001b[0mreview_title\u001b[0m \u001b[1;33m=\u001b[0m \u001b[0mreview\u001b[0m\u001b[1;33m.\u001b[0m\u001b[0mselect\u001b[0m\u001b[1;33m(\u001b[0m\u001b[1;34m\"a.title\"\u001b[0m\u001b[1;33m)\u001b[0m\u001b[1;33m[\u001b[0m\u001b[1;36m0\u001b[0m\u001b[1;33m]\u001b[0m\u001b[1;33m.\u001b[0m\u001b[0mtext\u001b[0m\u001b[1;33m\u001b[0m\u001b[1;33m\u001b[0m\u001b[0m\n\u001b[0;32m     24\u001b[0m         \u001b[0mreview_text\u001b[0m \u001b[1;33m=\u001b[0m \u001b[0mreview\u001b[0m\u001b[1;33m.\u001b[0m\u001b[0mselect\u001b[0m\u001b[1;33m(\u001b[0m\u001b[1;34m\"div.text\"\u001b[0m\u001b[1;33m)\u001b[0m\u001b[1;33m[\u001b[0m\u001b[1;36m0\u001b[0m\u001b[1;33m]\u001b[0m\u001b[1;33m.\u001b[0m\u001b[0mtext\u001b[0m\u001b[1;33m\u001b[0m\u001b[1;33m\u001b[0m\u001b[0m\n\u001b[1;32m---> 25\u001b[1;33m         \u001b[0mraiting\u001b[0m \u001b[1;33m=\u001b[0m \u001b[0mreview\u001b[0m\u001b[1;33m.\u001b[0m\u001b[0mselect\u001b[0m\u001b[1;33m(\u001b[0m\u001b[1;34m\"span.raiting-other-user-raiting span\"\u001b[0m\u001b[1;33m)\u001b[0m\u001b[1;33m[\u001b[0m\u001b[1;36m0\u001b[0m\u001b[1;33m]\u001b[0m\u001b[1;33m.\u001b[0m\u001b[0mtext\u001b[0m\u001b[1;33m\u001b[0m\u001b[1;33m\u001b[0m\u001b[0m\n\u001b[0m\u001b[0;32m     26\u001b[0m         \u001b[0mdate\u001b[0m \u001b[1;33m=\u001b[0m \u001b[0mreview\u001b[0m\u001b[1;33m.\u001b[0m\u001b[0mselect\u001b[0m\u001b[1;33m(\u001b[0m\u001b[1;34m\"div.display-name-date span.review-date\"\u001b[0m\u001b[1;33m)\u001b[0m\u001b[1;33m[\u001b[0m\u001b[1;36m0\u001b[0m\u001b[1;33m]\u001b[0m\u001b[1;33m.\u001b[0m\u001b[0mtext\u001b[0m\u001b[1;33m\u001b[0m\u001b[1;33m\u001b[0m\u001b[0m\n\u001b[0;32m     27\u001b[0m         \u001b[0muser\u001b[0m \u001b[1;33m=\u001b[0m \u001b[0mreview\u001b[0m\u001b[1;33m.\u001b[0m\u001b[0mselect\u001b[0m\u001b[1;33m(\u001b[0m\u001b[1;34m\"div.display-name-date span.display-name-link a\"\u001b[0m\u001b[1;33m)\u001b[0m\u001b[1;33m[\u001b[0m\u001b[1;36m0\u001b[0m\u001b[1;33m]\u001b[0m\u001b[1;33m.\u001b[0m\u001b[0mtext\u001b[0m\u001b[1;33m\u001b[0m\u001b[1;33m\u001b[0m\u001b[0m\n",
      "\u001b[1;31mIndexError\u001b[0m: list index out of range"
     ]
    }
   ],
   "source": [
    "def scrape_reviews(link):\n",
    "    html = get_page(link).content\n",
    "    soup = parse_html(html)\n",
    "\n",
    "    # vom salva in acest dictionar datele despre reviw\n",
    "    # ne va ajuta ulterior sa construim un tabel (dataframe) folosind pandas\n",
    "    d = {\n",
    "        \"movie\": [],\n",
    "        \"review_title\": [],\n",
    "        \"review_content\": [],\n",
    "        \"rating\": [],\n",
    "        \"date\": [],\n",
    "        \"user\": []\n",
    "    }\n",
    "\n",
    "    title = soup.select(\"div.parent > h3 > a\")\n",
    "    print(title[0].text)\n",
    "\n",
    "    reviews = soup.find_all('div', class_=\"review-container\")\n",
    "    print(reviews[0])\n",
    "\n",
    "    for review in reviews:\n",
    "        review_title = review.select(\"a.title\")[0].text\n",
    "        review_text = review.select(\"div.text\")[0].text\n",
    "        raiting = review.select(\"span.raiting-other-user-raiting span\")[0].text\n",
    "        date = review.select(\"div.display-name-date span.review-date\")[0].text\n",
    "        user = review.select(\"div.display-name-date span.display-name-link a\")[0].text\n",
    "        \n",
    "        d[\"movie\"].append(title[0].text)\n",
    "        d[\"review_title\"].append(review_title)\n",
    "        d[\"review_content\"].append(review_text)\n",
    "        d[\"raiting\"].append(raiting)\n",
    "        d[\"date\"].append(date)\n",
    "        d[\"user\"].append(user)\n",
    "\n",
    "    return pd.DataFrame(d)\n",
    "\n",
    "\n",
    "for link in links:\n",
    "    df_reviews = scrape_reviews(link)\n",
    "    df_reviews.head()\n",
    " "
   ]
  },
  {
   "cell_type": "markdown",
   "metadata": {
    "id": "RhcG_zFK6AFE"
   },
   "source": [
    "3. Creati un dataset de recenzii, pentru fiecare recenzie stocati:\n",
    " * filmul caruia ii apartine\n",
    " * titlul recenziei\n",
    " * textul recenziei\n",
    " * ratingul\n",
    " * data\n",
    " * utilizator\n",
    "\n",
    " Salvati datasetul intr-un fisier JSON."
   ]
  },
  {
   "cell_type": "code",
   "execution_count": null,
   "metadata": {
    "id": "4BYOWe4C6wz3"
   },
   "outputs": [],
   "source": [
    "import json\n",
    "json_str = df.to_json(orient='records')\n",
    "json_result = json.loads(json_str)\n",
    "\n",
    "with open('reviews.json', 'w', encoding='utf8') as fout:\n",
    "    json.dump(json_result, fout, indent=4, sort_keys=True, ensure_ascii=False)"
   ]
  },
  {
   "cell_type": "markdown",
   "metadata": {
    "id": "NtSpO-Ss6yF_"
   },
   "source": [
    "4. Pe o pagina cu recenzii putem gasi un numar mic de astfel de date. Butonul de \"Load more\" de la final, cand este apasat, produce un request care returneaza HTML-ul urmatoarelor recenzii. Folosind aceasta logica colectati automat pentru fiecare film un numar mai mare de recenzii."
   ]
  },
  {
   "cell_type": "code",
   "execution_count": null,
   "metadata": {
    "id": "aO3K690x7m4I"
   },
   "outputs": [],
   "source": []
  }
 ],
 "metadata": {
  "colab": {
   "collapsed_sections": [],
   "name": "lab1_draft",
   "provenance": []
  },
  "interpreter": {
   "hash": "2647ea34e536f865ab67ff9ddee7fd78773d956cec0cab53c79b32cd10da5d83"
  },
  "kernelspec": {
   "display_name": "lab-nlp-an3",
   "language": "python",
   "name": "python3"
  },
  "language_info": {
   "codemirror_mode": {
    "name": "ipython",
    "version": 3
   },
   "file_extension": ".py",
   "mimetype": "text/x-python",
   "name": "python",
   "nbconvert_exporter": "python",
   "pygments_lexer": "ipython3",
   "version": "3.9.6"
  }
 },
 "nbformat": 4,
 "nbformat_minor": 1
}
